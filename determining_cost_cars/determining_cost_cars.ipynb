{
 "cells": [
  {
   "cell_type": "markdown",
   "metadata": {},
   "source": [
    "# Определение стоимости автомобилей"
   ]
  },
  {
   "cell_type": "markdown",
   "metadata": {},
   "source": [
    "Сервис по продаже автомобилей с пробегом «Не бит, не крашен» разрабатывает приложение для привлечения новых клиентов. В нём можно быстро узнать рыночную стоимость своего автомобиля. В вашем распоряжении исторические данные: технические характеристики, комплектации и цены автомобилей. Вам нужно построить модель для определения стоимости. \n",
    "\n",
    "Заказчику важны:\n",
    "\n",
    "- качество предсказания;\n",
    "- скорость предсказания;\n",
    "- время обучения.\n",
    "\n",
    "Описание данных:\n",
    "\n",
    "- DateCrawled — дата скачивания анкеты из базы;\n",
    "- VehicleType — тип автомобильного кузова;\n",
    "- RegistrationYear — год регистрации автомобиля;\n",
    "- Gearbox — тип коробки передач;\n",
    "- Power — мощность (л. с.);\n",
    "- Model — модель автомобиля;\n",
    "- Kilometer — пробег (км);\n",
    "- RegistrationMonth — месяц регистрации автомобиля;\n",
    "- FuelType — тип топлива;\n",
    "- Brand — марка автомобиля;\n",
    "- Repaired — была машина в ремонте или нет;\n",
    "- DateCreated — дата создания анкеты;\n",
    "- NumberOfPictures — количество фотографий автомобиля;\n",
    "- PostalCode — почтовый индекс владельца анкеты (пользователя);\n",
    "- LastSeen — дата последней активности пользователя.\n",
    "\n",
    "Целевой признак:\n",
    "- Price — цена (евро)\n",
    "\n",
    "Для выполнения проекта необходимо будет выполнить следующие этапы:\n",
    "\n",
    "- Подготовка данных (загрузка данных, предобработка данных, исследовательский анализ данных, корреляционный анализ данных);\n",
    "- Обучение моделей;\n",
    "- Анализ моделей;\n",
    "- Выводы"
   ]
  },
  {
   "cell_type": "code",
   "execution_count": 1,
   "metadata": {},
   "outputs": [],
   "source": [
    "# установка модуля phik\n",
    "!pip install phik -q"
   ]
  },
  {
   "cell_type": "code",
   "execution_count": 2,
   "metadata": {},
   "outputs": [],
   "source": [
    "import phik\n",
    "import pandas as pd\n",
    "import numpy as np\n",
    "import seaborn as sns\n",
    "import matplotlib.pyplot as plt\n",
    "from sklearn.model_selection import train_test_split\n",
    "from sklearn.linear_model import LinearRegression, LogisticRegression\n",
    "from sklearn.tree import DecisionTreeRegressor\n",
    "from sklearn.preprocessing import StandardScaler, OneHotEncoder, MinMaxScaler, RobustScaler\n",
    "from sklearn.pipeline import Pipeline\n",
    "from sklearn.compose import ColumnTransformer\n",
    "from sklearn.model_selection import GridSearchCV\n",
    "from sklearn.model_selection import RandomizedSearchCV\n",
    "import lightgbm as lgb\n",
    "from time import time\n",
    "from sklearn.metrics import (\n",
    "    r2_score,\n",
    "    mean_squared_error,\n",
    "    mean_absolute_error,\n",
    "    accuracy_score,\n",
    "    confusion_matrix,\n",
    "    recall_score,\n",
    "    precision_score\n",
    ")"
   ]
  },
  {
   "cell_type": "markdown",
   "metadata": {},
   "source": [
    "## Подготовка данных"
   ]
  },
  {
   "cell_type": "markdown",
   "metadata": {},
   "source": [
    "### Загрузка данных"
   ]
  },
  {
   "cell_type": "code",
   "execution_count": 3,
   "metadata": {},
   "outputs": [],
   "source": [
    "#считывание csv-файла и сохранение в датафрейм\n",
    "autos = pd.read_csv('/datasets/autos.csv')"
   ]
  },
  {
   "cell_type": "code",
   "execution_count": 4,
   "metadata": {},
   "outputs": [
    {
     "data": {
      "text/html": [
       "<div>\n",
       "<style scoped>\n",
       "    .dataframe tbody tr th:only-of-type {\n",
       "        vertical-align: middle;\n",
       "    }\n",
       "\n",
       "    .dataframe tbody tr th {\n",
       "        vertical-align: top;\n",
       "    }\n",
       "\n",
       "    .dataframe thead th {\n",
       "        text-align: right;\n",
       "    }\n",
       "</style>\n",
       "<table border=\"1\" class=\"dataframe\">\n",
       "  <thead>\n",
       "    <tr style=\"text-align: right;\">\n",
       "      <th></th>\n",
       "      <th>DateCrawled</th>\n",
       "      <th>Price</th>\n",
       "      <th>VehicleType</th>\n",
       "      <th>RegistrationYear</th>\n",
       "      <th>Gearbox</th>\n",
       "      <th>Power</th>\n",
       "      <th>Model</th>\n",
       "      <th>Kilometer</th>\n",
       "      <th>RegistrationMonth</th>\n",
       "      <th>FuelType</th>\n",
       "      <th>Brand</th>\n",
       "      <th>Repaired</th>\n",
       "      <th>DateCreated</th>\n",
       "      <th>NumberOfPictures</th>\n",
       "      <th>PostalCode</th>\n",
       "      <th>LastSeen</th>\n",
       "    </tr>\n",
       "  </thead>\n",
       "  <tbody>\n",
       "    <tr>\n",
       "      <th>0</th>\n",
       "      <td>2016-03-24 11:52:17</td>\n",
       "      <td>480</td>\n",
       "      <td>NaN</td>\n",
       "      <td>1993</td>\n",
       "      <td>manual</td>\n",
       "      <td>0</td>\n",
       "      <td>golf</td>\n",
       "      <td>150000</td>\n",
       "      <td>0</td>\n",
       "      <td>petrol</td>\n",
       "      <td>volkswagen</td>\n",
       "      <td>NaN</td>\n",
       "      <td>2016-03-24 00:00:00</td>\n",
       "      <td>0</td>\n",
       "      <td>70435</td>\n",
       "      <td>2016-04-07 03:16:57</td>\n",
       "    </tr>\n",
       "    <tr>\n",
       "      <th>1</th>\n",
       "      <td>2016-03-24 10:58:45</td>\n",
       "      <td>18300</td>\n",
       "      <td>coupe</td>\n",
       "      <td>2011</td>\n",
       "      <td>manual</td>\n",
       "      <td>190</td>\n",
       "      <td>NaN</td>\n",
       "      <td>125000</td>\n",
       "      <td>5</td>\n",
       "      <td>gasoline</td>\n",
       "      <td>audi</td>\n",
       "      <td>yes</td>\n",
       "      <td>2016-03-24 00:00:00</td>\n",
       "      <td>0</td>\n",
       "      <td>66954</td>\n",
       "      <td>2016-04-07 01:46:50</td>\n",
       "    </tr>\n",
       "    <tr>\n",
       "      <th>2</th>\n",
       "      <td>2016-03-14 12:52:21</td>\n",
       "      <td>9800</td>\n",
       "      <td>suv</td>\n",
       "      <td>2004</td>\n",
       "      <td>auto</td>\n",
       "      <td>163</td>\n",
       "      <td>grand</td>\n",
       "      <td>125000</td>\n",
       "      <td>8</td>\n",
       "      <td>gasoline</td>\n",
       "      <td>jeep</td>\n",
       "      <td>NaN</td>\n",
       "      <td>2016-03-14 00:00:00</td>\n",
       "      <td>0</td>\n",
       "      <td>90480</td>\n",
       "      <td>2016-04-05 12:47:46</td>\n",
       "    </tr>\n",
       "    <tr>\n",
       "      <th>3</th>\n",
       "      <td>2016-03-17 16:54:04</td>\n",
       "      <td>1500</td>\n",
       "      <td>small</td>\n",
       "      <td>2001</td>\n",
       "      <td>manual</td>\n",
       "      <td>75</td>\n",
       "      <td>golf</td>\n",
       "      <td>150000</td>\n",
       "      <td>6</td>\n",
       "      <td>petrol</td>\n",
       "      <td>volkswagen</td>\n",
       "      <td>no</td>\n",
       "      <td>2016-03-17 00:00:00</td>\n",
       "      <td>0</td>\n",
       "      <td>91074</td>\n",
       "      <td>2016-03-17 17:40:17</td>\n",
       "    </tr>\n",
       "    <tr>\n",
       "      <th>4</th>\n",
       "      <td>2016-03-31 17:25:20</td>\n",
       "      <td>3600</td>\n",
       "      <td>small</td>\n",
       "      <td>2008</td>\n",
       "      <td>manual</td>\n",
       "      <td>69</td>\n",
       "      <td>fabia</td>\n",
       "      <td>90000</td>\n",
       "      <td>7</td>\n",
       "      <td>gasoline</td>\n",
       "      <td>skoda</td>\n",
       "      <td>no</td>\n",
       "      <td>2016-03-31 00:00:00</td>\n",
       "      <td>0</td>\n",
       "      <td>60437</td>\n",
       "      <td>2016-04-06 10:17:21</td>\n",
       "    </tr>\n",
       "    <tr>\n",
       "      <th>5</th>\n",
       "      <td>2016-04-04 17:36:23</td>\n",
       "      <td>650</td>\n",
       "      <td>sedan</td>\n",
       "      <td>1995</td>\n",
       "      <td>manual</td>\n",
       "      <td>102</td>\n",
       "      <td>3er</td>\n",
       "      <td>150000</td>\n",
       "      <td>10</td>\n",
       "      <td>petrol</td>\n",
       "      <td>bmw</td>\n",
       "      <td>yes</td>\n",
       "      <td>2016-04-04 00:00:00</td>\n",
       "      <td>0</td>\n",
       "      <td>33775</td>\n",
       "      <td>2016-04-06 19:17:07</td>\n",
       "    </tr>\n",
       "    <tr>\n",
       "      <th>6</th>\n",
       "      <td>2016-04-01 20:48:51</td>\n",
       "      <td>2200</td>\n",
       "      <td>convertible</td>\n",
       "      <td>2004</td>\n",
       "      <td>manual</td>\n",
       "      <td>109</td>\n",
       "      <td>2_reihe</td>\n",
       "      <td>150000</td>\n",
       "      <td>8</td>\n",
       "      <td>petrol</td>\n",
       "      <td>peugeot</td>\n",
       "      <td>no</td>\n",
       "      <td>2016-04-01 00:00:00</td>\n",
       "      <td>0</td>\n",
       "      <td>67112</td>\n",
       "      <td>2016-04-05 18:18:39</td>\n",
       "    </tr>\n",
       "    <tr>\n",
       "      <th>7</th>\n",
       "      <td>2016-03-21 18:54:38</td>\n",
       "      <td>0</td>\n",
       "      <td>sedan</td>\n",
       "      <td>1980</td>\n",
       "      <td>manual</td>\n",
       "      <td>50</td>\n",
       "      <td>other</td>\n",
       "      <td>40000</td>\n",
       "      <td>7</td>\n",
       "      <td>petrol</td>\n",
       "      <td>volkswagen</td>\n",
       "      <td>no</td>\n",
       "      <td>2016-03-21 00:00:00</td>\n",
       "      <td>0</td>\n",
       "      <td>19348</td>\n",
       "      <td>2016-03-25 16:47:58</td>\n",
       "    </tr>\n",
       "    <tr>\n",
       "      <th>8</th>\n",
       "      <td>2016-04-04 23:42:13</td>\n",
       "      <td>14500</td>\n",
       "      <td>bus</td>\n",
       "      <td>2014</td>\n",
       "      <td>manual</td>\n",
       "      <td>125</td>\n",
       "      <td>c_max</td>\n",
       "      <td>30000</td>\n",
       "      <td>8</td>\n",
       "      <td>petrol</td>\n",
       "      <td>ford</td>\n",
       "      <td>NaN</td>\n",
       "      <td>2016-04-04 00:00:00</td>\n",
       "      <td>0</td>\n",
       "      <td>94505</td>\n",
       "      <td>2016-04-04 23:42:13</td>\n",
       "    </tr>\n",
       "    <tr>\n",
       "      <th>9</th>\n",
       "      <td>2016-03-17 10:53:50</td>\n",
       "      <td>999</td>\n",
       "      <td>small</td>\n",
       "      <td>1998</td>\n",
       "      <td>manual</td>\n",
       "      <td>101</td>\n",
       "      <td>golf</td>\n",
       "      <td>150000</td>\n",
       "      <td>0</td>\n",
       "      <td>NaN</td>\n",
       "      <td>volkswagen</td>\n",
       "      <td>NaN</td>\n",
       "      <td>2016-03-17 00:00:00</td>\n",
       "      <td>0</td>\n",
       "      <td>27472</td>\n",
       "      <td>2016-03-31 17:17:06</td>\n",
       "    </tr>\n",
       "  </tbody>\n",
       "</table>\n",
       "</div>"
      ],
      "text/plain": [
       "           DateCrawled  Price  VehicleType  RegistrationYear Gearbox  Power  \\\n",
       "0  2016-03-24 11:52:17    480          NaN              1993  manual      0   \n",
       "1  2016-03-24 10:58:45  18300        coupe              2011  manual    190   \n",
       "2  2016-03-14 12:52:21   9800          suv              2004    auto    163   \n",
       "3  2016-03-17 16:54:04   1500        small              2001  manual     75   \n",
       "4  2016-03-31 17:25:20   3600        small              2008  manual     69   \n",
       "5  2016-04-04 17:36:23    650        sedan              1995  manual    102   \n",
       "6  2016-04-01 20:48:51   2200  convertible              2004  manual    109   \n",
       "7  2016-03-21 18:54:38      0        sedan              1980  manual     50   \n",
       "8  2016-04-04 23:42:13  14500          bus              2014  manual    125   \n",
       "9  2016-03-17 10:53:50    999        small              1998  manual    101   \n",
       "\n",
       "     Model  Kilometer  RegistrationMonth  FuelType       Brand Repaired  \\\n",
       "0     golf     150000                  0    petrol  volkswagen      NaN   \n",
       "1      NaN     125000                  5  gasoline        audi      yes   \n",
       "2    grand     125000                  8  gasoline        jeep      NaN   \n",
       "3     golf     150000                  6    petrol  volkswagen       no   \n",
       "4    fabia      90000                  7  gasoline       skoda       no   \n",
       "5      3er     150000                 10    petrol         bmw      yes   \n",
       "6  2_reihe     150000                  8    petrol     peugeot       no   \n",
       "7    other      40000                  7    petrol  volkswagen       no   \n",
       "8    c_max      30000                  8    petrol        ford      NaN   \n",
       "9     golf     150000                  0       NaN  volkswagen      NaN   \n",
       "\n",
       "           DateCreated  NumberOfPictures  PostalCode             LastSeen  \n",
       "0  2016-03-24 00:00:00                 0       70435  2016-04-07 03:16:57  \n",
       "1  2016-03-24 00:00:00                 0       66954  2016-04-07 01:46:50  \n",
       "2  2016-03-14 00:00:00                 0       90480  2016-04-05 12:47:46  \n",
       "3  2016-03-17 00:00:00                 0       91074  2016-03-17 17:40:17  \n",
       "4  2016-03-31 00:00:00                 0       60437  2016-04-06 10:17:21  \n",
       "5  2016-04-04 00:00:00                 0       33775  2016-04-06 19:17:07  \n",
       "6  2016-04-01 00:00:00                 0       67112  2016-04-05 18:18:39  \n",
       "7  2016-03-21 00:00:00                 0       19348  2016-03-25 16:47:58  \n",
       "8  2016-04-04 00:00:00                 0       94505  2016-04-04 23:42:13  \n",
       "9  2016-03-17 00:00:00                 0       27472  2016-03-31 17:17:06  "
      ]
     },
     "execution_count": 4,
     "metadata": {},
     "output_type": "execute_result"
    }
   ],
   "source": [
    "# получение первых 10 строк датафрейма autos\n",
    "autos.head(10)"
   ]
  },
  {
   "cell_type": "code",
   "execution_count": 5,
   "metadata": {},
   "outputs": [
    {
     "name": "stdout",
     "output_type": "stream",
     "text": [
      "<class 'pandas.core.frame.DataFrame'>\n",
      "RangeIndex: 354369 entries, 0 to 354368\n",
      "Data columns (total 16 columns):\n",
      " #   Column             Non-Null Count   Dtype \n",
      "---  ------             --------------   ----- \n",
      " 0   DateCrawled        354369 non-null  object\n",
      " 1   Price              354369 non-null  int64 \n",
      " 2   VehicleType        316879 non-null  object\n",
      " 3   RegistrationYear   354369 non-null  int64 \n",
      " 4   Gearbox            334536 non-null  object\n",
      " 5   Power              354369 non-null  int64 \n",
      " 6   Model              334664 non-null  object\n",
      " 7   Kilometer          354369 non-null  int64 \n",
      " 8   RegistrationMonth  354369 non-null  int64 \n",
      " 9   FuelType           321474 non-null  object\n",
      " 10  Brand              354369 non-null  object\n",
      " 11  Repaired           283215 non-null  object\n",
      " 12  DateCreated        354369 non-null  object\n",
      " 13  NumberOfPictures   354369 non-null  int64 \n",
      " 14  PostalCode         354369 non-null  int64 \n",
      " 15  LastSeen           354369 non-null  object\n",
      "dtypes: int64(7), object(9)\n",
      "memory usage: 43.3+ MB\n"
     ]
    }
   ],
   "source": [
    "# вывод основной информации о датафрейме autos\n",
    "autos.info()"
   ]
  },
  {
   "cell_type": "markdown",
   "metadata": {},
   "source": [
    "Вывод: Были загружены и изучены данные из датафрейма autos."
   ]
  },
  {
   "cell_type": "markdown",
   "metadata": {},
   "source": [
    "### Предобработка данных"
   ]
  },
  {
   "cell_type": "code",
   "execution_count": 6,
   "metadata": {},
   "outputs": [],
   "source": [
    "# приведение всех столбцов датафрейма autos к нижнему регистру\n",
    "autos.columns = autos.columns.str.lower()"
   ]
  },
  {
   "cell_type": "code",
   "execution_count": 7,
   "metadata": {},
   "outputs": [],
   "source": [
    "# переименование столбцов датафрейма autos\n",
    "autos = autos.rename(columns={'datecrawled':'date_crawled', \n",
    "                            'vehicletype':'vehicle_type', \n",
    "                            'registrationyear':'registration_year',\n",
    "                            'registrationmonth':'registration_month',\n",
    "                            'fueltype':'fuel_type', \n",
    "                            'datecreated':'date_created', \n",
    "                            'numberofpictures':'number_of_pictures', \n",
    "                            'postalcode':'postal_code',\n",
    "                            'lastseen':'last_seen'})"
   ]
  },
  {
   "cell_type": "code",
   "execution_count": 8,
   "metadata": {},
   "outputs": [],
   "source": [
    "# изменение типа данных в столбцах date_crawled, date_created, last_seen\n",
    "autos['date_crawled'] = pd.to_datetime(autos['date_crawled'], format = '%Y-%m-%d %H:%M:%S')\n",
    "autos['date_created'] = pd.to_datetime(autos['date_created'], format = '%Y-%m-%d %H:%M:%S')\n",
    "autos['last_seen'] = pd.to_datetime(autos['last_seen'], format = '%Y-%m-%d %H:%M:%S')"
   ]
  },
  {
   "cell_type": "code",
   "execution_count": 9,
   "metadata": {},
   "outputs": [
    {
     "data": {
      "text/plain": [
       "date_crawled              0\n",
       "price                     0\n",
       "vehicle_type          37490\n",
       "registration_year         0\n",
       "gearbox               19833\n",
       "power                     0\n",
       "model                 19705\n",
       "kilometer                 0\n",
       "registration_month        0\n",
       "fuel_type             32895\n",
       "brand                     0\n",
       "repaired              71154\n",
       "date_created              0\n",
       "number_of_pictures        0\n",
       "postal_code               0\n",
       "last_seen                 0\n",
       "dtype: int64"
      ]
     },
     "execution_count": 9,
     "metadata": {},
     "output_type": "execute_result"
    }
   ],
   "source": [
    "# подсчет количества пропусков в датафрейме autos\n",
    "autos.isna().sum()"
   ]
  },
  {
   "cell_type": "code",
   "execution_count": 10,
   "metadata": {},
   "outputs": [],
   "source": [
    "# замена пропусков на значение unknown\n",
    "autos['vehicle_type'] = autos['vehicle_type'].fillna('unknown')\n",
    "autos['gearbox'] = autos['gearbox'].fillna('unknown')\n",
    "autos['model'] = autos['model'].fillna('unknown')\n",
    "autos['fuel_type'] = autos['fuel_type'].fillna('unknown')\n",
    "autos['repaired'] = autos['repaired'].fillna('unknown')"
   ]
  },
  {
   "cell_type": "code",
   "execution_count": 11,
   "metadata": {},
   "outputs": [
    {
     "data": {
      "text/plain": [
       "Timestamp('2016-04-07 14:36:58')"
      ]
     },
     "execution_count": 11,
     "metadata": {},
     "output_type": "execute_result"
    }
   ],
   "source": [
    "autos['date_crawled'].max()"
   ]
  },
  {
   "cell_type": "code",
   "execution_count": 12,
   "metadata": {},
   "outputs": [],
   "source": [
    "autos = autos[(autos['date_created'] < '2016-04-07 14:36:58')]"
   ]
  },
  {
   "cell_type": "code",
   "execution_count": 13,
   "metadata": {},
   "outputs": [],
   "source": [
    "# удалим неинформативные столбцы date_crawled, date_created, number_of_pictures, postal_code, last_seen \n",
    "autos = autos.drop(columns=['date_crawled', 'date_created', 'number_of_pictures', 'postal_code', 'last_seen'])"
   ]
  },
  {
   "cell_type": "code",
   "execution_count": 14,
   "metadata": {},
   "outputs": [
    {
     "data": {
      "text/plain": [
       "27543"
      ]
     },
     "execution_count": 14,
     "metadata": {},
     "output_type": "execute_result"
    }
   ],
   "source": [
    "# определение количества дубликатов в датафрейме autos\n",
    "autos.duplicated().sum()"
   ]
  },
  {
   "cell_type": "code",
   "execution_count": 15,
   "metadata": {},
   "outputs": [],
   "source": [
    "# удаление дубликатов в датафрейме autos\n",
    "autos = autos.drop_duplicates().reset_index()"
   ]
  },
  {
   "cell_type": "markdown",
   "metadata": {},
   "source": [
    "Вывод: на этапе предобработки данных названия столбцов были приведены к нижнему регистру. В столбцах date_crawled, date_created, last_seen был изменен тип даннх на datetime. Также были заполнены пропущенные значения в столбцах vehicle_type, gearbox, model, fuel_type, repaired и удалены дубликаты."
   ]
  },
  {
   "cell_type": "markdown",
   "metadata": {},
   "source": [
    "### Исследовательский анализ данных"
   ]
  },
  {
   "cell_type": "code",
   "execution_count": 16,
   "metadata": {},
   "outputs": [
    {
     "data": {
      "image/png": "[encoded data removed]",
      "text/plain": [
       "<Figure size 1080x360 with 1 Axes>"
      ]
     },
     "metadata": {
      "needs_background": "light"
     },
     "output_type": "display_data"
    }
   ],
   "source": [
    "# построение гистограммы по столбцу price\n",
    "autos['price'].hist(bins=50, range = (0, 22000), figsize=(15, 5))\n",
    "plt.title('Гистограмма значений цены')\n",
    "plt.xlabel('Цена')\n",
    "plt.ylabel('Количество');"
   ]
  },
  {
   "cell_type": "code",
   "execution_count": 17,
   "metadata": {},
   "outputs": [
    {
     "data": {
      "image/png": "[encoded data removed]",
      "text/plain": [
       "<Figure size 1224x144 with 1 Axes>"
      ]
     },
     "metadata": {
      "needs_background": "light"
     },
     "output_type": "display_data"
    }
   ],
   "source": [
    "# построение диаграммы размаха по столбцу удой_кг\n",
    "fig, ax = plt.subplots(figsize = (17,2))\n",
    "ax = autos[['price']].boxplot(vert = False, ax =ax)\n",
    "ax.set_title('Диаграмма размаха значений цены')\n",
    "ax.set_xlim(0, 22000);"
   ]
  },
  {
   "cell_type": "code",
   "execution_count": 18,
   "metadata": {},
   "outputs": [
    {
     "data": {
      "text/plain": [
       "count    326826.000000\n",
       "mean       4403.747330\n",
       "std        4518.209808\n",
       "min           0.000000\n",
       "25%        1000.000000\n",
       "50%        2700.000000\n",
       "75%        6350.000000\n",
       "max       20000.000000\n",
       "Name: price, dtype: float64"
      ]
     },
     "execution_count": 18,
     "metadata": {},
     "output_type": "execute_result"
    }
   ],
   "source": [
    "# вывод числового описания данных \n",
    "autos['price'].describe()"
   ]
  },
  {
   "cell_type": "code",
   "execution_count": 19,
   "metadata": {},
   "outputs": [],
   "source": [
    "# срез по столбцу price\n",
    "autos = autos[(autos['price'] > 100)]"
   ]
  },
  {
   "cell_type": "markdown",
   "metadata": {},
   "source": [
    "По полученным графикам можно сказать, что большое количество автомобилей продаются за цену менее 1 евро, что является аномалией, также по диаграмме размаха видно, что после значения цены в 14500 евро начинаются выбросы. "
   ]
  },
  {
   "cell_type": "code",
   "execution_count": 20,
   "metadata": {},
   "outputs": [
    {
     "data": {
      "image/png": "[encoded data removed]",
      "text/plain": [
       "<Figure size 432x288 with 1 Axes>"
      ]
     },
     "metadata": {},
     "output_type": "display_data"
    }
   ],
   "source": [
    "# построение круговой диаграммы\n",
    "autos.groupby('vehicle_type').size().plot(kind='pie', autopct='%.1f')\n",
    "plt.title('Тип автомобильного кузова');"
   ]
  },
  {
   "cell_type": "code",
   "execution_count": 21,
   "metadata": {},
   "outputs": [
    {
     "data": {
      "image/png": "[encoded data removed]",
      "text/plain": [
       "<Figure size 1224x144 with 1 Axes>"
      ]
     },
     "metadata": {
      "needs_background": "light"
     },
     "output_type": "display_data"
    }
   ],
   "source": [
    "# построение столбчатой диаграммы по столбцу vehicle_type\n",
    "autos['vehicle_type'].value_counts().plot(kind='bar', figsize = (17,2))\n",
    "plt.title('Частота встречаемости типа автомобильного кузова')\n",
    "plt.xlabel('Тип автомобильного кузова')\n",
    "plt.ylabel('Частота');"
   ]
  },
  {
   "cell_type": "markdown",
   "metadata": {},
   "source": [
    "По данной круговой диаграмме видно, что 2/3 объявлений составляют автомобили с кузовами sedan, small и wagon.  "
   ]
  },
  {
   "cell_type": "code",
   "execution_count": 22,
   "metadata": {},
   "outputs": [
    {
     "data": {
      "image/png": "[encoded data removed]",
      "text/plain": [
       "<Figure size 1080x360 with 1 Axes>"
      ]
     },
     "metadata": {
      "needs_background": "light"
     },
     "output_type": "display_data"
    }
   ],
   "source": [
    "# построение гистаграммы по столбцу registration_year\n",
    "autos['registration_year'].hist(bins=50, range = (1950, 2020), figsize=(15, 5))\n",
    "plt.title('Гистограмма значений года регистрации')\n",
    "plt.xlabel('Год регистрации автомобиля')\n",
    "plt.ylabel('Количество');"
   ]
  },
  {
   "cell_type": "code",
   "execution_count": 23,
   "metadata": {},
   "outputs": [
    {
     "data": {
      "image/png": "[encoded data removed]",
      "text/plain": [
       "<Figure size 1224x144 with 1 Axes>"
      ]
     },
     "metadata": {
      "needs_background": "light"
     },
     "output_type": "display_data"
    }
   ],
   "source": [
    "# построение диаграммы размаха по столбцу registration_year\n",
    "fig, ax = plt.subplots(figsize = (17,2))\n",
    "ax = autos[['registration_year']].boxplot(vert = False, ax =ax)\n",
    "ax.set_title('Диаграмма размаха значений года регистрации автомобиля')\n",
    "ax.set_xlim(1950, 2020);"
   ]
  },
  {
   "cell_type": "code",
   "execution_count": 24,
   "metadata": {},
   "outputs": [
    {
     "data": {
      "text/plain": [
       "count    314059.000000\n",
       "mean       2003.973604\n",
       "std          71.785991\n",
       "min        1000.000000\n",
       "25%        1999.000000\n",
       "50%        2003.000000\n",
       "75%        2008.000000\n",
       "max        9999.000000\n",
       "Name: registration_year, dtype: float64"
      ]
     },
     "execution_count": 24,
     "metadata": {},
     "output_type": "execute_result"
    }
   ],
   "source": [
    "# вывод числового описания данных \n",
    "autos['registration_year'].describe()"
   ]
  },
  {
   "cell_type": "code",
   "execution_count": 25,
   "metadata": {},
   "outputs": [],
   "source": [
    "# срез по столбцу registration_year\n",
    "autos = autos[(autos['registration_year'] > 1985)]"
   ]
  },
  {
   "cell_type": "markdown",
   "metadata": {},
   "source": [
    "По полученным данным можно сказать, что минимальное и максимальное значения года регистрации невозможны, поэтому необходимо было сделать срез на основании имеющихся графиков и данных."
   ]
  },
  {
   "cell_type": "code",
   "execution_count": 26,
   "metadata": {},
   "outputs": [
    {
     "data": {
      "image/png": "[encoded data removed]",
      "text/plain": [
       "<Figure size 432x288 with 1 Axes>"
      ]
     },
     "metadata": {},
     "output_type": "display_data"
    }
   ],
   "source": [
    "# построение круговой диаграммы\n",
    "autos.groupby('gearbox').size().plot(kind='pie', autopct='%.1f')\n",
    "plt.title('Тип коробки передач');"
   ]
  },
  {
   "cell_type": "code",
   "execution_count": 27,
   "metadata": {},
   "outputs": [
    {
     "data": {
      "image/png": "[encoded data removed]",
      "text/plain": [
       "<Figure size 1224x144 with 1 Axes>"
      ]
     },
     "metadata": {
      "needs_background": "light"
     },
     "output_type": "display_data"
    }
   ],
   "source": [
    "# построение столбчатой диаграммы по столбцу gearbox\n",
    "autos['gearbox'].value_counts().plot(kind='bar', figsize = (17,2))\n",
    "plt.title('Частота встречаемости разлиичных типов коробки передач')\n",
    "plt.xlabel('Тип коробки передач')\n",
    "plt.ylabel('Частота');"
   ]
  },
  {
   "cell_type": "markdown",
   "metadata": {},
   "source": [
    "Данная круговая диаграмма показывает, что большая часть автомобилей имеет механическую коробку передач."
   ]
  },
  {
   "cell_type": "code",
   "execution_count": 28,
   "metadata": {},
   "outputs": [
    {
     "data": {
      "image/png": "[encoded data removed]",
      "text/plain": [
       "<Figure size 1080x360 with 1 Axes>"
      ]
     },
     "metadata": {
      "needs_background": "light"
     },
     "output_type": "display_data"
    }
   ],
   "source": [
    "# построение гистаграммы по столбцу power\n",
    "autos['power'].hist(bins=50, range = (0, 500), figsize=(15, 5));"
   ]
  },
  {
   "cell_type": "code",
   "execution_count": 29,
   "metadata": {},
   "outputs": [
    {
     "data": {
      "image/png": "[encoded data removed]",
      "text/plain": [
       "<Figure size 1224x144 with 1 Axes>"
      ]
     },
     "metadata": {
      "needs_background": "light"
     },
     "output_type": "display_data"
    }
   ],
   "source": [
    "# построение диаграммы размаха по столбцу power\n",
    "fig, ax = plt.subplots(figsize = (17,2))\n",
    "ax = autos[['power']].boxplot(vert = False, ax =ax)\n",
    "ax.set_title('Диаграмма размаха значений мощности')\n",
    "ax.set_xlim(0, 500);"
   ]
  },
  {
   "cell_type": "code",
   "execution_count": 30,
   "metadata": {},
   "outputs": [
    {
     "data": {
      "text/plain": [
       "count    308774.000000\n",
       "mean        112.114226\n",
       "std         193.512070\n",
       "min           0.000000\n",
       "25%          71.000000\n",
       "50%         105.000000\n",
       "75%         143.000000\n",
       "max       20000.000000\n",
       "Name: power, dtype: float64"
      ]
     },
     "execution_count": 30,
     "metadata": {},
     "output_type": "execute_result"
    }
   ],
   "source": [
    "# вывод числового описания данных \n",
    "autos['power'].describe()"
   ]
  },
  {
   "cell_type": "code",
   "execution_count": 31,
   "metadata": {},
   "outputs": [],
   "source": [
    "# срез по столбцу power\n",
    "autos = autos[(autos['power'] > 10) & (autos['power'] < 300)]"
   ]
  },
  {
   "cell_type": "markdown",
   "metadata": {},
   "source": [
    "Данные показывают, что в столбце power есть выбросы при значениях более 250, а также есть значения равные нулю, чего быть не может."
   ]
  },
  {
   "cell_type": "code",
   "execution_count": 32,
   "metadata": {},
   "outputs": [
    {
     "data": {
      "image/png": "[encoded data removed]",
      "text/plain": [
       "<Figure size 1224x144 with 1 Axes>"
      ]
     },
     "metadata": {
      "needs_background": "light"
     },
     "output_type": "display_data"
    }
   ],
   "source": [
    "# построение столбчатой диаграммы по столбцу kilometer\n",
    "autos['kilometer'].value_counts().plot(kind='bar', figsize = (17,2))\n",
    "plt.title('Частота встречаемости значений пробега')\n",
    "plt.xlabel('Пробег, км')\n",
    "plt.ylabel('Частота');"
   ]
  },
  {
   "cell_type": "code",
   "execution_count": 33,
   "metadata": {},
   "outputs": [
    {
     "data": {
      "image/png": "[encoded data removed]",
      "text/plain": [
       "<Figure size 1224x144 with 1 Axes>"
      ]
     },
     "metadata": {
      "needs_background": "light"
     },
     "output_type": "display_data"
    }
   ],
   "source": [
    "# построение диаграммы размаха по столбцу kilometer\n",
    "fig, ax = plt.subplots(figsize = (17,2))\n",
    "ax = autos[['kilometer']].boxplot(vert = False, ax =ax)\n",
    "ax.set_title('Диаграмма размаха значений пробега')\n",
    "ax.set_xlim(0, 175000);"
   ]
  },
  {
   "cell_type": "markdown",
   "metadata": {},
   "source": [
    "Данные по пробегу показывают, что среднее значение пробега равно 130000 км, а медиана 150000 км, что совпадает с максимальным значением пробега."
   ]
  },
  {
   "cell_type": "code",
   "execution_count": 34,
   "metadata": {},
   "outputs": [
    {
     "data": {
      "image/png": "[encoded data removed]",
      "text/plain": [
       "<Figure size 432x288 with 1 Axes>"
      ]
     },
     "metadata": {},
     "output_type": "display_data"
    }
   ],
   "source": [
    "# построение круговой диаграммы\n",
    "autos.groupby('registration_month').size().plot(kind='pie', autopct='%.1f')\n",
    "plt.title('Месяц регистрации автомобиля');"
   ]
  },
  {
   "cell_type": "code",
   "execution_count": 35,
   "metadata": {},
   "outputs": [
    {
     "data": {
      "image/png": "[encoded data removed]",
      "text/plain": [
       "<Figure size 1224x144 with 1 Axes>"
      ]
     },
     "metadata": {
      "needs_background": "light"
     },
     "output_type": "display_data"
    }
   ],
   "source": [
    "# построение столбчатой диаграммы по столбцу registration_month\n",
    "autos['registration_month'].value_counts().plot(kind='bar', figsize = (17,2))\n",
    "plt.title('Частота встречаемости месяцев регистрации')\n",
    "plt.xlabel('Месяц')\n",
    "plt.ylabel('Частота');"
   ]
  },
  {
   "cell_type": "markdown",
   "metadata": {},
   "source": [
    "По полученной круговой диаграмме видно, что распределение анкет автомобилей по месяцам равномерное."
   ]
  },
  {
   "cell_type": "code",
   "execution_count": 36,
   "metadata": {},
   "outputs": [
    {
     "data": {
      "image/png": "[encoded data removed]",
      "text/plain": [
       "<Figure size 432x288 with 1 Axes>"
      ]
     },
     "metadata": {},
     "output_type": "display_data"
    }
   ],
   "source": [
    "# построение круговой диаграммы\n",
    "autos.groupby('fuel_type').size().plot(kind='pie', autopct='%.1f')\n",
    "plt.title('Тип топлива');"
   ]
  },
  {
   "cell_type": "code",
   "execution_count": 37,
   "metadata": {},
   "outputs": [
    {
     "data": {
      "image/png": "[encoded data removed]",
      "text/plain": [
       "<Figure size 1224x144 with 1 Axes>"
      ]
     },
     "metadata": {
      "needs_background": "light"
     },
     "output_type": "display_data"
    }
   ],
   "source": [
    "# построение столбчатой диаграммы по столбцу fuel_type\n",
    "autos['fuel_type'].value_counts().plot(kind='bar', figsize = (17,2))\n",
    "plt.title('Частота встречаемости различных типов топлива')\n",
    "plt.xlabel('Тип топлива')\n",
    "plt.ylabel('Частота');"
   ]
  },
  {
   "cell_type": "markdown",
   "metadata": {},
   "source": [
    "Полученная круговая диаграмма показывает, что подавляющее большинство (более 90%) составляют автомобили, использующие бензин"
   ]
  },
  {
   "cell_type": "code",
   "execution_count": 38,
   "metadata": {},
   "outputs": [
    {
     "data": {
      "image/png": "[encoded data removed]",
      "text/plain": [
       "<Figure size 1224x144 with 1 Axes>"
      ]
     },
     "metadata": {
      "needs_background": "light"
     },
     "output_type": "display_data"
    }
   ],
   "source": [
    "# построение столбчатой диаграммы по столбцу brand\n",
    "autos['brand'].value_counts().plot(kind='bar', figsize = (17,2))\n",
    "plt.title('Частота встречаемости различных брендов автомобилей')\n",
    "plt.xlabel('Бренд')\n",
    "plt.ylabel('Частота');"
   ]
  },
  {
   "cell_type": "markdown",
   "metadata": {},
   "source": [
    "По столбчатой диаграмме видно, что в топ-5 брендов входят: Volkswagen, Opel, BMW, Mersedes_Benz, Audi."
   ]
  },
  {
   "cell_type": "code",
   "execution_count": 39,
   "metadata": {},
   "outputs": [
    {
     "data": {
      "image/png": "[encoded data removed]",
      "text/plain": [
       "<Figure size 432x288 with 1 Axes>"
      ]
     },
     "metadata": {},
     "output_type": "display_data"
    }
   ],
   "source": [
    "# построение круговой диаграммы\n",
    "autos.groupby('repaired').size().plot(kind='pie', autopct='%.1f')\n",
    "plt.title('Была машина в ремонте или нет');"
   ]
  },
  {
   "cell_type": "code",
   "execution_count": 40,
   "metadata": {},
   "outputs": [
    {
     "data": {
      "image/png": "[encoded data removed]",
      "text/plain": [
       "<Figure size 1224x144 with 1 Axes>"
      ]
     },
     "metadata": {
      "needs_background": "light"
     },
     "output_type": "display_data"
    }
   ],
   "source": [
    "# построение столбчатой диаграммы по столбцу repaired\n",
    "autos['repaired'].value_counts().plot(kind='bar', figsize = (17,2))\n",
    "plt.title('Была машина в ремонте или нет')\n",
    "plt.xlabel('Значение')\n",
    "plt.ylabel('Частота');"
   ]
  },
  {
   "cell_type": "markdown",
   "metadata": {},
   "source": [
    "Данная круговая диаграмма показывает, что 75% машин не были в ремонте."
   ]
  },
  {
   "cell_type": "markdown",
   "metadata": {},
   "source": [
    "Вывод: в процессе исследовательского анализа были построены графики для некоторых параметров. Исходя из графика цены было выяснено, что большое количество обявлений имеют цену менее 1 евро, что явлется аномалией. Также были выявлены и удалены аномалии в столбцах registration_year и power.\\\n",
    "2/3 объявлений составляют автомобили с кузовами sedan, small и wagon. 76.9% автомобилей имеют механическую коробку передач. 90% автомобилей функционируют на бензине. 75% машин не были в ремонте. "
   ]
  },
  {
   "cell_type": "markdown",
   "metadata": {},
   "source": [
    "### Корреляционный анализ"
   ]
  },
  {
   "cell_type": "code",
   "execution_count": 41,
   "metadata": {},
   "outputs": [
    {
     "data": {
      "text/html": [
       "<div>\n",
       "<style scoped>\n",
       "    .dataframe tbody tr th:only-of-type {\n",
       "        vertical-align: middle;\n",
       "    }\n",
       "\n",
       "    .dataframe tbody tr th {\n",
       "        vertical-align: top;\n",
       "    }\n",
       "\n",
       "    .dataframe thead th {\n",
       "        text-align: right;\n",
       "    }\n",
       "</style>\n",
       "<table border=\"1\" class=\"dataframe\">\n",
       "  <thead>\n",
       "    <tr style=\"text-align: right;\">\n",
       "      <th></th>\n",
       "      <th>price</th>\n",
       "      <th>vehicle_type</th>\n",
       "      <th>registration_year</th>\n",
       "      <th>gearbox</th>\n",
       "      <th>power</th>\n",
       "      <th>model</th>\n",
       "      <th>kilometer</th>\n",
       "      <th>registration_month</th>\n",
       "      <th>fuel_type</th>\n",
       "      <th>brand</th>\n",
       "      <th>repaired</th>\n",
       "    </tr>\n",
       "  </thead>\n",
       "  <tbody>\n",
       "    <tr>\n",
       "      <th>price</th>\n",
       "      <td>1.000000</td>\n",
       "      <td>0.261767</td>\n",
       "      <td>0.667070</td>\n",
       "      <td>0.273442</td>\n",
       "      <td>0.620136</td>\n",
       "      <td>0.574899</td>\n",
       "      <td>0.321417</td>\n",
       "      <td>0.128440</td>\n",
       "      <td>0.268474</td>\n",
       "      <td>0.354840</td>\n",
       "      <td>0.335258</td>\n",
       "    </tr>\n",
       "    <tr>\n",
       "      <th>vehicle_type</th>\n",
       "      <td>0.261767</td>\n",
       "      <td>1.000000</td>\n",
       "      <td>0.681143</td>\n",
       "      <td>0.367004</td>\n",
       "      <td>0.677708</td>\n",
       "      <td>0.897190</td>\n",
       "      <td>0.254583</td>\n",
       "      <td>0.186289</td>\n",
       "      <td>0.417015</td>\n",
       "      <td>0.587773</td>\n",
       "      <td>0.354563</td>\n",
       "    </tr>\n",
       "    <tr>\n",
       "      <th>registration_year</th>\n",
       "      <td>0.667070</td>\n",
       "      <td>0.681143</td>\n",
       "      <td>1.000000</td>\n",
       "      <td>0.205821</td>\n",
       "      <td>0.679916</td>\n",
       "      <td>0.635592</td>\n",
       "      <td>0.616807</td>\n",
       "      <td>0.208773</td>\n",
       "      <td>0.446441</td>\n",
       "      <td>0.303124</td>\n",
       "      <td>0.362591</td>\n",
       "    </tr>\n",
       "    <tr>\n",
       "      <th>gearbox</th>\n",
       "      <td>0.273442</td>\n",
       "      <td>0.367004</td>\n",
       "      <td>0.205821</td>\n",
       "      <td>1.000000</td>\n",
       "      <td>0.606552</td>\n",
       "      <td>0.619231</td>\n",
       "      <td>0.055320</td>\n",
       "      <td>0.178240</td>\n",
       "      <td>0.209361</td>\n",
       "      <td>0.511586</td>\n",
       "      <td>0.278192</td>\n",
       "    </tr>\n",
       "    <tr>\n",
       "      <th>power</th>\n",
       "      <td>0.620136</td>\n",
       "      <td>0.677708</td>\n",
       "      <td>0.679916</td>\n",
       "      <td>0.606552</td>\n",
       "      <td>1.000000</td>\n",
       "      <td>0.968465</td>\n",
       "      <td>0.365097</td>\n",
       "      <td>0.145134</td>\n",
       "      <td>0.620344</td>\n",
       "      <td>0.915284</td>\n",
       "      <td>0.270029</td>\n",
       "    </tr>\n",
       "    <tr>\n",
       "      <th>model</th>\n",
       "      <td>0.574899</td>\n",
       "      <td>0.897190</td>\n",
       "      <td>0.635592</td>\n",
       "      <td>0.619231</td>\n",
       "      <td>0.968465</td>\n",
       "      <td>1.000000</td>\n",
       "      <td>0.439604</td>\n",
       "      <td>0.180811</td>\n",
       "      <td>0.547215</td>\n",
       "      <td>0.998076</td>\n",
       "      <td>0.273942</td>\n",
       "    </tr>\n",
       "    <tr>\n",
       "      <th>kilometer</th>\n",
       "      <td>0.321417</td>\n",
       "      <td>0.254583</td>\n",
       "      <td>0.616807</td>\n",
       "      <td>0.055320</td>\n",
       "      <td>0.365097</td>\n",
       "      <td>0.439604</td>\n",
       "      <td>1.000000</td>\n",
       "      <td>0.077153</td>\n",
       "      <td>0.157580</td>\n",
       "      <td>0.268850</td>\n",
       "      <td>0.229943</td>\n",
       "    </tr>\n",
       "    <tr>\n",
       "      <th>registration_month</th>\n",
       "      <td>0.128440</td>\n",
       "      <td>0.186289</td>\n",
       "      <td>0.208773</td>\n",
       "      <td>0.178240</td>\n",
       "      <td>0.145134</td>\n",
       "      <td>0.180811</td>\n",
       "      <td>0.077153</td>\n",
       "      <td>1.000000</td>\n",
       "      <td>0.178671</td>\n",
       "      <td>0.083037</td>\n",
       "      <td>0.312275</td>\n",
       "    </tr>\n",
       "    <tr>\n",
       "      <th>fuel_type</th>\n",
       "      <td>0.268474</td>\n",
       "      <td>0.417015</td>\n",
       "      <td>0.446441</td>\n",
       "      <td>0.209361</td>\n",
       "      <td>0.620344</td>\n",
       "      <td>0.547215</td>\n",
       "      <td>0.157580</td>\n",
       "      <td>0.178671</td>\n",
       "      <td>1.000000</td>\n",
       "      <td>0.338965</td>\n",
       "      <td>0.199450</td>\n",
       "    </tr>\n",
       "    <tr>\n",
       "      <th>brand</th>\n",
       "      <td>0.354840</td>\n",
       "      <td>0.587773</td>\n",
       "      <td>0.303124</td>\n",
       "      <td>0.511586</td>\n",
       "      <td>0.915284</td>\n",
       "      <td>0.998076</td>\n",
       "      <td>0.268850</td>\n",
       "      <td>0.083037</td>\n",
       "      <td>0.338965</td>\n",
       "      <td>1.000000</td>\n",
       "      <td>0.133019</td>\n",
       "    </tr>\n",
       "    <tr>\n",
       "      <th>repaired</th>\n",
       "      <td>0.335258</td>\n",
       "      <td>0.354563</td>\n",
       "      <td>0.362591</td>\n",
       "      <td>0.278192</td>\n",
       "      <td>0.270029</td>\n",
       "      <td>0.273942</td>\n",
       "      <td>0.229943</td>\n",
       "      <td>0.312275</td>\n",
       "      <td>0.199450</td>\n",
       "      <td>0.133019</td>\n",
       "      <td>1.000000</td>\n",
       "    </tr>\n",
       "  </tbody>\n",
       "</table>\n",
       "</div>"
      ],
      "text/plain": [
       "                       price  vehicle_type  registration_year   gearbox  \\\n",
       "price               1.000000      0.261767           0.667070  0.273442   \n",
       "vehicle_type        0.261767      1.000000           0.681143  0.367004   \n",
       "registration_year   0.667070      0.681143           1.000000  0.205821   \n",
       "gearbox             0.273442      0.367004           0.205821  1.000000   \n",
       "power               0.620136      0.677708           0.679916  0.606552   \n",
       "model               0.574899      0.897190           0.635592  0.619231   \n",
       "kilometer           0.321417      0.254583           0.616807  0.055320   \n",
       "registration_month  0.128440      0.186289           0.208773  0.178240   \n",
       "fuel_type           0.268474      0.417015           0.446441  0.209361   \n",
       "brand               0.354840      0.587773           0.303124  0.511586   \n",
       "repaired            0.335258      0.354563           0.362591  0.278192   \n",
       "\n",
       "                       power     model  kilometer  registration_month  \\\n",
       "price               0.620136  0.574899   0.321417            0.128440   \n",
       "vehicle_type        0.677708  0.897190   0.254583            0.186289   \n",
       "registration_year   0.679916  0.635592   0.616807            0.208773   \n",
       "gearbox             0.606552  0.619231   0.055320            0.178240   \n",
       "power               1.000000  0.968465   0.365097            0.145134   \n",
       "model               0.968465  1.000000   0.439604            0.180811   \n",
       "kilometer           0.365097  0.439604   1.000000            0.077153   \n",
       "registration_month  0.145134  0.180811   0.077153            1.000000   \n",
       "fuel_type           0.620344  0.547215   0.157580            0.178671   \n",
       "brand               0.915284  0.998076   0.268850            0.083037   \n",
       "repaired            0.270029  0.273942   0.229943            0.312275   \n",
       "\n",
       "                    fuel_type     brand  repaired  \n",
       "price                0.268474  0.354840  0.335258  \n",
       "vehicle_type         0.417015  0.587773  0.354563  \n",
       "registration_year    0.446441  0.303124  0.362591  \n",
       "gearbox              0.209361  0.511586  0.278192  \n",
       "power                0.620344  0.915284  0.270029  \n",
       "model                0.547215  0.998076  0.273942  \n",
       "kilometer            0.157580  0.268850  0.229943  \n",
       "registration_month   0.178671  0.083037  0.312275  \n",
       "fuel_type            1.000000  0.338965  0.199450  \n",
       "brand                0.338965  1.000000  0.133019  \n",
       "repaired             0.199450  0.133019  1.000000  "
      ]
     },
     "execution_count": 41,
     "metadata": {},
     "output_type": "execute_result"
    }
   ],
   "source": [
    "# опредление коэффициентов с помощью phik_matrix()\n",
    "autos[['price',\n",
    "            'vehicle_type',\n",
    "            'registration_year',\n",
    "            'gearbox',\n",
    "            'power',\n",
    "            'model',\n",
    "            'kilometer',\n",
    "            'registration_month',\n",
    "            'fuel_type',\n",
    "            'brand',\n",
    "            'repaired']\n",
    "].phik_matrix(interval_cols=['price', 'kilometer'])"
   ]
  },
  {
   "cell_type": "markdown",
   "metadata": {},
   "source": [
    "По результатам корреляционного анализа можно сделать вывод, что целевой признак \"price\" имеет заметную прямую связь с признаками \"registration_year\", \"power\" и \"model\". Также наблюдается мультиколлинеарность между признаками \"power\" и \"model\", между \"power\" и \"brand\", между \"model\" и \"brand\". "
   ]
  },
  {
   "cell_type": "markdown",
   "metadata": {},
   "source": [
    "**Вывод:** На этапе подготовки были изучены и обработаны данные датафрейма autos. В столбцах с пропусками пропуски были заменяны на значения unknown. Были удалены дубликаты. В ходе исследовательского анализа были выявлены и удалены аномалии в столбцах price, registration_year и power. По результатам корреляционного анализа была выявлена заметная прямая связь между целевым признаком price и входными признаками registration_year и power."
   ]
  },
  {
   "cell_type": "markdown",
   "metadata": {},
   "source": [
    "## Обучение моделей"
   ]
  },
  {
   "cell_type": "code",
   "execution_count": 42,
   "metadata": {},
   "outputs": [],
   "source": [
    "# создание константы RANDOM_STATE\n",
    "RANDOM_STATE = 42"
   ]
  },
  {
   "cell_type": "code",
   "execution_count": 43,
   "metadata": {},
   "outputs": [],
   "source": [
    "# сохранение входных признаков в переменную X\n",
    "# сохранение целевого признака в переменную y\n",
    "X = autos.drop(['index', 'price', 'vehicle_type', 'gearbox', 'registration_month', 'fuel_type'], axis=1)\n",
    "y = autos['price']"
   ]
  },
  {
   "cell_type": "code",
   "execution_count": 44,
   "metadata": {},
   "outputs": [],
   "source": [
    "# разделение на тренировочную и тестовую выборки\n",
    "X_train, X_test, y_train, y_test = train_test_split(\n",
    "    X, \n",
    "    y, \n",
    "    random_state=RANDOM_STATE\n",
    ")"
   ]
  },
  {
   "cell_type": "code",
   "execution_count": 45,
   "metadata": {},
   "outputs": [],
   "source": [
    "cat_col_names = ['model', 'brand', 'repaired']\n",
    "num_col_names = ['registration_year', 'power', 'kilometer']\n",
    "\n",
    "# подготовка признаков (масштабирование и кодирование)\n",
    "\n",
    "encoder = OneHotEncoder(sparse=False, handle_unknown = 'ignore')\n",
    "X_train_ohe = encoder.fit_transform(X_train[cat_col_names])\n",
    "X_test_ohe = encoder.transform(X_test[cat_col_names])\n",
    "\n",
    "encoder_col_names = encoder.get_feature_names()\n",
    "\n",
    "scaler = StandardScaler()\n",
    "X_train_scaled = scaler.fit_transform(X_train[num_col_names])\n",
    "X_test_scaled = scaler.transform(X_test[num_col_names])\n",
    "\n",
    "X_train_ohe = pd.DataFrame(X_train_ohe, columns=encoder_col_names)\n",
    "X_test_ohe = pd.DataFrame(X_test_ohe, columns=encoder_col_names)\n",
    "\n",
    "X_train_scaled = pd.DataFrame(X_train_scaled, columns=num_col_names)\n",
    "X_test_scaled = pd.DataFrame(X_test_scaled, columns=num_col_names)\n",
    "\n",
    "X_train = pd.concat([X_train_ohe, X_train_scaled], axis=1)\n",
    "X_test = pd.concat([X_test_ohe, X_test_scaled], axis=1)"
   ]
  },
  {
   "cell_type": "code",
   "execution_count": 46,
   "metadata": {
    "scrolled": true
   },
   "outputs": [
    {
     "name": "stdout",
     "output_type": "stream",
     "text": [
      "Fitting 5 folds for each of 8 candidates, totalling 40 fits\n",
      "[CV] END max_depth=10, min_samples_leaf=1, min_samples_split=5; total time=   3.3s\n",
      "[CV] END max_depth=10, min_samples_leaf=1, min_samples_split=5; total time=   2.8s\n",
      "[CV] END max_depth=10, min_samples_leaf=1, min_samples_split=5; total time=   2.9s\n",
      "[CV] END max_depth=10, min_samples_leaf=1, min_samples_split=5; total time=   2.9s\n",
      "[CV] END max_depth=10, min_samples_leaf=1, min_samples_split=5; total time=   2.9s\n",
      "[CV] END max_depth=10, min_samples_leaf=1, min_samples_split=10; total time=   2.9s\n",
      "[CV] END max_depth=10, min_samples_leaf=1, min_samples_split=10; total time=   3.0s\n",
      "[CV] END max_depth=10, min_samples_leaf=1, min_samples_split=10; total time=   2.9s\n",
      "[CV] END max_depth=10, min_samples_leaf=1, min_samples_split=10; total time=   2.9s\n",
      "[CV] END max_depth=10, min_samples_leaf=1, min_samples_split=10; total time=   2.9s\n",
      "[CV] END max_depth=10, min_samples_leaf=2, min_samples_split=5; total time=   2.9s\n",
      "[CV] END max_depth=10, min_samples_leaf=2, min_samples_split=5; total time=   2.9s\n",
      "[CV] END max_depth=10, min_samples_leaf=2, min_samples_split=5; total time=   2.9s\n",
      "[CV] END max_depth=10, min_samples_leaf=2, min_samples_split=5; total time=   2.9s\n",
      "[CV] END max_depth=10, min_samples_leaf=2, min_samples_split=5; total time=   2.9s\n",
      "[CV] END max_depth=10, min_samples_leaf=2, min_samples_split=10; total time=   3.0s\n",
      "[CV] END max_depth=10, min_samples_leaf=2, min_samples_split=10; total time=   3.0s\n",
      "[CV] END max_depth=10, min_samples_leaf=2, min_samples_split=10; total time=   2.9s\n",
      "[CV] END max_depth=10, min_samples_leaf=2, min_samples_split=10; total time=   2.9s\n",
      "[CV] END max_depth=10, min_samples_leaf=2, min_samples_split=10; total time=   2.9s\n",
      "[CV] END max_depth=20, min_samples_leaf=1, min_samples_split=5; total time=   3.8s\n",
      "[CV] END max_depth=20, min_samples_leaf=1, min_samples_split=5; total time=   3.8s\n",
      "[CV] END max_depth=20, min_samples_leaf=1, min_samples_split=5; total time=   3.8s\n",
      "[CV] END max_depth=20, min_samples_leaf=1, min_samples_split=5; total time=   3.8s\n",
      "[CV] END max_depth=20, min_samples_leaf=1, min_samples_split=5; total time=   3.8s\n",
      "[CV] END max_depth=20, min_samples_leaf=1, min_samples_split=10; total time=   3.8s\n",
      "[CV] END max_depth=20, min_samples_leaf=1, min_samples_split=10; total time=   3.7s\n",
      "[CV] END max_depth=20, min_samples_leaf=1, min_samples_split=10; total time=   3.8s\n",
      "[CV] END max_depth=20, min_samples_leaf=1, min_samples_split=10; total time=   3.7s\n",
      "[CV] END max_depth=20, min_samples_leaf=1, min_samples_split=10; total time=   3.8s\n",
      "[CV] END max_depth=20, min_samples_leaf=2, min_samples_split=5; total time=   3.8s\n",
      "[CV] END max_depth=20, min_samples_leaf=2, min_samples_split=5; total time=   3.7s\n",
      "[CV] END max_depth=20, min_samples_leaf=2, min_samples_split=5; total time=   3.8s\n",
      "[CV] END max_depth=20, min_samples_leaf=2, min_samples_split=5; total time=   4.0s\n",
      "[CV] END max_depth=20, min_samples_leaf=2, min_samples_split=5; total time=   3.7s\n",
      "[CV] END max_depth=20, min_samples_leaf=2, min_samples_split=10; total time=   3.9s\n",
      "[CV] END max_depth=20, min_samples_leaf=2, min_samples_split=10; total time=   3.6s\n",
      "[CV] END max_depth=20, min_samples_leaf=2, min_samples_split=10; total time=   3.6s\n",
      "[CV] END max_depth=20, min_samples_leaf=2, min_samples_split=10; total time=   3.9s\n",
      "[CV] END max_depth=20, min_samples_leaf=2, min_samples_split=10; total time=   3.7s\n",
      "best_score: 1759.1324876963736\n"
     ]
    }
   ],
   "source": [
    "# обучение модели DecisionTreeRegressor\n",
    "param_grid = {\n",
    "    'max_depth': [10, 20],\n",
    "    'min_samples_split': [5, 10],\n",
    "    'min_samples_leaf': [1, 2]\n",
    "}\n",
    "dtree_reg = DecisionTreeRegressor(random_state=42)\n",
    "grid_search = GridSearchCV(estimator=dtree_reg, param_grid=param_grid, \n",
    "                           cv=5, n_jobs=-1, verbose=2, scoring='neg_root_mean_squared_error')\n",
    "grid_search.fit(X_train, y_train)\n",
    "best_score_tree = grid_search.best_score_\n",
    "best_model = grid_search.best_estimator_\n",
    "print(f\"best_score: {-best_score_tree}\")"
   ]
  },
  {
   "cell_type": "code",
   "execution_count": 47,
   "metadata": {},
   "outputs": [
    {
     "name": "stdout",
     "output_type": "stream",
     "text": [
      "Время обучения: 0.07496208349863688\n"
     ]
    }
   ],
   "source": [
    "# определение времени обучения модели\n",
    "start = time()\n",
    "\n",
    "best_model.fit(X_train, y_train) \n",
    "\n",
    "end = time()\n",
    "\n",
    "time_train = (end-start)/60\n",
    "print(f\"Время обучения: {time_train}\")"
   ]
  },
  {
   "cell_type": "code",
   "execution_count": 48,
   "metadata": {},
   "outputs": [
    {
     "name": "stdout",
     "output_type": "stream",
     "text": [
      "Время предсказания: 0.0036734739939371743\n"
     ]
    }
   ],
   "source": [
    "# определение времени предсказания модели\n",
    "start = time()\n",
    "\n",
    "best_model.predict(X_train)\n",
    "\n",
    "end = time()\n",
    "\n",
    "time_train = (end-start)/60\n",
    "print(f\"Время предсказания: {time_train}\")"
   ]
  },
  {
   "cell_type": "code",
   "execution_count": 49,
   "metadata": {},
   "outputs": [
    {
     "name": "stdout",
     "output_type": "stream",
     "text": [
      "Best_score: 1665.2463871116627\n"
     ]
    }
   ],
   "source": [
    "# задание гиперпараметров для модели LGBMRegressor\n",
    "param_grid = {\n",
    "    'num_leaves': [20, 31],\n",
    "    'learning_rate': [0.05, 0.1]\n",
    "}\n",
    "\n",
    "# инициализация модели LGBMRegressor\n",
    "model = lgb.LGBMRegressor()\n",
    "\n",
    "# обучение модели LGBMRegressor\n",
    "grid_search = GridSearchCV(estimator=model, \n",
    "                           param_grid=param_grid,\n",
    "                           scoring='neg_root_mean_squared_error', \n",
    "                           cv=5)\n",
    "\n",
    "grid_search.fit(X_train, y_train)\n",
    "best_score_LGBM = grid_search.best_score_\n",
    "print(f\"Best_score: {-best_score_LGBM}\")"
   ]
  },
  {
   "cell_type": "code",
   "execution_count": 50,
   "metadata": {},
   "outputs": [
    {
     "name": "stdout",
     "output_type": "stream",
     "text": [
      "Время обучения: 0.10335572163263956\n"
     ]
    }
   ],
   "source": [
    "# определение времени обучения модели\n",
    "best_model_LGBM = grid_search.best_estimator_\n",
    "start = time()\n",
    "\n",
    "best_model_LGBM.fit(X_train, y_train) \n",
    "\n",
    "end = time()\n",
    "\n",
    "time_train = (end-start)/60\n",
    "print(f\"Время обучения: {time_train}\")"
   ]
  },
  {
   "cell_type": "code",
   "execution_count": 51,
   "metadata": {},
   "outputs": [
    {
     "name": "stdout",
     "output_type": "stream",
     "text": [
      "Время предсказания: 0.045194602012634276\n"
     ]
    }
   ],
   "source": [
    "# определение времени предсказания модели\n",
    "start = time()\n",
    "\n",
    "best_model_LGBM.predict(X_train)\n",
    "\n",
    "end = time()\n",
    "\n",
    "time_train = (end-start)/60\n",
    "print(f\"Время предсказания: {time_train}\")"
   ]
  },
  {
   "cell_type": "markdown",
   "metadata": {},
   "source": [
    "**Вывод:** Были обучены две модели машинного обучения, одна из которых DecisionTreeRegressor, а другая LGBMRegressor. Для каждой модели были проверы разные гиперпараметры и вычислена метрика RMSE с кросс-валидации. Для модели DecisionTreeRegressor метрика равна 1759, а для модели LGBMRegressor - 1665. Также было вычислено время, затраченное на обучение каждой модели и на предсказание. "
   ]
  },
  {
   "cell_type": "markdown",
   "metadata": {},
   "source": [
    "## Анализ моделей"
   ]
  },
  {
   "cell_type": "markdown",
   "metadata": {},
   "source": [
    "По результатам обучения моделей DecisionTreeRegressor и LGBMRegressor можно сделать вывод, что наиболее выгодной моделью является модель DecisionTreeRegressor. Данное решение основано на следующих данных:\n",
    "* Обе модели прошли по критерию менее 2500 по значению метрики RMSE на кросс-валидации и имеют близкие значения;\n",
    "* Время обучения и предсказания модели DecisionTreeRegressor ниже, чем у LGBMRegressor, и составляет 0,0747 минут и 0,0037 минут соответственно против 0,13 и 0,04 минут у LGBMRegressor."
   ]
  },
  {
   "cell_type": "code",
   "execution_count": 52,
   "metadata": {},
   "outputs": [
    {
     "name": "stdout",
     "output_type": "stream",
     "text": [
      "RMSE: 1729.8877852266726\n"
     ]
    }
   ],
   "source": [
    "# предсказание модели DecisionTreeRegressor на тестовой выборке\n",
    "y_pred = best_model.predict(X_test)\n",
    "rmse = mean_squared_error(y_test, y_pred, squared=False)\n",
    "print(f\"RMSE: {rmse}\")"
   ]
  },
  {
   "cell_type": "markdown",
   "metadata": {},
   "source": [
    "## Общий вывод:\n",
    "Были изучены и обработаны данные датафрейма autos. Пропуски были заменены на значения unknown. Были удалены дубликаты.\\\n",
    "В ходе исследовательского анализа были выявлены и удалены аномалии в столбцах price и power. По результатам корреляционного анализа была выявлена заметная прямая связь между целевым признаком price и входными признаками registration_year и power.\\\n",
    "Были обучены две модели машинного обучения, одна из которых DecisionTreeRegressor, а другая LGBMRegressor. Для каждой модели были проверы разные гиперпараметры и вычислена метрика RMSE с кросс-валидации. Для модели DecisionTreeRegressor метрика равна 1759, а для модели LGBMRegressor - 1665. Также было вычислено время, затраченное на обучение каждой модели и на предсказание. Время обучение модели DecisionTreeRegressor ниже, чем у LGBMRegressor, поэтому в результате полученных данных был сделан вывод, что модель DecisionTreeRegressor является наиболее подходящей для решения задачи определения рыночной стоимости автомобиля.\n",
    "В итоге модель DecisionTreeRegressor была применена для предсказаний на тестовой выборке и показала значение метрики RMSE, равное 1730 евро, что удовлетворяет критерию менее 2500 евро и доказывает успех в обучении модели."
   ]
  }
 ],
 "metadata": {
  "ExecuteTimeLog": [
   {
    "duration": 1444,
    "start_time": "2024-10-19T09:36:33.155Z"
   },
   {
    "duration": 2567,
    "start_time": "2024-10-19T09:37:39.483Z"
   },
   {
    "duration": 9,
    "start_time": "2024-10-19T09:38:21.260Z"
   },
   {
    "duration": 699,
    "start_time": "2024-10-19T09:38:29.764Z"
   },
   {
    "duration": 12,
    "start_time": "2024-10-19T09:38:30.981Z"
   },
   {
    "duration": 689,
    "start_time": "2024-10-19T09:38:44.604Z"
   },
   {
    "duration": 13,
    "start_time": "2024-10-19T09:38:45.295Z"
   },
   {
    "duration": 102,
    "start_time": "2024-10-19T09:41:43.617Z"
   },
   {
    "duration": 3,
    "start_time": "2024-10-19T09:44:44.759Z"
   },
   {
    "duration": 99,
    "start_time": "2024-10-19T09:45:34.271Z"
   },
   {
    "duration": 52,
    "start_time": "2024-10-19T09:48:28.756Z"
   },
   {
    "duration": 97,
    "start_time": "2024-10-19T09:53:10.099Z"
   },
   {
    "duration": 167,
    "start_time": "2024-10-19T09:53:54.364Z"
   },
   {
    "duration": 67,
    "start_time": "2024-10-19T09:55:44.151Z"
   },
   {
    "duration": 17,
    "start_time": "2024-10-19T09:59:24.981Z"
   },
   {
    "duration": 19,
    "start_time": "2024-10-19T10:04:32.228Z"
   },
   {
    "duration": 16,
    "start_time": "2024-10-19T10:09:20.163Z"
   },
   {
    "duration": 1113,
    "start_time": "2024-10-19T10:13:36.906Z"
   },
   {
    "duration": 16,
    "start_time": "2024-10-19T10:13:46.898Z"
   },
   {
    "duration": 69,
    "start_time": "2024-10-19T10:15:07.116Z"
   },
   {
    "duration": 62,
    "start_time": "2024-10-19T10:15:22.820Z"
   },
   {
    "duration": 219,
    "start_time": "2024-10-19T10:16:23.542Z"
   },
   {
    "duration": 266,
    "start_time": "2024-10-19T10:16:48.342Z"
   },
   {
    "duration": 163,
    "start_time": "2024-10-19T10:18:40.345Z"
   },
   {
    "duration": 169,
    "start_time": "2024-10-19T10:20:19.996Z"
   },
   {
    "duration": 157,
    "start_time": "2024-10-19T10:20:26.507Z"
   },
   {
    "duration": 159,
    "start_time": "2024-10-19T10:20:33.388Z"
   },
   {
    "duration": 214,
    "start_time": "2024-10-19T10:20:48.140Z"
   },
   {
    "duration": 164,
    "start_time": "2024-10-19T10:20:56.596Z"
   },
   {
    "duration": 148,
    "start_time": "2024-10-19T10:21:07.885Z"
   },
   {
    "duration": 151,
    "start_time": "2024-10-19T10:21:13.700Z"
   },
   {
    "duration": 382,
    "start_time": "2024-10-19T10:23:13.368Z"
   },
   {
    "duration": 16,
    "start_time": "2024-10-19T10:24:19.953Z"
   },
   {
    "duration": 13,
    "start_time": "2024-10-19T10:26:34.317Z"
   },
   {
    "duration": 14,
    "start_time": "2024-10-19T10:27:28.317Z"
   },
   {
    "duration": 11,
    "start_time": "2024-10-19T10:27:40.878Z"
   },
   {
    "duration": 11,
    "start_time": "2024-10-19T10:27:49.566Z"
   },
   {
    "duration": 34,
    "start_time": "2024-10-19T10:29:00.305Z"
   },
   {
    "duration": 24,
    "start_time": "2024-10-19T10:29:37.317Z"
   },
   {
    "duration": 162,
    "start_time": "2024-10-19T10:29:50.945Z"
   },
   {
    "duration": 323,
    "start_time": "2024-10-19T10:30:08.842Z"
   },
   {
    "duration": 9,
    "start_time": "2024-10-19T10:30:55.939Z"
   },
   {
    "duration": 24,
    "start_time": "2024-10-19T10:33:50.559Z"
   },
   {
    "duration": 9,
    "start_time": "2024-10-19T10:34:00.120Z"
   },
   {
    "duration": 124,
    "start_time": "2024-10-19T10:38:13.790Z"
   },
   {
    "duration": 120,
    "start_time": "2024-10-19T10:38:44.664Z"
   },
   {
    "duration": 152,
    "start_time": "2024-10-19T10:47:34.876Z"
   },
   {
    "duration": 217,
    "start_time": "2024-10-19T10:47:47.564Z"
   },
   {
    "duration": 313,
    "start_time": "2024-10-19T10:49:05.984Z"
   },
   {
    "duration": 15,
    "start_time": "2024-10-19T10:49:53.528Z"
   },
   {
    "duration": 24,
    "start_time": "2024-10-19T10:51:28.514Z"
   },
   {
    "duration": 70,
    "start_time": "2024-10-19T10:51:47.314Z"
   },
   {
    "duration": 14,
    "start_time": "2024-10-19T10:52:53.372Z"
   },
   {
    "duration": 86,
    "start_time": "2024-10-19T10:57:04.323Z"
   },
   {
    "duration": 72,
    "start_time": "2024-10-19T10:58:05.980Z"
   },
   {
    "duration": 149,
    "start_time": "2024-10-19T10:58:34.757Z"
   },
   {
    "duration": 150,
    "start_time": "2024-10-19T10:58:39.796Z"
   },
   {
    "duration": 162,
    "start_time": "2024-10-19T10:58:46.205Z"
   },
   {
    "duration": 273,
    "start_time": "2024-10-19T11:00:14.104Z"
   },
   {
    "duration": 14,
    "start_time": "2024-10-19T11:00:44.976Z"
   },
   {
    "duration": 10,
    "start_time": "2024-10-19T11:03:20.292Z"
   },
   {
    "duration": 8,
    "start_time": "2024-10-19T11:03:41.934Z"
   },
   {
    "duration": 3,
    "start_time": "2024-10-19T11:03:55.198Z"
   },
   {
    "duration": 8,
    "start_time": "2024-10-19T11:03:56.548Z"
   },
   {
    "duration": 1228,
    "start_time": "2024-10-19T11:04:03.410Z"
   },
   {
    "duration": 683,
    "start_time": "2024-10-19T11:04:04.639Z"
   },
   {
    "duration": 14,
    "start_time": "2024-10-19T11:04:05.326Z"
   },
   {
    "duration": 116,
    "start_time": "2024-10-19T11:04:05.342Z"
   },
   {
    "duration": 3,
    "start_time": "2024-10-19T11:04:05.460Z"
   },
   {
    "duration": 55,
    "start_time": "2024-10-19T11:04:05.464Z"
   },
   {
    "duration": 258,
    "start_time": "2024-10-19T11:04:05.520Z"
   },
   {
    "duration": 64,
    "start_time": "2024-10-19T11:04:05.780Z"
   },
   {
    "duration": 138,
    "start_time": "2024-10-19T11:04:05.847Z"
   },
   {
    "duration": 236,
    "start_time": "2024-10-19T11:04:05.987Z"
   },
   {
    "duration": 313,
    "start_time": "2024-10-19T11:04:06.225Z"
   },
   {
    "duration": 177,
    "start_time": "2024-10-19T11:04:06.539Z"
   },
   {
    "duration": 362,
    "start_time": "2024-10-19T11:04:06.717Z"
   },
   {
    "duration": 17,
    "start_time": "2024-10-19T11:04:07.080Z"
   },
   {
    "duration": 26,
    "start_time": "2024-10-19T11:04:07.099Z"
   },
   {
    "duration": 143,
    "start_time": "2024-10-19T11:04:07.127Z"
   },
   {
    "duration": 167,
    "start_time": "2024-10-19T11:04:07.271Z"
   },
   {
    "duration": 309,
    "start_time": "2024-10-19T11:04:07.440Z"
   },
   {
    "duration": 15,
    "start_time": "2024-10-19T11:04:07.756Z"
   },
   {
    "duration": 23,
    "start_time": "2024-10-19T11:04:07.773Z"
   },
   {
    "duration": 149,
    "start_time": "2024-10-19T11:04:07.797Z"
   },
   {
    "duration": 167,
    "start_time": "2024-10-19T11:04:07.948Z"
   },
   {
    "duration": 307,
    "start_time": "2024-10-19T11:04:08.116Z"
   },
   {
    "duration": 15,
    "start_time": "2024-10-19T11:04:08.424Z"
   },
   {
    "duration": 35,
    "start_time": "2024-10-19T11:04:08.440Z"
   },
   {
    "duration": 57,
    "start_time": "2024-10-19T11:04:08.476Z"
   },
   {
    "duration": 1225,
    "start_time": "2024-10-19T11:05:40.308Z"
   },
   {
    "duration": 722,
    "start_time": "2024-10-19T11:05:41.535Z"
   },
   {
    "duration": 15,
    "start_time": "2024-10-19T11:05:42.258Z"
   },
   {
    "duration": 129,
    "start_time": "2024-10-19T11:05:42.275Z"
   },
   {
    "duration": 2,
    "start_time": "2024-10-19T11:05:42.405Z"
   },
   {
    "duration": 60,
    "start_time": "2024-10-19T11:05:42.409Z"
   },
   {
    "duration": 270,
    "start_time": "2024-10-19T11:05:42.470Z"
   },
   {
    "duration": 74,
    "start_time": "2024-10-19T11:05:42.741Z"
   },
   {
    "duration": 84,
    "start_time": "2024-10-19T11:05:42.816Z"
   },
   {
    "duration": 248,
    "start_time": "2024-10-19T11:05:42.903Z"
   },
   {
    "duration": 329,
    "start_time": "2024-10-19T11:05:43.152Z"
   },
   {
    "duration": 170,
    "start_time": "2024-10-19T11:05:43.482Z"
   },
   {
    "duration": 366,
    "start_time": "2024-10-19T11:05:43.653Z"
   },
   {
    "duration": 16,
    "start_time": "2024-10-19T11:05:44.020Z"
   },
   {
    "duration": 36,
    "start_time": "2024-10-19T11:05:44.037Z"
   },
   {
    "duration": 128,
    "start_time": "2024-10-19T11:05:44.074Z"
   },
   {
    "duration": 175,
    "start_time": "2024-10-19T11:05:44.204Z"
   },
   {
    "duration": 321,
    "start_time": "2024-10-19T11:05:44.381Z"
   },
   {
    "duration": 14,
    "start_time": "2024-10-19T11:05:44.704Z"
   },
   {
    "duration": 82,
    "start_time": "2024-10-19T11:05:44.720Z"
   },
   {
    "duration": 134,
    "start_time": "2024-10-19T11:05:44.803Z"
   },
   {
    "duration": 173,
    "start_time": "2024-10-19T11:05:44.938Z"
   },
   {
    "duration": 311,
    "start_time": "2024-10-19T11:05:45.113Z"
   },
   {
    "duration": 14,
    "start_time": "2024-10-19T11:05:45.425Z"
   },
   {
    "duration": 34,
    "start_time": "2024-10-19T11:05:45.441Z"
   },
   {
    "duration": 61,
    "start_time": "2024-10-19T11:05:45.477Z"
   },
   {
    "duration": 14,
    "start_time": "2024-10-19T11:06:37.193Z"
   },
   {
    "duration": 2316,
    "start_time": "2024-10-19T11:09:22.701Z"
   },
   {
    "duration": 2484,
    "start_time": "2024-10-19T11:10:33.840Z"
   },
   {
    "duration": 153,
    "start_time": "2024-10-19T11:12:27.556Z"
   },
   {
    "duration": 152,
    "start_time": "2024-10-19T11:12:31.690Z"
   },
   {
    "duration": 193,
    "start_time": "2024-10-19T11:12:45.147Z"
   },
   {
    "duration": 132,
    "start_time": "2024-10-19T11:12:52.635Z"
   },
   {
    "duration": 186,
    "start_time": "2024-10-19T11:12:58.435Z"
   },
   {
    "duration": 139,
    "start_time": "2024-10-19T11:13:07.620Z"
   },
   {
    "duration": 137,
    "start_time": "2024-10-19T11:13:21.756Z"
   },
   {
    "duration": 308,
    "start_time": "2024-10-19T11:14:04.789Z"
   },
   {
    "duration": 14,
    "start_time": "2024-10-19T11:14:26.190Z"
   },
   {
    "duration": 13,
    "start_time": "2024-10-19T11:14:32.325Z"
   },
   {
    "duration": 125,
    "start_time": "2024-10-19T11:17:52.538Z"
   },
   {
    "duration": 119,
    "start_time": "2024-10-19T11:20:23.926Z"
   },
   {
    "duration": 278,
    "start_time": "2024-10-19T11:23:03.242Z"
   },
   {
    "duration": 259,
    "start_time": "2024-10-19T11:23:11.874Z"
   },
   {
    "duration": 348,
    "start_time": "2024-10-19T11:23:47.916Z"
   },
   {
    "duration": 86,
    "start_time": "2024-10-19T11:26:29.584Z"
   },
   {
    "duration": 58,
    "start_time": "2024-10-19T13:19:00.216Z"
   },
   {
    "duration": 3319,
    "start_time": "2024-10-19T13:21:49.808Z"
   },
   {
    "duration": 1316,
    "start_time": "2024-10-19T13:21:53.130Z"
   },
   {
    "duration": 710,
    "start_time": "2024-10-19T13:21:54.448Z"
   },
   {
    "duration": 16,
    "start_time": "2024-10-19T13:21:55.159Z"
   },
   {
    "duration": 122,
    "start_time": "2024-10-19T13:21:55.176Z"
   },
   {
    "duration": 3,
    "start_time": "2024-10-19T13:21:55.299Z"
   },
   {
    "duration": 55,
    "start_time": "2024-10-19T13:21:55.303Z"
   },
   {
    "duration": 271,
    "start_time": "2024-10-19T13:21:55.360Z"
   },
   {
    "duration": 71,
    "start_time": "2024-10-19T13:21:55.633Z"
   },
   {
    "duration": 80,
    "start_time": "2024-10-19T13:21:55.705Z"
   },
   {
    "duration": 252,
    "start_time": "2024-10-19T13:21:55.786Z"
   },
   {
    "duration": 321,
    "start_time": "2024-10-19T13:21:56.040Z"
   },
   {
    "duration": 183,
    "start_time": "2024-10-19T13:21:56.363Z"
   },
   {
    "duration": 360,
    "start_time": "2024-10-19T13:21:56.549Z"
   },
   {
    "duration": 16,
    "start_time": "2024-10-19T13:21:56.910Z"
   },
   {
    "duration": 36,
    "start_time": "2024-10-19T13:21:56.928Z"
   },
   {
    "duration": 128,
    "start_time": "2024-10-19T13:21:56.965Z"
   },
   {
    "duration": 214,
    "start_time": "2024-10-19T13:21:57.095Z"
   },
   {
    "duration": 322,
    "start_time": "2024-10-19T13:21:57.310Z"
   },
   {
    "duration": 15,
    "start_time": "2024-10-19T13:21:57.634Z"
   },
   {
    "duration": 25,
    "start_time": "2024-10-19T13:21:57.662Z"
   },
   {
    "duration": 92,
    "start_time": "2024-10-19T13:21:57.688Z"
   },
   {
    "duration": 173,
    "start_time": "2024-10-19T13:21:57.781Z"
   },
   {
    "duration": 275,
    "start_time": "2024-10-19T13:21:57.955Z"
   },
   {
    "duration": 14,
    "start_time": "2024-10-19T13:21:58.232Z"
   },
   {
    "duration": 23,
    "start_time": "2024-10-19T13:21:58.257Z"
   },
   {
    "duration": 169,
    "start_time": "2024-10-19T13:21:58.282Z"
   },
   {
    "duration": 313,
    "start_time": "2024-10-19T13:21:58.452Z"
   },
   {
    "duration": 12,
    "start_time": "2024-10-19T13:21:58.766Z"
   },
   {
    "duration": 134,
    "start_time": "2024-10-19T13:21:58.780Z"
   },
   {
    "duration": 124,
    "start_time": "2024-10-19T13:21:58.916Z"
   },
   {
    "duration": 272,
    "start_time": "2024-10-19T13:21:59.042Z"
   },
   {
    "duration": 155,
    "start_time": "2024-10-19T13:21:59.315Z"
   },
   {
    "duration": 57,
    "start_time": "2024-10-19T13:21:59.471Z"
   },
   {
    "duration": 116,
    "start_time": "2024-10-19T13:21:59.529Z"
   },
   {
    "duration": 12,
    "start_time": "2024-10-19T13:22:24.038Z"
   },
   {
    "duration": 2492,
    "start_time": "2024-10-19T13:23:16.047Z"
   },
   {
    "duration": 1288,
    "start_time": "2024-10-19T13:23:18.541Z"
   },
   {
    "duration": 716,
    "start_time": "2024-10-19T13:23:19.830Z"
   },
   {
    "duration": 17,
    "start_time": "2024-10-19T13:23:20.548Z"
   },
   {
    "duration": 105,
    "start_time": "2024-10-19T13:23:20.566Z"
   },
   {
    "duration": 2,
    "start_time": "2024-10-19T13:23:20.672Z"
   },
   {
    "duration": 54,
    "start_time": "2024-10-19T13:23:20.676Z"
   },
   {
    "duration": 266,
    "start_time": "2024-10-19T13:23:20.732Z"
   },
   {
    "duration": 73,
    "start_time": "2024-10-19T13:23:20.999Z"
   },
   {
    "duration": 82,
    "start_time": "2024-10-19T13:23:21.075Z"
   },
   {
    "duration": 241,
    "start_time": "2024-10-19T13:23:21.159Z"
   },
   {
    "duration": 263,
    "start_time": "2024-10-19T13:23:21.401Z"
   },
   {
    "duration": 187,
    "start_time": "2024-10-19T13:23:21.665Z"
   },
   {
    "duration": 383,
    "start_time": "2024-10-19T13:23:21.853Z"
   },
   {
    "duration": 22,
    "start_time": "2024-10-19T13:23:22.238Z"
   },
   {
    "duration": 27,
    "start_time": "2024-10-19T13:23:22.261Z"
   },
   {
    "duration": 138,
    "start_time": "2024-10-19T13:23:22.289Z"
   },
   {
    "duration": 204,
    "start_time": "2024-10-19T13:23:22.428Z"
   },
   {
    "duration": 311,
    "start_time": "2024-10-19T13:23:22.634Z"
   },
   {
    "duration": 21,
    "start_time": "2024-10-19T13:23:22.946Z"
   },
   {
    "duration": 23,
    "start_time": "2024-10-19T13:23:22.968Z"
   },
   {
    "duration": 103,
    "start_time": "2024-10-19T13:23:22.992Z"
   },
   {
    "duration": 170,
    "start_time": "2024-10-19T13:23:23.096Z"
   },
   {
    "duration": 283,
    "start_time": "2024-10-19T13:23:23.267Z"
   },
   {
    "duration": 18,
    "start_time": "2024-10-19T13:23:23.552Z"
   },
   {
    "duration": 22,
    "start_time": "2024-10-19T13:23:23.571Z"
   },
   {
    "duration": 153,
    "start_time": "2024-10-19T13:23:23.594Z"
   },
   {
    "duration": 316,
    "start_time": "2024-10-19T13:23:23.750Z"
   },
   {
    "duration": 11,
    "start_time": "2024-10-19T13:23:24.068Z"
   },
   {
    "duration": 137,
    "start_time": "2024-10-19T13:23:24.080Z"
   },
   {
    "duration": 125,
    "start_time": "2024-10-19T13:23:24.218Z"
   },
   {
    "duration": 272,
    "start_time": "2024-10-19T13:23:24.344Z"
   },
   {
    "duration": 154,
    "start_time": "2024-10-19T13:23:24.617Z"
   },
   {
    "duration": 2466,
    "start_time": "2024-10-19T13:25:29.531Z"
   },
   {
    "duration": 1227,
    "start_time": "2024-10-19T13:25:31.999Z"
   },
   {
    "duration": 695,
    "start_time": "2024-10-19T13:25:33.227Z"
   },
   {
    "duration": 15,
    "start_time": "2024-10-19T13:25:33.923Z"
   },
   {
    "duration": 122,
    "start_time": "2024-10-19T13:25:33.939Z"
   },
   {
    "duration": 3,
    "start_time": "2024-10-19T13:25:34.063Z"
   },
   {
    "duration": 68,
    "start_time": "2024-10-19T13:25:34.067Z"
   },
   {
    "duration": 305,
    "start_time": "2024-10-19T13:25:34.136Z"
   },
   {
    "duration": 65,
    "start_time": "2024-10-19T13:25:34.443Z"
   },
   {
    "duration": 133,
    "start_time": "2024-10-19T13:25:34.510Z"
   },
   {
    "duration": 227,
    "start_time": "2024-10-19T13:25:34.644Z"
   },
   {
    "duration": 310,
    "start_time": "2024-10-19T13:25:34.872Z"
   },
   {
    "duration": 179,
    "start_time": "2024-10-19T13:25:35.183Z"
   },
   {
    "duration": 357,
    "start_time": "2024-10-19T13:25:35.363Z"
   },
   {
    "duration": 15,
    "start_time": "2024-10-19T13:25:35.722Z"
   },
   {
    "duration": 37,
    "start_time": "2024-10-19T13:25:35.738Z"
   },
   {
    "duration": 124,
    "start_time": "2024-10-19T13:25:35.776Z"
   },
   {
    "duration": 203,
    "start_time": "2024-10-19T13:25:35.901Z"
   },
   {
    "duration": 331,
    "start_time": "2024-10-19T13:25:36.105Z"
   },
   {
    "duration": 21,
    "start_time": "2024-10-19T13:25:36.437Z"
   },
   {
    "duration": 23,
    "start_time": "2024-10-19T13:25:36.459Z"
   },
   {
    "duration": 141,
    "start_time": "2024-10-19T13:25:36.484Z"
   },
   {
    "duration": 170,
    "start_time": "2024-10-19T13:25:36.627Z"
   },
   {
    "duration": 274,
    "start_time": "2024-10-19T13:25:36.799Z"
   },
   {
    "duration": 14,
    "start_time": "2024-10-19T13:25:37.075Z"
   },
   {
    "duration": 42,
    "start_time": "2024-10-19T13:25:37.091Z"
   },
   {
    "duration": 147,
    "start_time": "2024-10-19T13:25:37.135Z"
   },
   {
    "duration": 320,
    "start_time": "2024-10-19T13:25:37.286Z"
   },
   {
    "duration": 12,
    "start_time": "2024-10-19T13:25:37.608Z"
   },
   {
    "duration": 133,
    "start_time": "2024-10-19T13:25:37.621Z"
   },
   {
    "duration": 116,
    "start_time": "2024-10-19T13:25:37.756Z"
   },
   {
    "duration": 255,
    "start_time": "2024-10-19T13:25:37.873Z"
   },
   {
    "duration": 151,
    "start_time": "2024-10-19T13:25:38.129Z"
   },
   {
    "duration": 4802,
    "start_time": "2024-10-19T13:25:38.281Z"
   },
   {
    "duration": 43,
    "start_time": "2024-10-19T13:40:03.424Z"
   },
   {
    "duration": 2444,
    "start_time": "2024-10-19T13:40:20.398Z"
   },
   {
    "duration": 1321,
    "start_time": "2024-10-19T13:40:22.843Z"
   },
   {
    "duration": 2739,
    "start_time": "2024-10-19T13:40:24.165Z"
   },
   {
    "duration": 16,
    "start_time": "2024-10-19T13:40:26.905Z"
   },
   {
    "duration": 105,
    "start_time": "2024-10-19T13:40:26.922Z"
   },
   {
    "duration": 3,
    "start_time": "2024-10-19T13:40:27.029Z"
   },
   {
    "duration": 55,
    "start_time": "2024-10-19T13:40:27.033Z"
   },
   {
    "duration": 254,
    "start_time": "2024-10-19T13:40:27.090Z"
   },
   {
    "duration": 65,
    "start_time": "2024-10-19T13:40:27.346Z"
   },
   {
    "duration": 76,
    "start_time": "2024-10-19T13:40:27.413Z"
   },
   {
    "duration": 234,
    "start_time": "2024-10-19T13:40:27.491Z"
   },
   {
    "duration": 301,
    "start_time": "2024-10-19T13:40:27.726Z"
   },
   {
    "duration": 175,
    "start_time": "2024-10-19T13:40:28.028Z"
   },
   {
    "duration": 387,
    "start_time": "2024-10-19T13:40:28.204Z"
   },
   {
    "duration": 16,
    "start_time": "2024-10-19T13:40:28.592Z"
   },
   {
    "duration": 25,
    "start_time": "2024-10-19T13:40:28.610Z"
   },
   {
    "duration": 138,
    "start_time": "2024-10-19T13:40:28.637Z"
   },
   {
    "duration": 202,
    "start_time": "2024-10-19T13:40:28.776Z"
   },
   {
    "duration": 308,
    "start_time": "2024-10-19T13:40:28.980Z"
   },
   {
    "duration": 14,
    "start_time": "2024-10-19T13:40:29.289Z"
   },
   {
    "duration": 77,
    "start_time": "2024-10-19T13:40:29.304Z"
   },
   {
    "duration": 91,
    "start_time": "2024-10-19T13:40:29.382Z"
   },
   {
    "duration": 164,
    "start_time": "2024-10-19T13:40:29.474Z"
   },
   {
    "duration": 270,
    "start_time": "2024-10-19T13:40:29.640Z"
   },
   {
    "duration": 13,
    "start_time": "2024-10-19T13:40:29.911Z"
   },
   {
    "duration": 32,
    "start_time": "2024-10-19T13:40:29.925Z"
   },
   {
    "duration": 153,
    "start_time": "2024-10-19T13:40:29.959Z"
   },
   {
    "duration": 318,
    "start_time": "2024-10-19T13:40:30.115Z"
   },
   {
    "duration": 11,
    "start_time": "2024-10-19T13:40:30.434Z"
   },
   {
    "duration": 151,
    "start_time": "2024-10-19T13:40:30.446Z"
   },
   {
    "duration": 121,
    "start_time": "2024-10-19T13:40:30.598Z"
   },
   {
    "duration": 261,
    "start_time": "2024-10-19T13:40:30.720Z"
   },
   {
    "duration": 150,
    "start_time": "2024-10-19T13:40:30.983Z"
   },
   {
    "duration": 2504,
    "start_time": "2024-10-19T13:42:23.078Z"
   },
   {
    "duration": 1264,
    "start_time": "2024-10-19T13:42:25.584Z"
   },
   {
    "duration": 697,
    "start_time": "2024-10-19T13:42:26.849Z"
   },
   {
    "duration": 17,
    "start_time": "2024-10-19T13:42:27.548Z"
   },
   {
    "duration": 117,
    "start_time": "2024-10-19T13:42:27.567Z"
   },
   {
    "duration": 3,
    "start_time": "2024-10-19T13:42:27.685Z"
   },
   {
    "duration": 49,
    "start_time": "2024-10-19T13:42:27.689Z"
   },
   {
    "duration": 274,
    "start_time": "2024-10-19T13:42:27.739Z"
   },
   {
    "duration": 68,
    "start_time": "2024-10-19T13:42:28.014Z"
   },
   {
    "duration": 81,
    "start_time": "2024-10-19T13:42:28.085Z"
   },
   {
    "duration": 279,
    "start_time": "2024-10-19T13:42:28.167Z"
   },
   {
    "duration": 314,
    "start_time": "2024-10-19T13:42:28.447Z"
   },
   {
    "duration": 189,
    "start_time": "2024-10-19T13:42:28.763Z"
   },
   {
    "duration": 351,
    "start_time": "2024-10-19T13:42:28.953Z"
   },
   {
    "duration": 16,
    "start_time": "2024-10-19T13:42:29.305Z"
   },
   {
    "duration": 77,
    "start_time": "2024-10-19T13:42:29.322Z"
   },
   {
    "duration": 125,
    "start_time": "2024-10-19T13:42:29.400Z"
   },
   {
    "duration": 201,
    "start_time": "2024-10-19T13:42:29.526Z"
   },
   {
    "duration": 327,
    "start_time": "2024-10-19T13:42:29.728Z"
   },
   {
    "duration": 16,
    "start_time": "2024-10-19T13:42:30.057Z"
   },
   {
    "duration": 51,
    "start_time": "2024-10-19T13:42:30.074Z"
   },
   {
    "duration": 162,
    "start_time": "2024-10-19T13:42:30.127Z"
   },
   {
    "duration": 169,
    "start_time": "2024-10-19T13:42:30.290Z"
   },
   {
    "duration": 280,
    "start_time": "2024-10-19T13:42:30.461Z"
   },
   {
    "duration": 20,
    "start_time": "2024-10-19T13:42:30.743Z"
   },
   {
    "duration": 23,
    "start_time": "2024-10-19T13:42:30.765Z"
   },
   {
    "duration": 158,
    "start_time": "2024-10-19T13:42:30.790Z"
   },
   {
    "duration": 321,
    "start_time": "2024-10-19T13:42:30.950Z"
   },
   {
    "duration": 11,
    "start_time": "2024-10-19T13:42:31.272Z"
   },
   {
    "duration": 218,
    "start_time": "2024-10-19T13:42:31.285Z"
   },
   {
    "duration": 123,
    "start_time": "2024-10-19T13:42:31.504Z"
   },
   {
    "duration": 271,
    "start_time": "2024-10-19T13:42:31.628Z"
   },
   {
    "duration": 152,
    "start_time": "2024-10-19T13:42:31.901Z"
   },
   {
    "duration": 7755,
    "start_time": "2024-10-19T13:42:32.057Z"
   },
   {
    "duration": 4334,
    "start_time": "2024-10-19T13:43:31.989Z"
   },
   {
    "duration": 7828,
    "start_time": "2024-10-19T13:44:04.396Z"
   },
   {
    "duration": 96,
    "start_time": "2024-10-19T14:20:26.554Z"
   },
   {
    "duration": 14,
    "start_time": "2024-10-19T14:20:46.859Z"
   },
   {
    "duration": 6285,
    "start_time": "2024-10-19T14:21:02.202Z"
   },
   {
    "duration": 3169,
    "start_time": "2024-10-19T14:21:57.020Z"
   },
   {
    "duration": 2462,
    "start_time": "2024-10-19T14:24:46.949Z"
   },
   {
    "duration": 1337,
    "start_time": "2024-10-19T14:24:49.413Z"
   },
   {
    "duration": 710,
    "start_time": "2024-10-19T14:24:50.754Z"
   },
   {
    "duration": 16,
    "start_time": "2024-10-19T14:24:51.465Z"
   },
   {
    "duration": 136,
    "start_time": "2024-10-19T14:24:51.482Z"
   },
   {
    "duration": 3,
    "start_time": "2024-10-19T14:24:51.619Z"
   },
   {
    "duration": 68,
    "start_time": "2024-10-19T14:24:51.623Z"
   },
   {
    "duration": 250,
    "start_time": "2024-10-19T14:24:51.693Z"
   },
   {
    "duration": 71,
    "start_time": "2024-10-19T14:24:51.945Z"
   },
   {
    "duration": 86,
    "start_time": "2024-10-19T14:24:52.017Z"
   },
   {
    "duration": 250,
    "start_time": "2024-10-19T14:24:52.104Z"
   },
   {
    "duration": 312,
    "start_time": "2024-10-19T14:24:52.356Z"
   },
   {
    "duration": 170,
    "start_time": "2024-10-19T14:24:52.669Z"
   },
   {
    "duration": 374,
    "start_time": "2024-10-19T14:24:52.841Z"
   },
   {
    "duration": 16,
    "start_time": "2024-10-19T14:24:53.217Z"
   },
   {
    "duration": 36,
    "start_time": "2024-10-19T14:24:53.243Z"
   },
   {
    "duration": 136,
    "start_time": "2024-10-19T14:24:53.281Z"
   },
   {
    "duration": 225,
    "start_time": "2024-10-19T14:24:53.418Z"
   },
   {
    "duration": 321,
    "start_time": "2024-10-19T14:24:53.645Z"
   },
   {
    "duration": 14,
    "start_time": "2024-10-19T14:24:53.968Z"
   },
   {
    "duration": 23,
    "start_time": "2024-10-19T14:24:53.983Z"
   },
   {
    "duration": 106,
    "start_time": "2024-10-19T14:24:54.008Z"
   },
   {
    "duration": 166,
    "start_time": "2024-10-19T14:24:54.116Z"
   },
   {
    "duration": 289,
    "start_time": "2024-10-19T14:24:54.284Z"
   },
   {
    "duration": 14,
    "start_time": "2024-10-19T14:24:54.574Z"
   },
   {
    "duration": 30,
    "start_time": "2024-10-19T14:24:54.589Z"
   },
   {
    "duration": 141,
    "start_time": "2024-10-19T14:24:54.622Z"
   },
   {
    "duration": 311,
    "start_time": "2024-10-19T14:24:54.765Z"
   },
   {
    "duration": 11,
    "start_time": "2024-10-19T14:24:55.078Z"
   },
   {
    "duration": 133,
    "start_time": "2024-10-19T14:24:55.090Z"
   },
   {
    "duration": 123,
    "start_time": "2024-10-19T14:24:55.224Z"
   },
   {
    "duration": 283,
    "start_time": "2024-10-19T14:24:55.348Z"
   },
   {
    "duration": 159,
    "start_time": "2024-10-19T14:24:55.632Z"
   },
   {
    "duration": 106,
    "start_time": "2024-10-19T14:24:55.792Z"
   },
   {
    "duration": 0,
    "start_time": "2024-10-19T14:24:55.899Z"
   },
   {
    "duration": 0,
    "start_time": "2024-10-19T14:24:55.900Z"
   },
   {
    "duration": 7669,
    "start_time": "2024-10-19T14:25:28.186Z"
   },
   {
    "duration": 4341,
    "start_time": "2024-10-19T14:26:04.875Z"
   },
   {
    "duration": 7890,
    "start_time": "2024-10-19T14:28:27.278Z"
   },
   {
    "duration": 12,
    "start_time": "2024-10-19T14:28:56.165Z"
   },
   {
    "duration": 3277,
    "start_time": "2024-10-19T14:28:56.518Z"
   },
   {
    "duration": 6279,
    "start_time": "2024-10-19T14:29:20.392Z"
   },
   {
    "duration": 14,
    "start_time": "2024-10-19T14:29:45.663Z"
   },
   {
    "duration": 2556,
    "start_time": "2024-10-19T14:29:52.270Z"
   },
   {
    "duration": 1283,
    "start_time": "2024-10-19T14:29:54.828Z"
   },
   {
    "duration": 698,
    "start_time": "2024-10-19T14:29:56.113Z"
   },
   {
    "duration": 16,
    "start_time": "2024-10-19T14:29:56.813Z"
   },
   {
    "duration": 109,
    "start_time": "2024-10-19T14:29:56.830Z"
   },
   {
    "duration": 2,
    "start_time": "2024-10-19T14:29:56.941Z"
   },
   {
    "duration": 58,
    "start_time": "2024-10-19T14:29:56.944Z"
   },
   {
    "duration": 261,
    "start_time": "2024-10-19T14:29:57.004Z"
   },
   {
    "duration": 91,
    "start_time": "2024-10-19T14:29:57.266Z"
   },
   {
    "duration": 86,
    "start_time": "2024-10-19T14:29:57.359Z"
   },
   {
    "duration": 246,
    "start_time": "2024-10-19T14:29:57.446Z"
   },
   {
    "duration": 303,
    "start_time": "2024-10-19T14:29:57.693Z"
   },
   {
    "duration": 173,
    "start_time": "2024-10-19T14:29:57.997Z"
   },
   {
    "duration": 374,
    "start_time": "2024-10-19T14:29:58.172Z"
   },
   {
    "duration": 17,
    "start_time": "2024-10-19T14:29:58.547Z"
   },
   {
    "duration": 62,
    "start_time": "2024-10-19T14:29:58.565Z"
   },
   {
    "duration": 121,
    "start_time": "2024-10-19T14:29:58.629Z"
   },
   {
    "duration": 195,
    "start_time": "2024-10-19T14:29:58.757Z"
   },
   {
    "duration": 317,
    "start_time": "2024-10-19T14:29:58.953Z"
   },
   {
    "duration": 14,
    "start_time": "2024-10-19T14:29:59.271Z"
   },
   {
    "duration": 24,
    "start_time": "2024-10-19T14:29:59.286Z"
   },
   {
    "duration": 101,
    "start_time": "2024-10-19T14:29:59.311Z"
   },
   {
    "duration": 177,
    "start_time": "2024-10-19T14:29:59.413Z"
   },
   {
    "duration": 288,
    "start_time": "2024-10-19T14:29:59.591Z"
   },
   {
    "duration": 15,
    "start_time": "2024-10-19T14:29:59.880Z"
   },
   {
    "duration": 23,
    "start_time": "2024-10-19T14:29:59.896Z"
   },
   {
    "duration": 165,
    "start_time": "2024-10-19T14:29:59.920Z"
   },
   {
    "duration": 334,
    "start_time": "2024-10-19T14:30:00.087Z"
   },
   {
    "duration": 12,
    "start_time": "2024-10-19T14:30:00.422Z"
   },
   {
    "duration": 155,
    "start_time": "2024-10-19T14:30:00.436Z"
   },
   {
    "duration": 120,
    "start_time": "2024-10-19T14:30:00.592Z"
   },
   {
    "duration": 268,
    "start_time": "2024-10-19T14:30:00.713Z"
   },
   {
    "duration": 157,
    "start_time": "2024-10-19T14:30:00.982Z"
   },
   {
    "duration": 7668,
    "start_time": "2024-10-19T14:30:01.140Z"
   },
   {
    "duration": 13,
    "start_time": "2024-10-19T14:30:08.809Z"
   },
   {
    "duration": 112,
    "start_time": "2024-10-19T14:30:08.823Z"
   },
   {
    "duration": 2546,
    "start_time": "2024-10-19T14:30:17.730Z"
   },
   {
    "duration": 2,
    "start_time": "2024-10-19T14:43:28.773Z"
   },
   {
    "duration": 4,
    "start_time": "2024-10-19T14:43:29.213Z"
   },
   {
    "duration": 16,
    "start_time": "2024-10-19T14:43:41.117Z"
   },
   {
    "duration": 25,
    "start_time": "2024-10-19T14:46:13.185Z"
   },
   {
    "duration": 68,
    "start_time": "2024-10-19T17:01:30.507Z"
   },
   {
    "duration": 3,
    "start_time": "2024-10-19T17:01:34.811Z"
   },
   {
    "duration": 9,
    "start_time": "2024-10-19T17:06:19.898Z"
   },
   {
    "duration": 2489,
    "start_time": "2024-10-19T17:07:18.039Z"
   },
   {
    "duration": 1499,
    "start_time": "2024-10-19T17:07:20.530Z"
   },
   {
    "duration": 711,
    "start_time": "2024-10-19T17:07:22.031Z"
   },
   {
    "duration": 18,
    "start_time": "2024-10-19T17:07:22.745Z"
   },
   {
    "duration": 107,
    "start_time": "2024-10-19T17:07:22.764Z"
   },
   {
    "duration": 3,
    "start_time": "2024-10-19T17:07:22.872Z"
   },
   {
    "duration": 69,
    "start_time": "2024-10-19T17:07:22.876Z"
   },
   {
    "duration": 270,
    "start_time": "2024-10-19T17:07:22.947Z"
   },
   {
    "duration": 71,
    "start_time": "2024-10-19T17:07:23.218Z"
   },
   {
    "duration": 89,
    "start_time": "2024-10-19T17:07:23.291Z"
   },
   {
    "duration": 264,
    "start_time": "2024-10-19T17:07:23.381Z"
   },
   {
    "duration": 311,
    "start_time": "2024-10-19T17:07:23.646Z"
   },
   {
    "duration": 171,
    "start_time": "2024-10-19T17:07:23.959Z"
   },
   {
    "duration": 364,
    "start_time": "2024-10-19T17:07:24.132Z"
   },
   {
    "duration": 17,
    "start_time": "2024-10-19T17:07:24.497Z"
   },
   {
    "duration": 32,
    "start_time": "2024-10-19T17:07:24.515Z"
   },
   {
    "duration": 131,
    "start_time": "2024-10-19T17:07:24.549Z"
   },
   {
    "duration": 218,
    "start_time": "2024-10-19T17:07:24.681Z"
   },
   {
    "duration": 327,
    "start_time": "2024-10-19T17:07:24.901Z"
   },
   {
    "duration": 15,
    "start_time": "2024-10-19T17:07:25.230Z"
   },
   {
    "duration": 32,
    "start_time": "2024-10-19T17:07:25.247Z"
   },
   {
    "duration": 106,
    "start_time": "2024-10-19T17:07:25.281Z"
   },
   {
    "duration": 174,
    "start_time": "2024-10-19T17:07:25.389Z"
   },
   {
    "duration": 305,
    "start_time": "2024-10-19T17:07:25.565Z"
   },
   {
    "duration": 16,
    "start_time": "2024-10-19T17:07:25.872Z"
   },
   {
    "duration": 24,
    "start_time": "2024-10-19T17:07:25.889Z"
   },
   {
    "duration": 171,
    "start_time": "2024-10-19T17:07:25.914Z"
   },
   {
    "duration": 323,
    "start_time": "2024-10-19T17:07:26.089Z"
   },
   {
    "duration": 12,
    "start_time": "2024-10-19T17:07:26.414Z"
   },
   {
    "duration": 142,
    "start_time": "2024-10-19T17:07:26.427Z"
   },
   {
    "duration": 118,
    "start_time": "2024-10-19T17:07:26.571Z"
   },
   {
    "duration": 282,
    "start_time": "2024-10-19T17:07:26.691Z"
   },
   {
    "duration": 155,
    "start_time": "2024-10-19T17:07:26.974Z"
   },
   {
    "duration": 7658,
    "start_time": "2024-10-19T17:07:27.131Z"
   },
   {
    "duration": 14,
    "start_time": "2024-10-19T17:07:34.790Z"
   },
   {
    "duration": 2522,
    "start_time": "2024-10-19T17:07:34.805Z"
   },
   {
    "duration": 2,
    "start_time": "2024-10-19T17:07:37.329Z"
   },
   {
    "duration": 21,
    "start_time": "2024-10-19T17:07:37.332Z"
   },
   {
    "duration": 33,
    "start_time": "2024-10-19T17:07:37.354Z"
   },
   {
    "duration": 73,
    "start_time": "2024-10-19T17:07:37.388Z"
   },
   {
    "duration": 184,
    "start_time": "2024-10-19T17:07:37.463Z"
   },
   {
    "duration": 2430,
    "start_time": "2024-10-19T17:08:07.080Z"
   },
   {
    "duration": 1446,
    "start_time": "2024-10-19T17:08:09.512Z"
   },
   {
    "duration": 691,
    "start_time": "2024-10-19T17:08:10.960Z"
   },
   {
    "duration": 16,
    "start_time": "2024-10-19T17:08:11.656Z"
   },
   {
    "duration": 113,
    "start_time": "2024-10-19T17:08:11.673Z"
   },
   {
    "duration": 2,
    "start_time": "2024-10-19T17:08:11.788Z"
   },
   {
    "duration": 50,
    "start_time": "2024-10-19T17:08:11.791Z"
   },
   {
    "duration": 273,
    "start_time": "2024-10-19T17:08:11.842Z"
   },
   {
    "duration": 72,
    "start_time": "2024-10-19T17:08:12.116Z"
   },
   {
    "duration": 105,
    "start_time": "2024-10-19T17:08:12.190Z"
   },
   {
    "duration": 243,
    "start_time": "2024-10-19T17:08:12.297Z"
   },
   {
    "duration": 302,
    "start_time": "2024-10-19T17:08:12.542Z"
   },
   {
    "duration": 174,
    "start_time": "2024-10-19T17:08:12.845Z"
   },
   {
    "duration": 362,
    "start_time": "2024-10-19T17:08:13.021Z"
   },
   {
    "duration": 15,
    "start_time": "2024-10-19T17:08:13.385Z"
   },
   {
    "duration": 25,
    "start_time": "2024-10-19T17:08:13.401Z"
   },
   {
    "duration": 135,
    "start_time": "2024-10-19T17:08:13.428Z"
   },
   {
    "duration": 205,
    "start_time": "2024-10-19T17:08:13.565Z"
   },
   {
    "duration": 314,
    "start_time": "2024-10-19T17:08:13.771Z"
   },
   {
    "duration": 14,
    "start_time": "2024-10-19T17:08:14.086Z"
   },
   {
    "duration": 24,
    "start_time": "2024-10-19T17:08:14.101Z"
   },
   {
    "duration": 102,
    "start_time": "2024-10-19T17:08:14.126Z"
   },
   {
    "duration": 171,
    "start_time": "2024-10-19T17:08:14.229Z"
   },
   {
    "duration": 278,
    "start_time": "2024-10-19T17:08:14.402Z"
   },
   {
    "duration": 14,
    "start_time": "2024-10-19T17:08:14.681Z"
   },
   {
    "duration": 21,
    "start_time": "2024-10-19T17:08:14.696Z"
   },
   {
    "duration": 158,
    "start_time": "2024-10-19T17:08:14.719Z"
   },
   {
    "duration": 317,
    "start_time": "2024-10-19T17:08:14.880Z"
   },
   {
    "duration": 12,
    "start_time": "2024-10-19T17:08:15.198Z"
   },
   {
    "duration": 184,
    "start_time": "2024-10-19T17:08:15.211Z"
   },
   {
    "duration": 119,
    "start_time": "2024-10-19T17:08:15.396Z"
   },
   {
    "duration": 270,
    "start_time": "2024-10-19T17:08:15.517Z"
   },
   {
    "duration": 158,
    "start_time": "2024-10-19T17:08:15.788Z"
   },
   {
    "duration": 7744,
    "start_time": "2024-10-19T17:08:15.947Z"
   },
   {
    "duration": 12,
    "start_time": "2024-10-19T17:08:23.692Z"
   },
   {
    "duration": 2511,
    "start_time": "2024-10-19T17:08:23.706Z"
   },
   {
    "duration": 2,
    "start_time": "2024-10-19T17:08:26.218Z"
   },
   {
    "duration": 45,
    "start_time": "2024-10-19T17:08:26.221Z"
   },
   {
    "duration": 23,
    "start_time": "2024-10-19T17:08:26.267Z"
   },
   {
    "duration": 68,
    "start_time": "2024-10-19T17:08:26.292Z"
   },
   {
    "duration": 231,
    "start_time": "2024-10-19T17:08:26.361Z"
   },
   {
    "duration": 10,
    "start_time": "2024-10-19T17:09:08.580Z"
   },
   {
    "duration": 12,
    "start_time": "2024-10-19T17:09:16.806Z"
   },
   {
    "duration": 2489,
    "start_time": "2024-10-19T17:13:03.653Z"
   },
   {
    "duration": 1314,
    "start_time": "2024-10-19T17:13:06.144Z"
   },
   {
    "duration": 708,
    "start_time": "2024-10-19T17:13:07.460Z"
   },
   {
    "duration": 21,
    "start_time": "2024-10-19T17:13:08.171Z"
   },
   {
    "duration": 121,
    "start_time": "2024-10-19T17:13:08.193Z"
   },
   {
    "duration": 3,
    "start_time": "2024-10-19T17:13:08.316Z"
   },
   {
    "duration": 71,
    "start_time": "2024-10-19T17:13:08.320Z"
   },
   {
    "duration": 287,
    "start_time": "2024-10-19T17:13:08.392Z"
   },
   {
    "duration": 66,
    "start_time": "2024-10-19T17:13:08.680Z"
   },
   {
    "duration": 80,
    "start_time": "2024-10-19T17:13:08.748Z"
   },
   {
    "duration": 240,
    "start_time": "2024-10-19T17:13:08.829Z"
   },
   {
    "duration": 306,
    "start_time": "2024-10-19T17:13:09.071Z"
   },
   {
    "duration": 185,
    "start_time": "2024-10-19T17:13:09.378Z"
   },
   {
    "duration": 357,
    "start_time": "2024-10-19T17:13:09.565Z"
   },
   {
    "duration": 16,
    "start_time": "2024-10-19T17:13:09.923Z"
   },
   {
    "duration": 39,
    "start_time": "2024-10-19T17:13:09.940Z"
   },
   {
    "duration": 139,
    "start_time": "2024-10-19T17:13:09.981Z"
   },
   {
    "duration": 217,
    "start_time": "2024-10-19T17:13:10.121Z"
   },
   {
    "duration": 324,
    "start_time": "2024-10-19T17:13:10.340Z"
   },
   {
    "duration": 16,
    "start_time": "2024-10-19T17:13:10.666Z"
   },
   {
    "duration": 24,
    "start_time": "2024-10-19T17:13:10.684Z"
   },
   {
    "duration": 107,
    "start_time": "2024-10-19T17:13:10.709Z"
   },
   {
    "duration": 168,
    "start_time": "2024-10-19T17:13:10.817Z"
   },
   {
    "duration": 289,
    "start_time": "2024-10-19T17:13:10.987Z"
   },
   {
    "duration": 14,
    "start_time": "2024-10-19T17:13:11.278Z"
   },
   {
    "duration": 23,
    "start_time": "2024-10-19T17:13:11.293Z"
   },
   {
    "duration": 161,
    "start_time": "2024-10-19T17:13:11.318Z"
   },
   {
    "duration": 314,
    "start_time": "2024-10-19T17:13:11.482Z"
   },
   {
    "duration": 11,
    "start_time": "2024-10-19T17:13:11.798Z"
   },
   {
    "duration": 140,
    "start_time": "2024-10-19T17:13:11.810Z"
   },
   {
    "duration": 129,
    "start_time": "2024-10-19T17:13:11.951Z"
   },
   {
    "duration": 280,
    "start_time": "2024-10-19T17:13:12.081Z"
   },
   {
    "duration": 152,
    "start_time": "2024-10-19T17:13:12.363Z"
   },
   {
    "duration": 7850,
    "start_time": "2024-10-19T17:13:12.516Z"
   },
   {
    "duration": 14,
    "start_time": "2024-10-19T17:13:20.367Z"
   },
   {
    "duration": 2567,
    "start_time": "2024-10-19T17:13:20.382Z"
   },
   {
    "duration": 2,
    "start_time": "2024-10-19T17:13:22.950Z"
   },
   {
    "duration": 32,
    "start_time": "2024-10-19T17:13:22.953Z"
   },
   {
    "duration": 36,
    "start_time": "2024-10-19T17:13:22.986Z"
   },
   {
    "duration": 29,
    "start_time": "2024-10-19T17:13:23.023Z"
   },
   {
    "duration": 342,
    "start_time": "2024-10-19T17:13:23.054Z"
   },
   {
    "duration": 11,
    "start_time": "2024-10-19T17:14:03.628Z"
   },
   {
    "duration": 2,
    "start_time": "2024-10-19T20:23:13.505Z"
   },
   {
    "duration": 8,
    "start_time": "2024-10-19T20:24:03.817Z"
   },
   {
    "duration": 2439,
    "start_time": "2024-10-19T20:24:46.452Z"
   },
   {
    "duration": 1283,
    "start_time": "2024-10-19T20:24:48.893Z"
   },
   {
    "duration": 706,
    "start_time": "2024-10-19T20:24:50.178Z"
   },
   {
    "duration": 15,
    "start_time": "2024-10-19T20:24:50.886Z"
   },
   {
    "duration": 180,
    "start_time": "2024-10-19T20:24:50.902Z"
   },
   {
    "duration": 3,
    "start_time": "2024-10-19T20:24:51.083Z"
   },
   {
    "duration": 59,
    "start_time": "2024-10-19T20:24:51.087Z"
   },
   {
    "duration": 248,
    "start_time": "2024-10-19T20:24:51.147Z"
   },
   {
    "duration": 67,
    "start_time": "2024-10-19T20:24:51.396Z"
   },
   {
    "duration": 87,
    "start_time": "2024-10-19T20:24:51.465Z"
   },
   {
    "duration": 234,
    "start_time": "2024-10-19T20:24:51.553Z"
   },
   {
    "duration": 314,
    "start_time": "2024-10-19T20:24:51.788Z"
   },
   {
    "duration": 174,
    "start_time": "2024-10-19T20:24:52.104Z"
   },
   {
    "duration": 351,
    "start_time": "2024-10-19T20:24:52.280Z"
   },
   {
    "duration": 24,
    "start_time": "2024-10-19T20:24:52.633Z"
   },
   {
    "duration": 25,
    "start_time": "2024-10-19T20:24:52.658Z"
   },
   {
    "duration": 132,
    "start_time": "2024-10-19T20:24:52.685Z"
   },
   {
    "duration": 221,
    "start_time": "2024-10-19T20:24:52.818Z"
   },
   {
    "duration": 314,
    "start_time": "2024-10-19T20:24:53.040Z"
   },
   {
    "duration": 14,
    "start_time": "2024-10-19T20:24:53.357Z"
   },
   {
    "duration": 22,
    "start_time": "2024-10-19T20:24:53.373Z"
   },
   {
    "duration": 99,
    "start_time": "2024-10-19T20:24:53.396Z"
   },
   {
    "duration": 163,
    "start_time": "2024-10-19T20:24:53.496Z"
   },
   {
    "duration": 276,
    "start_time": "2024-10-19T20:24:53.660Z"
   },
   {
    "duration": 20,
    "start_time": "2024-10-19T20:24:53.937Z"
   },
   {
    "duration": 25,
    "start_time": "2024-10-19T20:24:53.958Z"
   },
   {
    "duration": 158,
    "start_time": "2024-10-19T20:24:53.984Z"
   },
   {
    "duration": 318,
    "start_time": "2024-10-19T20:24:54.144Z"
   },
   {
    "duration": 11,
    "start_time": "2024-10-19T20:24:54.463Z"
   },
   {
    "duration": 134,
    "start_time": "2024-10-19T20:24:54.475Z"
   },
   {
    "duration": 121,
    "start_time": "2024-10-19T20:24:54.611Z"
   },
   {
    "duration": 268,
    "start_time": "2024-10-19T20:24:54.733Z"
   },
   {
    "duration": 194,
    "start_time": "2024-10-19T20:24:55.002Z"
   },
   {
    "duration": 7641,
    "start_time": "2024-10-19T20:24:55.197Z"
   },
   {
    "duration": 19,
    "start_time": "2024-10-19T20:25:02.839Z"
   },
   {
    "duration": 2545,
    "start_time": "2024-10-19T20:25:02.859Z"
   },
   {
    "duration": 3,
    "start_time": "2024-10-19T20:25:05.405Z"
   },
   {
    "duration": 13,
    "start_time": "2024-10-19T20:25:05.409Z"
   },
   {
    "duration": 25,
    "start_time": "2024-10-19T20:25:05.424Z"
   },
   {
    "duration": 108,
    "start_time": "2024-10-19T20:25:05.451Z"
   },
   {
    "duration": 3,
    "start_time": "2024-10-19T20:25:05.561Z"
   },
   {
    "duration": 131,
    "start_time": "2024-10-19T20:25:05.565Z"
   },
   {
    "duration": 97,
    "start_time": "2024-10-19T20:26:13.571Z"
   },
   {
    "duration": 2442,
    "start_time": "2024-10-19T20:26:51.832Z"
   },
   {
    "duration": 1286,
    "start_time": "2024-10-19T20:26:54.276Z"
   },
   {
    "duration": 691,
    "start_time": "2024-10-19T20:26:55.563Z"
   },
   {
    "duration": 17,
    "start_time": "2024-10-19T20:26:56.256Z"
   },
   {
    "duration": 118,
    "start_time": "2024-10-19T20:26:56.274Z"
   },
   {
    "duration": 2,
    "start_time": "2024-10-19T20:26:56.394Z"
   },
   {
    "duration": 50,
    "start_time": "2024-10-19T20:26:56.397Z"
   },
   {
    "duration": 264,
    "start_time": "2024-10-19T20:26:56.448Z"
   },
   {
    "duration": 74,
    "start_time": "2024-10-19T20:26:56.714Z"
   },
   {
    "duration": 89,
    "start_time": "2024-10-19T20:26:56.791Z"
   },
   {
    "duration": 249,
    "start_time": "2024-10-19T20:26:56.882Z"
   },
   {
    "duration": 310,
    "start_time": "2024-10-19T20:26:57.133Z"
   },
   {
    "duration": 168,
    "start_time": "2024-10-19T20:26:57.444Z"
   },
   {
    "duration": 355,
    "start_time": "2024-10-19T20:26:57.614Z"
   },
   {
    "duration": 17,
    "start_time": "2024-10-19T20:26:57.970Z"
   },
   {
    "duration": 27,
    "start_time": "2024-10-19T20:26:57.989Z"
   },
   {
    "duration": 143,
    "start_time": "2024-10-19T20:26:58.018Z"
   },
   {
    "duration": 209,
    "start_time": "2024-10-19T20:26:58.162Z"
   },
   {
    "duration": 322,
    "start_time": "2024-10-19T20:26:58.373Z"
   },
   {
    "duration": 16,
    "start_time": "2024-10-19T20:26:58.696Z"
   },
   {
    "duration": 23,
    "start_time": "2024-10-19T20:26:58.713Z"
   },
   {
    "duration": 102,
    "start_time": "2024-10-19T20:26:58.737Z"
   },
   {
    "duration": 162,
    "start_time": "2024-10-19T20:26:58.840Z"
   },
   {
    "duration": 283,
    "start_time": "2024-10-19T20:26:59.003Z"
   },
   {
    "duration": 13,
    "start_time": "2024-10-19T20:26:59.288Z"
   },
   {
    "duration": 21,
    "start_time": "2024-10-19T20:26:59.303Z"
   },
   {
    "duration": 154,
    "start_time": "2024-10-19T20:26:59.325Z"
   },
   {
    "duration": 308,
    "start_time": "2024-10-19T20:26:59.482Z"
   },
   {
    "duration": 13,
    "start_time": "2024-10-19T20:26:59.791Z"
   },
   {
    "duration": 134,
    "start_time": "2024-10-19T20:26:59.805Z"
   },
   {
    "duration": 121,
    "start_time": "2024-10-19T20:26:59.940Z"
   },
   {
    "duration": 315,
    "start_time": "2024-10-19T20:27:00.063Z"
   },
   {
    "duration": 155,
    "start_time": "2024-10-19T20:27:00.380Z"
   },
   {
    "duration": 7709,
    "start_time": "2024-10-19T20:27:00.537Z"
   },
   {
    "duration": 14,
    "start_time": "2024-10-19T20:27:08.247Z"
   },
   {
    "duration": 2542,
    "start_time": "2024-10-19T20:27:08.262Z"
   },
   {
    "duration": 2,
    "start_time": "2024-10-19T20:27:10.805Z"
   },
   {
    "duration": 14,
    "start_time": "2024-10-19T20:27:10.808Z"
   },
   {
    "duration": 19,
    "start_time": "2024-10-19T20:27:10.823Z"
   },
   {
    "duration": 28,
    "start_time": "2024-10-19T20:27:10.844Z"
   },
   {
    "duration": 3,
    "start_time": "2024-10-19T20:27:10.873Z"
   },
   {
    "duration": 87,
    "start_time": "2024-10-19T20:27:10.877Z"
   },
   {
    "duration": 93,
    "start_time": "2024-10-19T20:27:10.965Z"
   },
   {
    "duration": 103,
    "start_time": "2024-10-19T20:38:43.998Z"
   },
   {
    "duration": 2605,
    "start_time": "2024-10-19T20:39:37.966Z"
   },
   {
    "duration": 1418,
    "start_time": "2024-10-19T20:39:40.573Z"
   },
   {
    "duration": 739,
    "start_time": "2024-10-19T20:39:41.992Z"
   },
   {
    "duration": 16,
    "start_time": "2024-10-19T20:39:42.733Z"
   },
   {
    "duration": 105,
    "start_time": "2024-10-19T20:39:42.757Z"
   },
   {
    "duration": 2,
    "start_time": "2024-10-19T20:39:42.864Z"
   },
   {
    "duration": 71,
    "start_time": "2024-10-19T20:39:42.868Z"
   },
   {
    "duration": 259,
    "start_time": "2024-10-19T20:39:42.940Z"
   },
   {
    "duration": 71,
    "start_time": "2024-10-19T20:39:43.201Z"
   },
   {
    "duration": 87,
    "start_time": "2024-10-19T20:39:43.274Z"
   },
   {
    "duration": 251,
    "start_time": "2024-10-19T20:39:43.363Z"
   },
   {
    "duration": 331,
    "start_time": "2024-10-19T20:39:43.615Z"
   },
   {
    "duration": 175,
    "start_time": "2024-10-19T20:39:43.947Z"
   },
   {
    "duration": 384,
    "start_time": "2024-10-19T20:39:44.123Z"
   },
   {
    "duration": 16,
    "start_time": "2024-10-19T20:39:44.509Z"
   },
   {
    "duration": 36,
    "start_time": "2024-10-19T20:39:44.527Z"
   },
   {
    "duration": 180,
    "start_time": "2024-10-19T20:39:44.564Z"
   },
   {
    "duration": 162,
    "start_time": "2024-10-19T20:39:44.745Z"
   },
   {
    "duration": 356,
    "start_time": "2024-10-19T20:39:44.909Z"
   },
   {
    "duration": 15,
    "start_time": "2024-10-19T20:39:45.267Z"
   },
   {
    "duration": 36,
    "start_time": "2024-10-19T20:39:45.284Z"
   },
   {
    "duration": 95,
    "start_time": "2024-10-19T20:39:45.321Z"
   },
   {
    "duration": 179,
    "start_time": "2024-10-19T20:39:45.418Z"
   },
   {
    "duration": 293,
    "start_time": "2024-10-19T20:39:45.598Z"
   },
   {
    "duration": 16,
    "start_time": "2024-10-19T20:39:45.892Z"
   },
   {
    "duration": 23,
    "start_time": "2024-10-19T20:39:45.909Z"
   },
   {
    "duration": 177,
    "start_time": "2024-10-19T20:39:45.933Z"
   },
   {
    "duration": 333,
    "start_time": "2024-10-19T20:39:46.113Z"
   },
   {
    "duration": 14,
    "start_time": "2024-10-19T20:39:46.448Z"
   },
   {
    "duration": 134,
    "start_time": "2024-10-19T20:39:46.463Z"
   },
   {
    "duration": 126,
    "start_time": "2024-10-19T20:39:46.599Z"
   },
   {
    "duration": 334,
    "start_time": "2024-10-19T20:39:46.727Z"
   },
   {
    "duration": 96,
    "start_time": "2024-10-19T20:39:47.063Z"
   },
   {
    "duration": 8000,
    "start_time": "2024-10-19T20:39:47.160Z"
   },
   {
    "duration": 13,
    "start_time": "2024-10-19T20:39:55.162Z"
   },
   {
    "duration": 2575,
    "start_time": "2024-10-19T20:39:55.176Z"
   },
   {
    "duration": 5,
    "start_time": "2024-10-19T20:39:57.752Z"
   },
   {
    "duration": 68,
    "start_time": "2024-10-19T20:39:57.758Z"
   },
   {
    "duration": 34,
    "start_time": "2024-10-19T20:39:57.827Z"
   },
   {
    "duration": 29,
    "start_time": "2024-10-19T20:39:57.863Z"
   },
   {
    "duration": 99,
    "start_time": "2024-10-19T20:39:57.959Z"
   },
   {
    "duration": 6,
    "start_time": "2024-10-19T20:39:58.060Z"
   },
   {
    "duration": 22,
    "start_time": "2024-10-19T20:39:58.067Z"
   },
   {
    "duration": 116,
    "start_time": "2024-10-19T20:39:58.091Z"
   },
   {
    "duration": 12,
    "start_time": "2024-10-19T20:40:28.384Z"
   },
   {
    "duration": 9,
    "start_time": "2024-10-19T20:41:04.563Z"
   },
   {
    "duration": 3,
    "start_time": "2024-10-19T20:49:29.382Z"
   },
   {
    "duration": 7,
    "start_time": "2024-10-19T20:49:52.464Z"
   },
   {
    "duration": 2483,
    "start_time": "2024-10-19T20:50:24.957Z"
   },
   {
    "duration": 1362,
    "start_time": "2024-10-19T20:50:27.443Z"
   },
   {
    "duration": 716,
    "start_time": "2024-10-19T20:50:28.806Z"
   },
   {
    "duration": 16,
    "start_time": "2024-10-19T20:50:29.524Z"
   },
   {
    "duration": 118,
    "start_time": "2024-10-19T20:50:29.541Z"
   },
   {
    "duration": 67,
    "start_time": "2024-10-19T20:50:29.661Z"
   },
   {
    "duration": 84,
    "start_time": "2024-10-19T20:50:29.729Z"
   },
   {
    "duration": 261,
    "start_time": "2024-10-19T20:50:29.815Z"
   },
   {
    "duration": 81,
    "start_time": "2024-10-19T20:50:30.077Z"
   },
   {
    "duration": 76,
    "start_time": "2024-10-19T20:50:30.161Z"
   },
   {
    "duration": 265,
    "start_time": "2024-10-19T20:50:30.238Z"
   },
   {
    "duration": 326,
    "start_time": "2024-10-19T20:50:30.505Z"
   },
   {
    "duration": 185,
    "start_time": "2024-10-19T20:50:30.832Z"
   },
   {
    "duration": 368,
    "start_time": "2024-10-19T20:50:31.019Z"
   },
   {
    "duration": 17,
    "start_time": "2024-10-19T20:50:31.388Z"
   },
   {
    "duration": 27,
    "start_time": "2024-10-19T20:50:31.407Z"
   },
   {
    "duration": 188,
    "start_time": "2024-10-19T20:50:31.435Z"
   },
   {
    "duration": 172,
    "start_time": "2024-10-19T20:50:31.624Z"
   },
   {
    "duration": 337,
    "start_time": "2024-10-19T20:50:31.804Z"
   },
   {
    "duration": 20,
    "start_time": "2024-10-19T20:50:32.142Z"
   },
   {
    "duration": 24,
    "start_time": "2024-10-19T20:50:32.163Z"
   },
   {
    "duration": 99,
    "start_time": "2024-10-19T20:50:32.188Z"
   },
   {
    "duration": 181,
    "start_time": "2024-10-19T20:50:32.288Z"
   },
   {
    "duration": 286,
    "start_time": "2024-10-19T20:50:32.471Z"
   },
   {
    "duration": 15,
    "start_time": "2024-10-19T20:50:32.758Z"
   },
   {
    "duration": 24,
    "start_time": "2024-10-19T20:50:32.774Z"
   },
   {
    "duration": 170,
    "start_time": "2024-10-19T20:50:32.799Z"
   },
   {
    "duration": 326,
    "start_time": "2024-10-19T20:50:32.972Z"
   },
   {
    "duration": 12,
    "start_time": "2024-10-19T20:50:33.300Z"
   },
   {
    "duration": 141,
    "start_time": "2024-10-19T20:50:33.313Z"
   },
   {
    "duration": 127,
    "start_time": "2024-10-19T20:50:33.457Z"
   },
   {
    "duration": 346,
    "start_time": "2024-10-19T20:50:33.586Z"
   },
   {
    "duration": 94,
    "start_time": "2024-10-19T20:50:33.933Z"
   },
   {
    "duration": 7980,
    "start_time": "2024-10-19T20:50:34.029Z"
   },
   {
    "duration": 13,
    "start_time": "2024-10-19T20:50:42.011Z"
   },
   {
    "duration": 2593,
    "start_time": "2024-10-19T20:50:42.026Z"
   },
   {
    "duration": 2,
    "start_time": "2024-10-19T20:50:44.620Z"
   },
   {
    "duration": 8,
    "start_time": "2024-10-19T20:50:44.623Z"
   },
   {
    "duration": 25,
    "start_time": "2024-10-19T20:50:44.632Z"
   },
   {
    "duration": 27,
    "start_time": "2024-10-19T20:50:44.658Z"
   },
   {
    "duration": 2,
    "start_time": "2024-10-19T20:50:44.687Z"
   },
   {
    "duration": 168,
    "start_time": "2024-10-19T20:50:44.690Z"
   },
   {
    "duration": 10,
    "start_time": "2024-10-19T20:50:44.859Z"
   },
   {
    "duration": 5,
    "start_time": "2024-10-19T20:50:44.870Z"
   },
   {
    "duration": 113,
    "start_time": "2024-10-19T20:50:44.876Z"
   },
   {
    "duration": 26,
    "start_time": "2024-10-19T20:51:25.730Z"
   },
   {
    "duration": 3,
    "start_time": "2024-10-19T20:51:33.145Z"
   },
   {
    "duration": 30,
    "start_time": "2024-10-19T20:51:48.257Z"
   },
   {
    "duration": 27,
    "start_time": "2024-10-19T20:52:43.115Z"
   },
   {
    "duration": 2563,
    "start_time": "2024-10-19T20:53:15.435Z"
   },
   {
    "duration": 1327,
    "start_time": "2024-10-19T20:53:18.000Z"
   },
   {
    "duration": 717,
    "start_time": "2024-10-19T20:53:19.328Z"
   },
   {
    "duration": 18,
    "start_time": "2024-10-19T20:53:20.047Z"
   },
   {
    "duration": 115,
    "start_time": "2024-10-19T20:53:20.066Z"
   },
   {
    "duration": 3,
    "start_time": "2024-10-19T20:53:20.182Z"
   },
   {
    "duration": 49,
    "start_time": "2024-10-19T20:53:20.187Z"
   },
   {
    "duration": 275,
    "start_time": "2024-10-19T20:53:20.237Z"
   },
   {
    "duration": 81,
    "start_time": "2024-10-19T20:53:20.513Z"
   },
   {
    "duration": 87,
    "start_time": "2024-10-19T20:53:20.596Z"
   },
   {
    "duration": 251,
    "start_time": "2024-10-19T20:53:20.684Z"
   },
   {
    "duration": 321,
    "start_time": "2024-10-19T20:53:20.936Z"
   },
   {
    "duration": 186,
    "start_time": "2024-10-19T20:53:21.258Z"
   },
   {
    "duration": 374,
    "start_time": "2024-10-19T20:53:21.445Z"
   },
   {
    "duration": 15,
    "start_time": "2024-10-19T20:53:21.821Z"
   },
   {
    "duration": 58,
    "start_time": "2024-10-19T20:53:21.837Z"
   },
   {
    "duration": 169,
    "start_time": "2024-10-19T20:53:21.896Z"
   },
   {
    "duration": 160,
    "start_time": "2024-10-19T20:53:22.066Z"
   },
   {
    "duration": 335,
    "start_time": "2024-10-19T20:53:22.228Z"
   },
   {
    "duration": 15,
    "start_time": "2024-10-19T20:53:22.564Z"
   },
   {
    "duration": 24,
    "start_time": "2024-10-19T20:53:22.580Z"
   },
   {
    "duration": 109,
    "start_time": "2024-10-19T20:53:22.606Z"
   },
   {
    "duration": 169,
    "start_time": "2024-10-19T20:53:22.716Z"
   },
   {
    "duration": 285,
    "start_time": "2024-10-19T20:53:22.886Z"
   },
   {
    "duration": 14,
    "start_time": "2024-10-19T20:53:23.172Z"
   },
   {
    "duration": 21,
    "start_time": "2024-10-19T20:53:23.188Z"
   },
   {
    "duration": 167,
    "start_time": "2024-10-19T20:53:23.211Z"
   },
   {
    "duration": 315,
    "start_time": "2024-10-19T20:53:23.381Z"
   },
   {
    "duration": 15,
    "start_time": "2024-10-19T20:53:23.697Z"
   },
   {
    "duration": 169,
    "start_time": "2024-10-19T20:53:23.714Z"
   },
   {
    "duration": 123,
    "start_time": "2024-10-19T20:53:23.884Z"
   },
   {
    "duration": 343,
    "start_time": "2024-10-19T20:53:24.008Z"
   },
   {
    "duration": 90,
    "start_time": "2024-10-19T20:53:24.353Z"
   },
   {
    "duration": 7956,
    "start_time": "2024-10-19T20:53:24.444Z"
   },
   {
    "duration": 14,
    "start_time": "2024-10-19T20:53:32.402Z"
   },
   {
    "duration": 2567,
    "start_time": "2024-10-19T20:53:32.418Z"
   },
   {
    "duration": 3,
    "start_time": "2024-10-19T20:53:34.987Z"
   },
   {
    "duration": 72,
    "start_time": "2024-10-19T20:53:34.991Z"
   },
   {
    "duration": 22,
    "start_time": "2024-10-19T20:53:35.064Z"
   },
   {
    "duration": 29,
    "start_time": "2024-10-19T20:53:35.087Z"
   },
   {
    "duration": 42,
    "start_time": "2024-10-19T20:53:35.117Z"
   },
   {
    "duration": 94,
    "start_time": "2024-10-19T20:53:35.164Z"
   },
   {
    "duration": 15,
    "start_time": "2024-10-19T20:53:35.260Z"
   },
   {
    "duration": 31,
    "start_time": "2024-10-19T20:53:35.277Z"
   },
   {
    "duration": 18,
    "start_time": "2024-10-19T20:53:35.309Z"
   },
   {
    "duration": 152,
    "start_time": "2024-10-19T20:53:35.328Z"
   },
   {
    "duration": 20,
    "start_time": "2024-10-19T20:57:51.883Z"
   },
   {
    "duration": 3,
    "start_time": "2024-10-19T20:58:40.939Z"
   },
   {
    "duration": 21,
    "start_time": "2024-10-19T20:58:43.267Z"
   },
   {
    "duration": 21,
    "start_time": "2024-10-19T20:58:50.019Z"
   },
   {
    "duration": 20,
    "start_time": "2024-10-19T20:58:56.676Z"
   },
   {
    "duration": 28,
    "start_time": "2024-10-19T20:59:54.966Z"
   },
   {
    "duration": 20142,
    "start_time": "2024-10-19T21:01:40.464Z"
   },
   {
    "duration": 21,
    "start_time": "2024-10-19T21:05:49.302Z"
   },
   {
    "duration": 33,
    "start_time": "2024-10-19T21:05:59.814Z"
   },
   {
    "duration": 20081,
    "start_time": "2024-10-19T21:10:02.268Z"
   },
   {
    "duration": 19938,
    "start_time": "2024-10-19T21:11:00.551Z"
   },
   {
    "duration": 66,
    "start_time": "2024-10-20T08:10:08.149Z"
   },
   {
    "duration": 3710,
    "start_time": "2024-10-20T08:10:52.788Z"
   },
   {
    "duration": 1731,
    "start_time": "2024-10-20T08:10:56.500Z"
   },
   {
    "duration": 3079,
    "start_time": "2024-10-20T08:10:58.233Z"
   },
   {
    "duration": 19,
    "start_time": "2024-10-20T08:11:01.315Z"
   },
   {
    "duration": 174,
    "start_time": "2024-10-20T08:11:01.335Z"
   },
   {
    "duration": 9,
    "start_time": "2024-10-20T08:11:01.511Z"
   },
   {
    "duration": 67,
    "start_time": "2024-10-20T08:11:01.522Z"
   },
   {
    "duration": 323,
    "start_time": "2024-10-20T08:11:01.591Z"
   },
   {
    "duration": 117,
    "start_time": "2024-10-20T08:11:01.917Z"
   },
   {
    "duration": 128,
    "start_time": "2024-10-20T08:11:02.038Z"
   },
   {
    "duration": 312,
    "start_time": "2024-10-20T08:11:02.167Z"
   },
   {
    "duration": 374,
    "start_time": "2024-10-20T08:11:02.481Z"
   },
   {
    "duration": 231,
    "start_time": "2024-10-20T08:11:02.857Z"
   },
   {
    "duration": 548,
    "start_time": "2024-10-20T08:11:03.089Z"
   },
   {
    "duration": 18,
    "start_time": "2024-10-20T08:11:03.639Z"
   },
   {
    "duration": 100,
    "start_time": "2024-10-20T08:11:03.658Z"
   },
   {
    "duration": 229,
    "start_time": "2024-10-20T08:11:03.759Z"
   },
   {
    "duration": 220,
    "start_time": "2024-10-20T08:11:03.990Z"
   },
   {
    "duration": 474,
    "start_time": "2024-10-20T08:11:04.212Z"
   },
   {
    "duration": 17,
    "start_time": "2024-10-20T08:11:04.687Z"
   },
   {
    "duration": 42,
    "start_time": "2024-10-20T08:11:04.705Z"
   },
   {
    "duration": 128,
    "start_time": "2024-10-20T08:11:04.749Z"
   },
   {
    "duration": 246,
    "start_time": "2024-10-20T08:11:04.879Z"
   },
   {
    "duration": 389,
    "start_time": "2024-10-20T08:11:05.127Z"
   },
   {
    "duration": 17,
    "start_time": "2024-10-20T08:11:05.518Z"
   },
   {
    "duration": 28,
    "start_time": "2024-10-20T08:11:05.536Z"
   },
   {
    "duration": 208,
    "start_time": "2024-10-20T08:11:05.566Z"
   },
   {
    "duration": 464,
    "start_time": "2024-10-20T08:11:05.778Z"
   },
   {
    "duration": 18,
    "start_time": "2024-10-20T08:11:06.244Z"
   },
   {
    "duration": 197,
    "start_time": "2024-10-20T08:11:06.265Z"
   },
   {
    "duration": 166,
    "start_time": "2024-10-20T08:11:06.464Z"
   },
   {
    "duration": 453,
    "start_time": "2024-10-20T08:11:06.632Z"
   },
   {
    "duration": 122,
    "start_time": "2024-10-20T08:11:07.088Z"
   },
   {
    "duration": 10083,
    "start_time": "2024-10-20T08:11:07.213Z"
   },
   {
    "duration": 25,
    "start_time": "2024-10-20T08:11:17.298Z"
   },
   {
    "duration": 3338,
    "start_time": "2024-10-20T08:11:17.325Z"
   },
   {
    "duration": 2,
    "start_time": "2024-10-20T08:11:20.665Z"
   },
   {
    "duration": 13,
    "start_time": "2024-10-20T08:11:20.668Z"
   },
   {
    "duration": 42,
    "start_time": "2024-10-20T08:11:20.682Z"
   },
   {
    "duration": 3,
    "start_time": "2024-10-20T08:11:20.726Z"
   },
   {
    "duration": 191,
    "start_time": "2024-10-20T08:11:20.731Z"
   },
   {
    "duration": 23286,
    "start_time": "2024-10-20T08:11:20.925Z"
   },
   {
    "duration": 6510,
    "start_time": "2024-10-20T08:11:44.212Z"
   },
   {
    "duration": 4227,
    "start_time": "2024-10-20T08:16:10.714Z"
   },
   {
    "duration": 5870,
    "start_time": "2024-10-20T08:18:13.564Z"
   },
   {
    "duration": 431,
    "start_time": "2024-10-20T08:18:32.803Z"
   },
   {
    "duration": 3940,
    "start_time": "2024-10-20T08:18:48.885Z"
   },
   {
    "duration": 187,
    "start_time": "2024-10-20T08:31:32.755Z"
   },
   {
    "duration": 2608,
    "start_time": "2024-10-20T08:31:39.265Z"
   },
   {
    "duration": 1542,
    "start_time": "2024-10-20T08:31:41.875Z"
   },
   {
    "duration": 915,
    "start_time": "2024-10-20T08:31:43.419Z"
   },
   {
    "duration": 18,
    "start_time": "2024-10-20T08:31:44.336Z"
   },
   {
    "duration": 166,
    "start_time": "2024-10-20T08:31:44.356Z"
   },
   {
    "duration": 3,
    "start_time": "2024-10-20T08:31:44.523Z"
   },
   {
    "duration": 67,
    "start_time": "2024-10-20T08:31:44.528Z"
   },
   {
    "duration": 301,
    "start_time": "2024-10-20T08:31:44.596Z"
   },
   {
    "duration": 110,
    "start_time": "2024-10-20T08:31:44.899Z"
   },
   {
    "duration": 144,
    "start_time": "2024-10-20T08:31:45.021Z"
   },
   {
    "duration": 298,
    "start_time": "2024-10-20T08:31:45.167Z"
   },
   {
    "duration": 407,
    "start_time": "2024-10-20T08:31:45.467Z"
   },
   {
    "duration": 229,
    "start_time": "2024-10-20T08:31:45.876Z"
   },
   {
    "duration": 514,
    "start_time": "2024-10-20T08:31:46.107Z"
   },
   {
    "duration": 19,
    "start_time": "2024-10-20T08:31:46.623Z"
   },
   {
    "duration": 29,
    "start_time": "2024-10-20T08:31:46.644Z"
   },
   {
    "duration": 259,
    "start_time": "2024-10-20T08:31:46.675Z"
   },
   {
    "duration": 207,
    "start_time": "2024-10-20T08:31:46.936Z"
   },
   {
    "duration": 468,
    "start_time": "2024-10-20T08:31:47.145Z"
   },
   {
    "duration": 17,
    "start_time": "2024-10-20T08:31:47.620Z"
   },
   {
    "duration": 27,
    "start_time": "2024-10-20T08:31:47.639Z"
   },
   {
    "duration": 141,
    "start_time": "2024-10-20T08:31:47.668Z"
   },
   {
    "duration": 256,
    "start_time": "2024-10-20T08:31:47.811Z"
   },
   {
    "duration": 353,
    "start_time": "2024-10-20T08:31:48.069Z"
   },
   {
    "duration": 18,
    "start_time": "2024-10-20T08:31:48.424Z"
   },
   {
    "duration": 25,
    "start_time": "2024-10-20T08:31:48.444Z"
   },
   {
    "duration": 210,
    "start_time": "2024-10-20T08:31:48.470Z"
   },
   {
    "duration": 419,
    "start_time": "2024-10-20T08:31:48.684Z"
   },
   {
    "duration": 16,
    "start_time": "2024-10-20T08:31:49.105Z"
   },
   {
    "duration": 180,
    "start_time": "2024-10-20T08:31:49.124Z"
   },
   {
    "duration": 163,
    "start_time": "2024-10-20T08:31:49.306Z"
   },
   {
    "duration": 442,
    "start_time": "2024-10-20T08:31:49.470Z"
   },
   {
    "duration": 110,
    "start_time": "2024-10-20T08:31:49.914Z"
   },
   {
    "duration": 9742,
    "start_time": "2024-10-20T08:31:50.025Z"
   },
   {
    "duration": 15,
    "start_time": "2024-10-20T08:31:59.768Z"
   },
   {
    "duration": 3225,
    "start_time": "2024-10-20T08:31:59.785Z"
   },
   {
    "duration": 2,
    "start_time": "2024-10-20T08:32:03.011Z"
   },
   {
    "duration": 24,
    "start_time": "2024-10-20T08:32:03.015Z"
   },
   {
    "duration": 25,
    "start_time": "2024-10-20T08:32:03.040Z"
   },
   {
    "duration": 18,
    "start_time": "2024-10-20T08:32:03.066Z"
   },
   {
    "duration": 22252,
    "start_time": "2024-10-20T08:32:03.086Z"
   },
   {
    "duration": 198,
    "start_time": "2024-10-20T08:32:25.340Z"
   },
   {
    "duration": 73,
    "start_time": "2024-10-20T08:32:25.540Z"
   },
   {
    "duration": 88,
    "start_time": "2024-10-20T08:33:49.227Z"
   },
   {
    "duration": 11,
    "start_time": "2024-10-20T08:34:11.595Z"
   },
   {
    "duration": 11,
    "start_time": "2024-10-20T08:35:21.741Z"
   },
   {
    "duration": 11,
    "start_time": "2024-10-20T08:36:06.125Z"
   },
   {
    "duration": 10,
    "start_time": "2024-10-20T08:36:13.271Z"
   },
   {
    "duration": 13,
    "start_time": "2024-10-20T08:42:13.168Z"
   },
   {
    "duration": 69,
    "start_time": "2024-10-20T08:44:26.299Z"
   },
   {
    "duration": 11,
    "start_time": "2024-10-20T08:44:36.933Z"
   },
   {
    "duration": 13,
    "start_time": "2024-10-20T08:45:41.301Z"
   },
   {
    "duration": 11,
    "start_time": "2024-10-20T08:49:35.698Z"
   },
   {
    "duration": 10,
    "start_time": "2024-10-20T08:50:03.987Z"
   },
   {
    "duration": 16,
    "start_time": "2024-10-20T08:50:58.782Z"
   },
   {
    "duration": 88,
    "start_time": "2024-10-20T08:54:46.273Z"
   },
   {
    "duration": 23,
    "start_time": "2024-10-20T08:54:51.730Z"
   },
   {
    "duration": 14,
    "start_time": "2024-10-20T08:55:53.788Z"
   },
   {
    "duration": 9,
    "start_time": "2024-10-20T08:56:55.958Z"
   },
   {
    "duration": 0,
    "start_time": "2024-10-20T09:00:17.352Z"
   },
   {
    "duration": 86675,
    "start_time": "2024-10-20T09:00:19.650Z"
   },
   {
    "duration": 419,
    "start_time": "2024-10-20T09:02:56.303Z"
   },
   {
    "duration": 2618,
    "start_time": "2024-10-20T09:04:59.554Z"
   },
   {
    "duration": 1582,
    "start_time": "2024-10-20T09:05:02.174Z"
   },
   {
    "duration": 962,
    "start_time": "2024-10-20T09:05:03.757Z"
   },
   {
    "duration": 19,
    "start_time": "2024-10-20T09:05:04.721Z"
   },
   {
    "duration": 177,
    "start_time": "2024-10-20T09:05:04.741Z"
   },
   {
    "duration": 4,
    "start_time": "2024-10-20T09:05:04.920Z"
   },
   {
    "duration": 129,
    "start_time": "2024-10-20T09:05:04.925Z"
   },
   {
    "duration": 327,
    "start_time": "2024-10-20T09:05:05.055Z"
   },
   {
    "duration": 100,
    "start_time": "2024-10-20T09:05:05.384Z"
   },
   {
    "duration": 135,
    "start_time": "2024-10-20T09:05:05.487Z"
   },
   {
    "duration": 317,
    "start_time": "2024-10-20T09:05:05.624Z"
   },
   {
    "duration": 413,
    "start_time": "2024-10-20T09:05:05.942Z"
   },
   {
    "duration": 232,
    "start_time": "2024-10-20T09:05:06.356Z"
   },
   {
    "duration": 498,
    "start_time": "2024-10-20T09:05:06.589Z"
   },
   {
    "duration": 18,
    "start_time": "2024-10-20T09:05:07.089Z"
   },
   {
    "duration": 38,
    "start_time": "2024-10-20T09:05:07.109Z"
   },
   {
    "duration": 240,
    "start_time": "2024-10-20T09:05:07.149Z"
   },
   {
    "duration": 217,
    "start_time": "2024-10-20T09:05:07.391Z"
   },
   {
    "duration": 499,
    "start_time": "2024-10-20T09:05:07.609Z"
   },
   {
    "duration": 22,
    "start_time": "2024-10-20T09:05:08.110Z"
   },
   {
    "duration": 26,
    "start_time": "2024-10-20T09:05:08.134Z"
   },
   {
    "duration": 123,
    "start_time": "2024-10-20T09:05:08.162Z"
   },
   {
    "duration": 218,
    "start_time": "2024-10-20T09:05:08.287Z"
   },
   {
    "duration": 360,
    "start_time": "2024-10-20T09:05:08.507Z"
   },
   {
    "duration": 16,
    "start_time": "2024-10-20T09:05:08.868Z"
   },
   {
    "duration": 39,
    "start_time": "2024-10-20T09:05:08.886Z"
   },
   {
    "duration": 188,
    "start_time": "2024-10-20T09:05:08.927Z"
   },
   {
    "duration": 421,
    "start_time": "2024-10-20T09:05:09.123Z"
   },
   {
    "duration": 14,
    "start_time": "2024-10-20T09:05:09.545Z"
   },
   {
    "duration": 177,
    "start_time": "2024-10-20T09:05:09.561Z"
   },
   {
    "duration": 157,
    "start_time": "2024-10-20T09:05:09.739Z"
   },
   {
    "duration": 450,
    "start_time": "2024-10-20T09:05:09.897Z"
   },
   {
    "duration": 118,
    "start_time": "2024-10-20T09:05:10.348Z"
   },
   {
    "duration": 9761,
    "start_time": "2024-10-20T09:05:10.468Z"
   },
   {
    "duration": 13,
    "start_time": "2024-10-20T09:05:20.231Z"
   },
   {
    "duration": 3224,
    "start_time": "2024-10-20T09:05:20.246Z"
   },
   {
    "duration": 2,
    "start_time": "2024-10-20T09:05:23.472Z"
   },
   {
    "duration": 12,
    "start_time": "2024-10-20T09:05:23.476Z"
   },
   {
    "duration": 42,
    "start_time": "2024-10-20T09:05:23.490Z"
   },
   {
    "duration": 19,
    "start_time": "2024-10-20T09:05:23.533Z"
   },
   {
    "duration": 22723,
    "start_time": "2024-10-20T09:05:23.554Z"
   },
   {
    "duration": 18,
    "start_time": "2024-10-20T09:05:46.279Z"
   },
   {
    "duration": 103032,
    "start_time": "2024-10-20T09:05:46.299Z"
   },
   {
    "duration": 589,
    "start_time": "2024-10-20T09:07:29.333Z"
   },
   {
    "duration": 18,
    "start_time": "2024-10-20T09:32:16.832Z"
   },
   {
    "duration": 3461,
    "start_time": "2024-10-20T10:37:37.929Z"
   },
   {
    "duration": 2450,
    "start_time": "2024-10-20T10:37:41.392Z"
   },
   {
    "duration": 2783,
    "start_time": "2024-10-20T10:37:43.844Z"
   },
   {
    "duration": 15,
    "start_time": "2024-10-20T10:37:46.629Z"
   },
   {
    "duration": 101,
    "start_time": "2024-10-20T10:37:46.646Z"
   },
   {
    "duration": 8,
    "start_time": "2024-10-20T10:37:46.749Z"
   },
   {
    "duration": 48,
    "start_time": "2024-10-20T10:37:46.759Z"
   },
   {
    "duration": 255,
    "start_time": "2024-10-20T10:37:46.808Z"
   },
   {
    "duration": 69,
    "start_time": "2024-10-20T10:37:47.065Z"
   },
   {
    "duration": 83,
    "start_time": "2024-10-20T10:37:47.135Z"
   },
   {
    "duration": 241,
    "start_time": "2024-10-20T10:37:47.219Z"
   },
   {
    "duration": 265,
    "start_time": "2024-10-20T10:37:47.462Z"
   },
   {
    "duration": 178,
    "start_time": "2024-10-20T10:37:47.728Z"
   },
   {
    "duration": 356,
    "start_time": "2024-10-20T10:37:47.908Z"
   },
   {
    "duration": 15,
    "start_time": "2024-10-20T10:37:48.266Z"
   },
   {
    "duration": 74,
    "start_time": "2024-10-20T10:37:48.282Z"
   },
   {
    "duration": 204,
    "start_time": "2024-10-20T10:37:48.357Z"
   },
   {
    "duration": 163,
    "start_time": "2024-10-20T10:37:48.562Z"
   },
   {
    "duration": 317,
    "start_time": "2024-10-20T10:37:48.726Z"
   },
   {
    "duration": 20,
    "start_time": "2024-10-20T10:37:49.045Z"
   },
   {
    "duration": 25,
    "start_time": "2024-10-20T10:37:49.067Z"
   },
   {
    "duration": 100,
    "start_time": "2024-10-20T10:37:49.094Z"
   },
   {
    "duration": 168,
    "start_time": "2024-10-20T10:37:49.196Z"
   },
   {
    "duration": 280,
    "start_time": "2024-10-20T10:37:49.365Z"
   },
   {
    "duration": 22,
    "start_time": "2024-10-20T10:37:49.646Z"
   },
   {
    "duration": 34,
    "start_time": "2024-10-20T10:37:49.669Z"
   },
   {
    "duration": 157,
    "start_time": "2024-10-20T10:37:49.704Z"
   },
   {
    "duration": 326,
    "start_time": "2024-10-20T10:37:49.862Z"
   },
   {
    "duration": 11,
    "start_time": "2024-10-20T10:37:50.189Z"
   },
   {
    "duration": 149,
    "start_time": "2024-10-20T10:37:50.202Z"
   },
   {
    "duration": 117,
    "start_time": "2024-10-20T10:37:50.352Z"
   },
   {
    "duration": 348,
    "start_time": "2024-10-20T10:37:50.470Z"
   },
   {
    "duration": 92,
    "start_time": "2024-10-20T10:37:50.819Z"
   },
   {
    "duration": 7768,
    "start_time": "2024-10-20T10:37:50.913Z"
   },
   {
    "duration": 16,
    "start_time": "2024-10-20T10:37:58.682Z"
   },
   {
    "duration": 2561,
    "start_time": "2024-10-20T10:37:58.699Z"
   },
   {
    "duration": 2,
    "start_time": "2024-10-20T10:38:01.262Z"
   },
   {
    "duration": 39,
    "start_time": "2024-10-20T10:38:01.265Z"
   },
   {
    "duration": 7,
    "start_time": "2024-10-20T10:38:08.778Z"
   },
   {
    "duration": 1972,
    "start_time": "2024-10-20T16:39:56.273Z"
   },
   {
    "duration": 3219,
    "start_time": "2024-10-20T16:42:04.215Z"
   },
   {
    "duration": 62,
    "start_time": "2024-10-20T16:51:50.413Z"
   },
   {
    "duration": 2893,
    "start_time": "2024-10-20T16:52:03.396Z"
   },
   {
    "duration": 1889,
    "start_time": "2024-10-20T16:52:06.292Z"
   },
   {
    "duration": 3051,
    "start_time": "2024-10-20T16:52:08.183Z"
   },
   {
    "duration": 20,
    "start_time": "2024-10-20T16:52:11.236Z"
   },
   {
    "duration": 164,
    "start_time": "2024-10-20T16:52:11.257Z"
   },
   {
    "duration": 4,
    "start_time": "2024-10-20T16:52:11.423Z"
   },
   {
    "duration": 61,
    "start_time": "2024-10-20T16:52:11.428Z"
   },
   {
    "duration": 341,
    "start_time": "2024-10-20T16:52:11.490Z"
   },
   {
    "duration": 111,
    "start_time": "2024-10-20T16:52:11.833Z"
   },
   {
    "duration": 125,
    "start_time": "2024-10-20T16:52:11.947Z"
   },
   {
    "duration": 339,
    "start_time": "2024-10-20T16:52:12.074Z"
   },
   {
    "duration": 390,
    "start_time": "2024-10-20T16:52:12.415Z"
   },
   {
    "duration": 357,
    "start_time": "2024-10-20T16:52:12.807Z"
   },
   {
    "duration": 1,
    "start_time": "2024-10-20T16:52:13.166Z"
   },
   {
    "duration": 0,
    "start_time": "2024-10-20T16:52:13.168Z"
   },
   {
    "duration": 0,
    "start_time": "2024-10-20T16:52:13.169Z"
   },
   {
    "duration": 0,
    "start_time": "2024-10-20T16:52:13.170Z"
   },
   {
    "duration": 0,
    "start_time": "2024-10-20T16:52:13.171Z"
   },
   {
    "duration": 0,
    "start_time": "2024-10-20T16:52:13.172Z"
   },
   {
    "duration": 0,
    "start_time": "2024-10-20T16:52:13.174Z"
   },
   {
    "duration": 0,
    "start_time": "2024-10-20T16:52:13.176Z"
   },
   {
    "duration": 0,
    "start_time": "2024-10-20T16:52:13.177Z"
   },
   {
    "duration": 0,
    "start_time": "2024-10-20T16:52:13.179Z"
   },
   {
    "duration": 0,
    "start_time": "2024-10-20T16:52:13.180Z"
   },
   {
    "duration": 0,
    "start_time": "2024-10-20T16:52:13.181Z"
   },
   {
    "duration": 0,
    "start_time": "2024-10-20T16:52:13.183Z"
   },
   {
    "duration": 0,
    "start_time": "2024-10-20T16:52:13.184Z"
   },
   {
    "duration": 0,
    "start_time": "2024-10-20T16:52:13.185Z"
   },
   {
    "duration": 0,
    "start_time": "2024-10-20T16:52:13.221Z"
   },
   {
    "duration": 0,
    "start_time": "2024-10-20T16:52:13.223Z"
   },
   {
    "duration": 0,
    "start_time": "2024-10-20T16:52:13.224Z"
   },
   {
    "duration": 0,
    "start_time": "2024-10-20T16:52:13.226Z"
   },
   {
    "duration": 0,
    "start_time": "2024-10-20T16:52:13.227Z"
   },
   {
    "duration": 0,
    "start_time": "2024-10-20T16:52:13.228Z"
   },
   {
    "duration": 0,
    "start_time": "2024-10-20T16:52:13.229Z"
   },
   {
    "duration": 0,
    "start_time": "2024-10-20T16:52:13.231Z"
   },
   {
    "duration": 0,
    "start_time": "2024-10-20T16:52:13.231Z"
   },
   {
    "duration": 0,
    "start_time": "2024-10-20T16:52:13.232Z"
   },
   {
    "duration": 0,
    "start_time": "2024-10-20T16:52:13.233Z"
   },
   {
    "duration": 0,
    "start_time": "2024-10-20T16:52:13.235Z"
   },
   {
    "duration": 0,
    "start_time": "2024-10-20T16:52:13.236Z"
   },
   {
    "duration": 0,
    "start_time": "2024-10-20T16:52:13.237Z"
   },
   {
    "duration": 0,
    "start_time": "2024-10-20T16:52:13.238Z"
   },
   {
    "duration": 0,
    "start_time": "2024-10-20T16:52:13.239Z"
   },
   {
    "duration": 334,
    "start_time": "2024-10-20T16:53:45.032Z"
   },
   {
    "duration": 617,
    "start_time": "2024-10-20T16:58:38.429Z"
   },
   {
    "duration": 17,
    "start_time": "2024-10-20T16:58:42.550Z"
   },
   {
    "duration": 12,
    "start_time": "2024-10-20T16:59:03.255Z"
   },
   {
    "duration": 27,
    "start_time": "2024-10-20T16:59:30.793Z"
   },
   {
    "duration": 167,
    "start_time": "2024-10-20T16:59:36.112Z"
   },
   {
    "duration": 193,
    "start_time": "2024-10-20T17:00:56.972Z"
   },
   {
    "duration": 209,
    "start_time": "2024-10-20T17:02:38.893Z"
   },
   {
    "duration": 197,
    "start_time": "2024-10-20T17:04:32.753Z"
   },
   {
    "duration": 192,
    "start_time": "2024-10-20T17:05:03.464Z"
   },
   {
    "duration": 251,
    "start_time": "2024-10-20T17:06:16.363Z"
   },
   {
    "duration": 500,
    "start_time": "2024-10-20T17:06:20.514Z"
   },
   {
    "duration": 16,
    "start_time": "2024-10-20T17:06:24.684Z"
   },
   {
    "duration": 1064,
    "start_time": "2024-10-20T17:07:41.485Z"
   },
   {
    "duration": 5,
    "start_time": "2024-10-20T17:07:50.748Z"
   },
   {
    "duration": 7,
    "start_time": "2024-10-20T17:09:12.373Z"
   },
   {
    "duration": 12,
    "start_time": "2024-10-20T17:10:51.591Z"
   },
   {
    "duration": 11,
    "start_time": "2024-10-20T17:11:20.137Z"
   },
   {
    "duration": 47,
    "start_time": "2024-10-20T17:11:34.827Z"
   },
   {
    "duration": 40,
    "start_time": "2024-10-20T17:12:18.540Z"
   },
   {
    "duration": 43,
    "start_time": "2024-10-20T17:15:25.574Z"
   },
   {
    "duration": 146,
    "start_time": "2024-10-20T17:15:36.328Z"
   },
   {
    "duration": 150,
    "start_time": "2024-10-20T17:16:42.168Z"
   },
   {
    "duration": 206,
    "start_time": "2024-10-20T17:16:53.163Z"
   },
   {
    "duration": 458,
    "start_time": "2024-10-20T17:16:58.551Z"
   },
   {
    "duration": 16,
    "start_time": "2024-10-20T17:17:01.810Z"
   },
   {
    "duration": 29,
    "start_time": "2024-10-20T17:18:16.700Z"
   },
   {
    "duration": 176,
    "start_time": "2024-10-20T17:25:25.646Z"
   },
   {
    "duration": 176,
    "start_time": "2024-10-20T17:27:31.113Z"
   },
   {
    "duration": 500,
    "start_time": "2024-10-20T17:27:50.850Z"
   },
   {
    "duration": 175,
    "start_time": "2024-10-20T17:28:22.994Z"
   },
   {
    "duration": 173,
    "start_time": "2024-10-20T17:29:10.389Z"
   },
   {
    "duration": 172,
    "start_time": "2024-10-20T17:29:25.029Z"
   },
   {
    "duration": 187,
    "start_time": "2024-10-20T17:30:13.278Z"
   },
   {
    "duration": 397,
    "start_time": "2024-10-20T17:31:15.678Z"
   },
   {
    "duration": 115,
    "start_time": "2024-10-20T17:31:25.173Z"
   },
   {
    "duration": 147,
    "start_time": "2024-10-20T17:32:50.112Z"
   },
   {
    "duration": 263,
    "start_time": "2024-10-20T17:33:00.065Z"
   },
   {
    "duration": 10413,
    "start_time": "2024-10-20T17:33:08.042Z"
   },
   {
    "duration": 2595,
    "start_time": "2024-10-20T19:44:39.983Z"
   },
   {
    "duration": 1548,
    "start_time": "2024-10-20T19:44:42.580Z"
   },
   {
    "duration": 976,
    "start_time": "2024-10-20T19:44:44.130Z"
   },
   {
    "duration": 30,
    "start_time": "2024-10-20T19:44:45.109Z"
   },
   {
    "duration": 179,
    "start_time": "2024-10-20T19:44:45.141Z"
   },
   {
    "duration": 3,
    "start_time": "2024-10-20T19:44:45.322Z"
   },
   {
    "duration": 161,
    "start_time": "2024-10-20T19:44:45.326Z"
   },
   {
    "duration": 312,
    "start_time": "2024-10-20T19:44:45.489Z"
   },
   {
    "duration": 102,
    "start_time": "2024-10-20T19:44:45.802Z"
   },
   {
    "duration": 117,
    "start_time": "2024-10-20T19:44:45.907Z"
   },
   {
    "duration": 5,
    "start_time": "2024-10-20T19:44:46.026Z"
   },
   {
    "duration": 46,
    "start_time": "2024-10-20T19:44:46.033Z"
   },
   {
    "duration": 45,
    "start_time": "2024-10-20T19:44:46.081Z"
   },
   {
    "duration": 415,
    "start_time": "2024-10-20T19:44:46.128Z"
   },
   {
    "duration": 0,
    "start_time": "2024-10-20T19:44:46.546Z"
   },
   {
    "duration": 0,
    "start_time": "2024-10-20T19:44:46.548Z"
   },
   {
    "duration": 0,
    "start_time": "2024-10-20T19:44:46.550Z"
   },
   {
    "duration": 1,
    "start_time": "2024-10-20T19:44:46.551Z"
   },
   {
    "duration": 0,
    "start_time": "2024-10-20T19:44:46.553Z"
   },
   {
    "duration": 0,
    "start_time": "2024-10-20T19:44:46.554Z"
   },
   {
    "duration": 1,
    "start_time": "2024-10-20T19:44:46.555Z"
   },
   {
    "duration": 1,
    "start_time": "2024-10-20T19:44:46.557Z"
   },
   {
    "duration": 0,
    "start_time": "2024-10-20T19:44:46.559Z"
   },
   {
    "duration": 0,
    "start_time": "2024-10-20T19:44:46.560Z"
   },
   {
    "duration": 0,
    "start_time": "2024-10-20T19:44:46.561Z"
   },
   {
    "duration": 0,
    "start_time": "2024-10-20T19:44:46.621Z"
   },
   {
    "duration": 0,
    "start_time": "2024-10-20T19:44:46.622Z"
   },
   {
    "duration": 0,
    "start_time": "2024-10-20T19:44:46.623Z"
   },
   {
    "duration": 0,
    "start_time": "2024-10-20T19:44:46.624Z"
   },
   {
    "duration": 0,
    "start_time": "2024-10-20T19:44:46.625Z"
   },
   {
    "duration": 0,
    "start_time": "2024-10-20T19:44:46.626Z"
   },
   {
    "duration": 0,
    "start_time": "2024-10-20T19:44:46.627Z"
   },
   {
    "duration": 0,
    "start_time": "2024-10-20T19:44:46.629Z"
   },
   {
    "duration": 0,
    "start_time": "2024-10-20T19:44:46.630Z"
   },
   {
    "duration": 0,
    "start_time": "2024-10-20T19:44:46.632Z"
   },
   {
    "duration": 0,
    "start_time": "2024-10-20T19:44:46.633Z"
   },
   {
    "duration": 0,
    "start_time": "2024-10-20T19:44:46.635Z"
   },
   {
    "duration": 0,
    "start_time": "2024-10-20T19:44:46.636Z"
   },
   {
    "duration": 0,
    "start_time": "2024-10-20T19:44:46.638Z"
   },
   {
    "duration": 0,
    "start_time": "2024-10-20T19:44:46.639Z"
   },
   {
    "duration": 0,
    "start_time": "2024-10-20T19:44:46.641Z"
   },
   {
    "duration": 0,
    "start_time": "2024-10-20T19:44:46.643Z"
   },
   {
    "duration": 0,
    "start_time": "2024-10-20T19:44:46.644Z"
   },
   {
    "duration": 0,
    "start_time": "2024-10-20T19:44:46.646Z"
   },
   {
    "duration": 0,
    "start_time": "2024-10-20T19:44:46.647Z"
   },
   {
    "duration": 0,
    "start_time": "2024-10-20T19:44:46.649Z"
   },
   {
    "duration": 0,
    "start_time": "2024-10-20T19:44:46.650Z"
   },
   {
    "duration": 0,
    "start_time": "2024-10-20T19:44:46.651Z"
   },
   {
    "duration": 0,
    "start_time": "2024-10-20T19:44:46.653Z"
   },
   {
    "duration": 0,
    "start_time": "2024-10-20T19:44:46.655Z"
   },
   {
    "duration": 0,
    "start_time": "2024-10-20T19:44:46.656Z"
   },
   {
    "duration": 161,
    "start_time": "2024-10-20T19:44:53.546Z"
   },
   {
    "duration": 2685,
    "start_time": "2024-10-20T19:47:43.619Z"
   },
   {
    "duration": 1753,
    "start_time": "2024-10-20T19:47:46.306Z"
   },
   {
    "duration": 954,
    "start_time": "2024-10-20T19:47:48.060Z"
   },
   {
    "duration": 21,
    "start_time": "2024-10-20T19:47:49.016Z"
   },
   {
    "duration": 175,
    "start_time": "2024-10-20T19:47:49.039Z"
   },
   {
    "duration": 3,
    "start_time": "2024-10-20T19:47:49.220Z"
   },
   {
    "duration": 70,
    "start_time": "2024-10-20T19:47:49.225Z"
   },
   {
    "duration": 317,
    "start_time": "2024-10-20T19:47:49.297Z"
   },
   {
    "duration": 107,
    "start_time": "2024-10-20T19:47:49.616Z"
   },
   {
    "duration": 125,
    "start_time": "2024-10-20T19:47:49.725Z"
   },
   {
    "duration": 7,
    "start_time": "2024-10-20T19:47:49.852Z"
   },
   {
    "duration": 63,
    "start_time": "2024-10-20T19:47:49.860Z"
   },
   {
    "duration": 27,
    "start_time": "2024-10-20T19:47:49.925Z"
   },
   {
    "duration": 224,
    "start_time": "2024-10-20T19:47:49.954Z"
   },
   {
    "duration": 224,
    "start_time": "2024-10-20T19:47:50.179Z"
   },
   {
    "duration": 246,
    "start_time": "2024-10-20T19:47:50.404Z"
   },
   {
    "duration": 489,
    "start_time": "2024-10-20T19:47:50.652Z"
   },
   {
    "duration": 18,
    "start_time": "2024-10-20T19:47:51.142Z"
   },
   {
    "duration": 26,
    "start_time": "2024-10-20T19:47:51.162Z"
   },
   {
    "duration": 249,
    "start_time": "2024-10-20T19:47:51.190Z"
   },
   {
    "duration": 196,
    "start_time": "2024-10-20T19:47:51.441Z"
   },
   {
    "duration": 273,
    "start_time": "2024-10-20T19:47:51.639Z"
   },
   {
    "duration": 465,
    "start_time": "2024-10-20T19:47:51.914Z"
   },
   {
    "duration": 17,
    "start_time": "2024-10-20T19:47:52.381Z"
   },
   {
    "duration": 41,
    "start_time": "2024-10-20T19:47:52.400Z"
   },
   {
    "duration": 117,
    "start_time": "2024-10-20T19:47:52.443Z"
   },
   {
    "duration": 166,
    "start_time": "2024-10-20T19:47:52.562Z"
   },
   {
    "duration": 217,
    "start_time": "2024-10-20T19:47:52.732Z"
   },
   {
    "duration": 348,
    "start_time": "2024-10-20T19:47:52.951Z"
   },
   {
    "duration": 24,
    "start_time": "2024-10-20T19:47:53.300Z"
   },
   {
    "duration": 26,
    "start_time": "2024-10-20T19:47:53.326Z"
   },
   {
    "duration": 189,
    "start_time": "2024-10-20T19:47:53.354Z"
   },
   {
    "duration": 403,
    "start_time": "2024-10-20T19:47:53.546Z"
   },
   {
    "duration": 504,
    "start_time": "2024-10-20T19:47:53.951Z"
   },
   {
    "duration": 364,
    "start_time": "2024-10-20T19:47:54.457Z"
   },
   {
    "duration": 311,
    "start_time": "2024-10-20T19:47:54.823Z"
   },
   {
    "duration": 392,
    "start_time": "2024-10-20T19:47:55.135Z"
   },
   {
    "duration": 381,
    "start_time": "2024-10-20T19:47:55.529Z"
   },
   {
    "duration": 112,
    "start_time": "2024-10-20T19:47:55.913Z"
   },
   {
    "duration": 155,
    "start_time": "2024-10-20T19:47:56.027Z"
   },
   {
    "duration": 10361,
    "start_time": "2024-10-20T19:47:56.184Z"
   },
   {
    "duration": 3,
    "start_time": "2024-10-20T19:48:06.547Z"
   },
   {
    "duration": 41,
    "start_time": "2024-10-20T19:48:06.551Z"
   },
   {
    "duration": 38,
    "start_time": "2024-10-20T19:48:06.594Z"
   },
   {
    "duration": 23,
    "start_time": "2024-10-20T19:48:06.634Z"
   },
   {
    "duration": 6,
    "start_time": "2024-10-20T19:48:06.658Z"
   },
   {
    "duration": 0,
    "start_time": "2024-10-20T19:48:06.666Z"
   },
   {
    "duration": 0,
    "start_time": "2024-10-20T19:48:06.667Z"
   },
   {
    "duration": 0,
    "start_time": "2024-10-20T19:48:06.669Z"
   },
   {
    "duration": 7,
    "start_time": "2024-10-20T19:53:39.776Z"
   },
   {
    "duration": 2553,
    "start_time": "2024-10-20T19:54:02.132Z"
   },
   {
    "duration": 1647,
    "start_time": "2024-10-20T19:54:04.690Z"
   },
   {
    "duration": 972,
    "start_time": "2024-10-20T19:54:06.339Z"
   },
   {
    "duration": 23,
    "start_time": "2024-10-20T19:54:07.313Z"
   },
   {
    "duration": 189,
    "start_time": "2024-10-20T19:54:07.338Z"
   },
   {
    "duration": 5,
    "start_time": "2024-10-20T19:54:07.529Z"
   },
   {
    "duration": 68,
    "start_time": "2024-10-20T19:54:07.536Z"
   },
   {
    "duration": 334,
    "start_time": "2024-10-20T19:54:07.606Z"
   },
   {
    "duration": 101,
    "start_time": "2024-10-20T19:54:07.942Z"
   },
   {
    "duration": 119,
    "start_time": "2024-10-20T19:54:08.046Z"
   },
   {
    "duration": 6,
    "start_time": "2024-10-20T19:54:08.167Z"
   },
   {
    "duration": 59,
    "start_time": "2024-10-20T19:54:08.175Z"
   },
   {
    "duration": 18,
    "start_time": "2024-10-20T19:54:08.236Z"
   },
   {
    "duration": 178,
    "start_time": "2024-10-20T19:54:08.256Z"
   },
   {
    "duration": 202,
    "start_time": "2024-10-20T19:54:08.435Z"
   },
   {
    "duration": 241,
    "start_time": "2024-10-20T19:54:08.638Z"
   },
   {
    "duration": 497,
    "start_time": "2024-10-20T19:54:08.881Z"
   },
   {
    "duration": 18,
    "start_time": "2024-10-20T19:54:09.379Z"
   },
   {
    "duration": 38,
    "start_time": "2024-10-20T19:54:09.399Z"
   },
   {
    "duration": 242,
    "start_time": "2024-10-20T19:54:09.439Z"
   },
   {
    "duration": 199,
    "start_time": "2024-10-20T19:54:09.683Z"
   },
   {
    "duration": 258,
    "start_time": "2024-10-20T19:54:09.883Z"
   },
   {
    "duration": 478,
    "start_time": "2024-10-20T19:54:10.142Z"
   },
   {
    "duration": 17,
    "start_time": "2024-10-20T19:54:10.622Z"
   },
   {
    "duration": 26,
    "start_time": "2024-10-20T19:54:10.640Z"
   },
   {
    "duration": 136,
    "start_time": "2024-10-20T19:54:10.668Z"
   },
   {
    "duration": 166,
    "start_time": "2024-10-20T19:54:10.805Z"
   },
   {
    "duration": 215,
    "start_time": "2024-10-20T19:54:10.974Z"
   },
   {
    "duration": 345,
    "start_time": "2024-10-20T19:54:11.190Z"
   },
   {
    "duration": 16,
    "start_time": "2024-10-20T19:54:11.537Z"
   },
   {
    "duration": 20,
    "start_time": "2024-10-20T19:54:11.555Z"
   },
   {
    "duration": 193,
    "start_time": "2024-10-20T19:54:11.577Z"
   },
   {
    "duration": 432,
    "start_time": "2024-10-20T19:54:11.772Z"
   },
   {
    "duration": 261,
    "start_time": "2024-10-20T19:54:12.206Z"
   },
   {
    "duration": 169,
    "start_time": "2024-10-20T19:54:12.470Z"
   },
   {
    "duration": 151,
    "start_time": "2024-10-20T19:54:12.641Z"
   },
   {
    "duration": 210,
    "start_time": "2024-10-20T19:54:12.794Z"
   },
   {
    "duration": 396,
    "start_time": "2024-10-20T19:54:13.005Z"
   },
   {
    "duration": 129,
    "start_time": "2024-10-20T19:54:13.403Z"
   },
   {
    "duration": 157,
    "start_time": "2024-10-20T19:54:13.534Z"
   },
   {
    "duration": 10817,
    "start_time": "2024-10-20T19:54:13.693Z"
   },
   {
    "duration": 8,
    "start_time": "2024-10-20T19:54:24.512Z"
   },
   {
    "duration": 14,
    "start_time": "2024-10-20T19:54:24.522Z"
   },
   {
    "duration": 50,
    "start_time": "2024-10-20T19:54:24.538Z"
   },
   {
    "duration": 126,
    "start_time": "2024-10-20T19:54:24.590Z"
   },
   {
    "duration": 0,
    "start_time": "2024-10-20T19:54:24.720Z"
   },
   {
    "duration": 0,
    "start_time": "2024-10-20T19:54:24.721Z"
   },
   {
    "duration": 0,
    "start_time": "2024-10-20T19:54:24.722Z"
   },
   {
    "duration": 0,
    "start_time": "2024-10-20T19:54:24.723Z"
   },
   {
    "duration": 0,
    "start_time": "2024-10-20T19:54:24.724Z"
   },
   {
    "duration": 10,
    "start_time": "2024-10-20T19:54:33.264Z"
   },
   {
    "duration": 10,
    "start_time": "2024-10-20T19:57:38.623Z"
   },
   {
    "duration": 12,
    "start_time": "2024-10-20T19:59:17.110Z"
   },
   {
    "duration": 2661,
    "start_time": "2024-10-20T20:17:19.062Z"
   },
   {
    "duration": 1547,
    "start_time": "2024-10-20T20:17:21.725Z"
   },
   {
    "duration": 973,
    "start_time": "2024-10-20T20:17:23.273Z"
   },
   {
    "duration": 18,
    "start_time": "2024-10-20T20:17:24.248Z"
   },
   {
    "duration": 164,
    "start_time": "2024-10-20T20:17:24.267Z"
   },
   {
    "duration": 3,
    "start_time": "2024-10-20T20:17:24.433Z"
   },
   {
    "duration": 83,
    "start_time": "2024-10-20T20:17:24.437Z"
   },
   {
    "duration": 304,
    "start_time": "2024-10-20T20:17:24.522Z"
   },
   {
    "duration": 99,
    "start_time": "2024-10-20T20:17:24.828Z"
   },
   {
    "duration": 129,
    "start_time": "2024-10-20T20:17:24.930Z"
   },
   {
    "duration": 6,
    "start_time": "2024-10-20T20:17:25.060Z"
   },
   {
    "duration": 60,
    "start_time": "2024-10-20T20:17:25.067Z"
   },
   {
    "duration": 28,
    "start_time": "2024-10-20T20:17:25.128Z"
   },
   {
    "duration": 222,
    "start_time": "2024-10-20T20:17:25.159Z"
   },
   {
    "duration": 230,
    "start_time": "2024-10-20T20:17:25.382Z"
   },
   {
    "duration": 252,
    "start_time": "2024-10-20T20:17:25.613Z"
   },
   {
    "duration": 484,
    "start_time": "2024-10-20T20:17:25.866Z"
   },
   {
    "duration": 19,
    "start_time": "2024-10-20T20:17:26.351Z"
   },
   {
    "duration": 25,
    "start_time": "2024-10-20T20:17:26.372Z"
   },
   {
    "duration": 294,
    "start_time": "2024-10-20T20:17:26.399Z"
   },
   {
    "duration": 207,
    "start_time": "2024-10-20T20:17:26.696Z"
   },
   {
    "duration": 258,
    "start_time": "2024-10-20T20:17:26.904Z"
   },
   {
    "duration": 436,
    "start_time": "2024-10-20T20:17:27.163Z"
   },
   {
    "duration": 22,
    "start_time": "2024-10-20T20:17:27.601Z"
   },
   {
    "duration": 21,
    "start_time": "2024-10-20T20:17:27.624Z"
   },
   {
    "duration": 121,
    "start_time": "2024-10-20T20:17:27.647Z"
   },
   {
    "duration": 169,
    "start_time": "2024-10-20T20:17:27.770Z"
   },
   {
    "duration": 227,
    "start_time": "2024-10-20T20:17:27.943Z"
   },
   {
    "duration": 345,
    "start_time": "2024-10-20T20:17:28.172Z"
   },
   {
    "duration": 17,
    "start_time": "2024-10-20T20:17:28.519Z"
   },
   {
    "duration": 83,
    "start_time": "2024-10-20T20:17:28.538Z"
   },
   {
    "duration": 177,
    "start_time": "2024-10-20T20:17:28.623Z"
   },
   {
    "duration": 421,
    "start_time": "2024-10-20T20:17:28.801Z"
   },
   {
    "duration": 279,
    "start_time": "2024-10-20T20:17:29.224Z"
   },
   {
    "duration": 180,
    "start_time": "2024-10-20T20:17:29.505Z"
   },
   {
    "duration": 155,
    "start_time": "2024-10-20T20:17:29.687Z"
   },
   {
    "duration": 185,
    "start_time": "2024-10-20T20:17:29.844Z"
   },
   {
    "duration": 376,
    "start_time": "2024-10-20T20:17:30.030Z"
   },
   {
    "duration": 106,
    "start_time": "2024-10-20T20:17:30.408Z"
   },
   {
    "duration": 164,
    "start_time": "2024-10-20T20:17:30.520Z"
   },
   {
    "duration": 10389,
    "start_time": "2024-10-20T20:17:30.686Z"
   },
   {
    "duration": 3,
    "start_time": "2024-10-20T20:17:41.076Z"
   },
   {
    "duration": 23,
    "start_time": "2024-10-20T20:17:41.080Z"
   },
   {
    "duration": 47,
    "start_time": "2024-10-20T20:17:41.104Z"
   },
   {
    "duration": 1023,
    "start_time": "2024-10-20T20:17:41.153Z"
   },
   {
    "duration": 0,
    "start_time": "2024-10-20T20:17:42.178Z"
   },
   {
    "duration": 0,
    "start_time": "2024-10-20T20:17:42.179Z"
   },
   {
    "duration": 0,
    "start_time": "2024-10-20T20:17:42.180Z"
   },
   {
    "duration": 0,
    "start_time": "2024-10-20T20:17:42.181Z"
   },
   {
    "duration": 18,
    "start_time": "2024-10-20T20:23:10.775Z"
   },
   {
    "duration": 910,
    "start_time": "2024-10-20T20:24:17.244Z"
   },
   {
    "duration": 3353,
    "start_time": "2024-10-20T20:24:31.900Z"
   },
   {
    "duration": 67,
    "start_time": "2024-10-20T20:24:39.091Z"
   },
   {
    "duration": 126838,
    "start_time": "2024-10-20T20:24:58.373Z"
   },
   {
    "duration": 136937,
    "start_time": "2024-10-20T20:27:10.129Z"
   },
   {
    "duration": 217,
    "start_time": "2024-10-20T20:33:03.080Z"
   },
   {
    "duration": 21,
    "start_time": "2024-10-20T20:46:27.837Z"
   },
   {
    "duration": 138379,
    "start_time": "2024-10-20T20:47:32.879Z"
   },
   {
    "duration": 2647,
    "start_time": "2024-10-20T20:56:15.072Z"
   },
   {
    "duration": 1581,
    "start_time": "2024-10-20T20:56:17.722Z"
   },
   {
    "duration": 958,
    "start_time": "2024-10-20T20:56:19.304Z"
   },
   {
    "duration": 19,
    "start_time": "2024-10-20T20:56:20.265Z"
   },
   {
    "duration": 162,
    "start_time": "2024-10-20T20:56:20.285Z"
   },
   {
    "duration": 3,
    "start_time": "2024-10-20T20:56:20.449Z"
   },
   {
    "duration": 70,
    "start_time": "2024-10-20T20:56:20.453Z"
   },
   {
    "duration": 315,
    "start_time": "2024-10-20T20:56:20.524Z"
   },
   {
    "duration": 105,
    "start_time": "2024-10-20T20:56:20.841Z"
   },
   {
    "duration": 117,
    "start_time": "2024-10-20T20:56:20.949Z"
   },
   {
    "duration": 6,
    "start_time": "2024-10-20T20:56:21.068Z"
   },
   {
    "duration": 61,
    "start_time": "2024-10-20T20:56:21.075Z"
   },
   {
    "duration": 30,
    "start_time": "2024-10-20T20:56:21.137Z"
   },
   {
    "duration": 178,
    "start_time": "2024-10-20T20:56:21.168Z"
   },
   {
    "duration": 230,
    "start_time": "2024-10-20T20:56:21.348Z"
   },
   {
    "duration": 256,
    "start_time": "2024-10-20T20:56:21.579Z"
   },
   {
    "duration": 478,
    "start_time": "2024-10-20T20:56:21.837Z"
   },
   {
    "duration": 18,
    "start_time": "2024-10-20T20:56:22.320Z"
   },
   {
    "duration": 25,
    "start_time": "2024-10-20T20:56:22.340Z"
   },
   {
    "duration": 248,
    "start_time": "2024-10-20T20:56:22.367Z"
   },
   {
    "duration": 206,
    "start_time": "2024-10-20T20:56:22.617Z"
   },
   {
    "duration": 258,
    "start_time": "2024-10-20T20:56:22.825Z"
   },
   {
    "duration": 460,
    "start_time": "2024-10-20T20:56:23.085Z"
   },
   {
    "duration": 17,
    "start_time": "2024-10-20T20:56:23.546Z"
   },
   {
    "duration": 29,
    "start_time": "2024-10-20T20:56:23.565Z"
   },
   {
    "duration": 126,
    "start_time": "2024-10-20T20:56:23.596Z"
   },
   {
    "duration": 180,
    "start_time": "2024-10-20T20:56:23.724Z"
   },
   {
    "duration": 223,
    "start_time": "2024-10-20T20:56:23.909Z"
   },
   {
    "duration": 376,
    "start_time": "2024-10-20T20:56:24.134Z"
   },
   {
    "duration": 19,
    "start_time": "2024-10-20T20:56:24.511Z"
   },
   {
    "duration": 21,
    "start_time": "2024-10-20T20:56:24.532Z"
   },
   {
    "duration": 251,
    "start_time": "2024-10-20T20:56:24.555Z"
   },
   {
    "duration": 429,
    "start_time": "2024-10-20T20:56:24.808Z"
   },
   {
    "duration": 274,
    "start_time": "2024-10-20T20:56:25.239Z"
   },
   {
    "duration": 169,
    "start_time": "2024-10-20T20:56:25.521Z"
   },
   {
    "duration": 167,
    "start_time": "2024-10-20T20:56:25.692Z"
   },
   {
    "duration": 187,
    "start_time": "2024-10-20T20:56:25.861Z"
   },
   {
    "duration": 377,
    "start_time": "2024-10-20T20:56:26.049Z"
   },
   {
    "duration": 110,
    "start_time": "2024-10-20T20:56:26.428Z"
   },
   {
    "duration": 156,
    "start_time": "2024-10-20T20:56:26.540Z"
   },
   {
    "duration": 10593,
    "start_time": "2024-10-20T20:56:26.698Z"
   },
   {
    "duration": 2,
    "start_time": "2024-10-20T20:56:37.293Z"
   },
   {
    "duration": 49,
    "start_time": "2024-10-20T20:56:37.297Z"
   },
   {
    "duration": 48,
    "start_time": "2024-10-20T20:56:37.348Z"
   },
   {
    "duration": 3461,
    "start_time": "2024-10-20T20:56:37.398Z"
   },
   {
    "duration": 138668,
    "start_time": "2024-10-20T20:56:40.861Z"
   },
   {
    "duration": 4487,
    "start_time": "2024-10-20T20:58:59.531Z"
   },
   {
    "duration": 223,
    "start_time": "2024-10-20T20:59:04.020Z"
   },
   {
    "duration": 120,
    "start_time": "2024-10-20T20:59:04.245Z"
   },
   {
    "duration": 0,
    "start_time": "2024-10-20T20:59:04.367Z"
   },
   {
    "duration": 0,
    "start_time": "2024-10-20T20:59:04.368Z"
   },
   {
    "duration": 322016,
    "start_time": "2024-10-20T21:02:07.212Z"
   },
   {
    "duration": 7950,
    "start_time": "2024-10-20T21:10:44.176Z"
   },
   {
    "duration": 2704,
    "start_time": "2024-10-20T21:10:52.128Z"
   },
   {
    "duration": 210,
    "start_time": "2024-10-20T21:21:48.954Z"
   },
   {
    "duration": 2595,
    "start_time": "2024-10-20T21:30:01.929Z"
   },
   {
    "duration": 1529,
    "start_time": "2024-10-20T21:30:04.526Z"
   },
   {
    "duration": 972,
    "start_time": "2024-10-20T21:30:06.057Z"
   },
   {
    "duration": 19,
    "start_time": "2024-10-20T21:30:07.031Z"
   },
   {
    "duration": 163,
    "start_time": "2024-10-20T21:30:07.052Z"
   },
   {
    "duration": 5,
    "start_time": "2024-10-20T21:30:07.217Z"
   },
   {
    "duration": 76,
    "start_time": "2024-10-20T21:30:07.223Z"
   },
   {
    "duration": 304,
    "start_time": "2024-10-20T21:30:07.301Z"
   },
   {
    "duration": 108,
    "start_time": "2024-10-20T21:30:07.606Z"
   },
   {
    "duration": 113,
    "start_time": "2024-10-20T21:30:07.720Z"
   },
   {
    "duration": 6,
    "start_time": "2024-10-20T21:30:07.834Z"
   },
   {
    "duration": 60,
    "start_time": "2024-10-20T21:30:07.841Z"
   },
   {
    "duration": 25,
    "start_time": "2024-10-20T21:30:07.903Z"
   },
   {
    "duration": 171,
    "start_time": "2024-10-20T21:30:07.930Z"
   },
   {
    "duration": 199,
    "start_time": "2024-10-20T21:30:08.103Z"
   },
   {
    "duration": 240,
    "start_time": "2024-10-20T21:30:08.304Z"
   },
   {
    "duration": 466,
    "start_time": "2024-10-20T21:30:08.546Z"
   },
   {
    "duration": 22,
    "start_time": "2024-10-20T21:30:09.014Z"
   },
   {
    "duration": 24,
    "start_time": "2024-10-20T21:30:09.039Z"
   },
   {
    "duration": 255,
    "start_time": "2024-10-20T21:30:09.065Z"
   },
   {
    "duration": 202,
    "start_time": "2024-10-20T21:30:09.322Z"
   },
   {
    "duration": 260,
    "start_time": "2024-10-20T21:30:09.526Z"
   },
   {
    "duration": 451,
    "start_time": "2024-10-20T21:30:09.789Z"
   },
   {
    "duration": 16,
    "start_time": "2024-10-20T21:30:10.242Z"
   },
   {
    "duration": 66,
    "start_time": "2024-10-20T21:30:10.260Z"
   },
   {
    "duration": 110,
    "start_time": "2024-10-20T21:30:10.328Z"
   },
   {
    "duration": 165,
    "start_time": "2024-10-20T21:30:10.439Z"
   },
   {
    "duration": 219,
    "start_time": "2024-10-20T21:30:10.607Z"
   },
   {
    "duration": 362,
    "start_time": "2024-10-20T21:30:10.828Z"
   },
   {
    "duration": 17,
    "start_time": "2024-10-20T21:30:11.191Z"
   },
   {
    "duration": 31,
    "start_time": "2024-10-20T21:30:11.210Z"
   },
   {
    "duration": 183,
    "start_time": "2024-10-20T21:30:11.242Z"
   },
   {
    "duration": 409,
    "start_time": "2024-10-20T21:30:11.426Z"
   },
   {
    "duration": 271,
    "start_time": "2024-10-20T21:30:11.837Z"
   },
   {
    "duration": 166,
    "start_time": "2024-10-20T21:30:12.110Z"
   },
   {
    "duration": 159,
    "start_time": "2024-10-20T21:30:12.278Z"
   },
   {
    "duration": 186,
    "start_time": "2024-10-20T21:30:12.439Z"
   },
   {
    "duration": 374,
    "start_time": "2024-10-20T21:30:12.627Z"
   },
   {
    "duration": 106,
    "start_time": "2024-10-20T21:30:13.003Z"
   },
   {
    "duration": 165,
    "start_time": "2024-10-20T21:30:13.110Z"
   },
   {
    "duration": 10260,
    "start_time": "2024-10-20T21:30:13.277Z"
   },
   {
    "duration": 3,
    "start_time": "2024-10-20T21:30:23.540Z"
   },
   {
    "duration": 47,
    "start_time": "2024-10-20T21:30:23.544Z"
   },
   {
    "duration": 46,
    "start_time": "2024-10-20T21:30:23.593Z"
   },
   {
    "duration": 3398,
    "start_time": "2024-10-20T21:30:23.640Z"
   },
   {
    "duration": 137246,
    "start_time": "2024-10-20T21:30:27.040Z"
   },
   {
    "duration": 4541,
    "start_time": "2024-10-20T21:32:44.287Z"
   },
   {
    "duration": 222,
    "start_time": "2024-10-20T21:32:48.829Z"
   },
   {
    "duration": 3446,
    "start_time": "2024-10-21T06:33:53.841Z"
   },
   {
    "duration": 1967,
    "start_time": "2024-10-21T06:33:57.290Z"
   },
   {
    "duration": 1211,
    "start_time": "2024-10-21T06:33:59.259Z"
   },
   {
    "duration": 20,
    "start_time": "2024-10-21T06:34:00.472Z"
   },
   {
    "duration": 205,
    "start_time": "2024-10-21T06:34:00.494Z"
   },
   {
    "duration": 3,
    "start_time": "2024-10-21T06:34:00.701Z"
   },
   {
    "duration": 87,
    "start_time": "2024-10-21T06:34:00.706Z"
   },
   {
    "duration": 314,
    "start_time": "2024-10-21T06:34:00.795Z"
   },
   {
    "duration": 105,
    "start_time": "2024-10-21T06:34:01.111Z"
   },
   {
    "duration": 113,
    "start_time": "2024-10-21T06:34:01.217Z"
   },
   {
    "duration": 5,
    "start_time": "2024-10-21T06:34:01.332Z"
   },
   {
    "duration": 60,
    "start_time": "2024-10-21T06:34:01.338Z"
   },
   {
    "duration": 28,
    "start_time": "2024-10-21T06:34:01.400Z"
   },
   {
    "duration": 174,
    "start_time": "2024-10-21T06:34:01.431Z"
   },
   {
    "duration": 216,
    "start_time": "2024-10-21T06:34:01.606Z"
   },
   {
    "duration": 236,
    "start_time": "2024-10-21T06:34:01.824Z"
   },
   {
    "duration": 469,
    "start_time": "2024-10-21T06:34:02.062Z"
   },
   {
    "duration": 18,
    "start_time": "2024-10-21T06:34:02.532Z"
   },
   {
    "duration": 42,
    "start_time": "2024-10-21T06:34:02.552Z"
   },
   {
    "duration": 339,
    "start_time": "2024-10-21T06:34:02.597Z"
   },
   {
    "duration": 203,
    "start_time": "2024-10-21T06:34:02.938Z"
   },
   {
    "duration": 246,
    "start_time": "2024-10-21T06:34:03.142Z"
   },
   {
    "duration": 425,
    "start_time": "2024-10-21T06:34:03.397Z"
   },
   {
    "duration": 17,
    "start_time": "2024-10-21T06:34:03.823Z"
   },
   {
    "duration": 21,
    "start_time": "2024-10-21T06:34:03.841Z"
   },
   {
    "duration": 135,
    "start_time": "2024-10-21T06:34:03.864Z"
   },
   {
    "duration": 167,
    "start_time": "2024-10-21T06:34:04.000Z"
   },
   {
    "duration": 206,
    "start_time": "2024-10-21T06:34:04.169Z"
   },
   {
    "duration": 330,
    "start_time": "2024-10-21T06:34:04.377Z"
   },
   {
    "duration": 16,
    "start_time": "2024-10-21T06:34:04.709Z"
   },
   {
    "duration": 22,
    "start_time": "2024-10-21T06:34:04.726Z"
   },
   {
    "duration": 194,
    "start_time": "2024-10-21T06:34:04.750Z"
   },
   {
    "duration": 409,
    "start_time": "2024-10-21T06:34:04.946Z"
   },
   {
    "duration": 264,
    "start_time": "2024-10-21T06:34:05.357Z"
   },
   {
    "duration": 165,
    "start_time": "2024-10-21T06:34:05.623Z"
   },
   {
    "duration": 152,
    "start_time": "2024-10-21T06:34:05.797Z"
   },
   {
    "duration": 184,
    "start_time": "2024-10-21T06:34:05.951Z"
   },
   {
    "duration": 380,
    "start_time": "2024-10-21T06:34:06.137Z"
   },
   {
    "duration": 112,
    "start_time": "2024-10-21T06:34:06.519Z"
   },
   {
    "duration": 153,
    "start_time": "2024-10-21T06:34:06.632Z"
   },
   {
    "duration": 10252,
    "start_time": "2024-10-21T06:34:06.789Z"
   },
   {
    "duration": 2,
    "start_time": "2024-10-21T06:34:17.043Z"
   },
   {
    "duration": 30,
    "start_time": "2024-10-21T06:34:17.046Z"
   },
   {
    "duration": 68,
    "start_time": "2024-10-21T06:34:17.078Z"
   },
   {
    "duration": 3337,
    "start_time": "2024-10-21T06:34:17.148Z"
   },
   {
    "duration": 139065,
    "start_time": "2024-10-21T06:34:20.487Z"
   },
   {
    "duration": 4501,
    "start_time": "2024-10-21T06:36:39.553Z"
   },
   {
    "duration": 223,
    "start_time": "2024-10-21T06:36:44.056Z"
   },
   {
    "duration": 151417,
    "start_time": "2024-10-21T06:36:44.281Z"
   },
   {
    "duration": 6205,
    "start_time": "2024-10-21T06:39:15.699Z"
   },
   {
    "duration": 2716,
    "start_time": "2024-10-21T06:39:21.906Z"
   },
   {
    "duration": 291,
    "start_time": "2024-10-21T06:39:24.623Z"
   }
  ],
  "kernelspec": {
   "display_name": "Python 3 (ipykernel)",
   "language": "python",
   "name": "python3"
  },
  "language_info": {
   "codemirror_mode": {
    "name": "ipython",
    "version": 3
   },
   "file_extension": ".py",
   "mimetype": "text/x-python",
   "name": "python",
   "nbconvert_exporter": "python",
   "pygments_lexer": "ipython3",
   "version": "3.11.7"
  },
  "toc": {
   "base_numbering": 1,
   "nav_menu": {
    "height": "192px",
    "width": "619px"
   },
   "number_sections": true,
   "sideBar": true,
   "skip_h1_title": true,
   "title_cell": "Table of Contents",
   "title_sidebar": "Contents",
   "toc_cell": false,
   "toc_position": {},
   "toc_section_display": true,
   "toc_window_display": true
  }
 },
 "nbformat": 4,
 "nbformat_minor": 4
}
