{
 "cells": [
  {
   "cell_type": "markdown",
   "metadata": {},
   "source": [
    "# Выбор локации для скважины"
   ]
  },
  {
   "cell_type": "markdown",
   "metadata": {},
   "source": [
    "Предоставлены пробы нефти в трёх регионах: в каждом 10 000 месторождений, где измерили качество нефти и объём её запасов. Необходимо построить модель машинного обучения, которая поможет определить регион, где добыча принесёт наибольшую прибыль. Проанализируйте возможную прибыль и риски техникой *Bootstrap.*\n",
    "\n",
    "**Шаги для выбора локации:**\n",
    "\n",
    "- В избранном регионе ищут месторождения, для каждого определяют значения признаков;\n",
    "- Строят модель и оценивают объём запасов;\n",
    "- Выбирают месторождения с самым высокими оценками значений. Количество месторождений зависит от бюджета компании и стоимости разработки одной скважины;\n",
    "- Прибыль равна суммарной прибыли отобранных месторождений.\n",
    "\n",
    "**Описание данных**\n",
    "\n",
    "Данные геологоразведки трёх регионов находятся в файлах:\n",
    "- /datasets/geo_data_0.csv;\n",
    "- /datasets/geo_data_1.csv;\n",
    "- /datasets/geo_data_2.csv.\n",
    "\n",
    "- id — уникальный идентификатор скважины;\n",
    "- f0, f1, f2 — три признака точек (неважно, что они означают, но сами признаки значимы);\n",
    "- product — объём запасов в скважине (тыс. баррелей).\n",
    "\n",
    "**Условия задачи:**\n",
    "\n",
    "- для обучения модели подходит только линейная регрессия (остальные — недостаточно предсказуемые);\n",
    "- при разведке региона исследуют 500 точек, из которых с помощью машинного обучения выбирают 200 лучших для разработки.\n",
    "- бюджет на разработку скважин в регионе — 10 млрд рублей.\n",
    "- при нынешних ценах один баррель сырья приносит 450 рублей дохода. Доход с каждой единицы продукта составляет 450 тыс. рублей, поскольку объём указан в тысячах баррелей.\n",
    "- после оценки рисков нужно оставить лишь те регионы, в которых вероятность убытков меньше 2.5%. Среди них выбирают регион с наибольшей средней прибылью.\n",
    "\n",
    "**Для выполнения данного проекта необходимо:**\n",
    "\n",
    "1. Загрузить и подготовить данные (загрузка, предобработка, исследовательский анализ).\n",
    "2. Обучить и проверить модель для каждого региона.\n",
    "3. Подготовка к расчёту прибыли (расчет достаточного объёма сырья для безубыточной разработки новой скважины).\n",
    "4. Написать функцию для расчёта прибыли по выбранным скважинам и предсказаниям модели.\n",
    "5. Посчитать риски и прибыль для каждого региона.\n",
    "6. Написать выводы."
   ]
  },
  {
   "cell_type": "code",
   "execution_count": 1,
   "metadata": {},
   "outputs": [
    {
     "name": "stdout",
     "output_type": "stream",
     "text": [
      "Collecting phik\n",
      "  Downloading phik-0.12.4-cp39-cp39-manylinux_2_17_x86_64.manylinux2014_x86_64.whl (686 kB)\n",
      "\u001b[K     |████████████████████████████████| 686 kB 1.2 MB/s eta 0:00:01\n",
      "\u001b[?25hRequirement already satisfied: scipy>=1.5.2 in /opt/conda/lib/python3.9/site-packages (from phik) (1.9.1)\n",
      "Requirement already satisfied: pandas>=0.25.1 in /opt/conda/lib/python3.9/site-packages (from phik) (1.2.4)\n",
      "Requirement already satisfied: matplotlib>=2.2.3 in /opt/conda/lib/python3.9/site-packages (from phik) (3.3.4)\n",
      "Requirement already satisfied: joblib>=0.14.1 in /opt/conda/lib/python3.9/site-packages (from phik) (1.1.0)\n",
      "Requirement already satisfied: numpy>=1.18.0 in /opt/conda/lib/python3.9/site-packages (from phik) (1.21.1)\n",
      "Requirement already satisfied: pyparsing!=2.0.4,!=2.1.2,!=2.1.6,>=2.0.3 in /opt/conda/lib/python3.9/site-packages (from matplotlib>=2.2.3->phik) (2.4.7)\n",
      "Requirement already satisfied: kiwisolver>=1.0.1 in /opt/conda/lib/python3.9/site-packages (from matplotlib>=2.2.3->phik) (1.4.4)\n",
      "Requirement already satisfied: cycler>=0.10 in /opt/conda/lib/python3.9/site-packages (from matplotlib>=2.2.3->phik) (0.11.0)\n",
      "Requirement already satisfied: python-dateutil>=2.1 in /opt/conda/lib/python3.9/site-packages (from matplotlib>=2.2.3->phik) (2.8.1)\n",
      "Requirement already satisfied: pillow>=6.2.0 in /opt/conda/lib/python3.9/site-packages (from matplotlib>=2.2.3->phik) (8.4.0)\n",
      "Requirement already satisfied: pytz>=2017.3 in /opt/conda/lib/python3.9/site-packages (from pandas>=0.25.1->phik) (2021.1)\n",
      "Requirement already satisfied: six>=1.5 in /opt/conda/lib/python3.9/site-packages (from python-dateutil>=2.1->matplotlib>=2.2.3->phik) (1.16.0)\n",
      "Installing collected packages: phik\n",
      "Successfully installed phik-0.12.4\n",
      "Collecting shap\n",
      "  Downloading shap-0.46.0-cp39-cp39-manylinux_2_12_x86_64.manylinux2010_x86_64.manylinux_2_17_x86_64.manylinux2014_x86_64.whl (539 kB)\n",
      "\u001b[K     |████████████████████████████████| 539 kB 1.2 MB/s eta 0:00:01\n",
      "\u001b[?25hRequirement already satisfied: scipy in /opt/conda/lib/python3.9/site-packages (from shap) (1.9.1)\n",
      "Requirement already satisfied: tqdm>=4.27.0 in /opt/conda/lib/python3.9/site-packages (from shap) (4.61.2)\n",
      "Requirement already satisfied: numba in /opt/conda/lib/python3.9/site-packages (from shap) (0.56.0)\n",
      "Collecting slicer==0.0.8\n",
      "  Downloading slicer-0.0.8-py3-none-any.whl (15 kB)\n",
      "Collecting cloudpickle\n",
      "  Downloading cloudpickle-3.0.0-py3-none-any.whl (20 kB)\n",
      "Requirement already satisfied: pandas in /opt/conda/lib/python3.9/site-packages (from shap) (1.2.4)\n",
      "Requirement already satisfied: scikit-learn in /opt/conda/lib/python3.9/site-packages (from shap) (0.24.1)\n",
      "Requirement already satisfied: numpy in /opt/conda/lib/python3.9/site-packages (from shap) (1.21.1)\n",
      "Requirement already satisfied: packaging>20.9 in /opt/conda/lib/python3.9/site-packages (from shap) (21.3)\n",
      "Requirement already satisfied: pyparsing!=3.0.5,>=2.0.2 in /opt/conda/lib/python3.9/site-packages (from packaging>20.9->shap) (2.4.7)\n",
      "Requirement already satisfied: llvmlite<0.40,>=0.39.0dev0 in /opt/conda/lib/python3.9/site-packages (from numba->shap) (0.39.0)\n",
      "Requirement already satisfied: setuptools in /opt/conda/lib/python3.9/site-packages (from numba->shap) (49.6.0.post20210108)\n",
      "Requirement already satisfied: python-dateutil>=2.7.3 in /opt/conda/lib/python3.9/site-packages (from pandas->shap) (2.8.1)\n",
      "Requirement already satisfied: pytz>=2017.3 in /opt/conda/lib/python3.9/site-packages (from pandas->shap) (2021.1)\n",
      "Requirement already satisfied: six>=1.5 in /opt/conda/lib/python3.9/site-packages (from python-dateutil>=2.7.3->pandas->shap) (1.16.0)\n",
      "Requirement already satisfied: threadpoolctl>=2.0.0 in /opt/conda/lib/python3.9/site-packages (from scikit-learn->shap) (3.1.0)\n",
      "Requirement already satisfied: joblib>=0.11 in /opt/conda/lib/python3.9/site-packages (from scikit-learn->shap) (1.1.0)\n",
      "Installing collected packages: slicer, cloudpickle, shap\n",
      "Successfully installed cloudpickle-3.0.0 shap-0.46.0 slicer-0.0.8\n",
      "Requirement already satisfied: scikit-learn in /opt/conda/lib/python3.9/site-packages (0.24.1)\n",
      "Collecting scikit-learn\n",
      "  Downloading scikit_learn-1.5.2-cp39-cp39-manylinux_2_17_x86_64.manylinux2014_x86_64.whl (13.4 MB)\n",
      "\u001b[K     |████████████████████████████████| 13.4 MB 1.2 MB/s eta 0:00:01\n",
      "\u001b[?25hRequirement already satisfied: threadpoolctl>=3.1.0 in /opt/conda/lib/python3.9/site-packages (from scikit-learn) (3.1.0)\n",
      "Requirement already satisfied: scipy>=1.6.0 in /opt/conda/lib/python3.9/site-packages (from scikit-learn) (1.9.1)\n",
      "Requirement already satisfied: numpy>=1.19.5 in /opt/conda/lib/python3.9/site-packages (from scikit-learn) (1.21.1)\n",
      "Collecting joblib>=1.2.0\n",
      "  Downloading joblib-1.4.2-py3-none-any.whl (301 kB)\n",
      "\u001b[K     |████████████████████████████████| 301 kB 63.4 MB/s eta 0:00:01\n",
      "\u001b[?25hInstalling collected packages: joblib, scikit-learn\n",
      "  Attempting uninstall: joblib\n",
      "    Found existing installation: joblib 1.1.0\n",
      "    Uninstalling joblib-1.1.0:\n",
      "      Successfully uninstalled joblib-1.1.0\n",
      "  Attempting uninstall: scikit-learn\n",
      "    Found existing installation: scikit-learn 0.24.1\n",
      "    Uninstalling scikit-learn-0.24.1:\n",
      "      Successfully uninstalled scikit-learn-0.24.1\n",
      "Successfully installed joblib-1.4.2 scikit-learn-1.5.2\n"
     ]
    }
   ],
   "source": [
    "!pip install phik\n",
    "!pip install shap \n",
    "!pip install -U scikit-learn"
   ]
  },
  {
   "cell_type": "code",
   "execution_count": 2,
   "metadata": {},
   "outputs": [],
   "source": [
    "import pandas as pd\n",
    "import numpy as np\n",
    "import seaborn as sns\n",
    "import matplotlib.pyplot as plt\n",
    "from sklearn.model_selection import train_test_split\n",
    "from sklearn.linear_model import LinearRegression\n",
    "from sklearn.preprocessing import StandardScaler, OneHotEncoder\n",
    "from sklearn.metrics import mean_squared_error"
   ]
  },
  {
   "cell_type": "markdown",
   "metadata": {},
   "source": [
    "## Загрузка и подготовка данных"
   ]
  },
  {
   "cell_type": "markdown",
   "metadata": {},
   "source": [
    "### Загрузка данных"
   ]
  },
  {
   "cell_type": "code",
   "execution_count": 3,
   "metadata": {},
   "outputs": [],
   "source": [
    "#считывание csv-файлов и сохранение в датафреймы\n",
    "geo_data_0 = pd.read_csv('/datasets/geo_data_0.csv', sep=',')\n",
    "geo_data_1 = pd.read_csv('/datasets/geo_data_1.csv', sep=',')\n",
    "geo_data_2 = pd.read_csv('/datasets/geo_data_2.csv', sep=',')"
   ]
  },
  {
   "cell_type": "code",
   "execution_count": 4,
   "metadata": {},
   "outputs": [
    {
     "data": {
      "text/html": [
       "<div>\n",
       "<style scoped>\n",
       "    .dataframe tbody tr th:only-of-type {\n",
       "        vertical-align: middle;\n",
       "    }\n",
       "\n",
       "    .dataframe tbody tr th {\n",
       "        vertical-align: top;\n",
       "    }\n",
       "\n",
       "    .dataframe thead th {\n",
       "        text-align: right;\n",
       "    }\n",
       "</style>\n",
       "<table border=\"1\" class=\"dataframe\">\n",
       "  <thead>\n",
       "    <tr style=\"text-align: right;\">\n",
       "      <th></th>\n",
       "      <th>id</th>\n",
       "      <th>f0</th>\n",
       "      <th>f1</th>\n",
       "      <th>f2</th>\n",
       "      <th>product</th>\n",
       "    </tr>\n",
       "  </thead>\n",
       "  <tbody>\n",
       "    <tr>\n",
       "      <th>0</th>\n",
       "      <td>txEyH</td>\n",
       "      <td>0.705745</td>\n",
       "      <td>-0.497823</td>\n",
       "      <td>1.221170</td>\n",
       "      <td>105.280062</td>\n",
       "    </tr>\n",
       "    <tr>\n",
       "      <th>1</th>\n",
       "      <td>2acmU</td>\n",
       "      <td>1.334711</td>\n",
       "      <td>-0.340164</td>\n",
       "      <td>4.365080</td>\n",
       "      <td>73.037750</td>\n",
       "    </tr>\n",
       "    <tr>\n",
       "      <th>2</th>\n",
       "      <td>409Wp</td>\n",
       "      <td>1.022732</td>\n",
       "      <td>0.151990</td>\n",
       "      <td>1.419926</td>\n",
       "      <td>85.265647</td>\n",
       "    </tr>\n",
       "    <tr>\n",
       "      <th>3</th>\n",
       "      <td>iJLyR</td>\n",
       "      <td>-0.032172</td>\n",
       "      <td>0.139033</td>\n",
       "      <td>2.978566</td>\n",
       "      <td>168.620776</td>\n",
       "    </tr>\n",
       "    <tr>\n",
       "      <th>4</th>\n",
       "      <td>Xdl7t</td>\n",
       "      <td>1.988431</td>\n",
       "      <td>0.155413</td>\n",
       "      <td>4.751769</td>\n",
       "      <td>154.036647</td>\n",
       "    </tr>\n",
       "    <tr>\n",
       "      <th>5</th>\n",
       "      <td>wX4Hy</td>\n",
       "      <td>0.969570</td>\n",
       "      <td>0.489775</td>\n",
       "      <td>-0.735383</td>\n",
       "      <td>64.741541</td>\n",
       "    </tr>\n",
       "    <tr>\n",
       "      <th>6</th>\n",
       "      <td>tL6pL</td>\n",
       "      <td>0.645075</td>\n",
       "      <td>0.530656</td>\n",
       "      <td>1.780266</td>\n",
       "      <td>49.055285</td>\n",
       "    </tr>\n",
       "    <tr>\n",
       "      <th>7</th>\n",
       "      <td>BYPU6</td>\n",
       "      <td>-0.400648</td>\n",
       "      <td>0.808337</td>\n",
       "      <td>-5.624670</td>\n",
       "      <td>72.943292</td>\n",
       "    </tr>\n",
       "    <tr>\n",
       "      <th>8</th>\n",
       "      <td>j9Oui</td>\n",
       "      <td>0.643105</td>\n",
       "      <td>-0.551583</td>\n",
       "      <td>2.372141</td>\n",
       "      <td>113.356160</td>\n",
       "    </tr>\n",
       "    <tr>\n",
       "      <th>9</th>\n",
       "      <td>OLuZU</td>\n",
       "      <td>2.173381</td>\n",
       "      <td>0.563698</td>\n",
       "      <td>9.441852</td>\n",
       "      <td>127.910945</td>\n",
       "    </tr>\n",
       "  </tbody>\n",
       "</table>\n",
       "</div>"
      ],
      "text/plain": [
       "      id        f0        f1        f2     product\n",
       "0  txEyH  0.705745 -0.497823  1.221170  105.280062\n",
       "1  2acmU  1.334711 -0.340164  4.365080   73.037750\n",
       "2  409Wp  1.022732  0.151990  1.419926   85.265647\n",
       "3  iJLyR -0.032172  0.139033  2.978566  168.620776\n",
       "4  Xdl7t  1.988431  0.155413  4.751769  154.036647\n",
       "5  wX4Hy  0.969570  0.489775 -0.735383   64.741541\n",
       "6  tL6pL  0.645075  0.530656  1.780266   49.055285\n",
       "7  BYPU6 -0.400648  0.808337 -5.624670   72.943292\n",
       "8  j9Oui  0.643105 -0.551583  2.372141  113.356160\n",
       "9  OLuZU  2.173381  0.563698  9.441852  127.910945"
      ]
     },
     "execution_count": 4,
     "metadata": {},
     "output_type": "execute_result"
    }
   ],
   "source": [
    "# получение первых 10 строк датафрейма geo_data_0\n",
    "geo_data_0.head(10)"
   ]
  },
  {
   "cell_type": "code",
   "execution_count": 5,
   "metadata": {},
   "outputs": [
    {
     "name": "stdout",
     "output_type": "stream",
     "text": [
      "<class 'pandas.core.frame.DataFrame'>\n",
      "RangeIndex: 100000 entries, 0 to 99999\n",
      "Data columns (total 5 columns):\n",
      " #   Column   Non-Null Count   Dtype  \n",
      "---  ------   --------------   -----  \n",
      " 0   id       100000 non-null  object \n",
      " 1   f0       100000 non-null  float64\n",
      " 2   f1       100000 non-null  float64\n",
      " 3   f2       100000 non-null  float64\n",
      " 4   product  100000 non-null  float64\n",
      "dtypes: float64(4), object(1)\n",
      "memory usage: 3.8+ MB\n"
     ]
    }
   ],
   "source": [
    "# вывод основной информации о датафрейме geo_data_0\n",
    "geo_data_0.info()"
   ]
  },
  {
   "cell_type": "code",
   "execution_count": 6,
   "metadata": {},
   "outputs": [
    {
     "data": {
      "text/html": [
       "<div>\n",
       "<style scoped>\n",
       "    .dataframe tbody tr th:only-of-type {\n",
       "        vertical-align: middle;\n",
       "    }\n",
       "\n",
       "    .dataframe tbody tr th {\n",
       "        vertical-align: top;\n",
       "    }\n",
       "\n",
       "    .dataframe thead th {\n",
       "        text-align: right;\n",
       "    }\n",
       "</style>\n",
       "<table border=\"1\" class=\"dataframe\">\n",
       "  <thead>\n",
       "    <tr style=\"text-align: right;\">\n",
       "      <th></th>\n",
       "      <th>id</th>\n",
       "      <th>f0</th>\n",
       "      <th>f1</th>\n",
       "      <th>f2</th>\n",
       "      <th>product</th>\n",
       "    </tr>\n",
       "  </thead>\n",
       "  <tbody>\n",
       "    <tr>\n",
       "      <th>0</th>\n",
       "      <td>kBEdx</td>\n",
       "      <td>-15.001348</td>\n",
       "      <td>-8.276000</td>\n",
       "      <td>-0.005876</td>\n",
       "      <td>3.179103</td>\n",
       "    </tr>\n",
       "    <tr>\n",
       "      <th>1</th>\n",
       "      <td>62mP7</td>\n",
       "      <td>14.272088</td>\n",
       "      <td>-3.475083</td>\n",
       "      <td>0.999183</td>\n",
       "      <td>26.953261</td>\n",
       "    </tr>\n",
       "    <tr>\n",
       "      <th>2</th>\n",
       "      <td>vyE1P</td>\n",
       "      <td>6.263187</td>\n",
       "      <td>-5.948386</td>\n",
       "      <td>5.001160</td>\n",
       "      <td>134.766305</td>\n",
       "    </tr>\n",
       "    <tr>\n",
       "      <th>3</th>\n",
       "      <td>KcrkZ</td>\n",
       "      <td>-13.081196</td>\n",
       "      <td>-11.506057</td>\n",
       "      <td>4.999415</td>\n",
       "      <td>137.945408</td>\n",
       "    </tr>\n",
       "    <tr>\n",
       "      <th>4</th>\n",
       "      <td>AHL4O</td>\n",
       "      <td>12.702195</td>\n",
       "      <td>-8.147433</td>\n",
       "      <td>5.004363</td>\n",
       "      <td>134.766305</td>\n",
       "    </tr>\n",
       "    <tr>\n",
       "      <th>5</th>\n",
       "      <td>HHckp</td>\n",
       "      <td>-3.327590</td>\n",
       "      <td>-2.205276</td>\n",
       "      <td>3.003647</td>\n",
       "      <td>84.038886</td>\n",
       "    </tr>\n",
       "    <tr>\n",
       "      <th>6</th>\n",
       "      <td>h5Ujo</td>\n",
       "      <td>-11.142655</td>\n",
       "      <td>-10.133399</td>\n",
       "      <td>4.002382</td>\n",
       "      <td>110.992147</td>\n",
       "    </tr>\n",
       "    <tr>\n",
       "      <th>7</th>\n",
       "      <td>muH9x</td>\n",
       "      <td>4.234715</td>\n",
       "      <td>-0.001354</td>\n",
       "      <td>2.004588</td>\n",
       "      <td>53.906522</td>\n",
       "    </tr>\n",
       "    <tr>\n",
       "      <th>8</th>\n",
       "      <td>YiRkx</td>\n",
       "      <td>13.355129</td>\n",
       "      <td>-0.332068</td>\n",
       "      <td>4.998647</td>\n",
       "      <td>134.766305</td>\n",
       "    </tr>\n",
       "    <tr>\n",
       "      <th>9</th>\n",
       "      <td>jG6Gi</td>\n",
       "      <td>1.069227</td>\n",
       "      <td>-11.025667</td>\n",
       "      <td>4.997844</td>\n",
       "      <td>137.945408</td>\n",
       "    </tr>\n",
       "  </tbody>\n",
       "</table>\n",
       "</div>"
      ],
      "text/plain": [
       "      id         f0         f1        f2     product\n",
       "0  kBEdx -15.001348  -8.276000 -0.005876    3.179103\n",
       "1  62mP7  14.272088  -3.475083  0.999183   26.953261\n",
       "2  vyE1P   6.263187  -5.948386  5.001160  134.766305\n",
       "3  KcrkZ -13.081196 -11.506057  4.999415  137.945408\n",
       "4  AHL4O  12.702195  -8.147433  5.004363  134.766305\n",
       "5  HHckp  -3.327590  -2.205276  3.003647   84.038886\n",
       "6  h5Ujo -11.142655 -10.133399  4.002382  110.992147\n",
       "7  muH9x   4.234715  -0.001354  2.004588   53.906522\n",
       "8  YiRkx  13.355129  -0.332068  4.998647  134.766305\n",
       "9  jG6Gi   1.069227 -11.025667  4.997844  137.945408"
      ]
     },
     "execution_count": 6,
     "metadata": {},
     "output_type": "execute_result"
    }
   ],
   "source": [
    "# получение первых 10 строк датафрейма geo_data_1\n",
    "geo_data_1.head(10)"
   ]
  },
  {
   "cell_type": "code",
   "execution_count": 7,
   "metadata": {},
   "outputs": [
    {
     "name": "stdout",
     "output_type": "stream",
     "text": [
      "<class 'pandas.core.frame.DataFrame'>\n",
      "RangeIndex: 100000 entries, 0 to 99999\n",
      "Data columns (total 5 columns):\n",
      " #   Column   Non-Null Count   Dtype  \n",
      "---  ------   --------------   -----  \n",
      " 0   id       100000 non-null  object \n",
      " 1   f0       100000 non-null  float64\n",
      " 2   f1       100000 non-null  float64\n",
      " 3   f2       100000 non-null  float64\n",
      " 4   product  100000 non-null  float64\n",
      "dtypes: float64(4), object(1)\n",
      "memory usage: 3.8+ MB\n"
     ]
    }
   ],
   "source": [
    "# вывод основной информации о датафрейме geo_data_1\n",
    "geo_data_1.info()"
   ]
  },
  {
   "cell_type": "code",
   "execution_count": 8,
   "metadata": {},
   "outputs": [
    {
     "data": {
      "text/html": [
       "<div>\n",
       "<style scoped>\n",
       "    .dataframe tbody tr th:only-of-type {\n",
       "        vertical-align: middle;\n",
       "    }\n",
       "\n",
       "    .dataframe tbody tr th {\n",
       "        vertical-align: top;\n",
       "    }\n",
       "\n",
       "    .dataframe thead th {\n",
       "        text-align: right;\n",
       "    }\n",
       "</style>\n",
       "<table border=\"1\" class=\"dataframe\">\n",
       "  <thead>\n",
       "    <tr style=\"text-align: right;\">\n",
       "      <th></th>\n",
       "      <th>id</th>\n",
       "      <th>f0</th>\n",
       "      <th>f1</th>\n",
       "      <th>f2</th>\n",
       "      <th>product</th>\n",
       "    </tr>\n",
       "  </thead>\n",
       "  <tbody>\n",
       "    <tr>\n",
       "      <th>0</th>\n",
       "      <td>fwXo0</td>\n",
       "      <td>-1.146987</td>\n",
       "      <td>0.963328</td>\n",
       "      <td>-0.828965</td>\n",
       "      <td>27.758673</td>\n",
       "    </tr>\n",
       "    <tr>\n",
       "      <th>1</th>\n",
       "      <td>WJtFt</td>\n",
       "      <td>0.262778</td>\n",
       "      <td>0.269839</td>\n",
       "      <td>-2.530187</td>\n",
       "      <td>56.069697</td>\n",
       "    </tr>\n",
       "    <tr>\n",
       "      <th>2</th>\n",
       "      <td>ovLUW</td>\n",
       "      <td>0.194587</td>\n",
       "      <td>0.289035</td>\n",
       "      <td>-5.586433</td>\n",
       "      <td>62.871910</td>\n",
       "    </tr>\n",
       "    <tr>\n",
       "      <th>3</th>\n",
       "      <td>q6cA6</td>\n",
       "      <td>2.236060</td>\n",
       "      <td>-0.553760</td>\n",
       "      <td>0.930038</td>\n",
       "      <td>114.572842</td>\n",
       "    </tr>\n",
       "    <tr>\n",
       "      <th>4</th>\n",
       "      <td>WPMUX</td>\n",
       "      <td>-0.515993</td>\n",
       "      <td>1.716266</td>\n",
       "      <td>5.899011</td>\n",
       "      <td>149.600746</td>\n",
       "    </tr>\n",
       "    <tr>\n",
       "      <th>5</th>\n",
       "      <td>LzZXx</td>\n",
       "      <td>-0.758092</td>\n",
       "      <td>0.710691</td>\n",
       "      <td>2.585887</td>\n",
       "      <td>90.222465</td>\n",
       "    </tr>\n",
       "    <tr>\n",
       "      <th>6</th>\n",
       "      <td>WBHRv</td>\n",
       "      <td>-0.574891</td>\n",
       "      <td>0.317727</td>\n",
       "      <td>1.773745</td>\n",
       "      <td>45.641478</td>\n",
       "    </tr>\n",
       "    <tr>\n",
       "      <th>7</th>\n",
       "      <td>XO8fn</td>\n",
       "      <td>-1.906649</td>\n",
       "      <td>-2.458350</td>\n",
       "      <td>-0.177097</td>\n",
       "      <td>72.480640</td>\n",
       "    </tr>\n",
       "    <tr>\n",
       "      <th>8</th>\n",
       "      <td>ybmQ5</td>\n",
       "      <td>1.776292</td>\n",
       "      <td>-0.279356</td>\n",
       "      <td>3.004156</td>\n",
       "      <td>106.616832</td>\n",
       "    </tr>\n",
       "    <tr>\n",
       "      <th>9</th>\n",
       "      <td>OilcN</td>\n",
       "      <td>-1.214452</td>\n",
       "      <td>-0.439314</td>\n",
       "      <td>5.922514</td>\n",
       "      <td>52.954532</td>\n",
       "    </tr>\n",
       "  </tbody>\n",
       "</table>\n",
       "</div>"
      ],
      "text/plain": [
       "      id        f0        f1        f2     product\n",
       "0  fwXo0 -1.146987  0.963328 -0.828965   27.758673\n",
       "1  WJtFt  0.262778  0.269839 -2.530187   56.069697\n",
       "2  ovLUW  0.194587  0.289035 -5.586433   62.871910\n",
       "3  q6cA6  2.236060 -0.553760  0.930038  114.572842\n",
       "4  WPMUX -0.515993  1.716266  5.899011  149.600746\n",
       "5  LzZXx -0.758092  0.710691  2.585887   90.222465\n",
       "6  WBHRv -0.574891  0.317727  1.773745   45.641478\n",
       "7  XO8fn -1.906649 -2.458350 -0.177097   72.480640\n",
       "8  ybmQ5  1.776292 -0.279356  3.004156  106.616832\n",
       "9  OilcN -1.214452 -0.439314  5.922514   52.954532"
      ]
     },
     "execution_count": 8,
     "metadata": {},
     "output_type": "execute_result"
    }
   ],
   "source": [
    "# получение первых 10 строк датафрейма geo_data_2\n",
    "geo_data_2.head(10)"
   ]
  },
  {
   "cell_type": "code",
   "execution_count": 9,
   "metadata": {},
   "outputs": [
    {
     "name": "stdout",
     "output_type": "stream",
     "text": [
      "<class 'pandas.core.frame.DataFrame'>\n",
      "RangeIndex: 100000 entries, 0 to 99999\n",
      "Data columns (total 5 columns):\n",
      " #   Column   Non-Null Count   Dtype  \n",
      "---  ------   --------------   -----  \n",
      " 0   id       100000 non-null  object \n",
      " 1   f0       100000 non-null  float64\n",
      " 2   f1       100000 non-null  float64\n",
      " 3   f2       100000 non-null  float64\n",
      " 4   product  100000 non-null  float64\n",
      "dtypes: float64(4), object(1)\n",
      "memory usage: 3.8+ MB\n"
     ]
    }
   ],
   "source": [
    "# вывод основной информации о датафрейме geo_data_2\n",
    "geo_data_2.info()"
   ]
  },
  {
   "cell_type": "markdown",
   "metadata": {},
   "source": [
    "### Предобработка данных"
   ]
  },
  {
   "cell_type": "code",
   "execution_count": 10,
   "metadata": {},
   "outputs": [
    {
     "data": {
      "text/plain": [
       "0"
      ]
     },
     "execution_count": 10,
     "metadata": {},
     "output_type": "execute_result"
    }
   ],
   "source": [
    "# определение количества дубликатов в датафрейме geo_data_0\n",
    "geo_data_0.duplicated().sum()"
   ]
  },
  {
   "cell_type": "code",
   "execution_count": 11,
   "metadata": {},
   "outputs": [
    {
     "data": {
      "text/plain": [
       "0"
      ]
     },
     "execution_count": 11,
     "metadata": {},
     "output_type": "execute_result"
    }
   ],
   "source": [
    "# определение количества дубликатов в датафрейме geo_data_1\n",
    "geo_data_1.duplicated().sum()"
   ]
  },
  {
   "cell_type": "code",
   "execution_count": 12,
   "metadata": {},
   "outputs": [
    {
     "data": {
      "text/plain": [
       "0"
      ]
     },
     "execution_count": 12,
     "metadata": {},
     "output_type": "execute_result"
    }
   ],
   "source": [
    "# определение количества дубликатов в датафрейме geo_data_2\n",
    "geo_data_2.duplicated().sum()"
   ]
  },
  {
   "cell_type": "markdown",
   "metadata": {},
   "source": [
    "### Исследовательский анализ данных"
   ]
  },
  {
   "cell_type": "code",
   "execution_count": 13,
   "metadata": {},
   "outputs": [
    {
     "data": {
      "image/png": "[encoded data removed]",
      "text/plain": [
       "<Figure size 1080x360 with 1 Axes>"
      ]
     },
     "metadata": {
      "needs_background": "light"
     },
     "output_type": "display_data"
    }
   ],
   "source": [
    "#построение гистограммы по столбцу f0\n",
    "geo_data_0['f0'].hist(bins=50, range = (-2, 3), figsize=(15, 5));\n",
    "plt.title('f0');"
   ]
  },
  {
   "cell_type": "code",
   "execution_count": 14,
   "metadata": {},
   "outputs": [
    {
     "data": {
      "image/png": "[encoded data removed]",
      "text/plain": [
       "<Figure size 1224x144 with 1 Axes>"
      ]
     },
     "metadata": {
      "needs_background": "light"
     },
     "output_type": "display_data"
    }
   ],
   "source": [
    "# построение диаграммы размаха по столбцу f0\n",
    "fig, ax = plt.subplots(figsize = (17,2))\n",
    "ax = geo_data_0[['f0']].boxplot(vert = False, ax =ax)\n",
    "ax.set_title('f0')\n",
    "ax.set_xlim(-2, 3);"
   ]
  },
  {
   "cell_type": "code",
   "execution_count": 15,
   "metadata": {},
   "outputs": [
    {
     "data": {
      "text/plain": [
       "count    100000.000000\n",
       "mean          0.500419\n",
       "std           0.871832\n",
       "min          -1.408605\n",
       "25%          -0.072580\n",
       "50%           0.502360\n",
       "75%           1.073581\n",
       "max           2.362331\n",
       "Name: f0, dtype: float64"
      ]
     },
     "execution_count": 15,
     "metadata": {},
     "output_type": "execute_result"
    }
   ],
   "source": [
    "# вывод числового описания данных \n",
    "geo_data_0['f0'].describe()"
   ]
  },
  {
   "cell_type": "markdown",
   "metadata": {},
   "source": [
    "По полученным данным можно сказать, что распределение признака f0 датафрейма geo_data_0 не является нормальным, не имеет выбросов, а среднее значение и медиана данного признака близки."
   ]
  },
  {
   "cell_type": "code",
   "execution_count": 16,
   "metadata": {},
   "outputs": [
    {
     "data": {
      "image/png": "[encoded data removed]",
      "text/plain": [
       "<Figure size 1080x360 with 1 Axes>"
      ]
     },
     "metadata": {
      "needs_background": "light"
     },
     "output_type": "display_data"
    }
   ],
   "source": [
    "#построение гистограммы по столбцу f1\n",
    "geo_data_0['f1'].hist(bins=50, range = (-1, 2), figsize=(15, 5));\n",
    "plt.title('f1');"
   ]
  },
  {
   "cell_type": "code",
   "execution_count": 17,
   "metadata": {},
   "outputs": [
    {
     "data": {
      "image/png": "[encoded data removed]",
      "text/plain": [
       "<Figure size 1224x144 with 1 Axes>"
      ]
     },
     "metadata": {
      "needs_background": "light"
     },
     "output_type": "display_data"
    }
   ],
   "source": [
    "# построение диаграммы размаха по столбцу f1\n",
    "fig, ax = plt.subplots(figsize = (17,2))\n",
    "ax = geo_data_0[['f1']].boxplot(vert = False, ax =ax)\n",
    "ax.set_title('f1')\n",
    "ax.set_xlim(-1, 2);"
   ]
  },
  {
   "cell_type": "code",
   "execution_count": 18,
   "metadata": {},
   "outputs": [
    {
     "data": {
      "text/plain": [
       "count    100000.000000\n",
       "mean          0.250143\n",
       "std           0.504433\n",
       "min          -0.848218\n",
       "25%          -0.200881\n",
       "50%           0.250252\n",
       "75%           0.700646\n",
       "max           1.343769\n",
       "Name: f1, dtype: float64"
      ]
     },
     "execution_count": 18,
     "metadata": {},
     "output_type": "execute_result"
    }
   ],
   "source": [
    "# вывод числового описания данных \n",
    "geo_data_0['f1'].describe()"
   ]
  },
  {
   "cell_type": "markdown",
   "metadata": {},
   "source": [
    "По полученным данным можно сказать, что распределение признака f1 датафрейма geo_data_0 не является нормальным, не имеет выбросов, а среднее значение и медиана данного признака близки."
   ]
  },
  {
   "cell_type": "code",
   "execution_count": 19,
   "metadata": {},
   "outputs": [
    {
     "data": {
      "image/png": "[encoded data removed]",
      "text/plain": [
       "<Figure size 1080x360 with 1 Axes>"
      ]
     },
     "metadata": {
      "needs_background": "light"
     },
     "output_type": "display_data"
    }
   ],
   "source": [
    "#построение гистограммы по столбцу f2\n",
    "geo_data_0['f2'].hist(bins=50, range = (-15, 20), figsize=(15, 5));\n",
    "plt.title('f2');"
   ]
  },
  {
   "cell_type": "code",
   "execution_count": 20,
   "metadata": {},
   "outputs": [
    {
     "data": {
      "image/png": "[encoded data removed]",
      "text/plain": [
       "<Figure size 1224x144 with 1 Axes>"
      ]
     },
     "metadata": {
      "needs_background": "light"
     },
     "output_type": "display_data"
    }
   ],
   "source": [
    "# построение диаграммы размаха по столбцу f2\n",
    "fig, ax = plt.subplots(figsize = (17,2))\n",
    "ax = geo_data_0[['f2']].boxplot(vert = False, ax =ax)\n",
    "ax.set_title('f2')\n",
    "ax.set_xlim(-15, 20);"
   ]
  },
  {
   "cell_type": "code",
   "execution_count": 21,
   "metadata": {},
   "outputs": [
    {
     "data": {
      "text/plain": [
       "count    100000.000000\n",
       "mean          2.502647\n",
       "std           3.248248\n",
       "min         -12.088328\n",
       "25%           0.287748\n",
       "50%           2.515969\n",
       "75%           4.715088\n",
       "max          16.003790\n",
       "Name: f2, dtype: float64"
      ]
     },
     "execution_count": 21,
     "metadata": {},
     "output_type": "execute_result"
    }
   ],
   "source": [
    "# вывод числового описания данных \n",
    "geo_data_0['f2'].describe()"
   ]
  },
  {
   "cell_type": "markdown",
   "metadata": {},
   "source": [
    "По полученным данным можно сказать, что распределение признака f2 датафрейма geo_data_0 является нормальным, но имеет большое количество выбросов, а среднее значение и медиана данного признака близки."
   ]
  },
  {
   "cell_type": "code",
   "execution_count": 22,
   "metadata": {},
   "outputs": [
    {
     "data": {
      "image/png": "[encoded data removed]",
      "text/plain": [
       "<Figure size 1080x360 with 1 Axes>"
      ]
     },
     "metadata": {
      "needs_background": "light"
     },
     "output_type": "display_data"
    }
   ],
   "source": [
    "#построение гистограммы по столбцу product\n",
    "geo_data_0['product'].hist(bins=50, range = (0, 200), figsize=(15, 5));\n",
    "plt.title('product');"
   ]
  },
  {
   "cell_type": "code",
   "execution_count": 23,
   "metadata": {},
   "outputs": [
    {
     "data": {
      "image/png": "[encoded data removed]",
      "text/plain": [
       "<Figure size 1224x144 with 1 Axes>"
      ]
     },
     "metadata": {
      "needs_background": "light"
     },
     "output_type": "display_data"
    }
   ],
   "source": [
    "# построение диаграммы размаха по столбцу product\n",
    "fig, ax = plt.subplots(figsize = (17,2))\n",
    "ax = geo_data_0[['product']].boxplot(vert = False, ax =ax)\n",
    "ax.set_title('product')\n",
    "ax.set_xlim(-1, 200);"
   ]
  },
  {
   "cell_type": "code",
   "execution_count": 24,
   "metadata": {},
   "outputs": [
    {
     "data": {
      "text/plain": [
       "count    100000.000000\n",
       "mean         92.500000\n",
       "std          44.288691\n",
       "min           0.000000\n",
       "25%          56.497507\n",
       "50%          91.849972\n",
       "75%         128.564089\n",
       "max         185.364347\n",
       "Name: product, dtype: float64"
      ]
     },
     "execution_count": 24,
     "metadata": {},
     "output_type": "execute_result"
    }
   ],
   "source": [
    "# вывод числового описания данных \n",
    "geo_data_0['product'].describe()"
   ]
  },
  {
   "cell_type": "markdown",
   "metadata": {},
   "source": [
    "По полученным данным можно сказать, что распределение признака product датафрейма geo_data_0 не является нормальным, не имеет выбросов, а среднее значение и медиана данного признака близки. Также стоит отметить большое значение среднего отклонения данного признака."
   ]
  },
  {
   "cell_type": "code",
   "execution_count": 25,
   "metadata": {},
   "outputs": [
    {
     "data": {
      "image/png": "[encoded data removed]",
      "text/plain": [
       "<Figure size 1080x360 with 1 Axes>"
      ]
     },
     "metadata": {
      "needs_background": "light"
     },
     "output_type": "display_data"
    }
   ],
   "source": [
    "#построение гистограммы по столбцу f0\n",
    "geo_data_1['f0'].hist(bins=50, range = (-35, 35), figsize=(15, 5));\n",
    "plt.title('f0');"
   ]
  },
  {
   "cell_type": "code",
   "execution_count": 26,
   "metadata": {},
   "outputs": [
    {
     "data": {
      "image/png": "[encoded data removed]",
      "text/plain": [
       "<Figure size 1224x144 with 1 Axes>"
      ]
     },
     "metadata": {
      "needs_background": "light"
     },
     "output_type": "display_data"
    }
   ],
   "source": [
    "# построение диаграммы размаха по столбцу f0\n",
    "fig, ax = plt.subplots(figsize = (17,2))\n",
    "ax = geo_data_1[['f0']].boxplot(vert = False, ax =ax)\n",
    "ax.set_title('f0')\n",
    "ax.set_xlim(-35, 35);"
   ]
  },
  {
   "cell_type": "code",
   "execution_count": 27,
   "metadata": {},
   "outputs": [
    {
     "data": {
      "text/plain": [
       "count    100000.000000\n",
       "mean          1.141296\n",
       "std           8.965932\n",
       "min         -31.609576\n",
       "25%          -6.298551\n",
       "50%           1.153055\n",
       "75%           8.621015\n",
       "max          29.421755\n",
       "Name: f0, dtype: float64"
      ]
     },
     "execution_count": 27,
     "metadata": {},
     "output_type": "execute_result"
    }
   ],
   "source": [
    "# вывод числового описания данных \n",
    "geo_data_1['f0'].describe()"
   ]
  },
  {
   "cell_type": "markdown",
   "metadata": {},
   "source": [
    "По полученным данным можно сказать, что распределение признака f0 датафрейма geo_data_1 не является нормальным (имеются два пика при значениях, равных -7 и 9), не имеет выбросов, а среднее значение и медиана данного признака близки."
   ]
  },
  {
   "cell_type": "code",
   "execution_count": 28,
   "metadata": {},
   "outputs": [
    {
     "data": {
      "image/png": "[encoded data removed]",
      "text/plain": [
       "<Figure size 1080x360 with 1 Axes>"
      ]
     },
     "metadata": {
      "needs_background": "light"
     },
     "output_type": "display_data"
    }
   ],
   "source": [
    "#построение гистограммы по столбцу f1\n",
    "geo_data_1['f1'].hist(bins=50, range = (-30, 20), figsize=(15, 5));\n",
    "plt.title('f1');"
   ]
  },
  {
   "cell_type": "code",
   "execution_count": 29,
   "metadata": {},
   "outputs": [
    {
     "data": {
      "image/png": "[encoded data removed]",
      "text/plain": [
       "<Figure size 1224x144 with 1 Axes>"
      ]
     },
     "metadata": {
      "needs_background": "light"
     },
     "output_type": "display_data"
    }
   ],
   "source": [
    "# построение диаграммы размаха по столбцу f1\n",
    "fig, ax = plt.subplots(figsize = (17,2))\n",
    "ax = geo_data_1[['f1']].boxplot(vert = False, ax =ax)\n",
    "ax.set_title('f1')\n",
    "ax.set_xlim(-30, 20);"
   ]
  },
  {
   "cell_type": "code",
   "execution_count": 30,
   "metadata": {},
   "outputs": [
    {
     "data": {
      "text/plain": [
       "count    100000.000000\n",
       "mean         -4.796579\n",
       "std           5.119872\n",
       "min         -26.358598\n",
       "25%          -8.267985\n",
       "50%          -4.813172\n",
       "75%          -1.332816\n",
       "max          18.734063\n",
       "Name: f1, dtype: float64"
      ]
     },
     "execution_count": 30,
     "metadata": {},
     "output_type": "execute_result"
    }
   ],
   "source": [
    "# вывод числового описания данных \n",
    "geo_data_1['f1'].describe()"
   ]
  },
  {
   "cell_type": "markdown",
   "metadata": {},
   "source": [
    "По полученным данным можно сказать, что распределение признака f1 датафрейма geo_data_1 является нормальным (пик при значении, равном -5), но имеет большое количество выбросов, а среднее значение и медиана данного признака близки."
   ]
  },
  {
   "cell_type": "code",
   "execution_count": 31,
   "metadata": {},
   "outputs": [
    {
     "data": {
      "image/png": "[encoded data removed]",
      "text/plain": [
       "<Figure size 1080x360 with 1 Axes>"
      ]
     },
     "metadata": {
      "needs_background": "light"
     },
     "output_type": "display_data"
    }
   ],
   "source": [
    "#построение гистограммы по столбцу f2\n",
    "geo_data_1['f2'].hist(bins=50, range = (-1, 6), figsize=(15, 5));\n",
    "plt.title('f2');"
   ]
  },
  {
   "cell_type": "code",
   "execution_count": 32,
   "metadata": {},
   "outputs": [
    {
     "data": {
      "image/png": "[encoded data removed]",
      "text/plain": [
       "<Figure size 1224x144 with 1 Axes>"
      ]
     },
     "metadata": {
      "needs_background": "light"
     },
     "output_type": "display_data"
    }
   ],
   "source": [
    "# построение диаграммы размаха по столбцу f2\n",
    "fig, ax = plt.subplots(figsize = (17,2))\n",
    "ax = geo_data_1[['f2']].boxplot(vert = False, ax =ax)\n",
    "ax.set_title('f2')\n",
    "ax.set_xlim(-1, 6);"
   ]
  },
  {
   "cell_type": "code",
   "execution_count": 33,
   "metadata": {},
   "outputs": [
    {
     "data": {
      "text/plain": [
       "count    100000.000000\n",
       "mean          2.494541\n",
       "std           1.703572\n",
       "min          -0.018144\n",
       "25%           1.000021\n",
       "50%           2.011479\n",
       "75%           3.999904\n",
       "max           5.019721\n",
       "Name: f2, dtype: float64"
      ]
     },
     "execution_count": 33,
     "metadata": {},
     "output_type": "execute_result"
    }
   ],
   "source": [
    "# вывод числового описания данных \n",
    "geo_data_1['f2'].describe()"
   ]
  },
  {
   "cell_type": "markdown",
   "metadata": {},
   "source": [
    "По полученным данным можно сказать, что распределение признака f2 датафрейма geo_data_1 не является нормальным (все значения имеют почти одинаковую частоту), не имеет выбросов, а среднее значение и медиана данного признака отличны."
   ]
  },
  {
   "cell_type": "code",
   "execution_count": 34,
   "metadata": {},
   "outputs": [
    {
     "data": {
      "image/png": "[encoded data removed]",
      "text/plain": [
       "<Figure size 1080x360 with 1 Axes>"
      ]
     },
     "metadata": {
      "needs_background": "light"
     },
     "output_type": "display_data"
    }
   ],
   "source": [
    "#построение гистограммы по столбцу product\n",
    "geo_data_1['product'].hist(bins=5, range = (0, 140), figsize=(15, 5));\n",
    "plt.title('product');"
   ]
  },
  {
   "cell_type": "code",
   "execution_count": 35,
   "metadata": {},
   "outputs": [
    {
     "data": {
      "image/png": "[encoded data removed]",
      "text/plain": [
       "<Figure size 1224x144 with 1 Axes>"
      ]
     },
     "metadata": {
      "needs_background": "light"
     },
     "output_type": "display_data"
    }
   ],
   "source": [
    "# построение диаграммы размаха по столбцу product\n",
    "fig, ax = plt.subplots(figsize = (17,2))\n",
    "ax = geo_data_1[['product']].boxplot(vert = False, ax =ax)\n",
    "ax.set_title('product')\n",
    "ax.set_xlim(-5, 140);"
   ]
  },
  {
   "cell_type": "code",
   "execution_count": 36,
   "metadata": {},
   "outputs": [
    {
     "data": {
      "text/plain": [
       "count    100000.000000\n",
       "mean         68.825000\n",
       "std          45.944423\n",
       "min           0.000000\n",
       "25%          26.953261\n",
       "50%          57.085625\n",
       "75%         107.813044\n",
       "max         137.945408\n",
       "Name: product, dtype: float64"
      ]
     },
     "execution_count": 36,
     "metadata": {},
     "output_type": "execute_result"
    }
   ],
   "source": [
    "# вывод числового описания данных \n",
    "geo_data_1['product'].describe()"
   ]
  },
  {
   "cell_type": "markdown",
   "metadata": {},
   "source": [
    "По полученным данным можно сказать, что распределение признака product датафрейма geo_data_1 не является нормальным, не имеет выбросов, а среднее значение и медиана данного признака отличны. Также стоит отметить большое значение среднего отклонения данного признака."
   ]
  },
  {
   "cell_type": "code",
   "execution_count": 37,
   "metadata": {},
   "outputs": [
    {
     "data": {
      "image/png": "[encoded data removed]",
      "text/plain": [
       "<Figure size 1080x360 with 1 Axes>"
      ]
     },
     "metadata": {
      "needs_background": "light"
     },
     "output_type": "display_data"
    }
   ],
   "source": [
    "#построение гистограммы по столбцу f0\n",
    "geo_data_2['f0'].hist(bins=50, range = (-10, 10), figsize=(15, 5));\n",
    "plt.title('f0');"
   ]
  },
  {
   "cell_type": "code",
   "execution_count": 38,
   "metadata": {},
   "outputs": [
    {
     "data": {
      "image/png": "[encoded data removed]",
      "text/plain": [
       "<Figure size 1224x144 with 1 Axes>"
      ]
     },
     "metadata": {
      "needs_background": "light"
     },
     "output_type": "display_data"
    }
   ],
   "source": [
    "# построение диаграммы размаха по столбцу f0\n",
    "fig, ax = plt.subplots(figsize = (17,2))\n",
    "ax = geo_data_2[['f0']].boxplot(vert = False, ax =ax)\n",
    "ax.set_title('f0')\n",
    "ax.set_xlim(-10, 10);"
   ]
  },
  {
   "cell_type": "code",
   "execution_count": 39,
   "metadata": {},
   "outputs": [
    {
     "data": {
      "text/plain": [
       "count    100000.000000\n",
       "mean          0.002023\n",
       "std           1.732045\n",
       "min          -8.760004\n",
       "25%          -1.162288\n",
       "50%           0.009424\n",
       "75%           1.158535\n",
       "max           7.238262\n",
       "Name: f0, dtype: float64"
      ]
     },
     "execution_count": 39,
     "metadata": {},
     "output_type": "execute_result"
    }
   ],
   "source": [
    "# вывод числового описания данных \n",
    "geo_data_2['f0'].describe()"
   ]
  },
  {
   "cell_type": "markdown",
   "metadata": {},
   "source": [
    "По полученным данным можно сказать, что распределение признака f0 датафрейма geo_data_2 является нормальным (пик при значении, равном 0), но имеет большое количество выбросов, а среднее значение и медиана данного признака близки."
   ]
  },
  {
   "cell_type": "code",
   "execution_count": 40,
   "metadata": {},
   "outputs": [
    {
     "data": {
      "image/png": "[encoded data removed]",
      "text/plain": [
       "<Figure size 1080x360 with 1 Axes>"
      ]
     },
     "metadata": {
      "needs_background": "light"
     },
     "output_type": "display_data"
    }
   ],
   "source": [
    "#построение гистограммы по столбцу f1\n",
    "geo_data_2['f1'].hist(bins=50, range = (-10, 10), figsize=(15, 5));\n",
    "plt.title('f1');"
   ]
  },
  {
   "cell_type": "code",
   "execution_count": 41,
   "metadata": {},
   "outputs": [
    {
     "data": {
      "image/png": "[encoded data removed]",
      "text/plain": [
       "<Figure size 1224x144 with 1 Axes>"
      ]
     },
     "metadata": {
      "needs_background": "light"
     },
     "output_type": "display_data"
    }
   ],
   "source": [
    "# построение диаграммы размаха по столбцу f1\n",
    "fig, ax = plt.subplots(figsize = (17,2))\n",
    "ax = geo_data_2[['f1']].boxplot(vert = False, ax =ax)\n",
    "ax.set_title('f1')\n",
    "ax.set_xlim(-10, 10);"
   ]
  },
  {
   "cell_type": "code",
   "execution_count": 42,
   "metadata": {},
   "outputs": [
    {
     "data": {
      "text/plain": [
       "count    100000.000000\n",
       "mean         -0.002081\n",
       "std           1.730417\n",
       "min          -7.084020\n",
       "25%          -1.174820\n",
       "50%          -0.009482\n",
       "75%           1.163678\n",
       "max           7.844801\n",
       "Name: f1, dtype: float64"
      ]
     },
     "execution_count": 42,
     "metadata": {},
     "output_type": "execute_result"
    }
   ],
   "source": [
    "# вывод числового описания данных \n",
    "geo_data_2['f1'].describe()"
   ]
  },
  {
   "cell_type": "markdown",
   "metadata": {},
   "source": [
    "По полученным данным можно сказать, что распределение признака f1 датафрейма geo_data_2 является нормальным (пик при значении, равном 0), но имеет большое количество выбросов, а среднее значение и медиана данного признака близки."
   ]
  },
  {
   "cell_type": "code",
   "execution_count": 43,
   "metadata": {},
   "outputs": [
    {
     "data": {
      "image/png": "[encoded data removed]",
      "text/plain": [
       "<Figure size 1080x360 with 1 Axes>"
      ]
     },
     "metadata": {
      "needs_background": "light"
     },
     "output_type": "display_data"
    }
   ],
   "source": [
    "#построение гистограммы по столбцу f2\n",
    "geo_data_2['f2'].hist(bins=50, range = (-15, 20), figsize=(15, 5));\n",
    "plt.title('f2');"
   ]
  },
  {
   "cell_type": "code",
   "execution_count": 44,
   "metadata": {},
   "outputs": [
    {
     "data": {
      "image/png": "[encoded data removed]",
      "text/plain": [
       "<Figure size 1224x144 with 1 Axes>"
      ]
     },
     "metadata": {
      "needs_background": "light"
     },
     "output_type": "display_data"
    }
   ],
   "source": [
    "# построение диаграммы размаха по столбцу f2\n",
    "fig, ax = plt.subplots(figsize = (17,2))\n",
    "ax = geo_data_2[['f2']].boxplot(vert = False, ax =ax)\n",
    "ax.set_title('f2')\n",
    "ax.set_xlim(-15, 20);"
   ]
  },
  {
   "cell_type": "code",
   "execution_count": 45,
   "metadata": {},
   "outputs": [
    {
     "data": {
      "text/plain": [
       "count    100000.000000\n",
       "mean          2.495128\n",
       "std           3.473445\n",
       "min         -11.970335\n",
       "25%           0.130359\n",
       "50%           2.484236\n",
       "75%           4.858794\n",
       "max          16.739402\n",
       "Name: f2, dtype: float64"
      ]
     },
     "execution_count": 45,
     "metadata": {},
     "output_type": "execute_result"
    }
   ],
   "source": [
    "# вывод числового описания данных \n",
    "geo_data_2['f2'].describe()"
   ]
  },
  {
   "cell_type": "markdown",
   "metadata": {},
   "source": [
    "По полученным данным можно сказать, что распределение признака f2 датафрейма geo_data_2 является нормальным (пик при значении, равном 2,5), но имеет большое количество выбросов, а среднее значение и медиана данного признака близки."
   ]
  },
  {
   "cell_type": "code",
   "execution_count": 46,
   "metadata": {},
   "outputs": [
    {
     "data": {
      "image/png": "[encoded data removed]",
      "text/plain": [
       "<Figure size 1080x360 with 1 Axes>"
      ]
     },
     "metadata": {
      "needs_background": "light"
     },
     "output_type": "display_data"
    }
   ],
   "source": [
    "#построение гистограммы по столбцу product\n",
    "geo_data_2['product'].hist(bins=50, range = (0, 200), figsize=(15, 5));\n",
    "plt.title('product');"
   ]
  },
  {
   "cell_type": "code",
   "execution_count": 47,
   "metadata": {},
   "outputs": [
    {
     "data": {
      "image/png": "[encoded data removed]",
      "text/plain": [
       "<Figure size 1224x144 with 1 Axes>"
      ]
     },
     "metadata": {
      "needs_background": "light"
     },
     "output_type": "display_data"
    }
   ],
   "source": [
    "# построение диаграммы размаха по столбцу product\n",
    "fig, ax = plt.subplots(figsize = (17,2))\n",
    "ax = geo_data_2[['product']].boxplot(vert = False, ax =ax)\n",
    "ax.set_title('product')\n",
    "ax.set_xlim(-1, 200);"
   ]
  },
  {
   "cell_type": "code",
   "execution_count": 48,
   "metadata": {},
   "outputs": [
    {
     "data": {
      "text/plain": [
       "count    100000.000000\n",
       "mean         95.000000\n",
       "std          44.749921\n",
       "min           0.000000\n",
       "25%          59.450441\n",
       "50%          94.925613\n",
       "75%         130.595027\n",
       "max         190.029838\n",
       "Name: product, dtype: float64"
      ]
     },
     "execution_count": 48,
     "metadata": {},
     "output_type": "execute_result"
    }
   ],
   "source": [
    "# вывод числового описания данных \n",
    "geo_data_2['product'].describe()"
   ]
  },
  {
   "cell_type": "markdown",
   "metadata": {},
   "source": [
    "По полученным данным можно сказать, что распределение признака product датафрейма geo_data_2 не является нормальным, не имеет выбросов, а среднее значение и медиана данного признака близки. Также стоит отметить большое значение среднего отклонения данного признака."
   ]
  },
  {
   "cell_type": "markdown",
   "metadata": {},
   "source": [
    "**Вывод по результатам загрузки и подготовки данных:**\n",
    "\n",
    "По результатам загрузки и подготовки данных можно сказать, что все датафреймы не имеют пропусков и дубликатов. При выполнении исследовательского анализа данных было выявлено, что все признаки имеют относительную большую величину среднего отклонения, часть признаков имеет нормальное распределение, но содержит большое количество выбросов согласно диаграмме размаха."
   ]
  },
  {
   "cell_type": "markdown",
   "metadata": {},
   "source": [
    "## Обучение и проверка модели"
   ]
  },
  {
   "cell_type": "markdown",
   "metadata": {},
   "source": [
    "### Обучение модели для первого региона"
   ]
  },
  {
   "cell_type": "code",
   "execution_count": 49,
   "metadata": {},
   "outputs": [],
   "source": [
    "RANDOM_STATE = 42"
   ]
  },
  {
   "cell_type": "code",
   "execution_count": 50,
   "metadata": {},
   "outputs": [],
   "source": [
    "# сохранение входных признаков в переменную X\n",
    "# сохранение целевого признака в переменную y\n",
    "X = geo_data_0.drop(['id', 'product'], axis=1)\n",
    "y = geo_data_0['product']"
   ]
  },
  {
   "cell_type": "code",
   "execution_count": 51,
   "metadata": {},
   "outputs": [],
   "source": [
    "# разделение на тренировочную и валидационную выборки\n",
    "X_train, X_valid_0, y_train, y_valid_0 = train_test_split(X, y, random_state=RANDOM_STATE)"
   ]
  },
  {
   "cell_type": "code",
   "execution_count": 52,
   "metadata": {},
   "outputs": [
    {
     "name": "stdout",
     "output_type": "stream",
     "text": [
      "Средний запас предсказанного сырья 92.39879990657768\n",
      "RMSE 37.75660035026169\n"
     ]
    },
    {
     "name": "stderr",
     "output_type": "stream",
     "text": [
      "/opt/conda/lib/python3.9/site-packages/sklearn/metrics/_regression.py:492: FutureWarning: 'squared' is deprecated in version 1.4 and will be removed in 1.6. To calculate the root mean squared error, use the function'root_mean_squared_error'.\n",
      "  warnings.warn(\n"
     ]
    }
   ],
   "source": [
    "num_col_names = ['f0', 'f1', 'f2']\n",
    "\n",
    "# подготовка признаков (масштабирование)\n",
    "\n",
    "scaler = StandardScaler()\n",
    "X_train_scaled = scaler.fit_transform(X_train[num_col_names])\n",
    "X_valid_0_scaled = scaler.transform(X_valid_0[num_col_names])\n",
    "\n",
    "X_train_scaled = pd.DataFrame(X_train_scaled, columns=num_col_names)\n",
    "X_valid_0_scaled = pd.DataFrame(X_valid_0_scaled, columns=num_col_names)\n",
    "\n",
    "# инициалтзация модели\n",
    "model_lr = LinearRegression()\n",
    "\n",
    "# получение оптимальных значений коэффициентов\n",
    "model_lr.fit(X_train, y_train)\n",
    "\n",
    "# предсказанные значения для X_valid\n",
    "predictions_0 = model_lr.predict(X_valid_0)\n",
    "print(\"Средний запас предсказанного сырья\", predictions_0.mean())\n",
    "\n",
    "# определение RMSE\n",
    "rmse_0 = mean_squared_error(y_valid_0, predictions_0, squared=False)\n",
    "print(\"RMSE\", rmse_0)"
   ]
  },
  {
   "cell_type": "markdown",
   "metadata": {},
   "source": [
    "### Обучение модели для второго региона"
   ]
  },
  {
   "cell_type": "code",
   "execution_count": 53,
   "metadata": {},
   "outputs": [],
   "source": [
    "# сохранение входных признаков в переменную X\n",
    "# сохранение целевого признака в переменную y\n",
    "X = geo_data_1.drop(['id', 'product'], axis=1)\n",
    "y = geo_data_1['product']"
   ]
  },
  {
   "cell_type": "code",
   "execution_count": 54,
   "metadata": {},
   "outputs": [],
   "source": [
    "# разделение на тренировочную и валидационную выборки\n",
    "X_train, X_valid_1, y_train, y_valid_1 = train_test_split(X, y, random_state=RANDOM_STATE)"
   ]
  },
  {
   "cell_type": "code",
   "execution_count": 55,
   "metadata": {},
   "outputs": [
    {
     "name": "stdout",
     "output_type": "stream",
     "text": [
      "Средний запас предсказанного сырья 68.71287803913762\n",
      "RMSE 0.890280100102884\n"
     ]
    },
    {
     "name": "stderr",
     "output_type": "stream",
     "text": [
      "/opt/conda/lib/python3.9/site-packages/sklearn/metrics/_regression.py:492: FutureWarning: 'squared' is deprecated in version 1.4 and will be removed in 1.6. To calculate the root mean squared error, use the function'root_mean_squared_error'.\n",
      "  warnings.warn(\n"
     ]
    }
   ],
   "source": [
    "num_col_names = ['f0', 'f1', 'f2']\n",
    "\n",
    "# подготовка признаков (масштабирование)\n",
    "\n",
    "scaler = StandardScaler()\n",
    "X_train_scaled = scaler.fit_transform(X_train[num_col_names])\n",
    "X_valid_1_scaled = scaler.transform(X_valid_1[num_col_names])\n",
    "\n",
    "X_train_scaled = pd.DataFrame(X_train_scaled, columns=num_col_names)\n",
    "X_valid_1_scaled = pd.DataFrame(X_valid_1_scaled, columns=num_col_names)\n",
    "\n",
    "# инициалтзация модели\n",
    "model_lr = LinearRegression()\n",
    "\n",
    "# получение оптимальных значений коэффициентов\n",
    "model_lr.fit(X_train, y_train)\n",
    "\n",
    "# предсказанные значения для X_valid\n",
    "predictions_1 = model_lr.predict(X_valid_1)\n",
    "print(\"Средний запас предсказанного сырья\", predictions_1.mean())\n",
    "\n",
    "# определение RMSE\n",
    "rmse_1 = mean_squared_error(y_valid_1, predictions_1, squared=False)\n",
    "print(\"RMSE\", rmse_1)"
   ]
  },
  {
   "cell_type": "markdown",
   "metadata": {},
   "source": [
    "### Обучение модели для третьего региона"
   ]
  },
  {
   "cell_type": "code",
   "execution_count": 56,
   "metadata": {},
   "outputs": [],
   "source": [
    "# сохранение входных признаков в переменную X\n",
    "# сохранение целевого признака в переменную y\n",
    "X = geo_data_2.drop(['id', 'product'], axis=1)\n",
    "y = geo_data_2['product']"
   ]
  },
  {
   "cell_type": "code",
   "execution_count": 57,
   "metadata": {},
   "outputs": [],
   "source": [
    "# разделение на тренировочную и валидационную выборки\n",
    "X_train, X_valid_2, y_train, y_valid_2 = train_test_split(X, y, random_state=RANDOM_STATE)"
   ]
  },
  {
   "cell_type": "code",
   "execution_count": 58,
   "metadata": {},
   "outputs": [
    {
     "name": "stdout",
     "output_type": "stream",
     "text": [
      "Средний запас предсказанного сырья 94.77102387765939\n",
      "RMSE 40.145872311342174\n"
     ]
    },
    {
     "name": "stderr",
     "output_type": "stream",
     "text": [
      "/opt/conda/lib/python3.9/site-packages/sklearn/metrics/_regression.py:492: FutureWarning: 'squared' is deprecated in version 1.4 and will be removed in 1.6. To calculate the root mean squared error, use the function'root_mean_squared_error'.\n",
      "  warnings.warn(\n"
     ]
    }
   ],
   "source": [
    "num_col_names = ['f0', 'f1', 'f2']\n",
    "\n",
    "# подготовка признаков (масштабирование)\n",
    "\n",
    "scaler = StandardScaler()\n",
    "X_train_scaled = scaler.fit_transform(X_train[num_col_names])\n",
    "X_valid_2_scaled = scaler.transform(X_valid_2[num_col_names])\n",
    "\n",
    "X_train_scaled = pd.DataFrame(X_train_scaled, columns=num_col_names)\n",
    "X_valid_2_scaled = pd.DataFrame(X_valid_2_scaled, columns=num_col_names)\n",
    "\n",
    "# инициалтзация модели\n",
    "model_lr = LinearRegression()\n",
    "\n",
    "# получение оптимальных значений коэффициентов\n",
    "model_lr.fit(X_train, y_train)\n",
    "\n",
    "# предсказанные значения для X_valid\n",
    "predictions_2 = model_lr.predict(X_valid_2)\n",
    "print(\"Средний запас предсказанного сырья\", predictions_2.mean())\n",
    "\n",
    "# определение RMSE\n",
    "rmse_2 = mean_squared_error(y_valid_2, predictions_2, squared=False)\n",
    "print(\"RMSE\", rmse_2)"
   ]
  },
  {
   "cell_type": "markdown",
   "metadata": {},
   "source": [
    "**Вывод по результатам обучения и проверки моделей:**\n",
    "\n",
    "По данным предсказаний моделей для трех регионов можно сказать, что наибольший средний запас предсказанного сырья в третьем регионе, немного меньше в первом. Но стоит обратить внимание, что метрика RMSE минимальна во втором регионе и составляет 0.89 в отличии от двух других регионов, в которых метрика RMSE в разы превышает значение метрики второго региона.\n"
   ]
  },
  {
   "cell_type": "markdown",
   "metadata": {},
   "source": [
    "## Подготовка к расчёту прибыли"
   ]
  },
  {
   "cell_type": "code",
   "execution_count": 59,
   "metadata": {},
   "outputs": [],
   "source": [
    "# бюджет на разработку скважин в регионе\n",
    "BUDGET = 1 * 10**10"
   ]
  },
  {
   "cell_type": "code",
   "execution_count": 60,
   "metadata": {},
   "outputs": [],
   "source": [
    "# доход с каждой единицы продукта\n",
    "REVENUE_PER_UNIT = 450000"
   ]
  },
  {
   "cell_type": "code",
   "execution_count": 73,
   "metadata": {},
   "outputs": [
    {
     "data": {
      "text/plain": [
       "111.11111111111111"
      ]
     },
     "execution_count": 73,
     "metadata": {},
     "output_type": "execute_result"
    }
   ],
   "source": [
    "# определение достаточного объема сырья для безубыточной разработки\n",
    "break_even_development = BUDGET/(200*REVENUE_PER_UNIT)\n",
    "break_even_development"
   ]
  },
  {
   "cell_type": "markdown",
   "metadata": {},
   "source": [
    "**Вывод по результатам подготовки к расчёту прибыли:**\n",
    "\n",
    "Полученное значение достаточного объема сырья для безубыточной разработки новой скважины выше, чем среднее значение запаса предсказанного сырья для всех трех регионов. Наибольшее значение, равное 94.8 тыс. баррелей имеет 3 регион, далее идет 1 регион со значением, равным 92.4 тыс. баррелей, меньше всего во 2 регионе - 68.7 тыс. баррелей. \n"
   ]
  },
  {
   "cell_type": "markdown",
   "metadata": {},
   "source": [
    "## Расчёт прибыли и рисков "
   ]
  },
  {
   "cell_type": "code",
   "execution_count": 74,
   "metadata": {},
   "outputs": [],
   "source": [
    "def pred_real_values (y_valid, X_valid):\n",
    "    y_valid = pd.DataFrame(data=y_valid)\n",
    "    y_valid.reset_index(drop=True, inplace=True)\n",
    "    X_valid['product'] = y_valid\n",
    "    return X_valid"
   ]
  },
  {
   "cell_type": "code",
   "execution_count": 75,
   "metadata": {},
   "outputs": [],
   "source": [
    "X_valid_0 = pred_real_values(y_valid_0, X_valid_0)"
   ]
  },
  {
   "cell_type": "code",
   "execution_count": 76,
   "metadata": {},
   "outputs": [],
   "source": [
    "X_valid_1 = pred_real_values(y_valid_1, X_valid_1)"
   ]
  },
  {
   "cell_type": "code",
   "execution_count": 77,
   "metadata": {},
   "outputs": [],
   "source": [
    "X_valid_2 = pred_real_values(y_valid_2, X_valid_2)"
   ]
  },
  {
   "cell_type": "code",
   "execution_count": 78,
   "metadata": {},
   "outputs": [],
   "source": [
    "def profit_function(X_valid):\n",
    "    X_valid = X_valid.sort_values(by=['predictions'], ascending = False)\n",
    "    X_valid.reset_index(drop=True, inplace=True)\n",
    "    top_200_wells = X_valid.iloc[0:200]\n",
    "    volume_sum = top_200_wells['product'].sum()\n",
    "    profit = volume_sum * REVENUE_PER_UNIT\n",
    "    return profit"
   ]
  },
  {
   "cell_type": "code",
   "execution_count": 79,
   "metadata": {},
   "outputs": [],
   "source": [
    "def profit_distribution(X_valid):\n",
    "    \n",
    "    state = np.random.RandomState(12345)\n",
    "    \n",
    "    values = []\n",
    "    for i in range(1000):\n",
    "        profit_subsample = X_valid.sample(n=500, replace=True, random_state=state) \n",
    "        values.append(profit_function(profit_subsample))\n",
    "        values_0 = pd.Series(values)\n",
    "    return values_0"
   ]
  },
  {
   "cell_type": "code",
   "execution_count": 80,
   "metadata": {},
   "outputs": [
    {
     "data": {
      "text/plain": [
       "0      1.027430e+10\n",
       "1      1.057094e+10\n",
       "2      1.056994e+10\n",
       "3      1.038924e+10\n",
       "4      1.025084e+10\n",
       "           ...     \n",
       "995    1.098478e+10\n",
       "996    1.044962e+10\n",
       "997    1.041547e+10\n",
       "998    9.642378e+09\n",
       "999    9.952015e+09\n",
       "Length: 1000, dtype: float64"
      ]
     },
     "execution_count": 80,
     "metadata": {},
     "output_type": "execute_result"
    }
   ],
   "source": [
    "profit_distribution(X_valid_0)"
   ]
  },
  {
   "cell_type": "code",
   "execution_count": 81,
   "metadata": {},
   "outputs": [
    {
     "data": {
      "image/png": "[encoded data removed]",
      "text/plain": [
       "<Figure size 1080x360 with 1 Axes>"
      ]
     },
     "metadata": {
      "needs_background": "light"
     },
     "output_type": "display_data"
    }
   ],
   "source": [
    "#построение гистограммы по столбцу product\n",
    "profit_distribution(X_valid_0).hist(bins=50, range = (9000000000, 12000000000), figsize=(15, 5));\n",
    "plt.title('Распределение прибыли');"
   ]
  },
  {
   "cell_type": "code",
   "execution_count": 82,
   "metadata": {},
   "outputs": [
    {
     "data": {
      "text/plain": [
       "10406278783.42442"
      ]
     },
     "execution_count": 82,
     "metadata": {},
     "output_type": "execute_result"
    }
   ],
   "source": [
    "# определение средней прибыли для 1 региона\n",
    "profit_distribution(X_valid_0).mean()"
   ]
  },
  {
   "cell_type": "code",
   "execution_count": 83,
   "metadata": {},
   "outputs": [
    {
     "data": {
      "text/plain": [
       "9882257863.50513"
      ]
     },
     "execution_count": 83,
     "metadata": {},
     "output_type": "execute_result"
    }
   ],
   "source": [
    "# определение нижней границы доверительного интервала 95%\n",
    "lower = profit_distribution(X_valid_0).quantile(0.025)\n",
    "lower"
   ]
  },
  {
   "cell_type": "code",
   "execution_count": 84,
   "metadata": {},
   "outputs": [
    {
     "data": {
      "text/plain": [
       "10911737050.751406"
      ]
     },
     "execution_count": 84,
     "metadata": {},
     "output_type": "execute_result"
    }
   ],
   "source": [
    "# определение верхней границы доверительного интервала 95%\n",
    "upper = profit_distribution(X_valid_0).quantile(0.975)\n",
    "upper"
   ]
  },
  {
   "cell_type": "code",
   "execution_count": 85,
   "metadata": {},
   "outputs": [
    {
     "data": {
      "text/plain": [
       "406278783.4244194"
      ]
     },
     "execution_count": 85,
     "metadata": {},
     "output_type": "execute_result"
    }
   ],
   "source": [
    "# определение убытка при разработке 200 скважин в 1 регионе\n",
    "loss = profit_distribution(X_valid_0).mean() - BUDGET\n",
    "loss"
   ]
  },
  {
   "cell_type": "code",
   "execution_count": 86,
   "metadata": {},
   "outputs": [],
   "source": [
    "not_profit_wells_0 = profit_distribution(X_valid_0)[profit_distribution(X_valid_0) < BUDGET]"
   ]
  },
  {
   "cell_type": "code",
   "execution_count": 87,
   "metadata": {},
   "outputs": [
    {
     "data": {
      "text/plain": [
       "0.067"
      ]
     },
     "execution_count": 87,
     "metadata": {},
     "output_type": "execute_result"
    }
   ],
   "source": [
    "risk_loss_0 = not_profit_wells_0.count()/profit_distribution(X_valid_0).count()\n",
    "risk_loss_0"
   ]
  },
  {
   "cell_type": "code",
   "execution_count": 88,
   "metadata": {},
   "outputs": [
    {
     "data": {
      "text/plain": [
       "0      1.041779e+10\n",
       "1      1.049765e+10\n",
       "2      1.070739e+10\n",
       "3      1.043415e+10\n",
       "4      1.044634e+10\n",
       "           ...     \n",
       "995    1.024008e+10\n",
       "996    1.035497e+10\n",
       "997    1.054045e+10\n",
       "998    1.056900e+10\n",
       "999    1.034072e+10\n",
       "Length: 1000, dtype: float64"
      ]
     },
     "execution_count": 88,
     "metadata": {},
     "output_type": "execute_result"
    }
   ],
   "source": [
    "profit_distribution(X_valid_1)"
   ]
  },
  {
   "cell_type": "code",
   "execution_count": 89,
   "metadata": {},
   "outputs": [
    {
     "data": {
      "image/png": "[encoded data removed]",
      "text/plain": [
       "<Figure size 1080x360 with 1 Axes>"
      ]
     },
     "metadata": {
      "needs_background": "light"
     },
     "output_type": "display_data"
    }
   ],
   "source": [
    "#построение гистограммы по столбцу product\n",
    "profit_distribution(X_valid_1).hist(bins=50, range = (9000000000, 12000000000), figsize=(15, 5));\n",
    "plt.title('Распределение прибыли');"
   ]
  },
  {
   "cell_type": "code",
   "execution_count": 90,
   "metadata": {},
   "outputs": [
    {
     "data": {
      "text/plain": [
       "10432624131.813137"
      ]
     },
     "execution_count": 90,
     "metadata": {},
     "output_type": "execute_result"
    }
   ],
   "source": [
    "# определение средней прибыли для 2 региона\n",
    "profit_distribution(X_valid_1).mean()"
   ]
  },
  {
   "cell_type": "code",
   "execution_count": 91,
   "metadata": {},
   "outputs": [
    {
     "data": {
      "text/plain": [
       "10016846174.93243"
      ]
     },
     "execution_count": 91,
     "metadata": {},
     "output_type": "execute_result"
    }
   ],
   "source": [
    "# определение нижней границы доверительного интервала 95%\n",
    "lower = profit_distribution(X_valid_1).quantile(0.025)\n",
    "lower"
   ]
  },
  {
   "cell_type": "code",
   "execution_count": 92,
   "metadata": {},
   "outputs": [
    {
     "data": {
      "text/plain": [
       "10815972526.285751"
      ]
     },
     "execution_count": 92,
     "metadata": {},
     "output_type": "execute_result"
    }
   ],
   "source": [
    "# определение верхней границы доверительного интервала 95%\n",
    "upper = profit_distribution(X_valid_1).quantile(0.975)\n",
    "upper"
   ]
  },
  {
   "cell_type": "code",
   "execution_count": 93,
   "metadata": {},
   "outputs": [
    {
     "data": {
      "text/plain": [
       "432624131.81313705"
      ]
     },
     "execution_count": 93,
     "metadata": {},
     "output_type": "execute_result"
    }
   ],
   "source": [
    "# определение убытка при разработке 200 скважин во 2 регионе\n",
    "loss = profit_distribution(X_valid_1).mean() - BUDGET\n",
    "loss"
   ]
  },
  {
   "cell_type": "code",
   "execution_count": 94,
   "metadata": {},
   "outputs": [],
   "source": [
    "not_profit_wells_1 = profit_distribution(X_valid_1)[profit_distribution(X_valid_1) < BUDGET]"
   ]
  },
  {
   "cell_type": "code",
   "execution_count": 95,
   "metadata": {},
   "outputs": [
    {
     "data": {
      "text/plain": [
       "0.019"
      ]
     },
     "execution_count": 95,
     "metadata": {},
     "output_type": "execute_result"
    }
   ],
   "source": [
    "risk_loss_1 = not_profit_wells_1.count()/profit_distribution(X_valid_1).count()\n",
    "risk_loss_1"
   ]
  },
  {
   "cell_type": "code",
   "execution_count": 96,
   "metadata": {},
   "outputs": [
    {
     "data": {
      "text/plain": [
       "0      1.033891e+10\n",
       "1      1.032271e+10\n",
       "2      1.002533e+10\n",
       "3      1.000117e+10\n",
       "4      1.042832e+10\n",
       "           ...     \n",
       "995    1.042833e+10\n",
       "996    1.013511e+10\n",
       "997    9.753758e+09\n",
       "998    1.031138e+10\n",
       "999    1.043135e+10\n",
       "Length: 1000, dtype: float64"
      ]
     },
     "execution_count": 96,
     "metadata": {},
     "output_type": "execute_result"
    }
   ],
   "source": [
    "profit_distribution(X_valid_2)"
   ]
  },
  {
   "cell_type": "code",
   "execution_count": 97,
   "metadata": {},
   "outputs": [
    {
     "data": {
      "image/png": "[encoded data removed]",
      "text/plain": [
       "<Figure size 1080x360 with 1 Axes>"
      ]
     },
     "metadata": {
      "needs_background": "light"
     },
     "output_type": "display_data"
    }
   ],
   "source": [
    "#построение гистограммы по столбцу product\n",
    "profit_distribution(X_valid_2).hist(bins=50, range = (9000000000, 12000000000), figsize=(15, 5));\n",
    "plt.title('Распределение прибыли');"
   ]
  },
  {
   "cell_type": "code",
   "execution_count": 98,
   "metadata": {},
   "outputs": [
    {
     "data": {
      "text/plain": [
       "10377362192.422918"
      ]
     },
     "execution_count": 98,
     "metadata": {},
     "output_type": "execute_result"
    }
   ],
   "source": [
    "# определение средней прибыли для 3 региона\n",
    "profit_distribution(X_valid_2).mean()"
   ]
  },
  {
   "cell_type": "code",
   "execution_count": 99,
   "metadata": {},
   "outputs": [
    {
     "data": {
      "text/plain": [
       "9829219582.294273"
      ]
     },
     "execution_count": 99,
     "metadata": {},
     "output_type": "execute_result"
    }
   ],
   "source": [
    "# определение нижней границы доверительного интервала 95%\n",
    "lower = profit_distribution(X_valid_2).quantile(0.025)\n",
    "lower"
   ]
  },
  {
   "cell_type": "code",
   "execution_count": 100,
   "metadata": {},
   "outputs": [
    {
     "data": {
      "text/plain": [
       "10901772131.386446"
      ]
     },
     "execution_count": 100,
     "metadata": {},
     "output_type": "execute_result"
    }
   ],
   "source": [
    "# определение верхней границы доверительного интервала 95%\n",
    "upper = profit_distribution(X_valid_2).quantile(0.975)\n",
    "upper"
   ]
  },
  {
   "cell_type": "code",
   "execution_count": 101,
   "metadata": {},
   "outputs": [
    {
     "data": {
      "text/plain": [
       "377362192.4229183"
      ]
     },
     "execution_count": 101,
     "metadata": {},
     "output_type": "execute_result"
    }
   ],
   "source": [
    "# определение убытка при разработке 200 скважин в 3 регионе\n",
    "loss = profit_distribution(X_valid_2).mean() - BUDGET\n",
    "loss"
   ]
  },
  {
   "cell_type": "code",
   "execution_count": 102,
   "metadata": {},
   "outputs": [],
   "source": [
    "not_profit_wells_2 = profit_distribution(X_valid_2)[profit_distribution(X_valid_2) < BUDGET]"
   ]
  },
  {
   "cell_type": "code",
   "execution_count": 103,
   "metadata": {},
   "outputs": [
    {
     "data": {
      "text/plain": [
       "0.074"
      ]
     },
     "execution_count": 103,
     "metadata": {},
     "output_type": "execute_result"
    }
   ],
   "source": [
    "risk_loss_2 = not_profit_wells_2.count()/profit_distribution(X_valid_2).count()\n",
    "risk_loss_2"
   ]
  },
  {
   "cell_type": "markdown",
   "metadata": {},
   "source": [
    "**Вывод по результатам расчёта прибыли и рисков:**\\\n",
    "При расчете прибыли в каждом регионе были получены следующие данные: наибольшая средняя прибыль наблюдается у 2-го региона и составляет 10.43 млрд рублей, а наименьшая средняя прибыль у 3-го региона - 10.38 млрд рублей.\n",
    "Также были расчитаны риски убытков, по результатам расчетов можно сказать, что наибольший риск убытков наблюдается у 3-го региона и составляет 0.074, а наименьший риск наблюдается у 2-го региона и составляет 0.019. Исходя из этих данных, наиболее выгодным является второй регион.  "
   ]
  },
  {
   "cell_type": "markdown",
   "metadata": {},
   "source": [
    "**Общий вывод:**\\\n",
    "На первом этапе были загружены данные по всем трем регионам, была проведена предобработка данных, а также были построены графики распределения для каждого признака.\\\n",
    "Затем были построены модели для предсказания объёма запасов в новых скважинах во всех трёх регионах. По данным предсказаний моделей можно сказать, что наибольший средний запас предсказанного сырья в третьем регионе, немного меньше в первом. Но метрика RMSE минимальна во втором регионе и составляет 0.89 в отличии от двух других регионов. Далее был определен достаточный объем сырья для безубыточной разработки новой скважины, равный 111.1 тыс. баррелей. Полученное значение выше, чем среднее значение запаса предсказанного сырья для всех трех регионов.\\\n",
    "Затем были отобраны 200 лучших скважин из 500 случайных точек для каждого региона по наибольшим значениям объема сырья. И для них была рассчитана суммарная прибыль по всем 200 лучшим скважинам для каждого из трех регионов. Наибольшую прибыль с 200 лучших скважин принесет 2-ой регион, его средняя прибыль составила более 10.43 млрд рублей. Следующим регионом по прибыльности является 1-ый регион, прибыль - более 10.41 млрд рублей. И наименьшая средняя прибыль у 3-го региона - 10.38 млрд рублей. При расчете рисков убытков было выявлено, что наибольший риск убытков наблюдается у 3-го региона и составляет 0.074, а наименьший риск наблюдается у 2-го региона и составляет 0.019.\\\n",
    "Из всего вышесказанного можно сделать вывод, что наиболее выгодным регионом для разработки скважины является второй регион, так как у этого региона наибольшая средняя прибыль и наименьший риск убытков."
   ]
  }
 ],
 "metadata": {
  "ExecuteTimeLog": [
   {
    "duration": 1731,
    "start_time": "2024-09-15T15:32:40.816Z"
   },
   {
    "duration": 14181,
    "start_time": "2024-09-15T15:33:04.720Z"
   },
   {
    "duration": 42,
    "start_time": "2024-09-15T15:33:18.904Z"
   },
   {
    "duration": 14,
    "start_time": "2024-09-15T15:34:06.954Z"
   },
   {
    "duration": 14,
    "start_time": "2024-09-15T15:34:20.689Z"
   },
   {
    "duration": 13,
    "start_time": "2024-09-15T15:34:32.659Z"
   },
   {
    "duration": 17,
    "start_time": "2024-09-15T15:34:41.035Z"
   },
   {
    "duration": 8536,
    "start_time": "2024-09-15T15:34:53.512Z"
   },
   {
    "duration": 1298,
    "start_time": "2024-09-15T15:35:02.050Z"
   },
   {
    "duration": 944,
    "start_time": "2024-09-15T15:35:03.350Z"
   },
   {
    "duration": 130,
    "start_time": "2024-09-15T15:36:16.046Z"
   },
   {
    "duration": 14,
    "start_time": "2024-09-15T15:36:21.510Z"
   },
   {
    "duration": 11,
    "start_time": "2024-09-15T15:36:44.542Z"
   },
   {
    "duration": 22,
    "start_time": "2024-09-15T15:36:51.351Z"
   },
   {
    "duration": 10,
    "start_time": "2024-09-15T15:37:11.438Z"
   },
   {
    "duration": 20,
    "start_time": "2024-09-15T15:37:57.063Z"
   },
   {
    "duration": 9,
    "start_time": "2024-09-15T15:38:08.664Z"
   },
   {
    "duration": 16,
    "start_time": "2024-09-15T15:38:19.856Z"
   },
   {
    "duration": 16,
    "start_time": "2024-09-15T15:41:19.829Z"
   },
   {
    "duration": 24,
    "start_time": "2024-09-15T15:41:32.773Z"
   },
   {
    "duration": 18,
    "start_time": "2024-09-15T15:41:38.596Z"
   },
   {
    "duration": 1080,
    "start_time": "2024-09-15T15:41:49.429Z"
   },
   {
    "duration": 18,
    "start_time": "2024-09-15T15:42:07.415Z"
   },
   {
    "duration": 46,
    "start_time": "2024-09-15T15:42:49.087Z"
   },
   {
    "duration": 48,
    "start_time": "2024-09-15T15:44:35.290Z"
   },
   {
    "duration": 49,
    "start_time": "2024-09-15T15:44:45.745Z"
   },
   {
    "duration": 246,
    "start_time": "2024-09-15T15:47:43.439Z"
   },
   {
    "duration": 198,
    "start_time": "2024-09-15T15:48:30.112Z"
   },
   {
    "duration": 177,
    "start_time": "2024-09-15T15:49:29.505Z"
   },
   {
    "duration": 13,
    "start_time": "2024-09-15T15:49:58.458Z"
   },
   {
    "duration": 186,
    "start_time": "2024-09-15T15:50:17.835Z"
   },
   {
    "duration": 182,
    "start_time": "2024-09-15T15:50:24.690Z"
   },
   {
    "duration": 282,
    "start_time": "2024-09-15T15:50:52.131Z"
   },
   {
    "duration": 184,
    "start_time": "2024-09-15T15:51:19.956Z"
   },
   {
    "duration": 14,
    "start_time": "2024-09-15T15:51:20.908Z"
   },
   {
    "duration": 203,
    "start_time": "2024-09-15T15:51:32.020Z"
   },
   {
    "duration": 200,
    "start_time": "2024-09-15T15:51:33.068Z"
   },
   {
    "duration": 12,
    "start_time": "2024-09-15T15:51:53.717Z"
   },
   {
    "duration": 167,
    "start_time": "2024-09-15T15:52:20.598Z"
   },
   {
    "duration": 12,
    "start_time": "2024-09-15T15:52:21.774Z"
   },
   {
    "duration": 204,
    "start_time": "2024-09-15T15:52:34.629Z"
   },
   {
    "duration": 167,
    "start_time": "2024-09-15T15:52:43.462Z"
   },
   {
    "duration": 208,
    "start_time": "2024-09-15T15:53:06.502Z"
   },
   {
    "duration": 172,
    "start_time": "2024-09-15T15:53:32.039Z"
   },
   {
    "duration": 12,
    "start_time": "2024-09-15T15:53:50.824Z"
   },
   {
    "duration": 208,
    "start_time": "2024-09-15T15:54:06.584Z"
   },
   {
    "duration": 173,
    "start_time": "2024-09-15T15:54:19.889Z"
   },
   {
    "duration": 307,
    "start_time": "2024-09-15T15:54:44.106Z"
   },
   {
    "duration": 170,
    "start_time": "2024-09-15T15:55:19.153Z"
   },
   {
    "duration": 13,
    "start_time": "2024-09-15T15:55:40.954Z"
   },
   {
    "duration": 199,
    "start_time": "2024-09-15T15:55:53.668Z"
   },
   {
    "duration": 174,
    "start_time": "2024-09-15T15:56:01.515Z"
   },
   {
    "duration": 204,
    "start_time": "2024-09-15T15:56:52.716Z"
   },
   {
    "duration": 183,
    "start_time": "2024-09-15T15:57:17.125Z"
   },
   {
    "duration": 13,
    "start_time": "2024-09-15T15:58:04.518Z"
   },
   {
    "duration": 202,
    "start_time": "2024-09-15T15:58:16.143Z"
   },
   {
    "duration": 170,
    "start_time": "2024-09-15T15:58:30.278Z"
   },
   {
    "duration": 200,
    "start_time": "2024-09-15T15:58:57.288Z"
   },
   {
    "duration": 170,
    "start_time": "2024-09-15T15:59:17.584Z"
   },
   {
    "duration": 11,
    "start_time": "2024-09-15T15:59:29.064Z"
   },
   {
    "duration": 221,
    "start_time": "2024-09-15T15:59:46.177Z"
   },
   {
    "duration": 284,
    "start_time": "2024-09-15T16:00:38.337Z"
   },
   {
    "duration": 212,
    "start_time": "2024-09-15T16:01:02.578Z"
   },
   {
    "duration": 184,
    "start_time": "2024-09-15T16:01:35.204Z"
   },
   {
    "duration": 12,
    "start_time": "2024-09-15T16:01:49.699Z"
   },
   {
    "duration": 209,
    "start_time": "2024-09-15T16:02:10.693Z"
   },
   {
    "duration": 180,
    "start_time": "2024-09-15T16:02:19.982Z"
   },
   {
    "duration": 212,
    "start_time": "2024-09-15T16:02:41.205Z"
   },
   {
    "duration": 182,
    "start_time": "2024-09-15T16:03:03.063Z"
   },
   {
    "duration": 12,
    "start_time": "2024-09-15T16:03:14.957Z"
   },
   {
    "duration": 206,
    "start_time": "2024-09-15T16:03:39.662Z"
   },
   {
    "duration": 187,
    "start_time": "2024-09-15T16:03:59.560Z"
   },
   {
    "duration": 12,
    "start_time": "2024-09-15T16:04:10.959Z"
   },
   {
    "duration": 242,
    "start_time": "2024-09-15T16:04:29.503Z"
   },
   {
    "duration": 186,
    "start_time": "2024-09-15T16:04:32.856Z"
   },
   {
    "duration": 12,
    "start_time": "2024-09-15T16:04:34.161Z"
   },
   {
    "duration": 303,
    "start_time": "2024-09-15T16:05:43.082Z"
   },
   {
    "duration": 191,
    "start_time": "2024-09-15T16:06:06.620Z"
   },
   {
    "duration": 12,
    "start_time": "2024-09-15T16:06:27.532Z"
   },
   {
    "duration": 209,
    "start_time": "2024-09-15T16:06:45.723Z"
   },
   {
    "duration": 191,
    "start_time": "2024-09-15T16:06:49.156Z"
   },
   {
    "duration": 214,
    "start_time": "2024-09-15T16:07:22.532Z"
   },
   {
    "duration": 190,
    "start_time": "2024-09-15T16:08:04.063Z"
   },
   {
    "duration": 12,
    "start_time": "2024-09-15T16:08:21.775Z"
   },
   {
    "duration": 219,
    "start_time": "2024-09-15T16:08:30.567Z"
   },
   {
    "duration": 183,
    "start_time": "2024-09-15T16:08:44.669Z"
   },
   {
    "duration": 260,
    "start_time": "2024-09-15T16:08:53.223Z"
   },
   {
    "duration": 161,
    "start_time": "2024-09-15T16:09:12.112Z"
   },
   {
    "duration": 165,
    "start_time": "2024-09-15T16:09:21.023Z"
   },
   {
    "duration": 141,
    "start_time": "2024-09-15T16:09:27.664Z"
   },
   {
    "duration": 185,
    "start_time": "2024-09-15T16:10:04.224Z"
   },
   {
    "duration": 266,
    "start_time": "2024-09-15T16:10:12.649Z"
   },
   {
    "duration": 147,
    "start_time": "2024-09-15T16:10:38.201Z"
   },
   {
    "duration": 157,
    "start_time": "2024-09-15T16:10:57.605Z"
   },
   {
    "duration": 195,
    "start_time": "2024-09-15T16:11:33.427Z"
   },
   {
    "duration": 12,
    "start_time": "2024-09-15T16:11:53.386Z"
   },
   {
    "duration": 209,
    "start_time": "2024-09-15T16:12:06.636Z"
   },
   {
    "duration": 303,
    "start_time": "2024-09-15T16:12:18.868Z"
   },
   {
    "duration": 3,
    "start_time": "2024-09-15T16:14:01.389Z"
   },
   {
    "duration": 6,
    "start_time": "2024-09-15T16:19:28.600Z"
   },
   {
    "duration": 41,
    "start_time": "2024-09-15T19:10:47.143Z"
   },
   {
    "duration": 14,
    "start_time": "2024-09-15T19:11:03.709Z"
   },
   {
    "duration": 10,
    "start_time": "2024-09-15T19:11:17.205Z"
   },
   {
    "duration": 13,
    "start_time": "2024-09-15T19:11:51.789Z"
   },
   {
    "duration": 16,
    "start_time": "2024-09-15T19:14:55.314Z"
   },
   {
    "duration": 72,
    "start_time": "2024-09-15T19:16:52.413Z"
   },
   {
    "duration": 117,
    "start_time": "2024-09-15T19:17:20.789Z"
   },
   {
    "duration": 8376,
    "start_time": "2024-09-15T19:18:49.303Z"
   },
   {
    "duration": 1432,
    "start_time": "2024-09-15T19:18:57.682Z"
   },
   {
    "duration": 0,
    "start_time": "2024-09-15T19:18:59.117Z"
   },
   {
    "duration": 0,
    "start_time": "2024-09-15T19:18:59.119Z"
   },
   {
    "duration": 0,
    "start_time": "2024-09-15T19:18:59.120Z"
   },
   {
    "duration": 0,
    "start_time": "2024-09-15T19:18:59.121Z"
   },
   {
    "duration": 0,
    "start_time": "2024-09-15T19:18:59.122Z"
   },
   {
    "duration": 0,
    "start_time": "2024-09-15T19:18:59.123Z"
   },
   {
    "duration": 0,
    "start_time": "2024-09-15T19:18:59.124Z"
   },
   {
    "duration": 0,
    "start_time": "2024-09-15T19:18:59.125Z"
   },
   {
    "duration": 0,
    "start_time": "2024-09-15T19:18:59.126Z"
   },
   {
    "duration": 0,
    "start_time": "2024-09-15T19:18:59.127Z"
   },
   {
    "duration": 0,
    "start_time": "2024-09-15T19:18:59.128Z"
   },
   {
    "duration": 0,
    "start_time": "2024-09-15T19:18:59.129Z"
   },
   {
    "duration": 0,
    "start_time": "2024-09-15T19:18:59.130Z"
   },
   {
    "duration": 0,
    "start_time": "2024-09-15T19:18:59.131Z"
   },
   {
    "duration": 0,
    "start_time": "2024-09-15T19:18:59.132Z"
   },
   {
    "duration": 0,
    "start_time": "2024-09-15T19:18:59.133Z"
   },
   {
    "duration": 0,
    "start_time": "2024-09-15T19:18:59.134Z"
   },
   {
    "duration": 0,
    "start_time": "2024-09-15T19:18:59.135Z"
   },
   {
    "duration": 0,
    "start_time": "2024-09-15T19:18:59.136Z"
   },
   {
    "duration": 0,
    "start_time": "2024-09-15T19:18:59.137Z"
   },
   {
    "duration": 0,
    "start_time": "2024-09-15T19:18:59.138Z"
   },
   {
    "duration": 0,
    "start_time": "2024-09-15T19:18:59.140Z"
   },
   {
    "duration": 1,
    "start_time": "2024-09-15T19:18:59.140Z"
   },
   {
    "duration": 0,
    "start_time": "2024-09-15T19:18:59.141Z"
   },
   {
    "duration": 0,
    "start_time": "2024-09-15T19:18:59.142Z"
   },
   {
    "duration": 0,
    "start_time": "2024-09-15T19:18:59.143Z"
   },
   {
    "duration": 0,
    "start_time": "2024-09-15T19:18:59.144Z"
   },
   {
    "duration": 0,
    "start_time": "2024-09-15T19:18:59.145Z"
   },
   {
    "duration": 0,
    "start_time": "2024-09-15T19:18:59.146Z"
   },
   {
    "duration": 0,
    "start_time": "2024-09-15T19:18:59.147Z"
   },
   {
    "duration": 0,
    "start_time": "2024-09-15T19:18:59.148Z"
   },
   {
    "duration": 0,
    "start_time": "2024-09-15T19:18:59.149Z"
   },
   {
    "duration": 0,
    "start_time": "2024-09-15T19:18:59.150Z"
   },
   {
    "duration": 0,
    "start_time": "2024-09-15T19:18:59.151Z"
   },
   {
    "duration": 0,
    "start_time": "2024-09-15T19:18:59.152Z"
   },
   {
    "duration": 0,
    "start_time": "2024-09-15T19:18:59.205Z"
   },
   {
    "duration": 0,
    "start_time": "2024-09-15T19:18:59.206Z"
   },
   {
    "duration": 0,
    "start_time": "2024-09-15T19:18:59.207Z"
   },
   {
    "duration": 0,
    "start_time": "2024-09-15T19:18:59.208Z"
   },
   {
    "duration": 0,
    "start_time": "2024-09-15T19:18:59.209Z"
   },
   {
    "duration": 0,
    "start_time": "2024-09-15T19:18:59.210Z"
   },
   {
    "duration": 0,
    "start_time": "2024-09-15T19:18:59.211Z"
   },
   {
    "duration": 0,
    "start_time": "2024-09-15T19:18:59.212Z"
   },
   {
    "duration": 0,
    "start_time": "2024-09-15T19:18:59.214Z"
   },
   {
    "duration": 0,
    "start_time": "2024-09-15T19:18:59.215Z"
   },
   {
    "duration": 0,
    "start_time": "2024-09-15T19:18:59.216Z"
   },
   {
    "duration": 0,
    "start_time": "2024-09-15T19:18:59.217Z"
   },
   {
    "duration": 0,
    "start_time": "2024-09-15T19:18:59.218Z"
   },
   {
    "duration": 0,
    "start_time": "2024-09-15T19:18:59.218Z"
   },
   {
    "duration": 0,
    "start_time": "2024-09-15T19:18:59.219Z"
   },
   {
    "duration": 3,
    "start_time": "2024-09-15T19:19:24.954Z"
   },
   {
    "duration": 8065,
    "start_time": "2024-09-15T19:19:31.442Z"
   },
   {
    "duration": 1270,
    "start_time": "2024-09-15T19:19:39.510Z"
   },
   {
    "duration": 438,
    "start_time": "2024-09-15T19:19:40.785Z"
   },
   {
    "duration": 16,
    "start_time": "2024-09-15T19:19:41.225Z"
   },
   {
    "duration": 16,
    "start_time": "2024-09-15T19:19:41.242Z"
   },
   {
    "duration": 9,
    "start_time": "2024-09-15T19:19:41.260Z"
   },
   {
    "duration": 39,
    "start_time": "2024-09-15T19:19:41.271Z"
   },
   {
    "duration": 9,
    "start_time": "2024-09-15T19:19:41.312Z"
   },
   {
    "duration": 28,
    "start_time": "2024-09-15T19:19:41.324Z"
   },
   {
    "duration": 52,
    "start_time": "2024-09-15T19:19:41.354Z"
   },
   {
    "duration": 44,
    "start_time": "2024-09-15T19:19:41.407Z"
   },
   {
    "duration": 64,
    "start_time": "2024-09-15T19:19:41.453Z"
   },
   {
    "duration": 230,
    "start_time": "2024-09-15T19:19:41.518Z"
   },
   {
    "duration": 197,
    "start_time": "2024-09-15T19:19:41.750Z"
   },
   {
    "duration": 13,
    "start_time": "2024-09-15T19:19:41.949Z"
   },
   {
    "duration": 217,
    "start_time": "2024-09-15T19:19:41.964Z"
   },
   {
    "duration": 189,
    "start_time": "2024-09-15T19:19:42.182Z"
   },
   {
    "duration": 11,
    "start_time": "2024-09-15T19:19:42.373Z"
   },
   {
    "duration": 240,
    "start_time": "2024-09-15T19:19:42.386Z"
   },
   {
    "duration": 267,
    "start_time": "2024-09-15T19:19:42.627Z"
   },
   {
    "duration": 20,
    "start_time": "2024-09-15T19:19:42.895Z"
   },
   {
    "duration": 230,
    "start_time": "2024-09-15T19:19:42.917Z"
   },
   {
    "duration": 198,
    "start_time": "2024-09-15T19:19:43.149Z"
   },
   {
    "duration": 13,
    "start_time": "2024-09-15T19:19:43.348Z"
   },
   {
    "duration": 217,
    "start_time": "2024-09-15T19:19:43.362Z"
   },
   {
    "duration": 178,
    "start_time": "2024-09-15T19:19:43.580Z"
   },
   {
    "duration": 11,
    "start_time": "2024-09-15T19:19:43.761Z"
   },
   {
    "duration": 210,
    "start_time": "2024-09-15T19:19:43.773Z"
   },
   {
    "duration": 175,
    "start_time": "2024-09-15T19:19:43.985Z"
   },
   {
    "duration": 12,
    "start_time": "2024-09-15T19:19:44.162Z"
   },
   {
    "duration": 231,
    "start_time": "2024-09-15T19:19:44.176Z"
   },
   {
    "duration": 276,
    "start_time": "2024-09-15T19:19:44.408Z"
   },
   {
    "duration": 20,
    "start_time": "2024-09-15T19:19:44.686Z"
   },
   {
    "duration": 167,
    "start_time": "2024-09-15T19:19:44.707Z"
   },
   {
    "duration": 222,
    "start_time": "2024-09-15T19:19:44.876Z"
   },
   {
    "duration": 13,
    "start_time": "2024-09-15T19:19:45.104Z"
   },
   {
    "duration": 220,
    "start_time": "2024-09-15T19:19:45.118Z"
   },
   {
    "duration": 195,
    "start_time": "2024-09-15T19:19:45.340Z"
   },
   {
    "duration": 12,
    "start_time": "2024-09-15T19:19:45.536Z"
   },
   {
    "duration": 213,
    "start_time": "2024-09-15T19:19:45.549Z"
   },
   {
    "duration": 186,
    "start_time": "2024-09-15T19:19:45.764Z"
   },
   {
    "duration": 13,
    "start_time": "2024-09-15T19:19:45.952Z"
   },
   {
    "duration": 253,
    "start_time": "2024-09-15T19:19:45.967Z"
   },
   {
    "duration": 196,
    "start_time": "2024-09-15T19:19:46.222Z"
   },
   {
    "duration": 13,
    "start_time": "2024-09-15T19:19:46.419Z"
   },
   {
    "duration": 247,
    "start_time": "2024-09-15T19:19:46.433Z"
   },
   {
    "duration": 316,
    "start_time": "2024-09-15T19:19:46.682Z"
   },
   {
    "duration": 15,
    "start_time": "2024-09-15T19:19:47.000Z"
   },
   {
    "duration": 3,
    "start_time": "2024-09-15T19:19:47.016Z"
   },
   {
    "duration": 12,
    "start_time": "2024-09-15T19:19:47.020Z"
   },
   {
    "duration": 15,
    "start_time": "2024-09-15T19:19:47.034Z"
   },
   {
    "duration": 156,
    "start_time": "2024-09-15T19:19:47.051Z"
   },
   {
    "duration": 28,
    "start_time": "2024-09-15T19:21:18.572Z"
   },
   {
    "duration": 33,
    "start_time": "2024-09-15T19:22:22.085Z"
   },
   {
    "duration": 33,
    "start_time": "2024-09-15T19:24:21.953Z"
   },
   {
    "duration": 4,
    "start_time": "2024-09-15T19:26:49.236Z"
   },
   {
    "duration": 14,
    "start_time": "2024-09-15T19:26:49.892Z"
   },
   {
    "duration": 29,
    "start_time": "2024-09-15T19:27:29.093Z"
   },
   {
    "duration": 6,
    "start_time": "2024-09-15T19:29:29.319Z"
   },
   {
    "duration": 10,
    "start_time": "2024-09-15T19:29:37.904Z"
   },
   {
    "duration": 28,
    "start_time": "2024-09-15T19:30:09.128Z"
   },
   {
    "duration": 5,
    "start_time": "2024-09-15T19:45:54.305Z"
   },
   {
    "duration": 5,
    "start_time": "2024-09-15T19:56:11.975Z"
   },
   {
    "duration": 117,
    "start_time": "2024-09-15T19:56:23.000Z"
   },
   {
    "duration": 4,
    "start_time": "2024-09-15T19:56:39.521Z"
   },
   {
    "duration": 9,
    "start_time": "2024-09-15T19:57:53.690Z"
   },
   {
    "duration": 13,
    "start_time": "2024-09-15T19:58:10.347Z"
   },
   {
    "duration": 14359,
    "start_time": "2024-09-16T19:19:06.901Z"
   },
   {
    "duration": 1444,
    "start_time": "2024-09-16T19:19:21.263Z"
   },
   {
    "duration": 967,
    "start_time": "2024-09-16T19:19:22.709Z"
   },
   {
    "duration": 14,
    "start_time": "2024-09-16T19:19:23.678Z"
   },
   {
    "duration": 15,
    "start_time": "2024-09-16T19:19:23.693Z"
   },
   {
    "duration": 9,
    "start_time": "2024-09-16T19:19:23.709Z"
   },
   {
    "duration": 14,
    "start_time": "2024-09-16T19:19:23.720Z"
   },
   {
    "duration": 19,
    "start_time": "2024-09-16T19:19:23.735Z"
   },
   {
    "duration": 28,
    "start_time": "2024-09-16T19:19:23.755Z"
   },
   {
    "duration": 42,
    "start_time": "2024-09-16T19:19:23.785Z"
   },
   {
    "duration": 51,
    "start_time": "2024-09-16T19:19:23.829Z"
   },
   {
    "duration": 43,
    "start_time": "2024-09-16T19:19:23.882Z"
   },
   {
    "duration": 222,
    "start_time": "2024-09-16T19:19:23.927Z"
   },
   {
    "duration": 195,
    "start_time": "2024-09-16T19:19:24.152Z"
   },
   {
    "duration": 12,
    "start_time": "2024-09-16T19:19:24.349Z"
   },
   {
    "duration": 210,
    "start_time": "2024-09-16T19:19:24.362Z"
   },
   {
    "duration": 171,
    "start_time": "2024-09-16T19:19:24.573Z"
   },
   {
    "duration": 16,
    "start_time": "2024-09-16T19:19:24.745Z"
   },
   {
    "duration": 218,
    "start_time": "2024-09-16T19:19:24.763Z"
   },
   {
    "duration": 257,
    "start_time": "2024-09-16T19:19:24.983Z"
   },
   {
    "duration": 18,
    "start_time": "2024-09-16T19:19:25.241Z"
   },
   {
    "duration": 208,
    "start_time": "2024-09-16T19:19:25.260Z"
   },
   {
    "duration": 208,
    "start_time": "2024-09-16T19:19:25.470Z"
   },
   {
    "duration": 12,
    "start_time": "2024-09-16T19:19:25.680Z"
   },
   {
    "duration": 206,
    "start_time": "2024-09-16T19:19:25.693Z"
   },
   {
    "duration": 174,
    "start_time": "2024-09-16T19:19:25.901Z"
   },
   {
    "duration": 11,
    "start_time": "2024-09-16T19:19:26.077Z"
   },
   {
    "duration": 219,
    "start_time": "2024-09-16T19:19:26.092Z"
   },
   {
    "duration": 181,
    "start_time": "2024-09-16T19:19:26.312Z"
   },
   {
    "duration": 12,
    "start_time": "2024-09-16T19:19:26.494Z"
   },
   {
    "duration": 222,
    "start_time": "2024-09-16T19:19:26.507Z"
   },
   {
    "duration": 266,
    "start_time": "2024-09-16T19:19:26.731Z"
   },
   {
    "duration": 12,
    "start_time": "2024-09-16T19:19:26.998Z"
   },
   {
    "duration": 164,
    "start_time": "2024-09-16T19:19:27.011Z"
   },
   {
    "duration": 211,
    "start_time": "2024-09-16T19:19:27.176Z"
   },
   {
    "duration": 11,
    "start_time": "2024-09-16T19:19:27.389Z"
   },
   {
    "duration": 217,
    "start_time": "2024-09-16T19:19:27.402Z"
   },
   {
    "duration": 187,
    "start_time": "2024-09-16T19:19:27.621Z"
   },
   {
    "duration": 11,
    "start_time": "2024-09-16T19:19:27.810Z"
   },
   {
    "duration": 280,
    "start_time": "2024-09-16T19:19:27.823Z"
   },
   {
    "duration": 187,
    "start_time": "2024-09-16T19:19:28.105Z"
   },
   {
    "duration": 12,
    "start_time": "2024-09-16T19:19:28.293Z"
   },
   {
    "duration": 228,
    "start_time": "2024-09-16T19:19:28.306Z"
   },
   {
    "duration": 175,
    "start_time": "2024-09-16T19:19:28.536Z"
   },
   {
    "duration": 11,
    "start_time": "2024-09-16T19:19:28.713Z"
   },
   {
    "duration": 225,
    "start_time": "2024-09-16T19:19:28.725Z"
   },
   {
    "duration": 306,
    "start_time": "2024-09-16T19:19:28.951Z"
   },
   {
    "duration": 13,
    "start_time": "2024-09-16T19:19:29.260Z"
   },
   {
    "duration": 3,
    "start_time": "2024-09-16T19:19:29.274Z"
   },
   {
    "duration": 9,
    "start_time": "2024-09-16T19:19:29.279Z"
   },
   {
    "duration": 15,
    "start_time": "2024-09-16T19:19:29.290Z"
   },
   {
    "duration": 245,
    "start_time": "2024-09-16T19:19:29.307Z"
   },
   {
    "duration": 9,
    "start_time": "2024-09-16T19:19:29.555Z"
   },
   {
    "duration": 99,
    "start_time": "2024-09-16T19:19:29.566Z"
   },
   {
    "duration": 29,
    "start_time": "2024-09-16T19:19:29.666Z"
   },
   {
    "duration": 96,
    "start_time": "2024-09-16T19:19:29.758Z"
   },
   {
    "duration": 25,
    "start_time": "2024-09-16T19:19:29.855Z"
   },
   {
    "duration": 71,
    "start_time": "2024-09-16T19:19:29.882Z"
   },
   {
    "duration": 3,
    "start_time": "2024-09-16T19:19:29.957Z"
   },
   {
    "duration": 3,
    "start_time": "2024-09-16T19:19:30.052Z"
   },
   {
    "duration": 18,
    "start_time": "2024-09-16T19:19:30.057Z"
   },
   {
    "duration": 3,
    "start_time": "2024-09-16T19:26:15.045Z"
   },
   {
    "duration": 8,
    "start_time": "2024-09-16T19:26:20.404Z"
   },
   {
    "duration": 3,
    "start_time": "2024-09-16T19:26:34.837Z"
   },
   {
    "duration": 20,
    "start_time": "2024-09-16T19:33:41.847Z"
   },
   {
    "duration": 16,
    "start_time": "2024-09-16T19:34:37.616Z"
   },
   {
    "duration": 15,
    "start_time": "2024-09-16T19:34:48.266Z"
   },
   {
    "duration": 7910,
    "start_time": "2024-09-16T19:43:25.969Z"
   },
   {
    "duration": 1253,
    "start_time": "2024-09-16T19:43:33.882Z"
   },
   {
    "duration": 419,
    "start_time": "2024-09-16T19:43:35.137Z"
   },
   {
    "duration": 13,
    "start_time": "2024-09-16T19:43:35.558Z"
   },
   {
    "duration": 27,
    "start_time": "2024-09-16T19:43:35.573Z"
   },
   {
    "duration": 28,
    "start_time": "2024-09-16T19:43:35.602Z"
   },
   {
    "duration": 19,
    "start_time": "2024-09-16T19:43:35.632Z"
   },
   {
    "duration": 11,
    "start_time": "2024-09-16T19:43:35.652Z"
   },
   {
    "duration": 38,
    "start_time": "2024-09-16T19:43:35.665Z"
   },
   {
    "duration": 48,
    "start_time": "2024-09-16T19:43:35.705Z"
   },
   {
    "duration": 41,
    "start_time": "2024-09-16T19:43:35.754Z"
   },
   {
    "duration": 60,
    "start_time": "2024-09-16T19:43:35.797Z"
   },
   {
    "duration": 204,
    "start_time": "2024-09-16T19:43:35.859Z"
   },
   {
    "duration": 170,
    "start_time": "2024-09-16T19:43:36.065Z"
   },
   {
    "duration": 18,
    "start_time": "2024-09-16T19:43:36.237Z"
   },
   {
    "duration": 198,
    "start_time": "2024-09-16T19:43:36.257Z"
   },
   {
    "duration": 174,
    "start_time": "2024-09-16T19:43:36.457Z"
   },
   {
    "duration": 21,
    "start_time": "2024-09-16T19:43:36.632Z"
   },
   {
    "duration": 249,
    "start_time": "2024-09-16T19:43:36.654Z"
   },
   {
    "duration": 269,
    "start_time": "2024-09-16T19:43:36.905Z"
   },
   {
    "duration": 12,
    "start_time": "2024-09-16T19:43:37.175Z"
   },
   {
    "duration": 249,
    "start_time": "2024-09-16T19:43:37.189Z"
   },
   {
    "duration": 195,
    "start_time": "2024-09-16T19:43:37.440Z"
   },
   {
    "duration": 20,
    "start_time": "2024-09-16T19:43:37.637Z"
   },
   {
    "duration": 217,
    "start_time": "2024-09-16T19:43:37.659Z"
   },
   {
    "duration": 194,
    "start_time": "2024-09-16T19:43:37.878Z"
   },
   {
    "duration": 11,
    "start_time": "2024-09-16T19:43:38.074Z"
   },
   {
    "duration": 226,
    "start_time": "2024-09-16T19:43:38.089Z"
   },
   {
    "duration": 181,
    "start_time": "2024-09-16T19:43:38.316Z"
   },
   {
    "duration": 12,
    "start_time": "2024-09-16T19:43:38.498Z"
   },
   {
    "duration": 226,
    "start_time": "2024-09-16T19:43:38.512Z"
   },
   {
    "duration": 263,
    "start_time": "2024-09-16T19:43:38.740Z"
   },
   {
    "duration": 12,
    "start_time": "2024-09-16T19:43:39.005Z"
   },
   {
    "duration": 155,
    "start_time": "2024-09-16T19:43:39.019Z"
   },
   {
    "duration": 186,
    "start_time": "2024-09-16T19:43:39.175Z"
   },
   {
    "duration": 11,
    "start_time": "2024-09-16T19:43:39.362Z"
   },
   {
    "duration": 218,
    "start_time": "2024-09-16T19:43:39.375Z"
   },
   {
    "duration": 194,
    "start_time": "2024-09-16T19:43:39.595Z"
   },
   {
    "duration": 12,
    "start_time": "2024-09-16T19:43:39.791Z"
   },
   {
    "duration": 213,
    "start_time": "2024-09-16T19:43:39.805Z"
   },
   {
    "duration": 191,
    "start_time": "2024-09-16T19:43:40.020Z"
   },
   {
    "duration": 12,
    "start_time": "2024-09-16T19:43:40.213Z"
   },
   {
    "duration": 236,
    "start_time": "2024-09-16T19:43:40.227Z"
   },
   {
    "duration": 188,
    "start_time": "2024-09-16T19:43:40.465Z"
   },
   {
    "duration": 13,
    "start_time": "2024-09-16T19:43:40.654Z"
   },
   {
    "duration": 212,
    "start_time": "2024-09-16T19:43:40.668Z"
   },
   {
    "duration": 268,
    "start_time": "2024-09-16T19:43:40.882Z"
   },
   {
    "duration": 11,
    "start_time": "2024-09-16T19:43:41.152Z"
   },
   {
    "duration": 22,
    "start_time": "2024-09-16T19:43:41.164Z"
   },
   {
    "duration": 24,
    "start_time": "2024-09-16T19:43:41.187Z"
   },
   {
    "duration": 41,
    "start_time": "2024-09-16T19:43:41.212Z"
   },
   {
    "duration": 97,
    "start_time": "2024-09-16T19:43:41.255Z"
   },
   {
    "duration": 92,
    "start_time": "2024-09-16T19:43:41.361Z"
   },
   {
    "duration": 26,
    "start_time": "2024-09-16T19:43:41.455Z"
   },
   {
    "duration": 34,
    "start_time": "2024-09-16T19:43:41.482Z"
   },
   {
    "duration": 6,
    "start_time": "2024-09-16T19:43:41.555Z"
   },
   {
    "duration": 23,
    "start_time": "2024-09-16T19:43:41.653Z"
   },
   {
    "duration": 75,
    "start_time": "2024-09-16T19:43:41.678Z"
   },
   {
    "duration": 97,
    "start_time": "2024-09-16T19:43:41.756Z"
   },
   {
    "duration": 25,
    "start_time": "2024-09-16T19:43:41.855Z"
   },
   {
    "duration": 24,
    "start_time": "2024-09-16T19:43:41.882Z"
   },
   {
    "duration": 23,
    "start_time": "2024-09-16T19:43:41.908Z"
   },
   {
    "duration": 13,
    "start_time": "2024-09-16T19:44:35.392Z"
   },
   {
    "duration": 9,
    "start_time": "2024-09-16T19:46:00.897Z"
   },
   {
    "duration": 8002,
    "start_time": "2024-09-16T19:49:44.296Z"
   },
   {
    "duration": 1221,
    "start_time": "2024-09-16T19:49:52.300Z"
   },
   {
    "duration": 413,
    "start_time": "2024-09-16T19:49:53.523Z"
   },
   {
    "duration": 17,
    "start_time": "2024-09-16T19:49:53.938Z"
   },
   {
    "duration": 90,
    "start_time": "2024-09-16T19:49:53.957Z"
   },
   {
    "duration": 33,
    "start_time": "2024-09-16T19:49:54.049Z"
   },
   {
    "duration": 26,
    "start_time": "2024-09-16T19:49:54.087Z"
   },
   {
    "duration": 10,
    "start_time": "2024-09-16T19:49:54.115Z"
   },
   {
    "duration": 18,
    "start_time": "2024-09-16T19:49:54.126Z"
   },
   {
    "duration": 55,
    "start_time": "2024-09-16T19:49:54.147Z"
   },
   {
    "duration": 44,
    "start_time": "2024-09-16T19:49:54.204Z"
   },
   {
    "duration": 51,
    "start_time": "2024-09-16T19:49:54.254Z"
   },
   {
    "duration": 218,
    "start_time": "2024-09-16T19:49:54.307Z"
   },
   {
    "duration": 183,
    "start_time": "2024-09-16T19:49:54.527Z"
   },
   {
    "duration": 12,
    "start_time": "2024-09-16T19:49:54.712Z"
   },
   {
    "duration": 210,
    "start_time": "2024-09-16T19:49:54.725Z"
   },
   {
    "duration": 182,
    "start_time": "2024-09-16T19:49:54.937Z"
   },
   {
    "duration": 13,
    "start_time": "2024-09-16T19:49:55.120Z"
   },
   {
    "duration": 260,
    "start_time": "2024-09-16T19:49:55.135Z"
   },
   {
    "duration": 257,
    "start_time": "2024-09-16T19:49:55.396Z"
   },
   {
    "duration": 12,
    "start_time": "2024-09-16T19:49:55.655Z"
   },
   {
    "duration": 214,
    "start_time": "2024-09-16T19:49:55.669Z"
   },
   {
    "duration": 202,
    "start_time": "2024-09-16T19:49:55.885Z"
   },
   {
    "duration": 12,
    "start_time": "2024-09-16T19:49:56.089Z"
   },
   {
    "duration": 205,
    "start_time": "2024-09-16T19:49:56.103Z"
   },
   {
    "duration": 181,
    "start_time": "2024-09-16T19:49:56.310Z"
   },
   {
    "duration": 12,
    "start_time": "2024-09-16T19:49:56.493Z"
   },
   {
    "duration": 206,
    "start_time": "2024-09-16T19:49:56.509Z"
   },
   {
    "duration": 171,
    "start_time": "2024-09-16T19:49:56.716Z"
   },
   {
    "duration": 12,
    "start_time": "2024-09-16T19:49:56.888Z"
   },
   {
    "duration": 230,
    "start_time": "2024-09-16T19:49:56.901Z"
   },
   {
    "duration": 278,
    "start_time": "2024-09-16T19:49:57.133Z"
   },
   {
    "duration": 11,
    "start_time": "2024-09-16T19:49:57.413Z"
   },
   {
    "duration": 158,
    "start_time": "2024-09-16T19:49:57.425Z"
   },
   {
    "duration": 200,
    "start_time": "2024-09-16T19:49:57.584Z"
   },
   {
    "duration": 11,
    "start_time": "2024-09-16T19:49:57.786Z"
   },
   {
    "duration": 208,
    "start_time": "2024-09-16T19:49:57.799Z"
   },
   {
    "duration": 188,
    "start_time": "2024-09-16T19:49:58.008Z"
   },
   {
    "duration": 11,
    "start_time": "2024-09-16T19:49:58.198Z"
   },
   {
    "duration": 209,
    "start_time": "2024-09-16T19:49:58.210Z"
   },
   {
    "duration": 183,
    "start_time": "2024-09-16T19:49:58.421Z"
   },
   {
    "duration": 11,
    "start_time": "2024-09-16T19:49:58.605Z"
   },
   {
    "duration": 236,
    "start_time": "2024-09-16T19:49:58.618Z"
   },
   {
    "duration": 186,
    "start_time": "2024-09-16T19:49:58.856Z"
   },
   {
    "duration": 19,
    "start_time": "2024-09-16T19:49:59.043Z"
   },
   {
    "duration": 210,
    "start_time": "2024-09-16T19:49:59.063Z"
   },
   {
    "duration": 271,
    "start_time": "2024-09-16T19:49:59.275Z"
   },
   {
    "duration": 12,
    "start_time": "2024-09-16T19:49:59.552Z"
   },
   {
    "duration": 3,
    "start_time": "2024-09-16T19:49:59.565Z"
   },
   {
    "duration": 11,
    "start_time": "2024-09-16T19:49:59.569Z"
   },
   {
    "duration": 23,
    "start_time": "2024-09-16T19:49:59.581Z"
   },
   {
    "duration": 162,
    "start_time": "2024-09-16T19:49:59.606Z"
   },
   {
    "duration": 0,
    "start_time": "2024-09-16T19:49:59.769Z"
   },
   {
    "duration": 0,
    "start_time": "2024-09-16T19:49:59.771Z"
   },
   {
    "duration": 0,
    "start_time": "2024-09-16T19:49:59.772Z"
   },
   {
    "duration": 0,
    "start_time": "2024-09-16T19:49:59.773Z"
   },
   {
    "duration": 0,
    "start_time": "2024-09-16T19:49:59.774Z"
   },
   {
    "duration": 0,
    "start_time": "2024-09-16T19:49:59.775Z"
   },
   {
    "duration": 0,
    "start_time": "2024-09-16T19:49:59.776Z"
   },
   {
    "duration": 0,
    "start_time": "2024-09-16T19:49:59.777Z"
   },
   {
    "duration": 0,
    "start_time": "2024-09-16T19:49:59.778Z"
   },
   {
    "duration": 0,
    "start_time": "2024-09-16T19:49:59.779Z"
   },
   {
    "duration": 0,
    "start_time": "2024-09-16T19:49:59.780Z"
   },
   {
    "duration": 16,
    "start_time": "2024-09-16T19:54:06.252Z"
   },
   {
    "duration": 8179,
    "start_time": "2024-09-16T19:54:56.262Z"
   },
   {
    "duration": 1283,
    "start_time": "2024-09-16T19:55:04.444Z"
   },
   {
    "duration": 420,
    "start_time": "2024-09-16T19:55:05.729Z"
   },
   {
    "duration": 14,
    "start_time": "2024-09-16T19:55:06.151Z"
   },
   {
    "duration": 44,
    "start_time": "2024-09-16T19:55:06.168Z"
   },
   {
    "duration": 10,
    "start_time": "2024-09-16T19:55:06.214Z"
   },
   {
    "duration": 56,
    "start_time": "2024-09-16T19:55:06.226Z"
   },
   {
    "duration": 11,
    "start_time": "2024-09-16T19:55:06.283Z"
   },
   {
    "duration": 104,
    "start_time": "2024-09-16T19:55:06.295Z"
   },
   {
    "duration": 55,
    "start_time": "2024-09-16T19:55:06.400Z"
   },
   {
    "duration": 47,
    "start_time": "2024-09-16T19:55:06.456Z"
   },
   {
    "duration": 72,
    "start_time": "2024-09-16T19:55:06.505Z"
   },
   {
    "duration": 223,
    "start_time": "2024-09-16T19:55:06.579Z"
   },
   {
    "duration": 176,
    "start_time": "2024-09-16T19:55:06.805Z"
   },
   {
    "duration": 11,
    "start_time": "2024-09-16T19:55:06.983Z"
   },
   {
    "duration": 231,
    "start_time": "2024-09-16T19:55:06.995Z"
   },
   {
    "duration": 199,
    "start_time": "2024-09-16T19:55:07.228Z"
   },
   {
    "duration": 13,
    "start_time": "2024-09-16T19:55:07.428Z"
   },
   {
    "duration": 236,
    "start_time": "2024-09-16T19:55:07.454Z"
   },
   {
    "duration": 279,
    "start_time": "2024-09-16T19:55:07.691Z"
   },
   {
    "duration": 12,
    "start_time": "2024-09-16T19:55:07.971Z"
   },
   {
    "duration": 288,
    "start_time": "2024-09-16T19:55:07.985Z"
   },
   {
    "duration": 194,
    "start_time": "2024-09-16T19:55:08.275Z"
   },
   {
    "duration": 14,
    "start_time": "2024-09-16T19:55:08.471Z"
   },
   {
    "duration": 229,
    "start_time": "2024-09-16T19:55:08.487Z"
   },
   {
    "duration": 184,
    "start_time": "2024-09-16T19:55:08.718Z"
   },
   {
    "duration": 15,
    "start_time": "2024-09-16T19:55:08.904Z"
   },
   {
    "duration": 231,
    "start_time": "2024-09-16T19:55:08.922Z"
   },
   {
    "duration": 182,
    "start_time": "2024-09-16T19:55:09.155Z"
   },
   {
    "duration": 20,
    "start_time": "2024-09-16T19:55:09.339Z"
   },
   {
    "duration": 221,
    "start_time": "2024-09-16T19:55:09.361Z"
   },
   {
    "duration": 193,
    "start_time": "2024-09-16T19:55:09.584Z"
   },
   {
    "duration": 12,
    "start_time": "2024-09-16T19:55:09.778Z"
   },
   {
    "duration": 270,
    "start_time": "2024-09-16T19:55:09.791Z"
   },
   {
    "duration": 180,
    "start_time": "2024-09-16T19:55:10.062Z"
   },
   {
    "duration": 19,
    "start_time": "2024-09-16T19:55:10.243Z"
   },
   {
    "duration": 218,
    "start_time": "2024-09-16T19:55:10.263Z"
   },
   {
    "duration": 192,
    "start_time": "2024-09-16T19:55:10.484Z"
   },
   {
    "duration": 13,
    "start_time": "2024-09-16T19:55:10.678Z"
   },
   {
    "duration": 216,
    "start_time": "2024-09-16T19:55:10.693Z"
   },
   {
    "duration": 186,
    "start_time": "2024-09-16T19:55:10.914Z"
   },
   {
    "duration": 11,
    "start_time": "2024-09-16T19:55:11.102Z"
   },
   {
    "duration": 243,
    "start_time": "2024-09-16T19:55:11.115Z"
   },
   {
    "duration": 177,
    "start_time": "2024-09-16T19:55:11.359Z"
   },
   {
    "duration": 17,
    "start_time": "2024-09-16T19:55:11.538Z"
   },
   {
    "duration": 215,
    "start_time": "2024-09-16T19:55:11.557Z"
   },
   {
    "duration": 190,
    "start_time": "2024-09-16T19:55:11.773Z"
   },
   {
    "duration": 11,
    "start_time": "2024-09-16T19:55:11.964Z"
   },
   {
    "duration": 82,
    "start_time": "2024-09-16T19:55:11.977Z"
   },
   {
    "duration": 26,
    "start_time": "2024-09-16T19:55:12.061Z"
   },
   {
    "duration": 25,
    "start_time": "2024-09-16T19:55:12.088Z"
   },
   {
    "duration": 199,
    "start_time": "2024-09-16T19:55:12.114Z"
   },
   {
    "duration": 0,
    "start_time": "2024-09-16T19:55:12.315Z"
   },
   {
    "duration": 1,
    "start_time": "2024-09-16T19:55:12.316Z"
   },
   {
    "duration": 0,
    "start_time": "2024-09-16T19:55:12.318Z"
   },
   {
    "duration": 0,
    "start_time": "2024-09-16T19:55:12.319Z"
   },
   {
    "duration": 0,
    "start_time": "2024-09-16T19:55:12.320Z"
   },
   {
    "duration": 0,
    "start_time": "2024-09-16T19:55:12.322Z"
   },
   {
    "duration": 0,
    "start_time": "2024-09-16T19:55:12.323Z"
   },
   {
    "duration": 0,
    "start_time": "2024-09-16T19:55:12.324Z"
   },
   {
    "duration": 0,
    "start_time": "2024-09-16T19:55:12.325Z"
   },
   {
    "duration": 0,
    "start_time": "2024-09-16T19:55:12.326Z"
   },
   {
    "duration": 0,
    "start_time": "2024-09-16T19:55:12.354Z"
   },
   {
    "duration": 0,
    "start_time": "2024-09-16T19:55:12.355Z"
   },
   {
    "duration": 1008,
    "start_time": "2024-09-16T19:56:03.152Z"
   },
   {
    "duration": 46,
    "start_time": "2024-09-16T19:57:19.866Z"
   },
   {
    "duration": 5,
    "start_time": "2024-09-16T19:57:39.355Z"
   },
   {
    "duration": 11,
    "start_time": "2024-09-16T19:57:39.723Z"
   },
   {
    "duration": 105,
    "start_time": "2024-09-16T19:57:41.356Z"
   },
   {
    "duration": 35,
    "start_time": "2024-09-16T19:57:47.683Z"
   },
   {
    "duration": 11,
    "start_time": "2024-09-16T20:00:05.694Z"
   },
   {
    "duration": 8019,
    "start_time": "2024-09-16T20:00:17.889Z"
   },
   {
    "duration": 1212,
    "start_time": "2024-09-16T20:00:25.910Z"
   },
   {
    "duration": 432,
    "start_time": "2024-09-16T20:00:27.124Z"
   },
   {
    "duration": 14,
    "start_time": "2024-09-16T20:00:27.559Z"
   },
   {
    "duration": 33,
    "start_time": "2024-09-16T20:00:27.574Z"
   },
   {
    "duration": 10,
    "start_time": "2024-09-16T20:00:27.610Z"
   },
   {
    "duration": 18,
    "start_time": "2024-09-16T20:00:27.621Z"
   },
   {
    "duration": 17,
    "start_time": "2024-09-16T20:00:27.640Z"
   },
   {
    "duration": 15,
    "start_time": "2024-09-16T20:00:27.659Z"
   },
   {
    "duration": 49,
    "start_time": "2024-09-16T20:00:27.676Z"
   },
   {
    "duration": 69,
    "start_time": "2024-09-16T20:00:27.726Z"
   },
   {
    "duration": 61,
    "start_time": "2024-09-16T20:00:27.797Z"
   },
   {
    "duration": 251,
    "start_time": "2024-09-16T20:00:27.860Z"
   },
   {
    "duration": 211,
    "start_time": "2024-09-16T20:00:28.112Z"
   },
   {
    "duration": 14,
    "start_time": "2024-09-16T20:00:28.325Z"
   },
   {
    "duration": 222,
    "start_time": "2024-09-16T20:00:28.352Z"
   },
   {
    "duration": 195,
    "start_time": "2024-09-16T20:00:28.576Z"
   },
   {
    "duration": 12,
    "start_time": "2024-09-16T20:00:28.772Z"
   },
   {
    "duration": 225,
    "start_time": "2024-09-16T20:00:28.785Z"
   },
   {
    "duration": 279,
    "start_time": "2024-09-16T20:00:29.012Z"
   },
   {
    "duration": 13,
    "start_time": "2024-09-16T20:00:29.293Z"
   },
   {
    "duration": 255,
    "start_time": "2024-09-16T20:00:29.308Z"
   },
   {
    "duration": 190,
    "start_time": "2024-09-16T20:00:29.564Z"
   },
   {
    "duration": 12,
    "start_time": "2024-09-16T20:00:29.756Z"
   },
   {
    "duration": 223,
    "start_time": "2024-09-16T20:00:29.769Z"
   },
   {
    "duration": 187,
    "start_time": "2024-09-16T20:00:29.994Z"
   },
   {
    "duration": 12,
    "start_time": "2024-09-16T20:00:30.182Z"
   },
   {
    "duration": 223,
    "start_time": "2024-09-16T20:00:30.198Z"
   },
   {
    "duration": 199,
    "start_time": "2024-09-16T20:00:30.422Z"
   },
   {
    "duration": 12,
    "start_time": "2024-09-16T20:00:30.622Z"
   },
   {
    "duration": 234,
    "start_time": "2024-09-16T20:00:30.636Z"
   },
   {
    "duration": 276,
    "start_time": "2024-09-16T20:00:30.871Z"
   },
   {
    "duration": 12,
    "start_time": "2024-09-16T20:00:31.152Z"
   },
   {
    "duration": 162,
    "start_time": "2024-09-16T20:00:31.165Z"
   },
   {
    "duration": 176,
    "start_time": "2024-09-16T20:00:31.329Z"
   },
   {
    "duration": 12,
    "start_time": "2024-09-16T20:00:31.506Z"
   },
   {
    "duration": 216,
    "start_time": "2024-09-16T20:00:31.519Z"
   },
   {
    "duration": 193,
    "start_time": "2024-09-16T20:00:31.737Z"
   },
   {
    "duration": 23,
    "start_time": "2024-09-16T20:00:31.932Z"
   },
   {
    "duration": 239,
    "start_time": "2024-09-16T20:00:31.956Z"
   },
   {
    "duration": 208,
    "start_time": "2024-09-16T20:00:32.197Z"
   },
   {
    "duration": 11,
    "start_time": "2024-09-16T20:00:32.407Z"
   },
   {
    "duration": 243,
    "start_time": "2024-09-16T20:00:32.420Z"
   },
   {
    "duration": 185,
    "start_time": "2024-09-16T20:00:32.664Z"
   },
   {
    "duration": 13,
    "start_time": "2024-09-16T20:00:32.853Z"
   },
   {
    "duration": 258,
    "start_time": "2024-09-16T20:00:32.868Z"
   },
   {
    "duration": 293,
    "start_time": "2024-09-16T20:00:33.128Z"
   },
   {
    "duration": 13,
    "start_time": "2024-09-16T20:00:33.423Z"
   },
   {
    "duration": 18,
    "start_time": "2024-09-16T20:00:33.437Z"
   },
   {
    "duration": 31,
    "start_time": "2024-09-16T20:00:33.457Z"
   },
   {
    "duration": 18,
    "start_time": "2024-09-16T20:00:33.490Z"
   },
   {
    "duration": 45,
    "start_time": "2024-09-16T20:00:33.511Z"
   },
   {
    "duration": 96,
    "start_time": "2024-09-16T20:00:33.558Z"
   },
   {
    "duration": 125,
    "start_time": "2024-09-16T20:00:33.656Z"
   },
   {
    "duration": 139,
    "start_time": "2024-09-16T20:00:33.783Z"
   },
   {
    "duration": 0,
    "start_time": "2024-09-16T20:00:33.924Z"
   },
   {
    "duration": 0,
    "start_time": "2024-09-16T20:00:33.925Z"
   },
   {
    "duration": 0,
    "start_time": "2024-09-16T20:00:33.926Z"
   },
   {
    "duration": 0,
    "start_time": "2024-09-16T20:00:33.927Z"
   },
   {
    "duration": 0,
    "start_time": "2024-09-16T20:00:33.929Z"
   },
   {
    "duration": 0,
    "start_time": "2024-09-16T20:00:33.930Z"
   },
   {
    "duration": 0,
    "start_time": "2024-09-16T20:00:33.932Z"
   },
   {
    "duration": 0,
    "start_time": "2024-09-16T20:00:33.953Z"
   },
   {
    "duration": 7,
    "start_time": "2024-09-16T20:01:02.287Z"
   },
   {
    "duration": 10,
    "start_time": "2024-09-16T20:01:02.752Z"
   },
   {
    "duration": 28,
    "start_time": "2024-09-16T20:01:03.344Z"
   },
   {
    "duration": 6,
    "start_time": "2024-09-16T20:01:05.022Z"
   },
   {
    "duration": 20,
    "start_time": "2024-09-16T20:01:05.255Z"
   },
   {
    "duration": 42,
    "start_time": "2024-09-16T20:01:05.502Z"
   },
   {
    "duration": 5,
    "start_time": "2024-09-16T20:01:13.399Z"
   },
   {
    "duration": 11,
    "start_time": "2024-09-16T20:01:13.680Z"
   },
   {
    "duration": 30,
    "start_time": "2024-09-16T20:01:13.920Z"
   },
   {
    "duration": 8,
    "start_time": "2024-09-16T20:01:17.056Z"
   },
   {
    "duration": 3,
    "start_time": "2024-09-16T20:01:17.655Z"
   },
   {
    "duration": 10,
    "start_time": "2024-09-16T20:01:20.064Z"
   },
   {
    "duration": 11,
    "start_time": "2024-09-16T20:01:21.983Z"
   },
   {
    "duration": 12,
    "start_time": "2024-09-16T20:01:35.912Z"
   },
   {
    "duration": 11,
    "start_time": "2024-09-16T20:02:03.721Z"
   },
   {
    "duration": 3,
    "start_time": "2024-09-16T20:02:58.803Z"
   },
   {
    "duration": 13,
    "start_time": "2024-09-16T20:03:32.677Z"
   },
   {
    "duration": 18,
    "start_time": "2024-09-16T20:04:37.925Z"
   },
   {
    "duration": 15,
    "start_time": "2024-09-16T20:06:06.133Z"
   },
   {
    "duration": 5,
    "start_time": "2024-09-16T20:08:21.803Z"
   },
   {
    "duration": 10,
    "start_time": "2024-09-16T20:09:01.340Z"
   },
   {
    "duration": 11,
    "start_time": "2024-09-16T20:09:10.195Z"
   },
   {
    "duration": 10,
    "start_time": "2024-09-16T20:09:31.364Z"
   },
   {
    "duration": 7980,
    "start_time": "2024-09-16T20:09:41.727Z"
   },
   {
    "duration": 1180,
    "start_time": "2024-09-16T20:09:49.710Z"
   },
   {
    "duration": 417,
    "start_time": "2024-09-16T20:09:50.891Z"
   },
   {
    "duration": 24,
    "start_time": "2024-09-16T20:09:51.310Z"
   },
   {
    "duration": 18,
    "start_time": "2024-09-16T20:09:51.336Z"
   },
   {
    "duration": 9,
    "start_time": "2024-09-16T20:09:51.356Z"
   },
   {
    "duration": 22,
    "start_time": "2024-09-16T20:09:51.366Z"
   },
   {
    "duration": 9,
    "start_time": "2024-09-16T20:09:51.390Z"
   },
   {
    "duration": 22,
    "start_time": "2024-09-16T20:09:51.401Z"
   },
   {
    "duration": 60,
    "start_time": "2024-09-16T20:09:51.425Z"
   },
   {
    "duration": 46,
    "start_time": "2024-09-16T20:09:51.487Z"
   },
   {
    "duration": 62,
    "start_time": "2024-09-16T20:09:51.534Z"
   },
   {
    "duration": 210,
    "start_time": "2024-09-16T20:09:51.598Z"
   },
   {
    "duration": 174,
    "start_time": "2024-09-16T20:09:51.810Z"
   },
   {
    "duration": 11,
    "start_time": "2024-09-16T20:09:51.986Z"
   },
   {
    "duration": 203,
    "start_time": "2024-09-16T20:09:51.998Z"
   },
   {
    "duration": 185,
    "start_time": "2024-09-16T20:09:52.202Z"
   },
   {
    "duration": 11,
    "start_time": "2024-09-16T20:09:52.389Z"
   },
   {
    "duration": 263,
    "start_time": "2024-09-16T20:09:52.402Z"
   },
   {
    "duration": 263,
    "start_time": "2024-09-16T20:09:52.666Z"
   },
   {
    "duration": 22,
    "start_time": "2024-09-16T20:09:52.931Z"
   },
   {
    "duration": 212,
    "start_time": "2024-09-16T20:09:52.955Z"
   },
   {
    "duration": 191,
    "start_time": "2024-09-16T20:09:53.169Z"
   },
   {
    "duration": 11,
    "start_time": "2024-09-16T20:09:53.362Z"
   },
   {
    "duration": 212,
    "start_time": "2024-09-16T20:09:53.375Z"
   },
   {
    "duration": 179,
    "start_time": "2024-09-16T20:09:53.589Z"
   },
   {
    "duration": 11,
    "start_time": "2024-09-16T20:09:53.770Z"
   },
   {
    "duration": 210,
    "start_time": "2024-09-16T20:09:53.785Z"
   },
   {
    "duration": 181,
    "start_time": "2024-09-16T20:09:53.997Z"
   },
   {
    "duration": 12,
    "start_time": "2024-09-16T20:09:54.180Z"
   },
   {
    "duration": 234,
    "start_time": "2024-09-16T20:09:54.193Z"
   },
   {
    "duration": 271,
    "start_time": "2024-09-16T20:09:54.428Z"
   },
   {
    "duration": 11,
    "start_time": "2024-09-16T20:09:54.701Z"
   },
   {
    "duration": 163,
    "start_time": "2024-09-16T20:09:54.714Z"
   },
   {
    "duration": 195,
    "start_time": "2024-09-16T20:09:54.878Z"
   },
   {
    "duration": 13,
    "start_time": "2024-09-16T20:09:55.075Z"
   },
   {
    "duration": 216,
    "start_time": "2024-09-16T20:09:55.090Z"
   },
   {
    "duration": 184,
    "start_time": "2024-09-16T20:09:55.308Z"
   },
   {
    "duration": 11,
    "start_time": "2024-09-16T20:09:55.494Z"
   },
   {
    "duration": 214,
    "start_time": "2024-09-16T20:09:55.507Z"
   },
   {
    "duration": 195,
    "start_time": "2024-09-16T20:09:55.723Z"
   },
   {
    "duration": 12,
    "start_time": "2024-09-16T20:09:55.920Z"
   },
   {
    "duration": 237,
    "start_time": "2024-09-16T20:09:55.934Z"
   },
   {
    "duration": 198,
    "start_time": "2024-09-16T20:09:56.173Z"
   },
   {
    "duration": 11,
    "start_time": "2024-09-16T20:09:56.373Z"
   },
   {
    "duration": 253,
    "start_time": "2024-09-16T20:09:56.386Z"
   },
   {
    "duration": 286,
    "start_time": "2024-09-16T20:09:56.641Z"
   },
   {
    "duration": 11,
    "start_time": "2024-09-16T20:09:56.929Z"
   },
   {
    "duration": 11,
    "start_time": "2024-09-16T20:09:56.942Z"
   },
   {
    "duration": 7,
    "start_time": "2024-09-16T20:09:56.955Z"
   },
   {
    "duration": 43,
    "start_time": "2024-09-16T20:09:56.963Z"
   },
   {
    "duration": 147,
    "start_time": "2024-09-16T20:09:57.008Z"
   },
   {
    "duration": 95,
    "start_time": "2024-09-16T20:09:57.160Z"
   },
   {
    "duration": 14,
    "start_time": "2024-09-16T20:09:57.258Z"
   },
   {
    "duration": 81,
    "start_time": "2024-09-16T20:09:57.274Z"
   },
   {
    "duration": 95,
    "start_time": "2024-09-16T20:09:57.358Z"
   },
   {
    "duration": 20,
    "start_time": "2024-09-16T20:09:57.455Z"
   },
   {
    "duration": 37,
    "start_time": "2024-09-16T20:09:57.477Z"
   },
   {
    "duration": 4,
    "start_time": "2024-09-16T20:09:57.555Z"
   },
   {
    "duration": 99,
    "start_time": "2024-09-16T20:09:57.560Z"
   },
   {
    "duration": 7,
    "start_time": "2024-09-16T20:09:57.661Z"
   },
   {
    "duration": 4,
    "start_time": "2024-09-16T20:09:57.670Z"
   },
   {
    "duration": 5,
    "start_time": "2024-09-16T20:09:57.675Z"
   },
   {
    "duration": 21,
    "start_time": "2024-09-16T20:09:57.681Z"
   },
   {
    "duration": 4,
    "start_time": "2024-09-16T20:09:57.703Z"
   },
   {
    "duration": 3,
    "start_time": "2024-09-16T20:10:22.558Z"
   },
   {
    "duration": 113,
    "start_time": "2024-09-16T20:10:57.436Z"
   },
   {
    "duration": 1069,
    "start_time": "2024-09-16T20:11:04.396Z"
   },
   {
    "duration": 15508,
    "start_time": "2024-09-17T19:05:37.035Z"
   },
   {
    "duration": 1487,
    "start_time": "2024-09-17T19:05:52.547Z"
   },
   {
    "duration": 1733,
    "start_time": "2024-09-17T19:05:54.036Z"
   },
   {
    "duration": 13,
    "start_time": "2024-09-17T19:05:55.771Z"
   },
   {
    "duration": 15,
    "start_time": "2024-09-17T19:05:55.786Z"
   },
   {
    "duration": 12,
    "start_time": "2024-09-17T19:05:55.802Z"
   },
   {
    "duration": 17,
    "start_time": "2024-09-17T19:05:55.816Z"
   },
   {
    "duration": 48,
    "start_time": "2024-09-17T19:05:55.852Z"
   },
   {
    "duration": 19,
    "start_time": "2024-09-17T19:05:55.902Z"
   },
   {
    "duration": 46,
    "start_time": "2024-09-17T19:05:55.924Z"
   },
   {
    "duration": 39,
    "start_time": "2024-09-17T19:05:55.972Z"
   },
   {
    "duration": 58,
    "start_time": "2024-09-17T19:05:56.012Z"
   },
   {
    "duration": 228,
    "start_time": "2024-09-17T19:05:56.072Z"
   },
   {
    "duration": 183,
    "start_time": "2024-09-17T19:05:56.302Z"
   },
   {
    "duration": 13,
    "start_time": "2024-09-17T19:05:56.486Z"
   },
   {
    "duration": 210,
    "start_time": "2024-09-17T19:05:56.500Z"
   },
   {
    "duration": 181,
    "start_time": "2024-09-17T19:05:56.711Z"
   },
   {
    "duration": 12,
    "start_time": "2024-09-17T19:05:56.893Z"
   },
   {
    "duration": 233,
    "start_time": "2024-09-17T19:05:56.907Z"
   },
   {
    "duration": 267,
    "start_time": "2024-09-17T19:05:57.142Z"
   },
   {
    "duration": 11,
    "start_time": "2024-09-17T19:05:57.411Z"
   },
   {
    "duration": 222,
    "start_time": "2024-09-17T19:05:57.423Z"
   },
   {
    "duration": 194,
    "start_time": "2024-09-17T19:05:57.646Z"
   },
   {
    "duration": 10,
    "start_time": "2024-09-17T19:05:57.842Z"
   },
   {
    "duration": 229,
    "start_time": "2024-09-17T19:05:57.854Z"
   },
   {
    "duration": 181,
    "start_time": "2024-09-17T19:05:58.085Z"
   },
   {
    "duration": 12,
    "start_time": "2024-09-17T19:05:58.267Z"
   },
   {
    "duration": 234,
    "start_time": "2024-09-17T19:05:58.282Z"
   },
   {
    "duration": 180,
    "start_time": "2024-09-17T19:05:58.517Z"
   },
   {
    "duration": 12,
    "start_time": "2024-09-17T19:05:58.699Z"
   },
   {
    "duration": 233,
    "start_time": "2024-09-17T19:05:58.712Z"
   },
   {
    "duration": 270,
    "start_time": "2024-09-17T19:05:58.951Z"
   },
   {
    "duration": 11,
    "start_time": "2024-09-17T19:05:59.223Z"
   },
   {
    "duration": 160,
    "start_time": "2024-09-17T19:05:59.236Z"
   },
   {
    "duration": 182,
    "start_time": "2024-09-17T19:05:59.397Z"
   },
   {
    "duration": 13,
    "start_time": "2024-09-17T19:05:59.580Z"
   },
   {
    "duration": 206,
    "start_time": "2024-09-17T19:05:59.595Z"
   },
   {
    "duration": 195,
    "start_time": "2024-09-17T19:05:59.802Z"
   },
   {
    "duration": 11,
    "start_time": "2024-09-17T19:05:59.999Z"
   },
   {
    "duration": 223,
    "start_time": "2024-09-17T19:06:00.011Z"
   },
   {
    "duration": 202,
    "start_time": "2024-09-17T19:06:00.236Z"
   },
   {
    "duration": 17,
    "start_time": "2024-09-17T19:06:00.439Z"
   },
   {
    "duration": 219,
    "start_time": "2024-09-17T19:06:00.457Z"
   },
   {
    "duration": 183,
    "start_time": "2024-09-17T19:06:00.677Z"
   },
   {
    "duration": 11,
    "start_time": "2024-09-17T19:06:00.862Z"
   },
   {
    "duration": 222,
    "start_time": "2024-09-17T19:06:00.874Z"
   },
   {
    "duration": 286,
    "start_time": "2024-09-17T19:06:01.098Z"
   },
   {
    "duration": 11,
    "start_time": "2024-09-17T19:06:01.386Z"
   },
   {
    "duration": 47,
    "start_time": "2024-09-17T19:06:01.398Z"
   },
   {
    "duration": 18,
    "start_time": "2024-09-17T19:06:01.447Z"
   },
   {
    "duration": 21,
    "start_time": "2024-09-17T19:06:01.467Z"
   },
   {
    "duration": 167,
    "start_time": "2024-09-17T19:06:01.490Z"
   },
   {
    "duration": 93,
    "start_time": "2024-09-17T19:06:01.661Z"
   },
   {
    "duration": 20,
    "start_time": "2024-09-17T19:06:01.756Z"
   },
   {
    "duration": 88,
    "start_time": "2024-09-17T19:06:01.778Z"
   },
   {
    "duration": 183,
    "start_time": "2024-09-17T19:06:01.868Z"
   },
   {
    "duration": 10,
    "start_time": "2024-09-17T19:06:02.053Z"
   },
   {
    "duration": 29,
    "start_time": "2024-09-17T19:06:02.065Z"
   },
   {
    "duration": 58,
    "start_time": "2024-09-17T19:06:02.096Z"
   },
   {
    "duration": 3,
    "start_time": "2024-09-17T19:06:02.157Z"
   },
   {
    "duration": 111,
    "start_time": "2024-09-17T19:06:02.162Z"
   },
   {
    "duration": 7,
    "start_time": "2024-09-17T19:06:02.275Z"
   },
   {
    "duration": 24,
    "start_time": "2024-09-17T19:06:02.283Z"
   },
   {
    "duration": 57,
    "start_time": "2024-09-17T19:06:02.308Z"
   },
   {
    "duration": 31,
    "start_time": "2024-09-17T19:06:02.367Z"
   },
   {
    "duration": 48,
    "start_time": "2024-09-17T19:06:02.399Z"
   },
   {
    "duration": 6,
    "start_time": "2024-09-17T19:06:39.385Z"
   },
   {
    "duration": 7892,
    "start_time": "2024-09-17T19:06:48.786Z"
   },
   {
    "duration": 1213,
    "start_time": "2024-09-17T19:06:56.681Z"
   },
   {
    "duration": 417,
    "start_time": "2024-09-17T19:06:57.896Z"
   },
   {
    "duration": 13,
    "start_time": "2024-09-17T19:06:58.315Z"
   },
   {
    "duration": 28,
    "start_time": "2024-09-17T19:06:58.330Z"
   },
   {
    "duration": 9,
    "start_time": "2024-09-17T19:06:58.359Z"
   },
   {
    "duration": 13,
    "start_time": "2024-09-17T19:06:58.370Z"
   },
   {
    "duration": 8,
    "start_time": "2024-09-17T19:06:58.385Z"
   },
   {
    "duration": 15,
    "start_time": "2024-09-17T19:06:58.394Z"
   },
   {
    "duration": 81,
    "start_time": "2024-09-17T19:06:58.411Z"
   },
   {
    "duration": 46,
    "start_time": "2024-09-17T19:06:58.493Z"
   },
   {
    "duration": 59,
    "start_time": "2024-09-17T19:06:58.540Z"
   },
   {
    "duration": 217,
    "start_time": "2024-09-17T19:06:58.601Z"
   },
   {
    "duration": 176,
    "start_time": "2024-09-17T19:06:58.819Z"
   },
   {
    "duration": 12,
    "start_time": "2024-09-17T19:06:58.996Z"
   },
   {
    "duration": 207,
    "start_time": "2024-09-17T19:06:59.009Z"
   },
   {
    "duration": 179,
    "start_time": "2024-09-17T19:06:59.218Z"
   },
   {
    "duration": 11,
    "start_time": "2024-09-17T19:06:59.398Z"
   },
   {
    "duration": 222,
    "start_time": "2024-09-17T19:06:59.410Z"
   },
   {
    "duration": 254,
    "start_time": "2024-09-17T19:06:59.633Z"
   },
   {
    "duration": 12,
    "start_time": "2024-09-17T19:06:59.888Z"
   },
   {
    "duration": 220,
    "start_time": "2024-09-17T19:06:59.901Z"
   },
   {
    "duration": 193,
    "start_time": "2024-09-17T19:07:00.123Z"
   },
   {
    "duration": 12,
    "start_time": "2024-09-17T19:07:00.318Z"
   },
   {
    "duration": 232,
    "start_time": "2024-09-17T19:07:00.332Z"
   },
   {
    "duration": 178,
    "start_time": "2024-09-17T19:07:00.566Z"
   },
   {
    "duration": 12,
    "start_time": "2024-09-17T19:07:00.751Z"
   },
   {
    "duration": 211,
    "start_time": "2024-09-17T19:07:00.766Z"
   },
   {
    "duration": 174,
    "start_time": "2024-09-17T19:07:00.979Z"
   },
   {
    "duration": 10,
    "start_time": "2024-09-17T19:07:01.155Z"
   },
   {
    "duration": 216,
    "start_time": "2024-09-17T19:07:01.167Z"
   },
   {
    "duration": 270,
    "start_time": "2024-09-17T19:07:01.384Z"
   },
   {
    "duration": 11,
    "start_time": "2024-09-17T19:07:01.656Z"
   },
   {
    "duration": 155,
    "start_time": "2024-09-17T19:07:01.669Z"
   },
   {
    "duration": 187,
    "start_time": "2024-09-17T19:07:01.826Z"
   },
   {
    "duration": 11,
    "start_time": "2024-09-17T19:07:02.015Z"
   },
   {
    "duration": 219,
    "start_time": "2024-09-17T19:07:02.027Z"
   },
   {
    "duration": 194,
    "start_time": "2024-09-17T19:07:02.247Z"
   },
   {
    "duration": 16,
    "start_time": "2024-09-17T19:07:02.442Z"
   },
   {
    "duration": 221,
    "start_time": "2024-09-17T19:07:02.459Z"
   },
   {
    "duration": 199,
    "start_time": "2024-09-17T19:07:02.682Z"
   },
   {
    "duration": 12,
    "start_time": "2024-09-17T19:07:02.883Z"
   },
   {
    "duration": 238,
    "start_time": "2024-09-17T19:07:02.896Z"
   },
   {
    "duration": 182,
    "start_time": "2024-09-17T19:07:03.136Z"
   },
   {
    "duration": 11,
    "start_time": "2024-09-17T19:07:03.319Z"
   },
   {
    "duration": 287,
    "start_time": "2024-09-17T19:07:03.332Z"
   },
   {
    "duration": 304,
    "start_time": "2024-09-17T19:07:03.621Z"
   },
   {
    "duration": 29,
    "start_time": "2024-09-17T19:07:03.927Z"
   },
   {
    "duration": 3,
    "start_time": "2024-09-17T19:07:03.958Z"
   },
   {
    "duration": 10,
    "start_time": "2024-09-17T19:07:03.963Z"
   },
   {
    "duration": 16,
    "start_time": "2024-09-17T19:07:03.975Z"
   },
   {
    "duration": 61,
    "start_time": "2024-09-17T19:07:03.993Z"
   },
   {
    "duration": 98,
    "start_time": "2024-09-17T19:07:04.055Z"
   },
   {
    "duration": 13,
    "start_time": "2024-09-17T19:07:04.155Z"
   },
   {
    "duration": 83,
    "start_time": "2024-09-17T19:07:04.170Z"
   },
   {
    "duration": 97,
    "start_time": "2024-09-17T19:07:04.259Z"
   },
   {
    "duration": 12,
    "start_time": "2024-09-17T19:07:04.358Z"
   },
   {
    "duration": 27,
    "start_time": "2024-09-17T19:07:04.371Z"
   },
   {
    "duration": 3,
    "start_time": "2024-09-17T19:07:04.453Z"
   },
   {
    "duration": 95,
    "start_time": "2024-09-17T19:07:04.458Z"
   },
   {
    "duration": 10,
    "start_time": "2024-09-17T19:07:04.555Z"
   },
   {
    "duration": 3,
    "start_time": "2024-09-17T19:07:04.567Z"
   },
   {
    "duration": 4,
    "start_time": "2024-09-17T19:07:04.571Z"
   },
   {
    "duration": 15,
    "start_time": "2024-09-17T19:07:04.576Z"
   },
   {
    "duration": 11,
    "start_time": "2024-09-17T19:07:04.592Z"
   },
   {
    "duration": 4,
    "start_time": "2024-09-17T19:07:04.605Z"
   },
   {
    "duration": 7,
    "start_time": "2024-09-17T19:08:53.908Z"
   },
   {
    "duration": 3,
    "start_time": "2024-09-17T19:12:13.863Z"
   },
   {
    "duration": 3,
    "start_time": "2024-09-17T19:12:14.534Z"
   },
   {
    "duration": 4,
    "start_time": "2024-09-17T19:12:15.094Z"
   },
   {
    "duration": 13,
    "start_time": "2024-09-17T19:12:16.305Z"
   },
   {
    "duration": 13,
    "start_time": "2024-09-17T19:12:49.768Z"
   },
   {
    "duration": 5,
    "start_time": "2024-09-17T19:13:25.193Z"
   },
   {
    "duration": 3,
    "start_time": "2024-09-17T19:15:45.864Z"
   },
   {
    "duration": 3,
    "start_time": "2024-09-17T19:15:46.651Z"
   },
   {
    "duration": 4,
    "start_time": "2024-09-17T19:15:47.220Z"
   },
   {
    "duration": 14,
    "start_time": "2024-09-17T19:15:47.742Z"
   },
   {
    "duration": 10,
    "start_time": "2024-09-17T19:15:51.037Z"
   },
   {
    "duration": 4,
    "start_time": "2024-09-17T19:15:52.077Z"
   },
   {
    "duration": 3,
    "start_time": "2024-09-17T19:28:38.565Z"
   },
   {
    "duration": 3,
    "start_time": "2024-09-17T19:28:54.570Z"
   },
   {
    "duration": 47,
    "start_time": "2024-09-17T19:29:07.139Z"
   },
   {
    "duration": 4,
    "start_time": "2024-09-17T19:29:16.443Z"
   },
   {
    "duration": 4,
    "start_time": "2024-09-17T19:29:23.779Z"
   },
   {
    "duration": 3,
    "start_time": "2024-09-17T19:30:40.220Z"
   },
   {
    "duration": 4,
    "start_time": "2024-09-17T19:30:58.596Z"
   },
   {
    "duration": 3,
    "start_time": "2024-09-17T19:32:38.629Z"
   },
   {
    "duration": 787,
    "start_time": "2024-09-17T19:32:50.613Z"
   },
   {
    "duration": 2,
    "start_time": "2024-09-17T19:33:11.681Z"
   },
   {
    "duration": 5,
    "start_time": "2024-09-17T19:33:14.077Z"
   },
   {
    "duration": 5,
    "start_time": "2024-09-17T19:34:11.977Z"
   },
   {
    "duration": 4,
    "start_time": "2024-09-17T19:34:14.208Z"
   },
   {
    "duration": 11,
    "start_time": "2024-09-17T19:46:56.545Z"
   },
   {
    "duration": 12,
    "start_time": "2024-09-17T19:47:29.608Z"
   },
   {
    "duration": 310,
    "start_time": "2024-09-17T20:02:03.168Z"
   },
   {
    "duration": 15,
    "start_time": "2024-09-17T20:02:13.566Z"
   },
   {
    "duration": 8,
    "start_time": "2024-09-17T20:03:54.994Z"
   },
   {
    "duration": 3,
    "start_time": "2024-09-17T20:04:08.738Z"
   },
   {
    "duration": 3,
    "start_time": "2024-09-17T20:05:29.277Z"
   },
   {
    "duration": 7,
    "start_time": "2024-09-17T20:05:36.164Z"
   },
   {
    "duration": 194,
    "start_time": "2024-09-17T20:06:24.965Z"
   },
   {
    "duration": 207,
    "start_time": "2024-09-17T20:06:34.645Z"
   },
   {
    "duration": 182,
    "start_time": "2024-09-17T20:06:40.844Z"
   },
   {
    "duration": 188,
    "start_time": "2024-09-17T20:06:47.288Z"
   },
   {
    "duration": 3,
    "start_time": "2024-09-17T20:07:27.016Z"
   },
   {
    "duration": 191,
    "start_time": "2024-09-17T20:07:51.120Z"
   },
   {
    "duration": 245,
    "start_time": "2024-09-17T20:08:23.723Z"
   },
   {
    "duration": 194,
    "start_time": "2024-09-17T20:08:40.712Z"
   },
   {
    "duration": 204,
    "start_time": "2024-09-17T20:08:47.522Z"
   },
   {
    "duration": 204,
    "start_time": "2024-09-17T20:08:57.137Z"
   },
   {
    "duration": 309,
    "start_time": "2024-09-17T20:09:23.283Z"
   },
   {
    "duration": 15273,
    "start_time": "2024-09-22T09:05:35.205Z"
   },
   {
    "duration": 1686,
    "start_time": "2024-09-22T09:05:50.481Z"
   },
   {
    "duration": 1088,
    "start_time": "2024-09-22T09:05:52.173Z"
   },
   {
    "duration": 16,
    "start_time": "2024-09-22T09:05:53.263Z"
   },
   {
    "duration": 42,
    "start_time": "2024-09-22T09:05:53.282Z"
   },
   {
    "duration": 23,
    "start_time": "2024-09-22T09:05:53.325Z"
   },
   {
    "duration": 28,
    "start_time": "2024-09-22T09:05:53.350Z"
   },
   {
    "duration": 15,
    "start_time": "2024-09-22T09:05:53.380Z"
   },
   {
    "duration": 36,
    "start_time": "2024-09-22T09:05:53.400Z"
   },
   {
    "duration": 116,
    "start_time": "2024-09-22T09:05:53.444Z"
   },
   {
    "duration": 44,
    "start_time": "2024-09-22T09:05:53.562Z"
   },
   {
    "duration": 64,
    "start_time": "2024-09-22T09:05:53.608Z"
   },
   {
    "duration": 255,
    "start_time": "2024-09-22T09:05:53.673Z"
   },
   {
    "duration": 220,
    "start_time": "2024-09-22T09:05:53.930Z"
   },
   {
    "duration": 13,
    "start_time": "2024-09-22T09:05:54.152Z"
   },
   {
    "duration": 219,
    "start_time": "2024-09-22T09:05:54.167Z"
   },
   {
    "duration": 308,
    "start_time": "2024-09-22T09:05:54.388Z"
   },
   {
    "duration": 24,
    "start_time": "2024-09-22T09:05:54.699Z"
   },
   {
    "duration": 261,
    "start_time": "2024-09-22T09:05:54.724Z"
   },
   {
    "duration": 254,
    "start_time": "2024-09-22T09:05:54.987Z"
   },
   {
    "duration": 11,
    "start_time": "2024-09-22T09:05:55.244Z"
   },
   {
    "duration": 302,
    "start_time": "2024-09-22T09:05:55.257Z"
   },
   {
    "duration": 229,
    "start_time": "2024-09-22T09:05:55.561Z"
   },
   {
    "duration": 15,
    "start_time": "2024-09-22T09:05:55.792Z"
   },
   {
    "duration": 252,
    "start_time": "2024-09-22T09:05:55.823Z"
   },
   {
    "duration": 223,
    "start_time": "2024-09-22T09:05:56.077Z"
   },
   {
    "duration": 34,
    "start_time": "2024-09-22T09:05:56.305Z"
   },
   {
    "duration": 226,
    "start_time": "2024-09-22T09:05:56.341Z"
   },
   {
    "duration": 293,
    "start_time": "2024-09-22T09:05:56.569Z"
   },
   {
    "duration": 13,
    "start_time": "2024-09-22T09:05:56.864Z"
   },
   {
    "duration": 275,
    "start_time": "2024-09-22T09:05:56.879Z"
   },
   {
    "duration": 221,
    "start_time": "2024-09-22T09:05:57.156Z"
   },
   {
    "duration": 15,
    "start_time": "2024-09-22T09:05:57.379Z"
   },
   {
    "duration": 218,
    "start_time": "2024-09-22T09:05:57.396Z"
   },
   {
    "duration": 231,
    "start_time": "2024-09-22T09:05:57.623Z"
   },
   {
    "duration": 13,
    "start_time": "2024-09-22T09:05:57.857Z"
   },
   {
    "duration": 272,
    "start_time": "2024-09-22T09:05:57.873Z"
   },
   {
    "duration": 210,
    "start_time": "2024-09-22T09:05:58.146Z"
   },
   {
    "duration": 13,
    "start_time": "2024-09-22T09:05:58.358Z"
   },
   {
    "duration": 270,
    "start_time": "2024-09-22T09:05:58.373Z"
   },
   {
    "duration": 235,
    "start_time": "2024-09-22T09:05:58.647Z"
   },
   {
    "duration": 13,
    "start_time": "2024-09-22T09:05:58.883Z"
   },
   {
    "duration": 281,
    "start_time": "2024-09-22T09:05:58.897Z"
   },
   {
    "duration": 333,
    "start_time": "2024-09-22T09:05:59.180Z"
   },
   {
    "duration": 27,
    "start_time": "2024-09-22T09:05:59.515Z"
   },
   {
    "duration": 248,
    "start_time": "2024-09-22T09:05:59.544Z"
   },
   {
    "duration": 250,
    "start_time": "2024-09-22T09:05:59.794Z"
   },
   {
    "duration": 13,
    "start_time": "2024-09-22T09:06:00.046Z"
   },
   {
    "duration": 15,
    "start_time": "2024-09-22T09:06:00.061Z"
   },
   {
    "duration": 28,
    "start_time": "2024-09-22T09:06:00.078Z"
   },
   {
    "duration": 97,
    "start_time": "2024-09-22T09:06:00.108Z"
   },
   {
    "duration": 131,
    "start_time": "2024-09-22T09:06:00.207Z"
   },
   {
    "duration": 85,
    "start_time": "2024-09-22T09:06:00.340Z"
   },
   {
    "duration": 41,
    "start_time": "2024-09-22T09:06:00.427Z"
   },
   {
    "duration": 73,
    "start_time": "2024-09-22T09:06:00.469Z"
   },
   {
    "duration": 8,
    "start_time": "2024-09-22T09:06:00.544Z"
   },
   {
    "duration": 104,
    "start_time": "2024-09-22T09:06:00.622Z"
   },
   {
    "duration": 103,
    "start_time": "2024-09-22T09:06:00.729Z"
   },
   {
    "duration": 5,
    "start_time": "2024-09-22T09:06:00.838Z"
   },
   {
    "duration": 74,
    "start_time": "2024-09-22T09:06:00.848Z"
   },
   {
    "duration": 20,
    "start_time": "2024-09-22T09:06:00.927Z"
   },
   {
    "duration": 20,
    "start_time": "2024-09-22T09:06:00.949Z"
   },
   {
    "duration": 24,
    "start_time": "2024-09-22T09:06:00.972Z"
   },
   {
    "duration": 42,
    "start_time": "2024-09-22T09:06:00.998Z"
   },
   {
    "duration": 11,
    "start_time": "2024-09-22T09:06:01.042Z"
   },
   {
    "duration": 27,
    "start_time": "2024-09-22T09:06:01.054Z"
   },
   {
    "duration": 7,
    "start_time": "2024-09-22T09:06:01.083Z"
   },
   {
    "duration": 13,
    "start_time": "2024-09-22T09:06:01.092Z"
   },
   {
    "duration": 21,
    "start_time": "2024-09-22T09:06:01.107Z"
   },
   {
    "duration": 29,
    "start_time": "2024-09-22T09:06:01.131Z"
   },
   {
    "duration": 11,
    "start_time": "2024-09-22T09:06:01.161Z"
   },
   {
    "duration": 22,
    "start_time": "2024-09-22T09:06:01.174Z"
   },
   {
    "duration": 42,
    "start_time": "2024-09-22T09:06:01.199Z"
   },
   {
    "duration": 73,
    "start_time": "2024-09-22T09:06:01.243Z"
   },
   {
    "duration": 39,
    "start_time": "2024-09-22T09:06:01.317Z"
   },
   {
    "duration": 20,
    "start_time": "2024-09-22T09:06:01.358Z"
   },
   {
    "duration": 13,
    "start_time": "2024-09-22T09:06:01.380Z"
   },
   {
    "duration": 67,
    "start_time": "2024-09-22T09:06:01.395Z"
   },
   {
    "duration": 47,
    "start_time": "2024-09-22T09:06:01.464Z"
   },
   {
    "duration": 37,
    "start_time": "2024-09-22T09:06:01.513Z"
   },
   {
    "duration": 25,
    "start_time": "2024-09-22T09:06:01.556Z"
   },
   {
    "duration": 28,
    "start_time": "2024-09-22T09:06:01.583Z"
   },
   {
    "duration": 77,
    "start_time": "2024-09-22T09:06:01.613Z"
   },
   {
    "duration": 426,
    "start_time": "2024-09-22T09:06:01.693Z"
   },
   {
    "duration": 15,
    "start_time": "2024-09-22T09:06:02.120Z"
   },
   {
    "duration": 231,
    "start_time": "2024-09-22T09:06:02.137Z"
   },
   {
    "duration": 5,
    "start_time": "2024-09-22T09:06:02.370Z"
   },
   {
    "duration": 5,
    "start_time": "2024-09-22T09:10:09.805Z"
   },
   {
    "duration": 6,
    "start_time": "2024-09-22T09:10:26.098Z"
   },
   {
    "duration": 5,
    "start_time": "2024-09-22T09:10:26.962Z"
   },
   {
    "duration": 5,
    "start_time": "2024-09-22T09:13:32.150Z"
   },
   {
    "duration": 3,
    "start_time": "2024-09-22T09:20:14.969Z"
   },
   {
    "duration": 11,
    "start_time": "2024-09-22T09:20:20.723Z"
   },
   {
    "duration": 391,
    "start_time": "2024-09-22T09:25:58.873Z"
   },
   {
    "duration": 3,
    "start_time": "2024-09-22T09:25:59.704Z"
   },
   {
    "duration": 211,
    "start_time": "2024-09-22T09:26:01.051Z"
   },
   {
    "duration": 6,
    "start_time": "2024-09-22T09:26:10.306Z"
   },
   {
    "duration": 226,
    "start_time": "2024-09-22T09:26:37.250Z"
   },
   {
    "duration": 230,
    "start_time": "2024-09-22T09:26:50.059Z"
   },
   {
    "duration": 205,
    "start_time": "2024-09-22T09:27:13.500Z"
   },
   {
    "duration": 3,
    "start_time": "2024-09-22T09:27:22.404Z"
   },
   {
    "duration": 201,
    "start_time": "2024-09-22T09:27:22.885Z"
   },
   {
    "duration": 328,
    "start_time": "2024-09-22T09:27:38.484Z"
   },
   {
    "duration": 236,
    "start_time": "2024-09-22T09:27:52.715Z"
   },
   {
    "duration": 5,
    "start_time": "2024-09-22T09:28:00.557Z"
   },
   {
    "duration": 5,
    "start_time": "2024-09-22T09:28:03.086Z"
   },
   {
    "duration": 5,
    "start_time": "2024-09-22T09:28:04.135Z"
   },
   {
    "duration": 5,
    "start_time": "2024-09-22T09:28:05.382Z"
   },
   {
    "duration": 339,
    "start_time": "2024-09-22T09:28:15.870Z"
   },
   {
    "duration": 6,
    "start_time": "2024-09-22T09:28:21.262Z"
   },
   {
    "duration": 250,
    "start_time": "2024-09-22T09:28:35.784Z"
   },
   {
    "duration": 234,
    "start_time": "2024-09-22T09:28:47.582Z"
   },
   {
    "duration": 227,
    "start_time": "2024-09-22T09:28:54.119Z"
   },
   {
    "duration": 239,
    "start_time": "2024-09-22T09:29:00.097Z"
   },
   {
    "duration": 6,
    "start_time": "2024-09-22T09:29:09.435Z"
   },
   {
    "duration": 212,
    "start_time": "2024-09-22T09:29:10.054Z"
   },
   {
    "duration": 5,
    "start_time": "2024-09-22T09:29:10.789Z"
   },
   {
    "duration": 7,
    "start_time": "2024-09-22T09:29:11.503Z"
   },
   {
    "duration": 11,
    "start_time": "2024-09-22T09:29:12.022Z"
   },
   {
    "duration": 4,
    "start_time": "2024-09-22T09:29:13.158Z"
   },
   {
    "duration": 74,
    "start_time": "2024-09-22T09:48:08.666Z"
   },
   {
    "duration": 14654,
    "start_time": "2024-09-23T19:33:04.901Z"
   },
   {
    "duration": 1451,
    "start_time": "2024-09-23T19:33:19.557Z"
   },
   {
    "duration": 1736,
    "start_time": "2024-09-23T19:33:21.010Z"
   },
   {
    "duration": 14,
    "start_time": "2024-09-23T19:33:22.748Z"
   },
   {
    "duration": 64,
    "start_time": "2024-09-23T19:33:22.763Z"
   },
   {
    "duration": 10,
    "start_time": "2024-09-23T19:33:22.828Z"
   },
   {
    "duration": 26,
    "start_time": "2024-09-23T19:33:22.839Z"
   },
   {
    "duration": 10,
    "start_time": "2024-09-23T19:33:22.866Z"
   },
   {
    "duration": 22,
    "start_time": "2024-09-23T19:33:22.878Z"
   },
   {
    "duration": 57,
    "start_time": "2024-09-23T19:33:22.903Z"
   },
   {
    "duration": 44,
    "start_time": "2024-09-23T19:33:22.961Z"
   },
   {
    "duration": 66,
    "start_time": "2024-09-23T19:33:23.007Z"
   },
   {
    "duration": 214,
    "start_time": "2024-09-23T19:33:23.074Z"
   },
   {
    "duration": 178,
    "start_time": "2024-09-23T19:33:23.290Z"
   },
   {
    "duration": 12,
    "start_time": "2024-09-23T19:33:23.469Z"
   },
   {
    "duration": 211,
    "start_time": "2024-09-23T19:33:23.483Z"
   },
   {
    "duration": 186,
    "start_time": "2024-09-23T19:33:23.696Z"
   },
   {
    "duration": 20,
    "start_time": "2024-09-23T19:33:23.885Z"
   },
   {
    "duration": 269,
    "start_time": "2024-09-23T19:33:23.907Z"
   },
   {
    "duration": 264,
    "start_time": "2024-09-23T19:33:24.178Z"
   },
   {
    "duration": 17,
    "start_time": "2024-09-23T19:33:24.444Z"
   },
   {
    "duration": 217,
    "start_time": "2024-09-23T19:33:24.462Z"
   },
   {
    "duration": 192,
    "start_time": "2024-09-23T19:33:24.681Z"
   },
   {
    "duration": 13,
    "start_time": "2024-09-23T19:33:24.875Z"
   },
   {
    "duration": 220,
    "start_time": "2024-09-23T19:33:24.889Z"
   },
   {
    "duration": 191,
    "start_time": "2024-09-23T19:33:25.111Z"
   },
   {
    "duration": 12,
    "start_time": "2024-09-23T19:33:25.303Z"
   },
   {
    "duration": 220,
    "start_time": "2024-09-23T19:33:25.319Z"
   },
   {
    "duration": 182,
    "start_time": "2024-09-23T19:33:25.540Z"
   },
   {
    "duration": 12,
    "start_time": "2024-09-23T19:33:25.724Z"
   },
   {
    "duration": 233,
    "start_time": "2024-09-23T19:33:25.737Z"
   },
   {
    "duration": 271,
    "start_time": "2024-09-23T19:33:25.971Z"
   },
   {
    "duration": 18,
    "start_time": "2024-09-23T19:33:26.243Z"
   },
   {
    "duration": 149,
    "start_time": "2024-09-23T19:33:26.263Z"
   },
   {
    "duration": 181,
    "start_time": "2024-09-23T19:33:26.413Z"
   },
   {
    "duration": 11,
    "start_time": "2024-09-23T19:33:26.596Z"
   },
   {
    "duration": 216,
    "start_time": "2024-09-23T19:33:26.609Z"
   },
   {
    "duration": 188,
    "start_time": "2024-09-23T19:33:26.826Z"
   },
   {
    "duration": 11,
    "start_time": "2024-09-23T19:33:27.016Z"
   },
   {
    "duration": 215,
    "start_time": "2024-09-23T19:33:27.029Z"
   },
   {
    "duration": 184,
    "start_time": "2024-09-23T19:33:27.245Z"
   },
   {
    "duration": 24,
    "start_time": "2024-09-23T19:33:27.431Z"
   },
   {
    "duration": 210,
    "start_time": "2024-09-23T19:33:27.456Z"
   },
   {
    "duration": 185,
    "start_time": "2024-09-23T19:33:27.667Z"
   },
   {
    "duration": 11,
    "start_time": "2024-09-23T19:33:27.853Z"
   },
   {
    "duration": 219,
    "start_time": "2024-09-23T19:33:27.866Z"
   },
   {
    "duration": 282,
    "start_time": "2024-09-23T19:33:28.086Z"
   },
   {
    "duration": 12,
    "start_time": "2024-09-23T19:33:28.370Z"
   },
   {
    "duration": 3,
    "start_time": "2024-09-23T19:33:28.384Z"
   },
   {
    "duration": 6,
    "start_time": "2024-09-23T19:33:28.388Z"
   },
   {
    "duration": 78,
    "start_time": "2024-09-23T19:33:28.396Z"
   },
   {
    "duration": 180,
    "start_time": "2024-09-23T19:33:28.476Z"
   },
   {
    "duration": 93,
    "start_time": "2024-09-23T19:33:28.659Z"
   },
   {
    "duration": 13,
    "start_time": "2024-09-23T19:33:28.754Z"
   },
   {
    "duration": 84,
    "start_time": "2024-09-23T19:33:28.768Z"
   },
   {
    "duration": 103,
    "start_time": "2024-09-23T19:33:28.854Z"
   },
   {
    "duration": 28,
    "start_time": "2024-09-23T19:33:28.959Z"
   },
   {
    "duration": 75,
    "start_time": "2024-09-23T19:33:28.989Z"
   },
   {
    "duration": 3,
    "start_time": "2024-09-23T19:33:29.067Z"
   },
   {
    "duration": 5,
    "start_time": "2024-09-23T19:33:29.154Z"
   },
   {
    "duration": 95,
    "start_time": "2024-09-23T19:33:29.162Z"
   },
   {
    "duration": 10,
    "start_time": "2024-09-23T19:33:29.259Z"
   },
   {
    "duration": 3,
    "start_time": "2024-09-23T19:33:29.271Z"
   },
   {
    "duration": 15,
    "start_time": "2024-09-23T19:33:29.276Z"
   },
   {
    "duration": 4,
    "start_time": "2024-09-23T19:33:29.293Z"
   },
   {
    "duration": 3,
    "start_time": "2024-09-23T19:33:29.298Z"
   },
   {
    "duration": 4,
    "start_time": "2024-09-23T19:33:29.302Z"
   },
   {
    "duration": 5,
    "start_time": "2024-09-23T19:33:29.307Z"
   },
   {
    "duration": 40,
    "start_time": "2024-09-23T19:33:29.313Z"
   },
   {
    "duration": 4,
    "start_time": "2024-09-23T19:33:29.354Z"
   },
   {
    "duration": 16,
    "start_time": "2024-09-23T19:33:29.359Z"
   },
   {
    "duration": 4,
    "start_time": "2024-09-23T19:33:29.376Z"
   },
   {
    "duration": 6,
    "start_time": "2024-09-23T19:33:29.381Z"
   },
   {
    "duration": 15,
    "start_time": "2024-09-23T19:33:29.388Z"
   },
   {
    "duration": 4,
    "start_time": "2024-09-23T19:33:29.404Z"
   },
   {
    "duration": 4,
    "start_time": "2024-09-23T19:33:29.409Z"
   },
   {
    "duration": 3,
    "start_time": "2024-09-23T19:33:29.414Z"
   },
   {
    "duration": 8,
    "start_time": "2024-09-23T19:33:29.418Z"
   },
   {
    "duration": 26,
    "start_time": "2024-09-23T19:33:29.428Z"
   },
   {
    "duration": 4,
    "start_time": "2024-09-23T19:33:29.456Z"
   },
   {
    "duration": 343,
    "start_time": "2024-09-23T19:33:29.461Z"
   },
   {
    "duration": 3,
    "start_time": "2024-09-23T19:33:29.810Z"
   },
   {
    "duration": 201,
    "start_time": "2024-09-23T19:33:29.815Z"
   },
   {
    "duration": 4,
    "start_time": "2024-09-23T19:33:30.018Z"
   },
   {
    "duration": 52,
    "start_time": "2024-09-23T19:33:30.023Z"
   },
   {
    "duration": 30,
    "start_time": "2024-09-23T19:33:30.077Z"
   },
   {
    "duration": 78,
    "start_time": "2024-09-23T19:33:30.109Z"
   },
   {
    "duration": 363,
    "start_time": "2024-09-23T19:33:30.189Z"
   },
   {
    "duration": 3,
    "start_time": "2024-09-23T19:33:30.554Z"
   },
   {
    "duration": 215,
    "start_time": "2024-09-23T19:33:30.558Z"
   },
   {
    "duration": 4,
    "start_time": "2024-09-23T19:33:30.774Z"
   },
   {
    "duration": 58,
    "start_time": "2024-09-23T19:33:30.779Z"
   },
   {
    "duration": 4,
    "start_time": "2024-09-23T19:33:30.839Z"
   },
   {
    "duration": 5,
    "start_time": "2024-09-23T19:33:30.845Z"
   },
   {
    "duration": 329,
    "start_time": "2024-09-23T19:33:30.851Z"
   },
   {
    "duration": 3,
    "start_time": "2024-09-23T19:33:31.181Z"
   },
   {
    "duration": 210,
    "start_time": "2024-09-23T19:33:31.186Z"
   },
   {
    "duration": 5,
    "start_time": "2024-09-23T19:33:31.397Z"
   },
   {
    "duration": 8,
    "start_time": "2024-09-23T19:33:31.404Z"
   },
   {
    "duration": 7,
    "start_time": "2024-09-23T19:33:31.414Z"
   },
   {
    "duration": 5,
    "start_time": "2024-09-23T19:33:31.422Z"
   },
   {
    "duration": 14777,
    "start_time": "2024-09-24T18:40:04.986Z"
   },
   {
    "duration": 1442,
    "start_time": "2024-09-24T18:40:19.766Z"
   },
   {
    "duration": 1017,
    "start_time": "2024-09-24T18:40:21.210Z"
   },
   {
    "duration": 15,
    "start_time": "2024-09-24T18:40:22.229Z"
   },
   {
    "duration": 16,
    "start_time": "2024-09-24T18:40:22.245Z"
   },
   {
    "duration": 11,
    "start_time": "2024-09-24T18:40:22.263Z"
   },
   {
    "duration": 29,
    "start_time": "2024-09-24T18:40:22.276Z"
   },
   {
    "duration": 17,
    "start_time": "2024-09-24T18:40:22.309Z"
   },
   {
    "duration": 25,
    "start_time": "2024-09-24T18:40:22.328Z"
   },
   {
    "duration": 48,
    "start_time": "2024-09-24T18:40:22.356Z"
   },
   {
    "duration": 114,
    "start_time": "2024-09-24T18:40:22.406Z"
   },
   {
    "duration": 47,
    "start_time": "2024-09-24T18:40:22.523Z"
   },
   {
    "duration": 222,
    "start_time": "2024-09-24T18:40:22.572Z"
   },
   {
    "duration": 183,
    "start_time": "2024-09-24T18:40:22.796Z"
   },
   {
    "duration": 12,
    "start_time": "2024-09-24T18:40:22.980Z"
   },
   {
    "duration": 243,
    "start_time": "2024-09-24T18:40:22.993Z"
   },
   {
    "duration": 230,
    "start_time": "2024-09-24T18:40:23.239Z"
   },
   {
    "duration": 11,
    "start_time": "2024-09-24T18:40:23.471Z"
   },
   {
    "duration": 229,
    "start_time": "2024-09-24T18:40:23.483Z"
   },
   {
    "duration": 288,
    "start_time": "2024-09-24T18:40:23.714Z"
   },
   {
    "duration": 13,
    "start_time": "2024-09-24T18:40:24.003Z"
   },
   {
    "duration": 232,
    "start_time": "2024-09-24T18:40:24.017Z"
   },
   {
    "duration": 211,
    "start_time": "2024-09-24T18:40:24.252Z"
   },
   {
    "duration": 13,
    "start_time": "2024-09-24T18:40:24.464Z"
   },
   {
    "duration": 217,
    "start_time": "2024-09-24T18:40:24.479Z"
   },
   {
    "duration": 193,
    "start_time": "2024-09-24T18:40:24.699Z"
   },
   {
    "duration": 15,
    "start_time": "2024-09-24T18:40:24.893Z"
   },
   {
    "duration": 243,
    "start_time": "2024-09-24T18:40:24.914Z"
   },
   {
    "duration": 178,
    "start_time": "2024-09-24T18:40:25.158Z"
   },
   {
    "duration": 23,
    "start_time": "2024-09-24T18:40:25.338Z"
   },
   {
    "duration": 224,
    "start_time": "2024-09-24T18:40:25.363Z"
   },
   {
    "duration": 323,
    "start_time": "2024-09-24T18:40:25.589Z"
   },
   {
    "duration": 15,
    "start_time": "2024-09-24T18:40:25.914Z"
   },
   {
    "duration": 175,
    "start_time": "2024-09-24T18:40:25.931Z"
   },
   {
    "duration": 200,
    "start_time": "2024-09-24T18:40:26.108Z"
   },
   {
    "duration": 12,
    "start_time": "2024-09-24T18:40:26.310Z"
   },
   {
    "duration": 219,
    "start_time": "2024-09-24T18:40:26.324Z"
   },
   {
    "duration": 183,
    "start_time": "2024-09-24T18:40:26.545Z"
   },
   {
    "duration": 25,
    "start_time": "2024-09-24T18:40:26.729Z"
   },
   {
    "duration": 209,
    "start_time": "2024-09-24T18:40:26.755Z"
   },
   {
    "duration": 253,
    "start_time": "2024-09-24T18:40:26.966Z"
   },
   {
    "duration": 15,
    "start_time": "2024-09-24T18:40:27.221Z"
   },
   {
    "duration": 251,
    "start_time": "2024-09-24T18:40:27.238Z"
   },
   {
    "duration": 185,
    "start_time": "2024-09-24T18:40:27.491Z"
   },
   {
    "duration": 12,
    "start_time": "2024-09-24T18:40:27.678Z"
   },
   {
    "duration": 223,
    "start_time": "2024-09-24T18:40:27.692Z"
   },
   {
    "duration": 290,
    "start_time": "2024-09-24T18:40:27.917Z"
   },
   {
    "duration": 12,
    "start_time": "2024-09-24T18:40:28.209Z"
   },
   {
    "duration": 8,
    "start_time": "2024-09-24T18:40:28.223Z"
   },
   {
    "duration": 16,
    "start_time": "2024-09-24T18:40:28.232Z"
   },
   {
    "duration": 15,
    "start_time": "2024-09-24T18:40:28.252Z"
   },
   {
    "duration": 188,
    "start_time": "2024-09-24T18:40:28.269Z"
   },
   {
    "duration": 7,
    "start_time": "2024-09-24T18:40:28.458Z"
   },
   {
    "duration": 92,
    "start_time": "2024-09-24T18:40:28.468Z"
   },
   {
    "duration": 97,
    "start_time": "2024-09-24T18:40:28.562Z"
   },
   {
    "duration": 91,
    "start_time": "2024-09-24T18:40:28.662Z"
   },
   {
    "duration": 10,
    "start_time": "2024-09-24T18:40:28.756Z"
   },
   {
    "duration": 85,
    "start_time": "2024-09-24T18:40:28.768Z"
   },
   {
    "duration": 3,
    "start_time": "2024-09-24T18:40:28.856Z"
   },
   {
    "duration": 3,
    "start_time": "2024-09-24T18:40:28.861Z"
   },
   {
    "duration": 92,
    "start_time": "2024-09-24T18:40:28.865Z"
   },
   {
    "duration": 3,
    "start_time": "2024-09-24T18:40:28.959Z"
   },
   {
    "duration": 5,
    "start_time": "2024-09-24T18:40:28.963Z"
   },
   {
    "duration": 5,
    "start_time": "2024-09-24T18:40:28.970Z"
   },
   {
    "duration": 3,
    "start_time": "2024-09-24T18:40:28.977Z"
   },
   {
    "duration": 5,
    "start_time": "2024-09-24T18:40:28.981Z"
   },
   {
    "duration": 5,
    "start_time": "2024-09-24T18:40:28.987Z"
   },
   {
    "duration": 10,
    "start_time": "2024-09-24T18:40:28.993Z"
   },
   {
    "duration": 3,
    "start_time": "2024-09-24T18:40:29.005Z"
   },
   {
    "duration": 44,
    "start_time": "2024-09-24T18:40:29.010Z"
   },
   {
    "duration": 7,
    "start_time": "2024-09-24T18:40:29.056Z"
   },
   {
    "duration": 10,
    "start_time": "2024-09-24T18:40:29.065Z"
   },
   {
    "duration": 16,
    "start_time": "2024-09-24T18:40:29.077Z"
   },
   {
    "duration": 16,
    "start_time": "2024-09-24T18:40:29.094Z"
   },
   {
    "duration": 128,
    "start_time": "2024-09-24T18:40:29.111Z"
   },
   {
    "duration": 0,
    "start_time": "2024-09-24T18:40:29.242Z"
   },
   {
    "duration": 0,
    "start_time": "2024-09-24T18:40:29.243Z"
   },
   {
    "duration": 0,
    "start_time": "2024-09-24T18:40:29.245Z"
   },
   {
    "duration": 0,
    "start_time": "2024-09-24T18:40:29.253Z"
   },
   {
    "duration": 0,
    "start_time": "2024-09-24T18:40:29.254Z"
   },
   {
    "duration": 0,
    "start_time": "2024-09-24T18:40:29.256Z"
   },
   {
    "duration": 0,
    "start_time": "2024-09-24T18:40:29.257Z"
   },
   {
    "duration": 0,
    "start_time": "2024-09-24T18:40:29.259Z"
   },
   {
    "duration": 0,
    "start_time": "2024-09-24T18:40:29.260Z"
   },
   {
    "duration": 0,
    "start_time": "2024-09-24T18:40:29.262Z"
   },
   {
    "duration": 0,
    "start_time": "2024-09-24T18:40:29.263Z"
   },
   {
    "duration": 0,
    "start_time": "2024-09-24T18:40:29.265Z"
   },
   {
    "duration": 0,
    "start_time": "2024-09-24T18:40:29.267Z"
   },
   {
    "duration": 0,
    "start_time": "2024-09-24T18:40:29.268Z"
   },
   {
    "duration": 0,
    "start_time": "2024-09-24T18:40:29.269Z"
   },
   {
    "duration": 0,
    "start_time": "2024-09-24T18:40:29.270Z"
   },
   {
    "duration": 0,
    "start_time": "2024-09-24T18:40:29.271Z"
   },
   {
    "duration": 0,
    "start_time": "2024-09-24T18:40:29.272Z"
   },
   {
    "duration": 0,
    "start_time": "2024-09-24T18:40:29.273Z"
   },
   {
    "duration": 0,
    "start_time": "2024-09-24T18:40:29.274Z"
   },
   {
    "duration": 0,
    "start_time": "2024-09-24T18:40:29.275Z"
   },
   {
    "duration": 0,
    "start_time": "2024-09-24T18:40:29.276Z"
   },
   {
    "duration": 0,
    "start_time": "2024-09-24T18:40:29.277Z"
   },
   {
    "duration": 0,
    "start_time": "2024-09-24T18:40:29.278Z"
   },
   {
    "duration": 1,
    "start_time": "2024-09-24T18:40:29.279Z"
   },
   {
    "duration": 5,
    "start_time": "2024-09-24T18:43:24.465Z"
   },
   {
    "duration": 8,
    "start_time": "2024-09-24T18:44:12.962Z"
   },
   {
    "duration": 11,
    "start_time": "2024-09-24T18:45:38.076Z"
   },
   {
    "duration": 2,
    "start_time": "2024-09-24T18:45:59.933Z"
   },
   {
    "duration": 15,
    "start_time": "2024-09-24T18:46:00.813Z"
   },
   {
    "duration": 3,
    "start_time": "2024-09-24T18:46:28.654Z"
   },
   {
    "duration": 17,
    "start_time": "2024-09-24T18:46:29.413Z"
   },
   {
    "duration": 16,
    "start_time": "2024-09-24T19:15:16.568Z"
   },
   {
    "duration": 17,
    "start_time": "2024-09-24T19:18:31.342Z"
   },
   {
    "duration": 14,
    "start_time": "2024-09-24T19:28:01.944Z"
   },
   {
    "duration": 89,
    "start_time": "2024-09-24T19:35:07.834Z"
   },
   {
    "duration": 3,
    "start_time": "2024-09-24T19:35:13.607Z"
   },
   {
    "duration": 70,
    "start_time": "2024-09-24T19:35:16.299Z"
   },
   {
    "duration": 12,
    "start_time": "2024-09-24T19:35:31.475Z"
   },
   {
    "duration": 14,
    "start_time": "2024-09-24T19:35:44.692Z"
   },
   {
    "duration": 8037,
    "start_time": "2024-09-24T19:36:12.909Z"
   },
   {
    "duration": 1259,
    "start_time": "2024-09-24T19:36:20.950Z"
   },
   {
    "duration": 434,
    "start_time": "2024-09-24T19:36:22.210Z"
   },
   {
    "duration": 18,
    "start_time": "2024-09-24T19:36:22.646Z"
   },
   {
    "duration": 15,
    "start_time": "2024-09-24T19:36:22.665Z"
   },
   {
    "duration": 21,
    "start_time": "2024-09-24T19:36:22.682Z"
   },
   {
    "duration": 19,
    "start_time": "2024-09-24T19:36:22.704Z"
   },
   {
    "duration": 9,
    "start_time": "2024-09-24T19:36:22.724Z"
   },
   {
    "duration": 29,
    "start_time": "2024-09-24T19:36:22.735Z"
   },
   {
    "duration": 45,
    "start_time": "2024-09-24T19:36:22.766Z"
   },
   {
    "duration": 56,
    "start_time": "2024-09-24T19:36:22.813Z"
   },
   {
    "duration": 49,
    "start_time": "2024-09-24T19:36:22.871Z"
   },
   {
    "duration": 238,
    "start_time": "2024-09-24T19:36:22.922Z"
   },
   {
    "duration": 183,
    "start_time": "2024-09-24T19:36:23.162Z"
   },
   {
    "duration": 16,
    "start_time": "2024-09-24T19:36:23.347Z"
   },
   {
    "duration": 201,
    "start_time": "2024-09-24T19:36:23.365Z"
   },
   {
    "duration": 168,
    "start_time": "2024-09-24T19:36:23.567Z"
   },
   {
    "duration": 18,
    "start_time": "2024-09-24T19:36:23.736Z"
   },
   {
    "duration": 217,
    "start_time": "2024-09-24T19:36:23.755Z"
   },
   {
    "duration": 259,
    "start_time": "2024-09-24T19:36:23.974Z"
   },
   {
    "duration": 20,
    "start_time": "2024-09-24T19:36:24.234Z"
   },
   {
    "duration": 224,
    "start_time": "2024-09-24T19:36:24.256Z"
   },
   {
    "duration": 181,
    "start_time": "2024-09-24T19:36:24.482Z"
   },
   {
    "duration": 11,
    "start_time": "2024-09-24T19:36:24.664Z"
   },
   {
    "duration": 207,
    "start_time": "2024-09-24T19:36:24.677Z"
   },
   {
    "duration": 177,
    "start_time": "2024-09-24T19:36:24.885Z"
   },
   {
    "duration": 11,
    "start_time": "2024-09-24T19:36:25.064Z"
   },
   {
    "duration": 212,
    "start_time": "2024-09-24T19:36:25.079Z"
   },
   {
    "duration": 173,
    "start_time": "2024-09-24T19:36:25.292Z"
   },
   {
    "duration": 11,
    "start_time": "2024-09-24T19:36:25.467Z"
   },
   {
    "duration": 214,
    "start_time": "2024-09-24T19:36:25.479Z"
   },
   {
    "duration": 270,
    "start_time": "2024-09-24T19:36:25.695Z"
   },
   {
    "duration": 12,
    "start_time": "2024-09-24T19:36:25.967Z"
   },
   {
    "duration": 165,
    "start_time": "2024-09-24T19:36:25.980Z"
   },
   {
    "duration": 192,
    "start_time": "2024-09-24T19:36:26.147Z"
   },
   {
    "duration": 19,
    "start_time": "2024-09-24T19:36:26.340Z"
   },
   {
    "duration": 207,
    "start_time": "2024-09-24T19:36:26.361Z"
   },
   {
    "duration": 196,
    "start_time": "2024-09-24T19:36:26.570Z"
   },
   {
    "duration": 12,
    "start_time": "2024-09-24T19:36:26.768Z"
   },
   {
    "duration": 216,
    "start_time": "2024-09-24T19:36:26.782Z"
   },
   {
    "duration": 190,
    "start_time": "2024-09-24T19:36:26.999Z"
   },
   {
    "duration": 12,
    "start_time": "2024-09-24T19:36:27.191Z"
   },
   {
    "duration": 233,
    "start_time": "2024-09-24T19:36:27.205Z"
   },
   {
    "duration": 176,
    "start_time": "2024-09-24T19:36:27.440Z"
   },
   {
    "duration": 12,
    "start_time": "2024-09-24T19:36:27.617Z"
   },
   {
    "duration": 231,
    "start_time": "2024-09-24T19:36:27.631Z"
   },
   {
    "duration": 283,
    "start_time": "2024-09-24T19:36:27.864Z"
   },
   {
    "duration": 12,
    "start_time": "2024-09-24T19:36:28.153Z"
   },
   {
    "duration": 3,
    "start_time": "2024-09-24T19:36:28.166Z"
   },
   {
    "duration": 8,
    "start_time": "2024-09-24T19:36:28.170Z"
   },
   {
    "duration": 13,
    "start_time": "2024-09-24T19:36:28.180Z"
   },
   {
    "duration": 63,
    "start_time": "2024-09-24T19:36:28.195Z"
   },
   {
    "duration": 93,
    "start_time": "2024-09-24T19:36:28.260Z"
   },
   {
    "duration": 15,
    "start_time": "2024-09-24T19:36:28.355Z"
   },
   {
    "duration": 28,
    "start_time": "2024-09-24T19:36:28.371Z"
   },
   {
    "duration": 57,
    "start_time": "2024-09-24T19:36:28.400Z"
   },
   {
    "duration": 11,
    "start_time": "2024-09-24T19:36:28.554Z"
   },
   {
    "duration": 87,
    "start_time": "2024-09-24T19:36:28.566Z"
   },
   {
    "duration": 106,
    "start_time": "2024-09-24T19:36:28.656Z"
   },
   {
    "duration": 4,
    "start_time": "2024-09-24T19:36:28.763Z"
   },
   {
    "duration": 5,
    "start_time": "2024-09-24T19:36:28.768Z"
   },
   {
    "duration": 7,
    "start_time": "2024-09-24T19:36:28.774Z"
   },
   {
    "duration": 4,
    "start_time": "2024-09-24T19:36:28.782Z"
   },
   {
    "duration": 6,
    "start_time": "2024-09-24T19:36:28.787Z"
   },
   {
    "duration": 3,
    "start_time": "2024-09-24T19:36:28.794Z"
   },
   {
    "duration": 3,
    "start_time": "2024-09-24T19:36:28.799Z"
   },
   {
    "duration": 4,
    "start_time": "2024-09-24T19:36:28.803Z"
   },
   {
    "duration": 5,
    "start_time": "2024-09-24T19:36:28.808Z"
   },
   {
    "duration": 9,
    "start_time": "2024-09-24T19:36:28.815Z"
   },
   {
    "duration": 3,
    "start_time": "2024-09-24T19:36:28.854Z"
   },
   {
    "duration": 5,
    "start_time": "2024-09-24T19:36:28.858Z"
   },
   {
    "duration": 5,
    "start_time": "2024-09-24T19:36:28.864Z"
   },
   {
    "duration": 4,
    "start_time": "2024-09-24T19:36:28.871Z"
   },
   {
    "duration": 4,
    "start_time": "2024-09-24T19:36:28.876Z"
   },
   {
    "duration": 6,
    "start_time": "2024-09-24T19:36:28.881Z"
   },
   {
    "duration": 14,
    "start_time": "2024-09-24T19:36:28.889Z"
   },
   {
    "duration": 4,
    "start_time": "2024-09-24T19:36:28.905Z"
   },
   {
    "duration": 42,
    "start_time": "2024-09-24T19:36:28.911Z"
   },
   {
    "duration": 3,
    "start_time": "2024-09-24T19:36:28.955Z"
   },
   {
    "duration": 3,
    "start_time": "2024-09-24T19:36:28.960Z"
   },
   {
    "duration": 78,
    "start_time": "2024-09-24T19:36:28.964Z"
   },
   {
    "duration": 0,
    "start_time": "2024-09-24T19:36:29.044Z"
   },
   {
    "duration": 0,
    "start_time": "2024-09-24T19:36:29.046Z"
   },
   {
    "duration": 0,
    "start_time": "2024-09-24T19:36:29.047Z"
   },
   {
    "duration": 0,
    "start_time": "2024-09-24T19:36:29.049Z"
   },
   {
    "duration": 0,
    "start_time": "2024-09-24T19:36:29.050Z"
   },
   {
    "duration": 0,
    "start_time": "2024-09-24T19:36:29.051Z"
   },
   {
    "duration": 0,
    "start_time": "2024-09-24T19:36:29.053Z"
   },
   {
    "duration": 0,
    "start_time": "2024-09-24T19:36:29.054Z"
   },
   {
    "duration": 0,
    "start_time": "2024-09-24T19:36:29.056Z"
   },
   {
    "duration": 0,
    "start_time": "2024-09-24T19:36:29.057Z"
   },
   {
    "duration": 0,
    "start_time": "2024-09-24T19:36:29.059Z"
   },
   {
    "duration": 0,
    "start_time": "2024-09-24T19:36:29.060Z"
   },
   {
    "duration": 0,
    "start_time": "2024-09-24T19:36:29.061Z"
   },
   {
    "duration": 0,
    "start_time": "2024-09-24T19:36:29.063Z"
   },
   {
    "duration": 0,
    "start_time": "2024-09-24T19:36:29.064Z"
   },
   {
    "duration": 0,
    "start_time": "2024-09-24T19:36:29.065Z"
   },
   {
    "duration": 0,
    "start_time": "2024-09-24T19:36:29.066Z"
   },
   {
    "duration": 1,
    "start_time": "2024-09-24T19:36:29.067Z"
   },
   {
    "duration": 0,
    "start_time": "2024-09-24T19:36:29.069Z"
   },
   {
    "duration": 0,
    "start_time": "2024-09-24T19:36:29.070Z"
   },
   {
    "duration": 73,
    "start_time": "2024-09-24T19:37:06.838Z"
   },
   {
    "duration": 3,
    "start_time": "2024-09-24T19:37:16.901Z"
   },
   {
    "duration": 109,
    "start_time": "2024-09-24T19:37:18.486Z"
   },
   {
    "duration": 4,
    "start_time": "2024-09-24T19:38:09.640Z"
   },
   {
    "duration": 3,
    "start_time": "2024-09-24T19:38:20.782Z"
   },
   {
    "duration": 9,
    "start_time": "2024-09-24T19:38:22.433Z"
   },
   {
    "duration": 19,
    "start_time": "2024-09-24T19:39:06.856Z"
   },
   {
    "duration": 8681,
    "start_time": "2024-09-24T19:40:53.919Z"
   },
   {
    "duration": 1321,
    "start_time": "2024-09-24T19:41:02.603Z"
   },
   {
    "duration": 470,
    "start_time": "2024-09-24T19:41:03.926Z"
   },
   {
    "duration": 13,
    "start_time": "2024-09-24T19:41:04.398Z"
   },
   {
    "duration": 21,
    "start_time": "2024-09-24T19:41:04.412Z"
   },
   {
    "duration": 22,
    "start_time": "2024-09-24T19:41:04.434Z"
   },
   {
    "duration": 37,
    "start_time": "2024-09-24T19:41:04.459Z"
   },
   {
    "duration": 11,
    "start_time": "2024-09-24T19:41:04.498Z"
   },
   {
    "duration": 33,
    "start_time": "2024-09-24T19:41:04.510Z"
   },
   {
    "duration": 53,
    "start_time": "2024-09-24T19:41:04.546Z"
   },
   {
    "duration": 43,
    "start_time": "2024-09-24T19:41:04.601Z"
   },
   {
    "duration": 51,
    "start_time": "2024-09-24T19:41:04.659Z"
   },
   {
    "duration": 262,
    "start_time": "2024-09-24T19:41:04.711Z"
   },
   {
    "duration": 215,
    "start_time": "2024-09-24T19:41:04.975Z"
   },
   {
    "duration": 12,
    "start_time": "2024-09-24T19:41:05.191Z"
   },
   {
    "duration": 212,
    "start_time": "2024-09-24T19:41:05.205Z"
   },
   {
    "duration": 195,
    "start_time": "2024-09-24T19:41:05.419Z"
   },
   {
    "duration": 12,
    "start_time": "2024-09-24T19:41:05.616Z"
   },
   {
    "duration": 245,
    "start_time": "2024-09-24T19:41:05.629Z"
   },
   {
    "duration": 266,
    "start_time": "2024-09-24T19:41:05.876Z"
   },
   {
    "duration": 24,
    "start_time": "2024-09-24T19:41:06.144Z"
   },
   {
    "duration": 274,
    "start_time": "2024-09-24T19:41:06.170Z"
   },
   {
    "duration": 206,
    "start_time": "2024-09-24T19:41:06.446Z"
   },
   {
    "duration": 19,
    "start_time": "2024-09-24T19:41:06.654Z"
   },
   {
    "duration": 409,
    "start_time": "2024-09-24T19:41:06.674Z"
   },
   {
    "duration": 212,
    "start_time": "2024-09-24T19:41:07.085Z"
   },
   {
    "duration": 11,
    "start_time": "2024-09-24T19:41:07.298Z"
   },
   {
    "duration": 237,
    "start_time": "2024-09-24T19:41:07.313Z"
   },
   {
    "duration": 194,
    "start_time": "2024-09-24T19:41:07.553Z"
   },
   {
    "duration": 17,
    "start_time": "2024-09-24T19:41:07.752Z"
   },
   {
    "duration": 242,
    "start_time": "2024-09-24T19:41:07.771Z"
   },
   {
    "duration": 295,
    "start_time": "2024-09-24T19:41:08.015Z"
   },
   {
    "duration": 12,
    "start_time": "2024-09-24T19:41:08.312Z"
   },
   {
    "duration": 170,
    "start_time": "2024-09-24T19:41:08.326Z"
   },
   {
    "duration": 195,
    "start_time": "2024-09-24T19:41:08.497Z"
   },
   {
    "duration": 11,
    "start_time": "2024-09-24T19:41:08.694Z"
   },
   {
    "duration": 243,
    "start_time": "2024-09-24T19:41:08.706Z"
   },
   {
    "duration": 194,
    "start_time": "2024-09-24T19:41:08.953Z"
   },
   {
    "duration": 18,
    "start_time": "2024-09-24T19:41:09.149Z"
   },
   {
    "duration": 214,
    "start_time": "2024-09-24T19:41:09.169Z"
   },
   {
    "duration": 199,
    "start_time": "2024-09-24T19:41:09.385Z"
   },
   {
    "duration": 18,
    "start_time": "2024-09-24T19:41:09.586Z"
   },
   {
    "duration": 228,
    "start_time": "2024-09-24T19:41:09.605Z"
   },
   {
    "duration": 205,
    "start_time": "2024-09-24T19:41:09.835Z"
   },
   {
    "duration": 23,
    "start_time": "2024-09-24T19:41:10.042Z"
   },
   {
    "duration": 233,
    "start_time": "2024-09-24T19:41:10.068Z"
   },
   {
    "duration": 303,
    "start_time": "2024-09-24T19:41:10.303Z"
   },
   {
    "duration": 11,
    "start_time": "2024-09-24T19:41:10.608Z"
   },
   {
    "duration": 2,
    "start_time": "2024-09-24T19:41:10.621Z"
   },
   {
    "duration": 67,
    "start_time": "2024-09-24T19:41:10.625Z"
   },
   {
    "duration": 62,
    "start_time": "2024-09-24T19:41:10.694Z"
   },
   {
    "duration": 97,
    "start_time": "2024-09-24T19:41:10.759Z"
   },
   {
    "duration": 12,
    "start_time": "2024-09-24T19:41:10.860Z"
   },
   {
    "duration": 99,
    "start_time": "2024-09-24T19:41:10.874Z"
   },
   {
    "duration": 80,
    "start_time": "2024-09-24T19:41:10.974Z"
   },
   {
    "duration": 13,
    "start_time": "2024-09-24T19:41:11.056Z"
   },
   {
    "duration": 100,
    "start_time": "2024-09-24T19:41:11.073Z"
   },
   {
    "duration": 93,
    "start_time": "2024-09-24T19:41:11.174Z"
   },
   {
    "duration": 4,
    "start_time": "2024-09-24T19:41:11.269Z"
   },
   {
    "duration": 80,
    "start_time": "2024-09-24T19:41:11.275Z"
   },
   {
    "duration": 5,
    "start_time": "2024-09-24T19:41:11.358Z"
   },
   {
    "duration": 5,
    "start_time": "2024-09-24T19:41:11.365Z"
   },
   {
    "duration": 4,
    "start_time": "2024-09-24T19:41:11.371Z"
   },
   {
    "duration": 7,
    "start_time": "2024-09-24T19:41:11.377Z"
   },
   {
    "duration": 10,
    "start_time": "2024-09-24T19:41:11.385Z"
   },
   {
    "duration": 4,
    "start_time": "2024-09-24T19:41:11.397Z"
   },
   {
    "duration": 52,
    "start_time": "2024-09-24T19:41:11.403Z"
   },
   {
    "duration": 11,
    "start_time": "2024-09-24T19:41:11.458Z"
   },
   {
    "duration": 13,
    "start_time": "2024-09-24T19:41:11.471Z"
   },
   {
    "duration": 3,
    "start_time": "2024-09-24T19:41:11.486Z"
   },
   {
    "duration": 3,
    "start_time": "2024-09-24T19:41:11.491Z"
   },
   {
    "duration": 5,
    "start_time": "2024-09-24T19:41:11.495Z"
   },
   {
    "duration": 4,
    "start_time": "2024-09-24T19:41:11.502Z"
   },
   {
    "duration": 5,
    "start_time": "2024-09-24T19:41:11.507Z"
   },
   {
    "duration": 3,
    "start_time": "2024-09-24T19:41:11.513Z"
   },
   {
    "duration": 45,
    "start_time": "2024-09-24T19:41:11.517Z"
   },
   {
    "duration": 6,
    "start_time": "2024-09-24T19:41:11.564Z"
   },
   {
    "duration": 138,
    "start_time": "2024-09-24T19:41:11.571Z"
   },
   {
    "duration": 0,
    "start_time": "2024-09-24T19:41:11.711Z"
   },
   {
    "duration": 0,
    "start_time": "2024-09-24T19:41:11.712Z"
   },
   {
    "duration": 0,
    "start_time": "2024-09-24T19:41:11.713Z"
   },
   {
    "duration": 0,
    "start_time": "2024-09-24T19:41:11.714Z"
   },
   {
    "duration": 0,
    "start_time": "2024-09-24T19:41:11.715Z"
   },
   {
    "duration": 0,
    "start_time": "2024-09-24T19:41:11.716Z"
   },
   {
    "duration": 0,
    "start_time": "2024-09-24T19:41:11.717Z"
   },
   {
    "duration": 0,
    "start_time": "2024-09-24T19:41:11.719Z"
   },
   {
    "duration": 0,
    "start_time": "2024-09-24T19:41:11.720Z"
   },
   {
    "duration": 0,
    "start_time": "2024-09-24T19:41:11.721Z"
   },
   {
    "duration": 0,
    "start_time": "2024-09-24T19:41:11.722Z"
   },
   {
    "duration": 0,
    "start_time": "2024-09-24T19:41:11.723Z"
   },
   {
    "duration": 0,
    "start_time": "2024-09-24T19:41:11.724Z"
   },
   {
    "duration": 0,
    "start_time": "2024-09-24T19:41:11.724Z"
   },
   {
    "duration": 0,
    "start_time": "2024-09-24T19:41:11.725Z"
   },
   {
    "duration": 0,
    "start_time": "2024-09-24T19:41:11.726Z"
   },
   {
    "duration": 0,
    "start_time": "2024-09-24T19:41:11.727Z"
   },
   {
    "duration": 0,
    "start_time": "2024-09-24T19:41:11.753Z"
   },
   {
    "duration": 0,
    "start_time": "2024-09-24T19:41:11.755Z"
   },
   {
    "duration": 0,
    "start_time": "2024-09-24T19:41:11.756Z"
   },
   {
    "duration": 0,
    "start_time": "2024-09-24T19:41:11.758Z"
   },
   {
    "duration": 0,
    "start_time": "2024-09-24T19:41:11.759Z"
   },
   {
    "duration": 0,
    "start_time": "2024-09-24T19:41:11.761Z"
   },
   {
    "duration": 0,
    "start_time": "2024-09-24T19:41:11.764Z"
   },
   {
    "duration": 0,
    "start_time": "2024-09-24T19:41:11.766Z"
   },
   {
    "duration": 0,
    "start_time": "2024-09-24T19:41:11.769Z"
   },
   {
    "duration": 6,
    "start_time": "2024-09-24T19:41:46.839Z"
   },
   {
    "duration": 4,
    "start_time": "2024-09-24T19:42:03.389Z"
   },
   {
    "duration": 3,
    "start_time": "2024-09-24T19:42:06.799Z"
   },
   {
    "duration": 8,
    "start_time": "2024-09-24T19:42:23.911Z"
   },
   {
    "duration": 14,
    "start_time": "2024-09-24T19:43:08.256Z"
   },
   {
    "duration": 9,
    "start_time": "2024-09-24T19:43:12.040Z"
   },
   {
    "duration": 9,
    "start_time": "2024-09-24T19:44:32.080Z"
   },
   {
    "duration": 8076,
    "start_time": "2024-09-24T19:44:42.456Z"
   },
   {
    "duration": 1279,
    "start_time": "2024-09-24T19:44:50.535Z"
   },
   {
    "duration": 425,
    "start_time": "2024-09-24T19:44:51.815Z"
   },
   {
    "duration": 16,
    "start_time": "2024-09-24T19:44:52.242Z"
   },
   {
    "duration": 21,
    "start_time": "2024-09-24T19:44:52.261Z"
   },
   {
    "duration": 10,
    "start_time": "2024-09-24T19:44:52.287Z"
   },
   {
    "duration": 24,
    "start_time": "2024-09-24T19:44:52.299Z"
   },
   {
    "duration": 31,
    "start_time": "2024-09-24T19:44:52.324Z"
   },
   {
    "duration": 21,
    "start_time": "2024-09-24T19:44:52.357Z"
   },
   {
    "duration": 96,
    "start_time": "2024-09-24T19:44:52.381Z"
   },
   {
    "duration": 45,
    "start_time": "2024-09-24T19:44:52.479Z"
   },
   {
    "duration": 67,
    "start_time": "2024-09-24T19:44:52.525Z"
   },
   {
    "duration": 233,
    "start_time": "2024-09-24T19:44:52.593Z"
   },
   {
    "duration": 187,
    "start_time": "2024-09-24T19:44:52.827Z"
   },
   {
    "duration": 12,
    "start_time": "2024-09-24T19:44:53.016Z"
   },
   {
    "duration": 211,
    "start_time": "2024-09-24T19:44:53.029Z"
   },
   {
    "duration": 180,
    "start_time": "2024-09-24T19:44:53.242Z"
   },
   {
    "duration": 12,
    "start_time": "2024-09-24T19:44:53.424Z"
   },
   {
    "duration": 240,
    "start_time": "2024-09-24T19:44:53.437Z"
   },
   {
    "duration": 271,
    "start_time": "2024-09-24T19:44:53.679Z"
   },
   {
    "duration": 15,
    "start_time": "2024-09-24T19:44:53.954Z"
   },
   {
    "duration": 226,
    "start_time": "2024-09-24T19:44:53.971Z"
   },
   {
    "duration": 220,
    "start_time": "2024-09-24T19:44:54.199Z"
   },
   {
    "duration": 11,
    "start_time": "2024-09-24T19:44:54.421Z"
   },
   {
    "duration": 213,
    "start_time": "2024-09-24T19:44:54.434Z"
   },
   {
    "duration": 178,
    "start_time": "2024-09-24T19:44:54.649Z"
   },
   {
    "duration": 11,
    "start_time": "2024-09-24T19:44:54.829Z"
   },
   {
    "duration": 222,
    "start_time": "2024-09-24T19:44:54.856Z"
   },
   {
    "duration": 191,
    "start_time": "2024-09-24T19:44:55.080Z"
   },
   {
    "duration": 12,
    "start_time": "2024-09-24T19:44:55.273Z"
   },
   {
    "duration": 229,
    "start_time": "2024-09-24T19:44:55.287Z"
   },
   {
    "duration": 288,
    "start_time": "2024-09-24T19:44:55.518Z"
   },
   {
    "duration": 12,
    "start_time": "2024-09-24T19:44:55.808Z"
   },
   {
    "duration": 168,
    "start_time": "2024-09-24T19:44:55.822Z"
   },
   {
    "duration": 190,
    "start_time": "2024-09-24T19:44:55.991Z"
   },
   {
    "duration": 12,
    "start_time": "2024-09-24T19:44:56.184Z"
   },
   {
    "duration": 237,
    "start_time": "2024-09-24T19:44:56.198Z"
   },
   {
    "duration": 203,
    "start_time": "2024-09-24T19:44:56.436Z"
   },
   {
    "duration": 22,
    "start_time": "2024-09-24T19:44:56.640Z"
   },
   {
    "duration": 309,
    "start_time": "2024-09-24T19:44:56.665Z"
   },
   {
    "duration": 207,
    "start_time": "2024-09-24T19:44:56.976Z"
   },
   {
    "duration": 12,
    "start_time": "2024-09-24T19:44:57.184Z"
   },
   {
    "duration": 273,
    "start_time": "2024-09-24T19:44:57.197Z"
   },
   {
    "duration": 228,
    "start_time": "2024-09-24T19:44:57.471Z"
   },
   {
    "duration": 12,
    "start_time": "2024-09-24T19:44:57.701Z"
   },
   {
    "duration": 249,
    "start_time": "2024-09-24T19:44:57.715Z"
   },
   {
    "duration": 318,
    "start_time": "2024-09-24T19:44:57.966Z"
   },
   {
    "duration": 13,
    "start_time": "2024-09-24T19:44:58.286Z"
   },
   {
    "duration": 4,
    "start_time": "2024-09-24T19:44:58.300Z"
   },
   {
    "duration": 32,
    "start_time": "2024-09-24T19:44:58.306Z"
   },
   {
    "duration": 98,
    "start_time": "2024-09-24T19:44:58.339Z"
   },
   {
    "duration": 44,
    "start_time": "2024-09-24T19:44:58.439Z"
   },
   {
    "duration": 98,
    "start_time": "2024-09-24T19:44:58.556Z"
   },
   {
    "duration": 119,
    "start_time": "2024-09-24T19:44:58.658Z"
   },
   {
    "duration": 29,
    "start_time": "2024-09-24T19:44:58.779Z"
   },
   {
    "duration": 65,
    "start_time": "2024-09-24T19:44:58.811Z"
   },
   {
    "duration": 94,
    "start_time": "2024-09-24T19:44:58.880Z"
   },
   {
    "duration": 26,
    "start_time": "2024-09-24T19:44:58.976Z"
   },
   {
    "duration": 51,
    "start_time": "2024-09-24T19:44:59.004Z"
   },
   {
    "duration": 11,
    "start_time": "2024-09-24T19:44:59.057Z"
   },
   {
    "duration": 85,
    "start_time": "2024-09-24T19:44:59.070Z"
   },
   {
    "duration": 4,
    "start_time": "2024-09-24T19:44:59.158Z"
   },
   {
    "duration": 6,
    "start_time": "2024-09-24T19:44:59.165Z"
   },
   {
    "duration": 25,
    "start_time": "2024-09-24T19:44:59.173Z"
   },
   {
    "duration": 4,
    "start_time": "2024-09-24T19:44:59.200Z"
   },
   {
    "duration": 19,
    "start_time": "2024-09-24T19:44:59.205Z"
   },
   {
    "duration": 9,
    "start_time": "2024-09-24T19:44:59.225Z"
   },
   {
    "duration": 5,
    "start_time": "2024-09-24T19:44:59.235Z"
   },
   {
    "duration": 5,
    "start_time": "2024-09-24T19:44:59.242Z"
   },
   {
    "duration": 6,
    "start_time": "2024-09-24T19:44:59.248Z"
   },
   {
    "duration": 6,
    "start_time": "2024-09-24T19:44:59.256Z"
   },
   {
    "duration": 5,
    "start_time": "2024-09-24T19:44:59.266Z"
   },
   {
    "duration": 4,
    "start_time": "2024-09-24T19:44:59.272Z"
   },
   {
    "duration": 6,
    "start_time": "2024-09-24T19:44:59.278Z"
   },
   {
    "duration": 45,
    "start_time": "2024-09-24T19:44:59.285Z"
   },
   {
    "duration": 26,
    "start_time": "2024-09-24T19:44:59.331Z"
   },
   {
    "duration": 19,
    "start_time": "2024-09-24T19:44:59.359Z"
   },
   {
    "duration": 134,
    "start_time": "2024-09-24T19:44:59.380Z"
   },
   {
    "duration": 0,
    "start_time": "2024-09-24T19:44:59.517Z"
   },
   {
    "duration": 0,
    "start_time": "2024-09-24T19:44:59.518Z"
   },
   {
    "duration": 0,
    "start_time": "2024-09-24T19:44:59.519Z"
   },
   {
    "duration": 0,
    "start_time": "2024-09-24T19:44:59.520Z"
   },
   {
    "duration": 0,
    "start_time": "2024-09-24T19:44:59.521Z"
   },
   {
    "duration": 0,
    "start_time": "2024-09-24T19:44:59.523Z"
   },
   {
    "duration": 0,
    "start_time": "2024-09-24T19:44:59.524Z"
   },
   {
    "duration": 1,
    "start_time": "2024-09-24T19:44:59.524Z"
   },
   {
    "duration": 0,
    "start_time": "2024-09-24T19:44:59.525Z"
   },
   {
    "duration": 0,
    "start_time": "2024-09-24T19:44:59.526Z"
   },
   {
    "duration": 0,
    "start_time": "2024-09-24T19:44:59.528Z"
   },
   {
    "duration": 0,
    "start_time": "2024-09-24T19:44:59.529Z"
   },
   {
    "duration": 0,
    "start_time": "2024-09-24T19:44:59.530Z"
   },
   {
    "duration": 0,
    "start_time": "2024-09-24T19:44:59.531Z"
   },
   {
    "duration": 0,
    "start_time": "2024-09-24T19:44:59.532Z"
   },
   {
    "duration": 0,
    "start_time": "2024-09-24T19:44:59.553Z"
   },
   {
    "duration": 0,
    "start_time": "2024-09-24T19:44:59.555Z"
   },
   {
    "duration": 0,
    "start_time": "2024-09-24T19:44:59.557Z"
   },
   {
    "duration": 0,
    "start_time": "2024-09-24T19:44:59.560Z"
   },
   {
    "duration": 0,
    "start_time": "2024-09-24T19:44:59.561Z"
   },
   {
    "duration": 0,
    "start_time": "2024-09-24T19:44:59.562Z"
   },
   {
    "duration": 0,
    "start_time": "2024-09-24T19:44:59.564Z"
   },
   {
    "duration": 0,
    "start_time": "2024-09-24T19:44:59.566Z"
   },
   {
    "duration": 0,
    "start_time": "2024-09-24T19:44:59.567Z"
   },
   {
    "duration": 0,
    "start_time": "2024-09-24T19:44:59.569Z"
   },
   {
    "duration": 0,
    "start_time": "2024-09-24T19:44:59.571Z"
   },
   {
    "duration": 0,
    "start_time": "2024-09-24T19:44:59.572Z"
   },
   {
    "duration": 0,
    "start_time": "2024-09-24T19:44:59.573Z"
   },
   {
    "duration": 13,
    "start_time": "2024-09-24T19:45:05.153Z"
   },
   {
    "duration": 3,
    "start_time": "2024-09-24T19:45:05.674Z"
   },
   {
    "duration": 8729,
    "start_time": "2024-09-24T19:45:32.267Z"
   },
   {
    "duration": 1232,
    "start_time": "2024-09-24T19:45:40.999Z"
   },
   {
    "duration": 447,
    "start_time": "2024-09-24T19:45:42.232Z"
   },
   {
    "duration": 13,
    "start_time": "2024-09-24T19:45:42.681Z"
   },
   {
    "duration": 36,
    "start_time": "2024-09-24T19:45:42.695Z"
   },
   {
    "duration": 9,
    "start_time": "2024-09-24T19:45:42.732Z"
   },
   {
    "duration": 19,
    "start_time": "2024-09-24T19:45:42.742Z"
   },
   {
    "duration": 11,
    "start_time": "2024-09-24T19:45:42.763Z"
   },
   {
    "duration": 14,
    "start_time": "2024-09-24T19:45:42.775Z"
   },
   {
    "duration": 44,
    "start_time": "2024-09-24T19:45:42.791Z"
   },
   {
    "duration": 51,
    "start_time": "2024-09-24T19:45:42.854Z"
   },
   {
    "duration": 61,
    "start_time": "2024-09-24T19:45:42.907Z"
   },
   {
    "duration": 226,
    "start_time": "2024-09-24T19:45:42.969Z"
   },
   {
    "duration": 178,
    "start_time": "2024-09-24T19:45:43.197Z"
   },
   {
    "duration": 12,
    "start_time": "2024-09-24T19:45:43.376Z"
   },
   {
    "duration": 210,
    "start_time": "2024-09-24T19:45:43.389Z"
   },
   {
    "duration": 189,
    "start_time": "2024-09-24T19:45:43.601Z"
   },
   {
    "duration": 11,
    "start_time": "2024-09-24T19:45:43.791Z"
   },
   {
    "duration": 235,
    "start_time": "2024-09-24T19:45:43.803Z"
   },
   {
    "duration": 297,
    "start_time": "2024-09-24T19:45:44.040Z"
   },
   {
    "duration": 15,
    "start_time": "2024-09-24T19:45:44.339Z"
   },
   {
    "duration": 234,
    "start_time": "2024-09-24T19:45:44.356Z"
   },
   {
    "duration": 197,
    "start_time": "2024-09-24T19:45:44.591Z"
   },
   {
    "duration": 12,
    "start_time": "2024-09-24T19:45:44.790Z"
   },
   {
    "duration": 216,
    "start_time": "2024-09-24T19:45:44.804Z"
   },
   {
    "duration": 190,
    "start_time": "2024-09-24T19:45:45.022Z"
   },
   {
    "duration": 12,
    "start_time": "2024-09-24T19:45:45.214Z"
   },
   {
    "duration": 240,
    "start_time": "2024-09-24T19:45:45.230Z"
   },
   {
    "duration": 201,
    "start_time": "2024-09-24T19:45:45.472Z"
   },
   {
    "duration": 11,
    "start_time": "2024-09-24T19:45:45.675Z"
   },
   {
    "duration": 224,
    "start_time": "2024-09-24T19:45:45.688Z"
   },
   {
    "duration": 283,
    "start_time": "2024-09-24T19:45:45.914Z"
   },
   {
    "duration": 10,
    "start_time": "2024-09-24T19:45:46.199Z"
   },
   {
    "duration": 175,
    "start_time": "2024-09-24T19:45:46.211Z"
   },
   {
    "duration": 195,
    "start_time": "2024-09-24T19:45:46.387Z"
   },
   {
    "duration": 11,
    "start_time": "2024-09-24T19:45:46.584Z"
   },
   {
    "duration": 244,
    "start_time": "2024-09-24T19:45:46.597Z"
   },
   {
    "duration": 201,
    "start_time": "2024-09-24T19:45:46.843Z"
   },
   {
    "duration": 17,
    "start_time": "2024-09-24T19:45:47.045Z"
   },
   {
    "duration": 233,
    "start_time": "2024-09-24T19:45:47.064Z"
   },
   {
    "duration": 200,
    "start_time": "2024-09-24T19:45:47.298Z"
   },
   {
    "duration": 11,
    "start_time": "2024-09-24T19:45:47.499Z"
   },
   {
    "duration": 223,
    "start_time": "2024-09-24T19:45:47.512Z"
   },
   {
    "duration": 200,
    "start_time": "2024-09-24T19:45:47.736Z"
   },
   {
    "duration": 20,
    "start_time": "2024-09-24T19:45:47.937Z"
   },
   {
    "duration": 237,
    "start_time": "2024-09-24T19:45:47.959Z"
   },
   {
    "duration": 300,
    "start_time": "2024-09-24T19:45:48.197Z"
   },
   {
    "duration": 13,
    "start_time": "2024-09-24T19:45:48.499Z"
   },
   {
    "duration": 3,
    "start_time": "2024-09-24T19:45:48.514Z"
   },
   {
    "duration": 5,
    "start_time": "2024-09-24T19:45:48.519Z"
   },
   {
    "duration": 43,
    "start_time": "2024-09-24T19:45:48.525Z"
   },
   {
    "duration": 86,
    "start_time": "2024-09-24T19:45:48.570Z"
   },
   {
    "duration": 11,
    "start_time": "2024-09-24T19:45:48.659Z"
   },
   {
    "duration": 100,
    "start_time": "2024-09-24T19:45:48.672Z"
   },
   {
    "duration": 81,
    "start_time": "2024-09-24T19:45:48.774Z"
   },
   {
    "duration": 13,
    "start_time": "2024-09-24T19:45:48.858Z"
   },
   {
    "duration": 90,
    "start_time": "2024-09-24T19:45:48.874Z"
   },
   {
    "duration": 27,
    "start_time": "2024-09-24T19:45:48.967Z"
   },
   {
    "duration": 5,
    "start_time": "2024-09-24T19:45:49.054Z"
   },
   {
    "duration": 4,
    "start_time": "2024-09-24T19:45:49.062Z"
   },
   {
    "duration": 3,
    "start_time": "2024-09-24T19:45:49.070Z"
   },
   {
    "duration": 5,
    "start_time": "2024-09-24T19:45:49.154Z"
   },
   {
    "duration": 8,
    "start_time": "2024-09-24T19:45:49.162Z"
   },
   {
    "duration": 7,
    "start_time": "2024-09-24T19:45:49.172Z"
   },
   {
    "duration": 3,
    "start_time": "2024-09-24T19:45:49.181Z"
   },
   {
    "duration": 3,
    "start_time": "2024-09-24T19:45:49.186Z"
   },
   {
    "duration": 4,
    "start_time": "2024-09-24T19:45:49.191Z"
   },
   {
    "duration": 14,
    "start_time": "2024-09-24T19:45:49.196Z"
   },
   {
    "duration": 5,
    "start_time": "2024-09-24T19:45:49.211Z"
   },
   {
    "duration": 38,
    "start_time": "2024-09-24T19:45:49.217Z"
   },
   {
    "duration": 5,
    "start_time": "2024-09-24T19:45:49.258Z"
   },
   {
    "duration": 6,
    "start_time": "2024-09-24T19:45:49.266Z"
   },
   {
    "duration": 5,
    "start_time": "2024-09-24T19:45:49.273Z"
   },
   {
    "duration": 3,
    "start_time": "2024-09-24T19:45:49.280Z"
   },
   {
    "duration": 3,
    "start_time": "2024-09-24T19:45:49.284Z"
   },
   {
    "duration": 16,
    "start_time": "2024-09-24T19:45:49.288Z"
   },
   {
    "duration": 3,
    "start_time": "2024-09-24T19:45:49.306Z"
   },
   {
    "duration": 172,
    "start_time": "2024-09-24T19:45:49.311Z"
   },
   {
    "duration": 0,
    "start_time": "2024-09-24T19:45:49.485Z"
   },
   {
    "duration": 0,
    "start_time": "2024-09-24T19:45:49.486Z"
   },
   {
    "duration": 0,
    "start_time": "2024-09-24T19:45:49.488Z"
   },
   {
    "duration": 0,
    "start_time": "2024-09-24T19:45:49.489Z"
   },
   {
    "duration": 0,
    "start_time": "2024-09-24T19:45:49.490Z"
   },
   {
    "duration": 0,
    "start_time": "2024-09-24T19:45:49.491Z"
   },
   {
    "duration": 0,
    "start_time": "2024-09-24T19:45:49.492Z"
   },
   {
    "duration": 0,
    "start_time": "2024-09-24T19:45:49.494Z"
   },
   {
    "duration": 0,
    "start_time": "2024-09-24T19:45:49.495Z"
   },
   {
    "duration": 0,
    "start_time": "2024-09-24T19:45:49.496Z"
   },
   {
    "duration": 1,
    "start_time": "2024-09-24T19:45:49.497Z"
   },
   {
    "duration": 0,
    "start_time": "2024-09-24T19:45:49.499Z"
   },
   {
    "duration": 0,
    "start_time": "2024-09-24T19:45:49.500Z"
   },
   {
    "duration": 0,
    "start_time": "2024-09-24T19:45:49.501Z"
   },
   {
    "duration": 0,
    "start_time": "2024-09-24T19:45:49.502Z"
   },
   {
    "duration": 0,
    "start_time": "2024-09-24T19:45:49.503Z"
   },
   {
    "duration": 0,
    "start_time": "2024-09-24T19:45:49.505Z"
   },
   {
    "duration": 0,
    "start_time": "2024-09-24T19:45:49.506Z"
   },
   {
    "duration": 0,
    "start_time": "2024-09-24T19:45:49.507Z"
   },
   {
    "duration": 0,
    "start_time": "2024-09-24T19:45:49.508Z"
   },
   {
    "duration": 0,
    "start_time": "2024-09-24T19:45:49.509Z"
   },
   {
    "duration": 1,
    "start_time": "2024-09-24T19:45:49.556Z"
   },
   {
    "duration": 0,
    "start_time": "2024-09-24T19:45:49.558Z"
   },
   {
    "duration": 0,
    "start_time": "2024-09-24T19:45:49.559Z"
   },
   {
    "duration": 0,
    "start_time": "2024-09-24T19:45:49.560Z"
   },
   {
    "duration": 0,
    "start_time": "2024-09-24T19:45:49.561Z"
   },
   {
    "duration": 0,
    "start_time": "2024-09-24T19:45:49.562Z"
   },
   {
    "duration": 0,
    "start_time": "2024-09-24T19:45:49.563Z"
   },
   {
    "duration": 20,
    "start_time": "2024-09-24T19:46:02.281Z"
   },
   {
    "duration": 3,
    "start_time": "2024-09-24T19:46:11.173Z"
   },
   {
    "duration": 5,
    "start_time": "2024-09-24T19:47:13.773Z"
   },
   {
    "duration": 13,
    "start_time": "2024-09-24T19:47:17.101Z"
   },
   {
    "duration": 9,
    "start_time": "2024-09-24T19:47:23.568Z"
   },
   {
    "duration": 8501,
    "start_time": "2024-09-24T19:47:31.707Z"
   },
   {
    "duration": 1222,
    "start_time": "2024-09-24T19:47:40.211Z"
   },
   {
    "duration": 443,
    "start_time": "2024-09-24T19:47:41.434Z"
   },
   {
    "duration": 13,
    "start_time": "2024-09-24T19:47:41.879Z"
   },
   {
    "duration": 14,
    "start_time": "2024-09-24T19:47:41.894Z"
   },
   {
    "duration": 9,
    "start_time": "2024-09-24T19:47:41.909Z"
   },
   {
    "duration": 14,
    "start_time": "2024-09-24T19:47:41.919Z"
   },
   {
    "duration": 26,
    "start_time": "2024-09-24T19:47:41.934Z"
   },
   {
    "duration": 18,
    "start_time": "2024-09-24T19:47:41.962Z"
   },
   {
    "duration": 41,
    "start_time": "2024-09-24T19:47:41.982Z"
   },
   {
    "duration": 74,
    "start_time": "2024-09-24T19:47:42.025Z"
   },
   {
    "duration": 53,
    "start_time": "2024-09-24T19:47:42.100Z"
   },
   {
    "duration": 233,
    "start_time": "2024-09-24T19:47:42.155Z"
   },
   {
    "duration": 190,
    "start_time": "2024-09-24T19:47:42.390Z"
   },
   {
    "duration": 12,
    "start_time": "2024-09-24T19:47:42.583Z"
   },
   {
    "duration": 216,
    "start_time": "2024-09-24T19:47:42.596Z"
   },
   {
    "duration": 181,
    "start_time": "2024-09-24T19:47:42.814Z"
   },
   {
    "duration": 11,
    "start_time": "2024-09-24T19:47:42.996Z"
   },
   {
    "duration": 239,
    "start_time": "2024-09-24T19:47:43.008Z"
   },
   {
    "duration": 284,
    "start_time": "2024-09-24T19:47:43.249Z"
   },
   {
    "duration": 21,
    "start_time": "2024-09-24T19:47:43.534Z"
   },
   {
    "duration": 240,
    "start_time": "2024-09-24T19:47:43.557Z"
   },
   {
    "duration": 217,
    "start_time": "2024-09-24T19:47:43.799Z"
   },
   {
    "duration": 12,
    "start_time": "2024-09-24T19:47:44.017Z"
   },
   {
    "duration": 244,
    "start_time": "2024-09-24T19:47:44.030Z"
   },
   {
    "duration": 201,
    "start_time": "2024-09-24T19:47:44.276Z"
   },
   {
    "duration": 12,
    "start_time": "2024-09-24T19:47:44.478Z"
   },
   {
    "duration": 263,
    "start_time": "2024-09-24T19:47:44.494Z"
   },
   {
    "duration": 210,
    "start_time": "2024-09-24T19:47:44.762Z"
   },
   {
    "duration": 11,
    "start_time": "2024-09-24T19:47:44.974Z"
   },
   {
    "duration": 232,
    "start_time": "2024-09-24T19:47:44.986Z"
   },
   {
    "duration": 289,
    "start_time": "2024-09-24T19:47:45.220Z"
   },
   {
    "duration": 11,
    "start_time": "2024-09-24T19:47:45.511Z"
   },
   {
    "duration": 166,
    "start_time": "2024-09-24T19:47:45.524Z"
   },
   {
    "duration": 196,
    "start_time": "2024-09-24T19:47:45.692Z"
   },
   {
    "duration": 12,
    "start_time": "2024-09-24T19:47:45.890Z"
   },
   {
    "duration": 227,
    "start_time": "2024-09-24T19:47:45.903Z"
   },
   {
    "duration": 238,
    "start_time": "2024-09-24T19:47:46.131Z"
   },
   {
    "duration": 12,
    "start_time": "2024-09-24T19:47:46.370Z"
   },
   {
    "duration": 244,
    "start_time": "2024-09-24T19:47:46.383Z"
   },
   {
    "duration": 199,
    "start_time": "2024-09-24T19:47:46.629Z"
   },
   {
    "duration": 11,
    "start_time": "2024-09-24T19:47:46.829Z"
   },
   {
    "duration": 238,
    "start_time": "2024-09-24T19:47:46.841Z"
   },
   {
    "duration": 210,
    "start_time": "2024-09-24T19:47:47.081Z"
   },
   {
    "duration": 14,
    "start_time": "2024-09-24T19:47:47.293Z"
   },
   {
    "duration": 234,
    "start_time": "2024-09-24T19:47:47.309Z"
   },
   {
    "duration": 305,
    "start_time": "2024-09-24T19:47:47.544Z"
   },
   {
    "duration": 17,
    "start_time": "2024-09-24T19:47:47.851Z"
   },
   {
    "duration": 2,
    "start_time": "2024-09-24T19:47:47.870Z"
   },
   {
    "duration": 13,
    "start_time": "2024-09-24T19:47:47.874Z"
   },
   {
    "duration": 13,
    "start_time": "2024-09-24T19:47:47.888Z"
   },
   {
    "duration": 74,
    "start_time": "2024-09-24T19:47:47.903Z"
   },
   {
    "duration": 10,
    "start_time": "2024-09-24T19:47:48.054Z"
   },
   {
    "duration": 13,
    "start_time": "2024-09-24T19:47:48.066Z"
   },
   {
    "duration": 74,
    "start_time": "2024-09-24T19:47:48.081Z"
   },
   {
    "duration": 12,
    "start_time": "2024-09-24T19:47:48.157Z"
   },
   {
    "duration": 99,
    "start_time": "2024-09-24T19:47:48.173Z"
   },
   {
    "duration": 81,
    "start_time": "2024-09-24T19:47:48.273Z"
   },
   {
    "duration": 6,
    "start_time": "2024-09-24T19:47:48.358Z"
   },
   {
    "duration": 94,
    "start_time": "2024-09-24T19:47:48.367Z"
   },
   {
    "duration": 5,
    "start_time": "2024-09-24T19:47:48.464Z"
   },
   {
    "duration": 5,
    "start_time": "2024-09-24T19:47:48.471Z"
   },
   {
    "duration": 5,
    "start_time": "2024-09-24T19:47:48.478Z"
   },
   {
    "duration": 7,
    "start_time": "2024-09-24T19:47:48.484Z"
   },
   {
    "duration": 5,
    "start_time": "2024-09-24T19:47:48.493Z"
   },
   {
    "duration": 14,
    "start_time": "2024-09-24T19:47:48.500Z"
   },
   {
    "duration": 3,
    "start_time": "2024-09-24T19:47:48.516Z"
   },
   {
    "duration": 4,
    "start_time": "2024-09-24T19:47:48.521Z"
   },
   {
    "duration": 5,
    "start_time": "2024-09-24T19:47:48.526Z"
   },
   {
    "duration": 20,
    "start_time": "2024-09-24T19:47:48.533Z"
   },
   {
    "duration": 4,
    "start_time": "2024-09-24T19:47:48.555Z"
   },
   {
    "duration": 5,
    "start_time": "2024-09-24T19:47:48.562Z"
   },
   {
    "duration": 4,
    "start_time": "2024-09-24T19:47:48.569Z"
   },
   {
    "duration": 4,
    "start_time": "2024-09-24T19:47:48.574Z"
   },
   {
    "duration": 5,
    "start_time": "2024-09-24T19:47:48.579Z"
   },
   {
    "duration": 15,
    "start_time": "2024-09-24T19:47:48.585Z"
   },
   {
    "duration": 4,
    "start_time": "2024-09-24T19:47:48.602Z"
   },
   {
    "duration": 9,
    "start_time": "2024-09-24T19:47:48.607Z"
   },
   {
    "duration": 55,
    "start_time": "2024-09-24T19:47:48.617Z"
   },
   {
    "duration": 76,
    "start_time": "2024-09-24T19:47:48.674Z"
   },
   {
    "duration": 127,
    "start_time": "2024-09-24T19:47:48.751Z"
   },
   {
    "duration": 0,
    "start_time": "2024-09-24T19:47:48.880Z"
   },
   {
    "duration": 0,
    "start_time": "2024-09-24T19:47:48.881Z"
   },
   {
    "duration": 0,
    "start_time": "2024-09-24T19:47:48.882Z"
   },
   {
    "duration": 0,
    "start_time": "2024-09-24T19:47:48.884Z"
   },
   {
    "duration": 0,
    "start_time": "2024-09-24T19:47:48.885Z"
   },
   {
    "duration": 0,
    "start_time": "2024-09-24T19:47:48.895Z"
   },
   {
    "duration": 0,
    "start_time": "2024-09-24T19:47:48.896Z"
   },
   {
    "duration": 0,
    "start_time": "2024-09-24T19:47:48.898Z"
   },
   {
    "duration": 0,
    "start_time": "2024-09-24T19:47:48.900Z"
   },
   {
    "duration": 0,
    "start_time": "2024-09-24T19:47:48.901Z"
   },
   {
    "duration": 0,
    "start_time": "2024-09-24T19:47:48.903Z"
   },
   {
    "duration": 0,
    "start_time": "2024-09-24T19:47:48.904Z"
   },
   {
    "duration": 0,
    "start_time": "2024-09-24T19:47:48.905Z"
   },
   {
    "duration": 0,
    "start_time": "2024-09-24T19:47:48.907Z"
   },
   {
    "duration": 0,
    "start_time": "2024-09-24T19:47:48.908Z"
   },
   {
    "duration": 0,
    "start_time": "2024-09-24T19:47:48.909Z"
   },
   {
    "duration": 0,
    "start_time": "2024-09-24T19:47:48.910Z"
   },
   {
    "duration": 0,
    "start_time": "2024-09-24T19:47:48.911Z"
   },
   {
    "duration": 0,
    "start_time": "2024-09-24T19:47:48.912Z"
   },
   {
    "duration": 0,
    "start_time": "2024-09-24T19:47:48.913Z"
   },
   {
    "duration": 0,
    "start_time": "2024-09-24T19:47:48.914Z"
   },
   {
    "duration": 0,
    "start_time": "2024-09-24T19:47:48.915Z"
   },
   {
    "duration": 0,
    "start_time": "2024-09-24T19:47:48.917Z"
   },
   {
    "duration": 0,
    "start_time": "2024-09-24T19:47:48.917Z"
   },
   {
    "duration": 0,
    "start_time": "2024-09-24T19:47:48.953Z"
   },
   {
    "duration": 6,
    "start_time": "2024-09-24T19:48:49.973Z"
   },
   {
    "duration": 13,
    "start_time": "2024-09-24T19:48:56.784Z"
   },
   {
    "duration": 13,
    "start_time": "2024-09-24T19:49:15.497Z"
   },
   {
    "duration": 8093,
    "start_time": "2024-09-24T19:49:35.240Z"
   },
   {
    "duration": 1257,
    "start_time": "2024-09-24T19:49:43.336Z"
   },
   {
    "duration": 388,
    "start_time": "2024-09-24T19:49:44.595Z"
   },
   {
    "duration": 13,
    "start_time": "2024-09-24T19:49:44.985Z"
   },
   {
    "duration": 30,
    "start_time": "2024-09-24T19:49:44.999Z"
   },
   {
    "duration": 51,
    "start_time": "2024-09-24T19:49:45.031Z"
   },
   {
    "duration": 38,
    "start_time": "2024-09-24T19:49:45.084Z"
   },
   {
    "duration": 12,
    "start_time": "2024-09-24T19:49:45.124Z"
   },
   {
    "duration": 20,
    "start_time": "2024-09-24T19:49:45.138Z"
   },
   {
    "duration": 42,
    "start_time": "2024-09-24T19:49:45.161Z"
   },
   {
    "duration": 49,
    "start_time": "2024-09-24T19:49:45.205Z"
   },
   {
    "duration": 44,
    "start_time": "2024-09-24T19:49:45.255Z"
   },
   {
    "duration": 216,
    "start_time": "2024-09-24T19:49:45.300Z"
   },
   {
    "duration": 179,
    "start_time": "2024-09-24T19:49:45.517Z"
   },
   {
    "duration": 11,
    "start_time": "2024-09-24T19:49:45.697Z"
   },
   {
    "duration": 191,
    "start_time": "2024-09-24T19:49:45.709Z"
   },
   {
    "duration": 174,
    "start_time": "2024-09-24T19:49:45.901Z"
   },
   {
    "duration": 11,
    "start_time": "2024-09-24T19:49:46.076Z"
   },
   {
    "duration": 211,
    "start_time": "2024-09-24T19:49:46.088Z"
   },
   {
    "duration": 270,
    "start_time": "2024-09-24T19:49:46.301Z"
   },
   {
    "duration": 12,
    "start_time": "2024-09-24T19:49:46.572Z"
   },
   {
    "duration": 205,
    "start_time": "2024-09-24T19:49:46.586Z"
   },
   {
    "duration": 189,
    "start_time": "2024-09-24T19:49:46.792Z"
   },
   {
    "duration": 11,
    "start_time": "2024-09-24T19:49:46.982Z"
   },
   {
    "duration": 209,
    "start_time": "2024-09-24T19:49:46.995Z"
   },
   {
    "duration": 185,
    "start_time": "2024-09-24T19:49:47.206Z"
   },
   {
    "duration": 11,
    "start_time": "2024-09-24T19:49:47.393Z"
   },
   {
    "duration": 199,
    "start_time": "2024-09-24T19:49:47.408Z"
   },
   {
    "duration": 169,
    "start_time": "2024-09-24T19:49:47.609Z"
   },
   {
    "duration": 11,
    "start_time": "2024-09-24T19:49:47.779Z"
   },
   {
    "duration": 228,
    "start_time": "2024-09-24T19:49:47.791Z"
   },
   {
    "duration": 264,
    "start_time": "2024-09-24T19:49:48.021Z"
   },
   {
    "duration": 12,
    "start_time": "2024-09-24T19:49:48.287Z"
   },
   {
    "duration": 162,
    "start_time": "2024-09-24T19:49:48.300Z"
   },
   {
    "duration": 179,
    "start_time": "2024-09-24T19:49:48.463Z"
   },
   {
    "duration": 19,
    "start_time": "2024-09-24T19:49:48.643Z"
   },
   {
    "duration": 219,
    "start_time": "2024-09-24T19:49:48.664Z"
   },
   {
    "duration": 187,
    "start_time": "2024-09-24T19:49:48.885Z"
   },
   {
    "duration": 11,
    "start_time": "2024-09-24T19:49:49.074Z"
   },
   {
    "duration": 225,
    "start_time": "2024-09-24T19:49:49.087Z"
   },
   {
    "duration": 184,
    "start_time": "2024-09-24T19:49:49.314Z"
   },
   {
    "duration": 12,
    "start_time": "2024-09-24T19:49:49.500Z"
   },
   {
    "duration": 225,
    "start_time": "2024-09-24T19:49:49.513Z"
   },
   {
    "duration": 187,
    "start_time": "2024-09-24T19:49:49.739Z"
   },
   {
    "duration": 12,
    "start_time": "2024-09-24T19:49:49.928Z"
   },
   {
    "duration": 214,
    "start_time": "2024-09-24T19:49:49.952Z"
   },
   {
    "duration": 297,
    "start_time": "2024-09-24T19:49:50.168Z"
   },
   {
    "duration": 12,
    "start_time": "2024-09-24T19:49:50.466Z"
   },
   {
    "duration": 3,
    "start_time": "2024-09-24T19:49:50.480Z"
   },
   {
    "duration": 8,
    "start_time": "2024-09-24T19:49:50.484Z"
   },
   {
    "duration": 13,
    "start_time": "2024-09-24T19:49:50.494Z"
   },
   {
    "duration": 144,
    "start_time": "2024-09-24T19:49:50.509Z"
   },
   {
    "duration": 96,
    "start_time": "2024-09-24T19:49:50.658Z"
   },
   {
    "duration": 20,
    "start_time": "2024-09-24T19:49:50.755Z"
   },
   {
    "duration": 29,
    "start_time": "2024-09-24T19:49:50.776Z"
   },
   {
    "duration": 95,
    "start_time": "2024-09-24T19:49:50.858Z"
   },
   {
    "duration": 14,
    "start_time": "2024-09-24T19:49:50.955Z"
   },
   {
    "duration": 42,
    "start_time": "2024-09-24T19:49:50.971Z"
   },
   {
    "duration": 4,
    "start_time": "2024-09-24T19:49:51.054Z"
   },
   {
    "duration": 105,
    "start_time": "2024-09-24T19:49:51.060Z"
   },
   {
    "duration": 6,
    "start_time": "2024-09-24T19:49:51.167Z"
   },
   {
    "duration": 4,
    "start_time": "2024-09-24T19:49:51.175Z"
   },
   {
    "duration": 3,
    "start_time": "2024-09-24T19:49:51.181Z"
   },
   {
    "duration": 5,
    "start_time": "2024-09-24T19:49:51.186Z"
   },
   {
    "duration": 4,
    "start_time": "2024-09-24T19:49:51.192Z"
   },
   {
    "duration": 3,
    "start_time": "2024-09-24T19:49:51.197Z"
   },
   {
    "duration": 14,
    "start_time": "2024-09-24T19:49:51.202Z"
   },
   {
    "duration": 15,
    "start_time": "2024-09-24T19:49:51.217Z"
   },
   {
    "duration": 9,
    "start_time": "2024-09-24T19:49:51.234Z"
   },
   {
    "duration": 8,
    "start_time": "2024-09-24T19:49:51.245Z"
   },
   {
    "duration": 8,
    "start_time": "2024-09-24T19:49:51.254Z"
   },
   {
    "duration": 7,
    "start_time": "2024-09-24T19:49:51.264Z"
   },
   {
    "duration": 5,
    "start_time": "2024-09-24T19:49:51.272Z"
   },
   {
    "duration": 9,
    "start_time": "2024-09-24T19:49:51.280Z"
   },
   {
    "duration": 5,
    "start_time": "2024-09-24T19:49:51.291Z"
   },
   {
    "duration": 13,
    "start_time": "2024-09-24T19:49:51.298Z"
   },
   {
    "duration": 4,
    "start_time": "2024-09-24T19:49:51.313Z"
   },
   {
    "duration": 28,
    "start_time": "2024-09-24T19:49:51.319Z"
   },
   {
    "duration": 15,
    "start_time": "2024-09-24T19:49:51.348Z"
   },
   {
    "duration": 4,
    "start_time": "2024-09-24T19:49:51.364Z"
   },
   {
    "duration": 5,
    "start_time": "2024-09-24T19:49:51.370Z"
   },
   {
    "duration": 944,
    "start_time": "2024-09-24T19:49:51.381Z"
   },
   {
    "duration": 2,
    "start_time": "2024-09-24T19:49:52.327Z"
   },
   {
    "duration": 1138,
    "start_time": "2024-09-24T19:49:52.331Z"
   },
   {
    "duration": 124,
    "start_time": "2024-09-24T19:49:53.471Z"
   },
   {
    "duration": 0,
    "start_time": "2024-09-24T19:49:53.597Z"
   },
   {
    "duration": 0,
    "start_time": "2024-09-24T19:49:53.599Z"
   },
   {
    "duration": 0,
    "start_time": "2024-09-24T19:49:53.601Z"
   },
   {
    "duration": 0,
    "start_time": "2024-09-24T19:49:53.602Z"
   },
   {
    "duration": 1,
    "start_time": "2024-09-24T19:49:53.603Z"
   },
   {
    "duration": 0,
    "start_time": "2024-09-24T19:49:53.605Z"
   },
   {
    "duration": 0,
    "start_time": "2024-09-24T19:49:53.606Z"
   },
   {
    "duration": 0,
    "start_time": "2024-09-24T19:49:53.608Z"
   },
   {
    "duration": 1,
    "start_time": "2024-09-24T19:49:53.609Z"
   },
   {
    "duration": 0,
    "start_time": "2024-09-24T19:49:53.611Z"
   },
   {
    "duration": 0,
    "start_time": "2024-09-24T19:49:53.613Z"
   },
   {
    "duration": 0,
    "start_time": "2024-09-24T19:49:53.614Z"
   },
   {
    "duration": 0,
    "start_time": "2024-09-24T19:49:53.616Z"
   },
   {
    "duration": 0,
    "start_time": "2024-09-24T19:49:53.617Z"
   },
   {
    "duration": 0,
    "start_time": "2024-09-24T19:49:53.619Z"
   },
   {
    "duration": 0,
    "start_time": "2024-09-24T19:49:53.653Z"
   },
   {
    "duration": 0,
    "start_time": "2024-09-24T19:49:53.655Z"
   },
   {
    "duration": 8,
    "start_time": "2024-09-24T19:50:48.548Z"
   },
   {
    "duration": 1128,
    "start_time": "2024-09-24T19:52:23.732Z"
   },
   {
    "duration": 1140,
    "start_time": "2024-09-24T19:52:45.374Z"
   },
   {
    "duration": 932,
    "start_time": "2024-09-24T19:53:16.950Z"
   },
   {
    "duration": 10,
    "start_time": "2024-09-24T19:54:15.529Z"
   },
   {
    "duration": 908,
    "start_time": "2024-09-24T19:54:41.384Z"
   },
   {
    "duration": 938,
    "start_time": "2024-09-24T19:54:43.552Z"
   },
   {
    "duration": 945,
    "start_time": "2024-09-24T19:54:47.880Z"
   },
   {
    "duration": 1232,
    "start_time": "2024-09-24T19:55:46.649Z"
   },
   {
    "duration": 8007,
    "start_time": "2024-09-24T20:00:21.492Z"
   },
   {
    "duration": 1219,
    "start_time": "2024-09-24T20:00:29.501Z"
   },
   {
    "duration": 409,
    "start_time": "2024-09-24T20:00:30.721Z"
   },
   {
    "duration": 14,
    "start_time": "2024-09-24T20:00:31.132Z"
   },
   {
    "duration": 14,
    "start_time": "2024-09-24T20:00:31.152Z"
   },
   {
    "duration": 9,
    "start_time": "2024-09-24T20:00:31.167Z"
   },
   {
    "duration": 18,
    "start_time": "2024-09-24T20:00:31.178Z"
   },
   {
    "duration": 9,
    "start_time": "2024-09-24T20:00:31.197Z"
   },
   {
    "duration": 14,
    "start_time": "2024-09-24T20:00:31.207Z"
   },
   {
    "duration": 70,
    "start_time": "2024-09-24T20:00:31.224Z"
   },
   {
    "duration": 39,
    "start_time": "2024-09-24T20:00:31.295Z"
   },
   {
    "duration": 60,
    "start_time": "2024-09-24T20:00:31.336Z"
   },
   {
    "duration": 220,
    "start_time": "2024-09-24T20:00:31.398Z"
   },
   {
    "duration": 177,
    "start_time": "2024-09-24T20:00:31.620Z"
   },
   {
    "duration": 11,
    "start_time": "2024-09-24T20:00:31.799Z"
   },
   {
    "duration": 196,
    "start_time": "2024-09-24T20:00:31.812Z"
   },
   {
    "duration": 176,
    "start_time": "2024-09-24T20:00:32.009Z"
   },
   {
    "duration": 10,
    "start_time": "2024-09-24T20:00:32.186Z"
   },
   {
    "duration": 256,
    "start_time": "2024-09-24T20:00:32.198Z"
   },
   {
    "duration": 264,
    "start_time": "2024-09-24T20:00:32.456Z"
   },
   {
    "duration": 11,
    "start_time": "2024-09-24T20:00:32.722Z"
   },
   {
    "duration": 323,
    "start_time": "2024-09-24T20:00:32.735Z"
   },
   {
    "duration": 197,
    "start_time": "2024-09-24T20:00:33.060Z"
   },
   {
    "duration": 12,
    "start_time": "2024-09-24T20:00:33.259Z"
   },
   {
    "duration": 210,
    "start_time": "2024-09-24T20:00:33.272Z"
   },
   {
    "duration": 172,
    "start_time": "2024-09-24T20:00:33.484Z"
   },
   {
    "duration": 11,
    "start_time": "2024-09-24T20:00:33.657Z"
   },
   {
    "duration": 210,
    "start_time": "2024-09-24T20:00:33.672Z"
   },
   {
    "duration": 172,
    "start_time": "2024-09-24T20:00:33.884Z"
   },
   {
    "duration": 12,
    "start_time": "2024-09-24T20:00:34.058Z"
   },
   {
    "duration": 274,
    "start_time": "2024-09-24T20:00:34.072Z"
   },
   {
    "duration": 274,
    "start_time": "2024-09-24T20:00:34.348Z"
   },
   {
    "duration": 12,
    "start_time": "2024-09-24T20:00:34.624Z"
   },
   {
    "duration": 152,
    "start_time": "2024-09-24T20:00:34.638Z"
   },
   {
    "duration": 184,
    "start_time": "2024-09-24T20:00:34.792Z"
   },
   {
    "duration": 11,
    "start_time": "2024-09-24T20:00:34.978Z"
   },
   {
    "duration": 216,
    "start_time": "2024-09-24T20:00:34.991Z"
   },
   {
    "duration": 200,
    "start_time": "2024-09-24T20:00:35.209Z"
   },
   {
    "duration": 15,
    "start_time": "2024-09-24T20:00:35.410Z"
   },
   {
    "duration": 237,
    "start_time": "2024-09-24T20:00:35.427Z"
   },
   {
    "duration": 188,
    "start_time": "2024-09-24T20:00:35.665Z"
   },
   {
    "duration": 13,
    "start_time": "2024-09-24T20:00:35.855Z"
   },
   {
    "duration": 229,
    "start_time": "2024-09-24T20:00:35.870Z"
   },
   {
    "duration": 180,
    "start_time": "2024-09-24T20:00:36.100Z"
   },
   {
    "duration": 11,
    "start_time": "2024-09-24T20:00:36.282Z"
   },
   {
    "duration": 226,
    "start_time": "2024-09-24T20:00:36.295Z"
   },
   {
    "duration": 271,
    "start_time": "2024-09-24T20:00:36.523Z"
   },
   {
    "duration": 10,
    "start_time": "2024-09-24T20:00:36.796Z"
   },
   {
    "duration": 2,
    "start_time": "2024-09-24T20:00:36.808Z"
   },
   {
    "duration": 5,
    "start_time": "2024-09-24T20:00:36.812Z"
   },
   {
    "duration": 29,
    "start_time": "2024-09-24T20:00:36.818Z"
   },
   {
    "duration": 104,
    "start_time": "2024-09-24T20:00:36.849Z"
   },
   {
    "duration": 97,
    "start_time": "2024-09-24T20:00:36.956Z"
   },
   {
    "duration": 13,
    "start_time": "2024-09-24T20:00:37.055Z"
   },
   {
    "duration": 28,
    "start_time": "2024-09-24T20:00:37.069Z"
   },
   {
    "duration": 56,
    "start_time": "2024-09-24T20:00:37.100Z"
   },
   {
    "duration": 104,
    "start_time": "2024-09-24T20:00:37.159Z"
   },
   {
    "duration": 30,
    "start_time": "2024-09-24T20:00:37.265Z"
   },
   {
    "duration": 3,
    "start_time": "2024-09-24T20:00:37.357Z"
   },
   {
    "duration": 92,
    "start_time": "2024-09-24T20:00:37.362Z"
   },
   {
    "duration": 8,
    "start_time": "2024-09-24T20:00:37.456Z"
   },
   {
    "duration": 16,
    "start_time": "2024-09-24T20:00:37.465Z"
   },
   {
    "duration": 9,
    "start_time": "2024-09-24T20:00:37.483Z"
   },
   {
    "duration": 11,
    "start_time": "2024-09-24T20:00:37.494Z"
   },
   {
    "duration": 4,
    "start_time": "2024-09-24T20:00:37.506Z"
   },
   {
    "duration": 3,
    "start_time": "2024-09-24T20:00:37.511Z"
   },
   {
    "duration": 4,
    "start_time": "2024-09-24T20:00:37.515Z"
   },
   {
    "duration": 4,
    "start_time": "2024-09-24T20:00:37.521Z"
   },
   {
    "duration": 6,
    "start_time": "2024-09-24T20:00:37.527Z"
   },
   {
    "duration": 18,
    "start_time": "2024-09-24T20:00:37.535Z"
   },
   {
    "duration": 4,
    "start_time": "2024-09-24T20:00:37.555Z"
   },
   {
    "duration": 7,
    "start_time": "2024-09-24T20:00:37.560Z"
   },
   {
    "duration": 5,
    "start_time": "2024-09-24T20:00:37.568Z"
   },
   {
    "duration": 3,
    "start_time": "2024-09-24T20:00:37.574Z"
   },
   {
    "duration": 13,
    "start_time": "2024-09-24T20:00:37.578Z"
   },
   {
    "duration": 3,
    "start_time": "2024-09-24T20:00:37.592Z"
   },
   {
    "duration": 3,
    "start_time": "2024-09-24T20:00:37.596Z"
   },
   {
    "duration": 3,
    "start_time": "2024-09-24T20:00:37.600Z"
   },
   {
    "duration": 6,
    "start_time": "2024-09-24T20:00:37.604Z"
   },
   {
    "duration": 43,
    "start_time": "2024-09-24T20:00:37.611Z"
   },
   {
    "duration": 3,
    "start_time": "2024-09-24T20:00:37.656Z"
   },
   {
    "duration": 2,
    "start_time": "2024-09-24T20:00:37.665Z"
   },
   {
    "duration": 4,
    "start_time": "2024-09-24T20:00:37.669Z"
   },
   {
    "duration": 979,
    "start_time": "2024-09-24T20:00:37.675Z"
   },
   {
    "duration": 1131,
    "start_time": "2024-09-24T20:00:38.656Z"
   },
   {
    "duration": 954,
    "start_time": "2024-09-24T20:00:39.789Z"
   },
   {
    "duration": 931,
    "start_time": "2024-09-24T20:00:40.745Z"
   },
   {
    "duration": 890,
    "start_time": "2024-09-24T20:00:41.678Z"
   },
   {
    "duration": 951,
    "start_time": "2024-09-24T20:00:42.569Z"
   },
   {
    "duration": 1303,
    "start_time": "2024-09-24T20:00:43.522Z"
   },
   {
    "duration": 0,
    "start_time": "2024-09-24T20:00:44.826Z"
   },
   {
    "duration": 0,
    "start_time": "2024-09-24T20:00:44.828Z"
   },
   {
    "duration": 0,
    "start_time": "2024-09-24T20:00:44.829Z"
   },
   {
    "duration": 0,
    "start_time": "2024-09-24T20:00:44.829Z"
   },
   {
    "duration": 0,
    "start_time": "2024-09-24T20:00:44.830Z"
   },
   {
    "duration": 0,
    "start_time": "2024-09-24T20:00:44.831Z"
   },
   {
    "duration": 0,
    "start_time": "2024-09-24T20:00:44.832Z"
   },
   {
    "duration": 0,
    "start_time": "2024-09-24T20:00:44.833Z"
   },
   {
    "duration": 0,
    "start_time": "2024-09-24T20:00:44.835Z"
   },
   {
    "duration": 0,
    "start_time": "2024-09-24T20:00:44.835Z"
   },
   {
    "duration": 0,
    "start_time": "2024-09-24T20:00:44.837Z"
   },
   {
    "duration": 1,
    "start_time": "2024-09-24T20:00:44.837Z"
   },
   {
    "duration": 4,
    "start_time": "2024-09-24T20:01:44.041Z"
   },
   {
    "duration": 4,
    "start_time": "2024-09-24T20:02:10.378Z"
   },
   {
    "duration": 4,
    "start_time": "2024-09-24T20:02:11.826Z"
   },
   {
    "duration": 4,
    "start_time": "2024-09-24T20:02:28.681Z"
   },
   {
    "duration": 967,
    "start_time": "2024-09-24T20:02:30.579Z"
   },
   {
    "duration": 1121,
    "start_time": "2024-09-24T20:02:40.228Z"
   },
   {
    "duration": 965,
    "start_time": "2024-09-24T20:02:47.275Z"
   },
   {
    "duration": 953,
    "start_time": "2024-09-24T20:02:49.987Z"
   },
   {
    "duration": 913,
    "start_time": "2024-09-24T20:02:50.942Z"
   },
   {
    "duration": 948,
    "start_time": "2024-09-24T20:02:52.181Z"
   },
   {
    "duration": 931,
    "start_time": "2024-09-24T20:03:04.307Z"
   },
   {
    "duration": 1109,
    "start_time": "2024-09-24T20:03:23.180Z"
   },
   {
    "duration": 909,
    "start_time": "2024-09-24T20:03:39.158Z"
   },
   {
    "duration": 948,
    "start_time": "2024-09-24T20:05:29.902Z"
   },
   {
    "duration": 918,
    "start_time": "2024-09-24T20:05:31.697Z"
   },
   {
    "duration": 962,
    "start_time": "2024-09-24T20:05:33.863Z"
   },
   {
    "duration": 912,
    "start_time": "2024-09-24T20:05:40.134Z"
   },
   {
    "duration": 1080,
    "start_time": "2024-09-24T20:05:43.064Z"
   },
   {
    "duration": 893,
    "start_time": "2024-09-24T20:05:50.175Z"
   },
   {
    "duration": 925,
    "start_time": "2024-09-24T20:05:51.966Z"
   },
   {
    "duration": 930,
    "start_time": "2024-09-24T20:05:54.224Z"
   },
   {
    "duration": 905,
    "start_time": "2024-09-24T20:05:59.120Z"
   },
   {
    "duration": 1851,
    "start_time": "2024-09-24T20:14:27.783Z"
   },
   {
    "duration": 2033,
    "start_time": "2024-09-24T20:14:51.285Z"
   },
   {
    "duration": 2054,
    "start_time": "2024-09-24T20:16:02.134Z"
   },
   {
    "duration": 965,
    "start_time": "2024-09-24T20:16:05.726Z"
   },
   {
    "duration": 972,
    "start_time": "2024-09-24T20:16:13.150Z"
   },
   {
    "duration": 14904,
    "start_time": "2024-09-25T18:58:49.219Z"
   },
   {
    "duration": 1618,
    "start_time": "2024-09-25T18:59:04.125Z"
   },
   {
    "duration": 947,
    "start_time": "2024-09-25T18:59:05.745Z"
   },
   {
    "duration": 15,
    "start_time": "2024-09-25T18:59:06.694Z"
   },
   {
    "duration": 26,
    "start_time": "2024-09-25T18:59:06.711Z"
   },
   {
    "duration": 11,
    "start_time": "2024-09-25T18:59:06.739Z"
   },
   {
    "duration": 42,
    "start_time": "2024-09-25T18:59:06.751Z"
   },
   {
    "duration": 10,
    "start_time": "2024-09-25T18:59:06.795Z"
   },
   {
    "duration": 16,
    "start_time": "2024-09-25T18:59:06.806Z"
   },
   {
    "duration": 50,
    "start_time": "2024-09-25T18:59:06.824Z"
   },
   {
    "duration": 57,
    "start_time": "2024-09-25T18:59:06.876Z"
   },
   {
    "duration": 47,
    "start_time": "2024-09-25T18:59:06.935Z"
   },
   {
    "duration": 238,
    "start_time": "2024-09-25T18:59:06.984Z"
   },
   {
    "duration": 183,
    "start_time": "2024-09-25T18:59:07.224Z"
   },
   {
    "duration": 18,
    "start_time": "2024-09-25T18:59:07.409Z"
   },
   {
    "duration": 210,
    "start_time": "2024-09-25T18:59:07.429Z"
   },
   {
    "duration": 211,
    "start_time": "2024-09-25T18:59:07.641Z"
   },
   {
    "duration": 14,
    "start_time": "2024-09-25T18:59:07.855Z"
   },
   {
    "duration": 241,
    "start_time": "2024-09-25T18:59:07.871Z"
   },
   {
    "duration": 279,
    "start_time": "2024-09-25T18:59:08.114Z"
   },
   {
    "duration": 12,
    "start_time": "2024-09-25T18:59:08.395Z"
   },
   {
    "duration": 233,
    "start_time": "2024-09-25T18:59:08.408Z"
   },
   {
    "duration": 202,
    "start_time": "2024-09-25T18:59:08.642Z"
   },
   {
    "duration": 14,
    "start_time": "2024-09-25T18:59:08.846Z"
   },
   {
    "duration": 223,
    "start_time": "2024-09-25T18:59:08.861Z"
   },
   {
    "duration": 217,
    "start_time": "2024-09-25T18:59:09.086Z"
   },
   {
    "duration": 19,
    "start_time": "2024-09-25T18:59:09.304Z"
   },
   {
    "duration": 224,
    "start_time": "2024-09-25T18:59:09.327Z"
   },
   {
    "duration": 189,
    "start_time": "2024-09-25T18:59:09.553Z"
   },
   {
    "duration": 12,
    "start_time": "2024-09-25T18:59:09.744Z"
   },
   {
    "duration": 255,
    "start_time": "2024-09-25T18:59:09.758Z"
   },
   {
    "duration": 278,
    "start_time": "2024-09-25T18:59:10.021Z"
   },
   {
    "duration": 21,
    "start_time": "2024-09-25T18:59:10.301Z"
   },
   {
    "duration": 171,
    "start_time": "2024-09-25T18:59:10.323Z"
   },
   {
    "duration": 214,
    "start_time": "2024-09-25T18:59:10.495Z"
   },
   {
    "duration": 14,
    "start_time": "2024-09-25T18:59:10.711Z"
   },
   {
    "duration": 231,
    "start_time": "2024-09-25T18:59:10.727Z"
   },
   {
    "duration": 201,
    "start_time": "2024-09-25T18:59:10.960Z"
   },
   {
    "duration": 13,
    "start_time": "2024-09-25T18:59:11.163Z"
   },
   {
    "duration": 246,
    "start_time": "2024-09-25T18:59:11.178Z"
   },
   {
    "duration": 213,
    "start_time": "2024-09-25T18:59:11.426Z"
   },
   {
    "duration": 12,
    "start_time": "2024-09-25T18:59:11.640Z"
   },
   {
    "duration": 261,
    "start_time": "2024-09-25T18:59:11.654Z"
   },
   {
    "duration": 225,
    "start_time": "2024-09-25T18:59:11.920Z"
   },
   {
    "duration": 12,
    "start_time": "2024-09-25T18:59:12.147Z"
   },
   {
    "duration": 241,
    "start_time": "2024-09-25T18:59:12.162Z"
   },
   {
    "duration": 300,
    "start_time": "2024-09-25T18:59:12.405Z"
   },
   {
    "duration": 22,
    "start_time": "2024-09-25T18:59:12.708Z"
   },
   {
    "duration": 12,
    "start_time": "2024-09-25T18:59:12.732Z"
   },
   {
    "duration": 14,
    "start_time": "2024-09-25T18:59:12.746Z"
   },
   {
    "duration": 21,
    "start_time": "2024-09-25T18:59:12.762Z"
   },
   {
    "duration": 138,
    "start_time": "2024-09-25T18:59:12.784Z"
   },
   {
    "duration": 96,
    "start_time": "2024-09-25T18:59:12.925Z"
   },
   {
    "duration": 43,
    "start_time": "2024-09-25T18:59:13.024Z"
   },
   {
    "duration": 52,
    "start_time": "2024-09-25T18:59:13.069Z"
   },
   {
    "duration": 7,
    "start_time": "2024-09-25T18:59:13.124Z"
   },
   {
    "duration": 193,
    "start_time": "2024-09-25T18:59:13.134Z"
   },
   {
    "duration": 31,
    "start_time": "2024-09-25T18:59:13.329Z"
   },
   {
    "duration": 3,
    "start_time": "2024-09-25T18:59:13.422Z"
   },
   {
    "duration": 5,
    "start_time": "2024-09-25T18:59:13.427Z"
   },
   {
    "duration": 91,
    "start_time": "2024-09-25T18:59:13.434Z"
   },
   {
    "duration": 3,
    "start_time": "2024-09-25T18:59:13.527Z"
   },
   {
    "duration": 4,
    "start_time": "2024-09-25T18:59:13.532Z"
   },
   {
    "duration": 6,
    "start_time": "2024-09-25T18:59:13.537Z"
   },
   {
    "duration": 3,
    "start_time": "2024-09-25T18:59:13.544Z"
   },
   {
    "duration": 3,
    "start_time": "2024-09-25T18:59:13.548Z"
   },
   {
    "duration": 6,
    "start_time": "2024-09-25T18:59:13.553Z"
   },
   {
    "duration": 6,
    "start_time": "2024-09-25T18:59:13.560Z"
   },
   {
    "duration": 52,
    "start_time": "2024-09-25T18:59:13.568Z"
   },
   {
    "duration": 49,
    "start_time": "2024-09-25T18:59:13.622Z"
   },
   {
    "duration": 30,
    "start_time": "2024-09-25T18:59:13.672Z"
   },
   {
    "duration": 5,
    "start_time": "2024-09-25T18:59:13.704Z"
   },
   {
    "duration": 5,
    "start_time": "2024-09-25T18:59:13.711Z"
   },
   {
    "duration": 9,
    "start_time": "2024-09-25T18:59:13.717Z"
   },
   {
    "duration": 8,
    "start_time": "2024-09-25T18:59:13.727Z"
   },
   {
    "duration": 55,
    "start_time": "2024-09-25T18:59:13.737Z"
   },
   {
    "duration": 9,
    "start_time": "2024-09-25T18:59:13.793Z"
   },
   {
    "duration": 11,
    "start_time": "2024-09-25T18:59:13.804Z"
   },
   {
    "duration": 6,
    "start_time": "2024-09-25T18:59:13.817Z"
   },
   {
    "duration": 1049,
    "start_time": "2024-09-25T18:59:13.825Z"
   },
   {
    "duration": 1284,
    "start_time": "2024-09-25T18:59:14.875Z"
   },
   {
    "duration": 1044,
    "start_time": "2024-09-25T18:59:16.165Z"
   },
   {
    "duration": 978,
    "start_time": "2024-09-25T18:59:17.211Z"
   },
   {
    "duration": 988,
    "start_time": "2024-09-25T18:59:18.191Z"
   },
   {
    "duration": 990,
    "start_time": "2024-09-25T18:59:19.181Z"
   },
   {
    "duration": 2028,
    "start_time": "2024-09-25T18:59:20.172Z"
   },
   {
    "duration": 997,
    "start_time": "2024-09-25T18:59:22.202Z"
   },
   {
    "duration": 997,
    "start_time": "2024-09-25T18:59:23.201Z"
   },
   {
    "duration": 1266,
    "start_time": "2024-09-25T18:59:24.200Z"
   },
   {
    "duration": 1006,
    "start_time": "2024-09-25T18:59:25.468Z"
   },
   {
    "duration": 1062,
    "start_time": "2024-09-25T18:59:26.476Z"
   },
   {
    "duration": 999,
    "start_time": "2024-09-25T18:59:27.540Z"
   },
   {
    "duration": 978,
    "start_time": "2024-09-25T18:59:28.541Z"
   },
   {
    "duration": 1916,
    "start_time": "2024-09-25T18:59:29.521Z"
   },
   {
    "duration": 1012,
    "start_time": "2024-09-25T18:59:31.439Z"
   },
   {
    "duration": 976,
    "start_time": "2024-09-25T18:59:32.453Z"
   },
   {
    "duration": 1161,
    "start_time": "2024-09-25T18:59:33.431Z"
   },
   {
    "duration": 1035,
    "start_time": "2024-09-25T18:59:34.594Z"
   },
   {
    "duration": 1073,
    "start_time": "2024-09-25T18:59:35.631Z"
   },
   {
    "duration": 1034,
    "start_time": "2024-09-25T18:59:36.705Z"
   },
   {
    "duration": 986,
    "start_time": "2024-09-25T18:59:37.741Z"
   },
   {
    "duration": 1932,
    "start_time": "2024-09-25T18:59:38.729Z"
   },
   {
    "duration": 986,
    "start_time": "2024-09-25T18:59:40.663Z"
   },
   {
    "duration": 70,
    "start_time": "2024-09-25T19:33:13.150Z"
   }
  ],
  "kernelspec": {
   "display_name": "Python 3 (ipykernel)",
   "language": "python",
   "name": "python3"
  },
  "language_info": {
   "codemirror_mode": {
    "name": "ipython",
    "version": 3
   },
   "file_extension": ".py",
   "mimetype": "text/x-python",
   "name": "python",
   "nbconvert_exporter": "python",
   "pygments_lexer": "ipython3",
   "version": "3.11.7"
  },
  "toc": {
   "base_numbering": 1,
   "nav_menu": {},
   "number_sections": true,
   "sideBar": true,
   "skip_h1_title": true,
   "title_cell": "Table of Contents",
   "title_sidebar": "Contents",
   "toc_cell": false,
   "toc_position": {},
   "toc_section_display": true,
   "toc_window_display": false
  }
 },
 "nbformat": 4,
 "nbformat_minor": 4
}
