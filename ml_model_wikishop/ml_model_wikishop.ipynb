{
 "cells": [
  {
   "cell_type": "markdown",
   "metadata": {},
   "source": [
    "# Проект для «Викишоп»"
   ]
  },
  {
   "cell_type": "markdown",
   "metadata": {},
   "source": [
    "Интернет-магазин «Викишоп» запускает новый сервис. Теперь пользователи могут редактировать и дополнять описания товаров, как в вики-сообществах. То есть клиенты предлагают свои правки и комментируют изменения других. Магазину нужен инструмент, который будет искать токсичные комментарии и отправлять их на модерацию. \n",
    "\n",
    "Необходимо обучить модель классифицировать комментарии на позитивные и негативные. В распоряжении набор данных с разметкой о токсичности правок.\n",
    "\n",
    "Нужно построить модель со значением метрики качества *F1* не меньше 0.75. \n",
    "\n",
    "**Инструкция по выполнению проекта**\n",
    "\n",
    "1. Загрузить и подготовить данные.\n",
    "2. Обучить разные модели. \n",
    "3. Сделать выводы.\n",
    "\n",
    "**Описание данных**\n",
    "\n",
    "Данные находятся в файле `toxic_comments.csv`. Столбец *text* в нём содержит текст комментария, а *toxic* — целевой признак."
   ]
  },
  {
   "cell_type": "code",
   "execution_count": 1,
   "metadata": {},
   "outputs": [],
   "source": [
    "# загружаем необходимые библиотеки\n",
    "import pandas as pd\n",
    "import numpy as np\n",
    "import matplotlib.pyplot as plt\n",
    "from sklearn.model_selection import train_test_split\n",
    "from sklearn.linear_model import LogisticRegression\n",
    "from sklearn.metrics import f1_score\n",
    "from sklearn.feature_extraction.text import TfidfVectorizer\n",
    "from sklearn.pipeline import Pipeline\n",
    "from sklearn.tree import DecisionTreeClassifier\n",
    "from sklearn.model_selection import GridSearchCV\n",
    "\n",
    "import spacy as sp\n",
    "import re \n",
    "import nltk\n",
    "from nltk.corpus import stopwords"
   ]
  },
  {
   "cell_type": "code",
   "execution_count": 2,
   "metadata": {},
   "outputs": [
    {
     "name": "stderr",
     "output_type": "stream",
     "text": [
      "[nltk_data] Downloading package stopwords to /home/jovyan/nltk_data...\n",
      "[nltk_data]   Package stopwords is already up-to-date!\n"
     ]
    },
    {
     "data": {
      "text/plain": [
       "True"
      ]
     },
     "execution_count": 2,
     "metadata": {},
     "output_type": "execute_result"
    }
   ],
   "source": [
    "# загружаем список стоп-слов\n",
    "nltk.download('stopwords')"
   ]
  },
  {
   "cell_type": "markdown",
   "metadata": {},
   "source": [
    "## Подготовка"
   ]
  },
  {
   "cell_type": "markdown",
   "metadata": {},
   "source": [
    "### Загрузка данных"
   ]
  },
  {
   "cell_type": "code",
   "execution_count": 3,
   "metadata": {},
   "outputs": [],
   "source": [
    "# загрузка данных и сохранения их в датафрейм toxic_comments\n",
    "toxic_comments = pd.read_csv('/datasets/toxic_comments.csv', index_col=0)"
   ]
  },
  {
   "cell_type": "code",
   "execution_count": 4,
   "metadata": {},
   "outputs": [
    {
     "data": {
      "text/html": [
       "<div>\n",
       "<style scoped>\n",
       "    .dataframe tbody tr th:only-of-type {\n",
       "        vertical-align: middle;\n",
       "    }\n",
       "\n",
       "    .dataframe tbody tr th {\n",
       "        vertical-align: top;\n",
       "    }\n",
       "\n",
       "    .dataframe thead th {\n",
       "        text-align: right;\n",
       "    }\n",
       "</style>\n",
       "<table border=\"1\" class=\"dataframe\">\n",
       "  <thead>\n",
       "    <tr style=\"text-align: right;\">\n",
       "      <th></th>\n",
       "      <th>text</th>\n",
       "      <th>toxic</th>\n",
       "    </tr>\n",
       "  </thead>\n",
       "  <tbody>\n",
       "    <tr>\n",
       "      <th>0</th>\n",
       "      <td>Explanation\\nWhy the edits made under my usern...</td>\n",
       "      <td>0</td>\n",
       "    </tr>\n",
       "    <tr>\n",
       "      <th>1</th>\n",
       "      <td>D'aww! He matches this background colour I'm s...</td>\n",
       "      <td>0</td>\n",
       "    </tr>\n",
       "    <tr>\n",
       "      <th>2</th>\n",
       "      <td>Hey man, I'm really not trying to edit war. It...</td>\n",
       "      <td>0</td>\n",
       "    </tr>\n",
       "    <tr>\n",
       "      <th>3</th>\n",
       "      <td>\"\\nMore\\nI can't make any real suggestions on ...</td>\n",
       "      <td>0</td>\n",
       "    </tr>\n",
       "    <tr>\n",
       "      <th>4</th>\n",
       "      <td>You, sir, are my hero. Any chance you remember...</td>\n",
       "      <td>0</td>\n",
       "    </tr>\n",
       "    <tr>\n",
       "      <th>5</th>\n",
       "      <td>\"\\n\\nCongratulations from me as well, use the ...</td>\n",
       "      <td>0</td>\n",
       "    </tr>\n",
       "    <tr>\n",
       "      <th>6</th>\n",
       "      <td>COCKSUCKER BEFORE YOU PISS AROUND ON MY WORK</td>\n",
       "      <td>1</td>\n",
       "    </tr>\n",
       "    <tr>\n",
       "      <th>7</th>\n",
       "      <td>Your vandalism to the Matt Shirvington article...</td>\n",
       "      <td>0</td>\n",
       "    </tr>\n",
       "    <tr>\n",
       "      <th>8</th>\n",
       "      <td>Sorry if the word 'nonsense' was offensive to ...</td>\n",
       "      <td>0</td>\n",
       "    </tr>\n",
       "    <tr>\n",
       "      <th>9</th>\n",
       "      <td>alignment on this subject and which are contra...</td>\n",
       "      <td>0</td>\n",
       "    </tr>\n",
       "  </tbody>\n",
       "</table>\n",
       "</div>"
      ],
      "text/plain": [
       "                                                text  toxic\n",
       "0  Explanation\\nWhy the edits made under my usern...      0\n",
       "1  D'aww! He matches this background colour I'm s...      0\n",
       "2  Hey man, I'm really not trying to edit war. It...      0\n",
       "3  \"\\nMore\\nI can't make any real suggestions on ...      0\n",
       "4  You, sir, are my hero. Any chance you remember...      0\n",
       "5  \"\\n\\nCongratulations from me as well, use the ...      0\n",
       "6       COCKSUCKER BEFORE YOU PISS AROUND ON MY WORK      1\n",
       "7  Your vandalism to the Matt Shirvington article...      0\n",
       "8  Sorry if the word 'nonsense' was offensive to ...      0\n",
       "9  alignment on this subject and which are contra...      0"
      ]
     },
     "execution_count": 4,
     "metadata": {},
     "output_type": "execute_result"
    }
   ],
   "source": [
    "# получение первых 10 строк датафрейма toxic_comments\n",
    "toxic_comments.head(10)"
   ]
  },
  {
   "cell_type": "code",
   "execution_count": 5,
   "metadata": {},
   "outputs": [
    {
     "name": "stdout",
     "output_type": "stream",
     "text": [
      "<class 'pandas.core.frame.DataFrame'>\n",
      "Int64Index: 159292 entries, 0 to 159450\n",
      "Data columns (total 2 columns):\n",
      " #   Column  Non-Null Count   Dtype \n",
      "---  ------  --------------   ----- \n",
      " 0   text    159292 non-null  object\n",
      " 1   toxic   159292 non-null  int64 \n",
      "dtypes: int64(1), object(1)\n",
      "memory usage: 3.6+ MB\n"
     ]
    }
   ],
   "source": [
    "# вывод основной информации о датафрейме toxic_comments\n",
    "toxic_comments.info()"
   ]
  },
  {
   "cell_type": "code",
   "execution_count": 6,
   "metadata": {},
   "outputs": [
    {
     "data": {
      "text/plain": [
       "0"
      ]
     },
     "execution_count": 6,
     "metadata": {},
     "output_type": "execute_result"
    }
   ],
   "source": [
    "# определение количества дубликатов\n",
    "toxic_comments.duplicated().sum()"
   ]
  },
  {
   "cell_type": "code",
   "execution_count": 7,
   "metadata": {},
   "outputs": [
    {
     "data": {
      "text/plain": [
       "text     0\n",
       "toxic    0\n",
       "dtype: int64"
      ]
     },
     "execution_count": 7,
     "metadata": {},
     "output_type": "execute_result"
    }
   ],
   "source": [
    "# подсчет количества пропусков в датафрейме toxic_comments\n",
    "toxic_comments.isna().sum()"
   ]
  },
  {
   "cell_type": "code",
   "execution_count": 8,
   "metadata": {},
   "outputs": [
    {
     "data": {
      "image/png": "[encoded data removed]",
      "text/plain": [
       "<Figure size 432x288 with 1 Axes>"
      ]
     },
     "metadata": {
      "needs_background": "light"
     },
     "output_type": "display_data"
    }
   ],
   "source": [
    "# проверяем распределение классов в датафрейме toxic_comments\n",
    "toxic_comments['toxic'].value_counts().plot.bar()\n",
    "plt.title('Распределение комментариев')\n",
    "plt.ylabel('Количество комментариев')\n",
    "plt.xlabel('Классы комментариев');"
   ]
  },
  {
   "cell_type": "markdown",
   "metadata": {},
   "source": [
    "**Вывод:** на первом этапе данные были загружены и сохранены в датафрейм toxic_comments. Была изучена основная информация о датафрейме toxic_comments и осуществлена проверка на наличие дублей и пропусков. В результате которой, в датафрейме toxic_comments пропуски и дубликаты обнаружены не были. Также были изучены распределения комментариев. Из графика видно, что классы распределены неравномерно, токсичных комментарием намного меньше. "
   ]
  },
  {
   "cell_type": "markdown",
   "metadata": {},
   "source": [
    "### Лемматизация"
   ]
  },
  {
   "cell_type": "code",
   "execution_count": 9,
   "metadata": {},
   "outputs": [],
   "source": [
    "# загружаем англоязычные стоп-слова\n",
    "stop_words = set(stopwords.words('english'))"
   ]
  },
  {
   "cell_type": "code",
   "execution_count": 10,
   "metadata": {},
   "outputs": [],
   "source": [
    "nlp = sp.load('en_core_web_sm')"
   ]
  },
  {
   "cell_type": "code",
   "execution_count": 11,
   "metadata": {},
   "outputs": [],
   "source": [
    "# создаем функцию для очистки текста\n",
    "def clear_text(text):\n",
    "    c_text = re.sub(r'[^a-zA-z]', ' ', text)\n",
    "    c_text = c_text.lower()\n",
    "    c_text = c_text.split()\n",
    "    cl_text = \" \".join(c_text)\n",
    "    return cl_text"
   ]
  },
  {
   "cell_type": "code",
   "execution_count": 12,
   "metadata": {},
   "outputs": [],
   "source": [
    "# создаем функцию для лемматизации текста\n",
    "def lemmatize(text):\n",
    "    doc = nlp(clear_text(text))\n",
    "    lemmatized_tokens = [token.lemma_ for token in doc]\n",
    "    lemmatized_tokens = [ token for token in lemmatized_tokens if token not in stop_words]\n",
    "    lemmatized_text = ' '.join(lemmatized_tokens)\n",
    "    return lemmatized_text"
   ]
  },
  {
   "cell_type": "code",
   "execution_count": 13,
   "metadata": {},
   "outputs": [],
   "source": [
    "# добавляем столбец text_lem в датафрейм toxic_comments, который содержит очищенный и лемматизированный текст\n",
    "toxic_comments['text_lem'] = toxic_comments['text'].apply(lemmatize)"
   ]
  },
  {
   "cell_type": "code",
   "execution_count": 14,
   "metadata": {},
   "outputs": [
    {
     "data": {
      "text/html": [
       "<div>\n",
       "<style scoped>\n",
       "    .dataframe tbody tr th:only-of-type {\n",
       "        vertical-align: middle;\n",
       "    }\n",
       "\n",
       "    .dataframe tbody tr th {\n",
       "        vertical-align: top;\n",
       "    }\n",
       "\n",
       "    .dataframe thead th {\n",
       "        text-align: right;\n",
       "    }\n",
       "</style>\n",
       "<table border=\"1\" class=\"dataframe\">\n",
       "  <thead>\n",
       "    <tr style=\"text-align: right;\">\n",
       "      <th></th>\n",
       "      <th>text</th>\n",
       "      <th>toxic</th>\n",
       "      <th>text_lem</th>\n",
       "    </tr>\n",
       "  </thead>\n",
       "  <tbody>\n",
       "    <tr>\n",
       "      <th>0</th>\n",
       "      <td>Explanation\\nWhy the edits made under my usern...</td>\n",
       "      <td>0</td>\n",
       "      <td>explanation edit make username hardcore metall...</td>\n",
       "    </tr>\n",
       "    <tr>\n",
       "      <th>1</th>\n",
       "      <td>D'aww! He matches this background colour I'm s...</td>\n",
       "      <td>0</td>\n",
       "      <td>aww match background colour I seemingly stuck ...</td>\n",
       "    </tr>\n",
       "    <tr>\n",
       "      <th>2</th>\n",
       "      <td>Hey man, I'm really not trying to edit war. It...</td>\n",
       "      <td>0</td>\n",
       "      <td>hey man I really try edit war guy constantly r...</td>\n",
       "    </tr>\n",
       "    <tr>\n",
       "      <th>3</th>\n",
       "      <td>\"\\nMore\\nI can't make any real suggestions on ...</td>\n",
       "      <td>0</td>\n",
       "      <td>I make real suggestion improvement I wonder se...</td>\n",
       "    </tr>\n",
       "    <tr>\n",
       "      <th>4</th>\n",
       "      <td>You, sir, are my hero. Any chance you remember...</td>\n",
       "      <td>0</td>\n",
       "      <td>sir hero chance remember page</td>\n",
       "    </tr>\n",
       "    <tr>\n",
       "      <th>5</th>\n",
       "      <td>\"\\n\\nCongratulations from me as well, use the ...</td>\n",
       "      <td>0</td>\n",
       "      <td>congratulation I well use tool well talk</td>\n",
       "    </tr>\n",
       "    <tr>\n",
       "      <th>6</th>\n",
       "      <td>COCKSUCKER BEFORE YOU PISS AROUND ON MY WORK</td>\n",
       "      <td>1</td>\n",
       "      <td>cocksucker piss around work</td>\n",
       "    </tr>\n",
       "    <tr>\n",
       "      <th>7</th>\n",
       "      <td>Your vandalism to the Matt Shirvington article...</td>\n",
       "      <td>0</td>\n",
       "      <td>vandalism matt shirvington article revert plea...</td>\n",
       "    </tr>\n",
       "    <tr>\n",
       "      <th>8</th>\n",
       "      <td>Sorry if the word 'nonsense' was offensive to ...</td>\n",
       "      <td>0</td>\n",
       "      <td>sorry word nonsense offensive anyway I intend ...</td>\n",
       "    </tr>\n",
       "    <tr>\n",
       "      <th>9</th>\n",
       "      <td>alignment on this subject and which are contra...</td>\n",
       "      <td>0</td>\n",
       "      <td>alignment subject contrary dulithgow</td>\n",
       "    </tr>\n",
       "  </tbody>\n",
       "</table>\n",
       "</div>"
      ],
      "text/plain": [
       "                                                text  toxic  \\\n",
       "0  Explanation\\nWhy the edits made under my usern...      0   \n",
       "1  D'aww! He matches this background colour I'm s...      0   \n",
       "2  Hey man, I'm really not trying to edit war. It...      0   \n",
       "3  \"\\nMore\\nI can't make any real suggestions on ...      0   \n",
       "4  You, sir, are my hero. Any chance you remember...      0   \n",
       "5  \"\\n\\nCongratulations from me as well, use the ...      0   \n",
       "6       COCKSUCKER BEFORE YOU PISS AROUND ON MY WORK      1   \n",
       "7  Your vandalism to the Matt Shirvington article...      0   \n",
       "8  Sorry if the word 'nonsense' was offensive to ...      0   \n",
       "9  alignment on this subject and which are contra...      0   \n",
       "\n",
       "                                            text_lem  \n",
       "0  explanation edit make username hardcore metall...  \n",
       "1  aww match background colour I seemingly stuck ...  \n",
       "2  hey man I really try edit war guy constantly r...  \n",
       "3  I make real suggestion improvement I wonder se...  \n",
       "4                      sir hero chance remember page  \n",
       "5           congratulation I well use tool well talk  \n",
       "6                        cocksucker piss around work  \n",
       "7  vandalism matt shirvington article revert plea...  \n",
       "8  sorry word nonsense offensive anyway I intend ...  \n",
       "9               alignment subject contrary dulithgow  "
      ]
     },
     "execution_count": 14,
     "metadata": {},
     "output_type": "execute_result"
    }
   ],
   "source": [
    "# выводим первые 10 строк обновленного датафрейма toxic_comments\n",
    "toxic_comments.head(10)"
   ]
  },
  {
   "cell_type": "markdown",
   "metadata": {},
   "source": [
    "**Вывод:** на этапе лемматизации были проведены процедуры по очистке и лемматизации текста из датафрейма toxic_comments. В датафрейм toxic_comments был добавлен новый столбец text_lem с лемматизированным текстом. "
   ]
  },
  {
   "cell_type": "markdown",
   "metadata": {},
   "source": [
    "## Обучение"
   ]
  },
  {
   "cell_type": "code",
   "execution_count": 15,
   "metadata": {},
   "outputs": [],
   "source": [
    "# разделяем датафрейм на признаки (матрица X) и целевую переменную (y)\n",
    "y = toxic_comments['toxic']\n",
    "X = toxic_comments.drop('toxic', axis=1)"
   ]
  },
  {
   "cell_type": "code",
   "execution_count": 16,
   "metadata": {},
   "outputs": [],
   "source": [
    "# разделение на тренировочную и тестовую выборки\n",
    "X_train, X_test, y_train, y_test = train_test_split(X, y, test_size=0.1, stratify = y)"
   ]
  },
  {
   "cell_type": "code",
   "execution_count": 17,
   "metadata": {},
   "outputs": [
    {
     "data": {
      "text/plain": [
       "(143362, 145721)"
      ]
     },
     "metadata": {},
     "output_type": "display_data"
    }
   ],
   "source": [
    "# считаем величину TF-IDF для обучающей выборки\n",
    "count_tf_idf_train = TfidfVectorizer() \n",
    "tf_idf_train = count_tf_idf_train.fit_transform(X_train['text_lem'])\n",
    "display(tf_idf_train.shape)"
   ]
  },
  {
   "cell_type": "code",
   "execution_count": 18,
   "metadata": {},
   "outputs": [
    {
     "data": {
      "text/plain": [
       "(15930, 145721)"
      ]
     },
     "metadata": {},
     "output_type": "display_data"
    }
   ],
   "source": [
    "# считаем величину TF-IDF для тестовой выборки\n",
    "count_tf_idf_test = TfidfVectorizer() \n",
    "tf_idf_test = count_tf_idf_train.transform(X_test['text_lem'])\n",
    "display(tf_idf_test.shape)"
   ]
  },
  {
   "cell_type": "code",
   "execution_count": 19,
   "metadata": {},
   "outputs": [],
   "source": [
    "# инициалтзация модели LogisticRegression\n",
    "model_log = LogisticRegression(random_state=42)"
   ]
  },
  {
   "cell_type": "code",
   "execution_count": 20,
   "metadata": {},
   "outputs": [],
   "source": [
    "# инициалтзация модели DecisionTreeClassifier\n",
    "model_tree = DecisionTreeClassifier(random_state=42)"
   ]
  },
  {
   "cell_type": "code",
   "execution_count": 21,
   "metadata": {},
   "outputs": [],
   "source": [
    "# гиперпараметры модели LogisticRegression\n",
    "param_grid_log = {\"model__C\":[0.1, 1.0, 10.0], \"model__penalty\":[\"l2\"]}"
   ]
  },
  {
   "cell_type": "code",
   "execution_count": 32,
   "metadata": {},
   "outputs": [],
   "source": [
    "# гиперпараметры модели DecisionTreeClassifier\n",
    "param_grid_tree = {'model__criterion':['gini','entropy'],'model__max_depth':[2,4,6]}"
   ]
  },
  {
   "cell_type": "code",
   "execution_count": 23,
   "metadata": {},
   "outputs": [
    {
     "name": "stderr",
     "output_type": "stream",
     "text": [
      "/opt/conda/lib/python3.9/site-packages/sklearn/linear_model/_logistic.py:763: ConvergenceWarning: lbfgs failed to converge (status=1):\n",
      "STOP: TOTAL NO. of ITERATIONS REACHED LIMIT.\n",
      "\n",
      "Increase the number of iterations (max_iter) or scale the data as shown in:\n",
      "    https://scikit-learn.org/stable/modules/preprocessing.html\n",
      "Please also refer to the documentation for alternative solver options:\n",
      "    https://scikit-learn.org/stable/modules/linear_model.html#logistic-regression\n",
      "  n_iter_i = _check_optimize_result(\n",
      "/opt/conda/lib/python3.9/site-packages/sklearn/linear_model/_logistic.py:763: ConvergenceWarning: lbfgs failed to converge (status=1):\n",
      "STOP: TOTAL NO. of ITERATIONS REACHED LIMIT.\n",
      "\n",
      "Increase the number of iterations (max_iter) or scale the data as shown in:\n",
      "    https://scikit-learn.org/stable/modules/preprocessing.html\n",
      "Please also refer to the documentation for alternative solver options:\n",
      "    https://scikit-learn.org/stable/modules/linear_model.html#logistic-regression\n",
      "  n_iter_i = _check_optimize_result(\n",
      "/opt/conda/lib/python3.9/site-packages/sklearn/linear_model/_logistic.py:763: ConvergenceWarning: lbfgs failed to converge (status=1):\n",
      "STOP: TOTAL NO. of ITERATIONS REACHED LIMIT.\n",
      "\n",
      "Increase the number of iterations (max_iter) or scale the data as shown in:\n",
      "    https://scikit-learn.org/stable/modules/preprocessing.html\n",
      "Please also refer to the documentation for alternative solver options:\n",
      "    https://scikit-learn.org/stable/modules/linear_model.html#logistic-regression\n",
      "  n_iter_i = _check_optimize_result(\n",
      "/opt/conda/lib/python3.9/site-packages/sklearn/linear_model/_logistic.py:763: ConvergenceWarning: lbfgs failed to converge (status=1):\n",
      "STOP: TOTAL NO. of ITERATIONS REACHED LIMIT.\n",
      "\n",
      "Increase the number of iterations (max_iter) or scale the data as shown in:\n",
      "    https://scikit-learn.org/stable/modules/preprocessing.html\n",
      "Please also refer to the documentation for alternative solver options:\n",
      "    https://scikit-learn.org/stable/modules/linear_model.html#logistic-regression\n",
      "  n_iter_i = _check_optimize_result(\n",
      "/opt/conda/lib/python3.9/site-packages/sklearn/linear_model/_logistic.py:763: ConvergenceWarning: lbfgs failed to converge (status=1):\n",
      "STOP: TOTAL NO. of ITERATIONS REACHED LIMIT.\n",
      "\n",
      "Increase the number of iterations (max_iter) or scale the data as shown in:\n",
      "    https://scikit-learn.org/stable/modules/preprocessing.html\n",
      "Please also refer to the documentation for alternative solver options:\n",
      "    https://scikit-learn.org/stable/modules/linear_model.html#logistic-regression\n",
      "  n_iter_i = _check_optimize_result(\n",
      "/opt/conda/lib/python3.9/site-packages/sklearn/linear_model/_logistic.py:763: ConvergenceWarning: lbfgs failed to converge (status=1):\n",
      "STOP: TOTAL NO. of ITERATIONS REACHED LIMIT.\n",
      "\n",
      "Increase the number of iterations (max_iter) or scale the data as shown in:\n",
      "    https://scikit-learn.org/stable/modules/preprocessing.html\n",
      "Please also refer to the documentation for alternative solver options:\n",
      "    https://scikit-learn.org/stable/modules/linear_model.html#logistic-regression\n",
      "  n_iter_i = _check_optimize_result(\n",
      "/opt/conda/lib/python3.9/site-packages/sklearn/linear_model/_logistic.py:763: ConvergenceWarning: lbfgs failed to converge (status=1):\n",
      "STOP: TOTAL NO. of ITERATIONS REACHED LIMIT.\n",
      "\n",
      "Increase the number of iterations (max_iter) or scale the data as shown in:\n",
      "    https://scikit-learn.org/stable/modules/preprocessing.html\n",
      "Please also refer to the documentation for alternative solver options:\n",
      "    https://scikit-learn.org/stable/modules/linear_model.html#logistic-regression\n",
      "  n_iter_i = _check_optimize_result(\n",
      "/opt/conda/lib/python3.9/site-packages/sklearn/linear_model/_logistic.py:763: ConvergenceWarning: lbfgs failed to converge (status=1):\n",
      "STOP: TOTAL NO. of ITERATIONS REACHED LIMIT.\n",
      "\n",
      "Increase the number of iterations (max_iter) or scale the data as shown in:\n",
      "    https://scikit-learn.org/stable/modules/preprocessing.html\n",
      "Please also refer to the documentation for alternative solver options:\n",
      "    https://scikit-learn.org/stable/modules/linear_model.html#logistic-regression\n",
      "  n_iter_i = _check_optimize_result(\n",
      "/opt/conda/lib/python3.9/site-packages/sklearn/linear_model/_logistic.py:763: ConvergenceWarning: lbfgs failed to converge (status=1):\n",
      "STOP: TOTAL NO. of ITERATIONS REACHED LIMIT.\n",
      "\n",
      "Increase the number of iterations (max_iter) or scale the data as shown in:\n",
      "    https://scikit-learn.org/stable/modules/preprocessing.html\n",
      "Please also refer to the documentation for alternative solver options:\n",
      "    https://scikit-learn.org/stable/modules/linear_model.html#logistic-regression\n",
      "  n_iter_i = _check_optimize_result(\n"
     ]
    },
    {
     "data": {
      "text/plain": [
       "GridSearchCV(cv=5,\n",
       "             estimator=Pipeline(steps=[('vect', TfidfVectorizer()),\n",
       "                                       ('model',\n",
       "                                        LogisticRegression(random_state=42))]),\n",
       "             n_jobs=-1,\n",
       "             param_grid={'model__C': [0.1, 1.0, 10.0],\n",
       "                         'model__penalty': ['l2']},\n",
       "             scoring='f1', verbose=False)"
      ]
     },
     "execution_count": 23,
     "metadata": {},
     "output_type": "execute_result"
    }
   ],
   "source": [
    "# перебор гиперпараметров модели LogisticRegression и определение лучших значений\n",
    "grid_log = GridSearchCV(\n",
    "    Pipeline([(\"vect\", TfidfVectorizer()),\n",
    "    (\"model\", model_log)\n",
    "]\n",
    "), \n",
    "    param_grid=param_grid_log, \n",
    "    cv=5, \n",
    "    scoring='f1',\n",
    "    n_jobs=-1,\n",
    "    verbose = False\n",
    "    )\n",
    "grid_log.fit(X_train['text_lem'], y_train)"
   ]
  },
  {
   "cell_type": "code",
   "execution_count": 24,
   "metadata": {},
   "outputs": [
    {
     "name": "stdout",
     "output_type": "stream",
     "text": [
      "Лучший результат: 0.7797816731393707\n",
      "Лучшие параметры: {'model__C': 10.0, 'model__penalty': 'l2'}\n"
     ]
    }
   ],
   "source": [
    "# вывод лучших показателей для модели LogisticRegression\n",
    "print('Лучший результат:', grid_log.best_score_)\n",
    "print('Лучшие параметры:', grid_log.best_params_)"
   ]
  },
  {
   "cell_type": "code",
   "execution_count": 33,
   "metadata": {},
   "outputs": [
    {
     "data": {
      "text/plain": [
       "GridSearchCV(cv=5,\n",
       "             estimator=Pipeline(steps=[('vect', TfidfVectorizer()),\n",
       "                                       ('model',\n",
       "                                        DecisionTreeClassifier(random_state=42))]),\n",
       "             n_jobs=-1,\n",
       "             param_grid={'model__criterion': ['gini', 'entropy'],\n",
       "                         'model__max_depth': [2, 4, 6]},\n",
       "             scoring='f1', verbose=False)"
      ]
     },
     "execution_count": 33,
     "metadata": {},
     "output_type": "execute_result"
    }
   ],
   "source": [
    "# перебор гиперпараметров модели DecisionTreeClassifier и определение лучших значений\n",
    "grid_tree = GridSearchCV(\n",
    "    Pipeline([(\"vect\", TfidfVectorizer()),\n",
    "    (\"model\", model_tree)\n",
    "]\n",
    "), \n",
    "    param_grid=param_grid_tree, \n",
    "    cv=5, \n",
    "    scoring='f1',\n",
    "    n_jobs=-1,\n",
    "    verbose = False\n",
    "    )\n",
    "grid_tree.fit(X_train['text_lem'], y_train)"
   ]
  },
  {
   "cell_type": "code",
   "execution_count": 34,
   "metadata": {},
   "outputs": [
    {
     "name": "stdout",
     "output_type": "stream",
     "text": [
      "Лучший результат: 0.538596242440264\n",
      "Лучшие параметры: {'model__criterion': 'gini', 'model__max_depth': 6}\n"
     ]
    }
   ],
   "source": [
    "# вывод лучших показателей для модели DecisionTreeClassifier\n",
    "print('Лучший результат:', grid_tree.best_score_)\n",
    "print('Лучшие параметры:', grid_tree.best_params_)"
   ]
  },
  {
   "cell_type": "code",
   "execution_count": 35,
   "metadata": {},
   "outputs": [],
   "source": [
    "# модель с лучшими гиперпараметрами и лучшим значением метрики\n",
    "best_model = grid_log.best_estimator_"
   ]
  },
  {
   "cell_type": "code",
   "execution_count": 37,
   "metadata": {},
   "outputs": [],
   "source": [
    "# предсказанные значения для X_test\n",
    "pred = best_model.predict(X_test['text_lem'])"
   ]
  },
  {
   "cell_type": "code",
   "execution_count": 38,
   "metadata": {},
   "outputs": [
    {
     "data": {
      "text/plain": [
       "0.7881944444444445"
      ]
     },
     "execution_count": 38,
     "metadata": {},
     "output_type": "execute_result"
    }
   ],
   "source": [
    "# проверяем метрику f1_score на тестовой выборке\n",
    "res_f1 = f1_score(y_test, pred)\n",
    "res_f1"
   ]
  },
  {
   "cell_type": "markdown",
   "metadata": {},
   "source": [
    "**Вывод:** на втором этапе данные были разделены на тренировачную и тестовую выборки, каждая выборка была векторизирована и для каждой выборки была посчитана величина TF-IDF. Далее с помощью метода GridSearchCV были выбраны лучшие гиперпараметры для моделей LogisticRegression и DecisionTreeClassifier. Каждая модель была обучена на тренировочной выборке и для каждой модели была посчитана метрика F1. Для модели LogisticRegression с гиперпараметрами {'model__C': 10.0, 'model__penalty': 'l2'} значение метрики F1 на тренировачной выборке было равно 0.78, а для модели DecisionTreeClassifier с гиперпараметрами {'model__criterion': 'gini', 'model__max_depth': 6} значение метрики равно 0.54. Следовательно, для тестовой выборке используем модель LogisticRegression, так как у неё лучший результат. Далее были получены предсказанные значения на тестовой выборке и посчитана метрика F1, равная 0.79."
   ]
  },
  {
   "cell_type": "markdown",
   "metadata": {},
   "source": [
    "## Выводы"
   ]
  },
  {
   "cell_type": "markdown",
   "metadata": {},
   "source": [
    "На первом этапе данные были загружены и сохранены в датафрейм toxic_comments. Была изучена основная информация о датафрейме toxic_comments и осуществлена проверка на наличие дублей и пропусков. Также были изучены распределения комментариев: классы распределены неравномерно, токсичных комментарием намного меньше. Затем данные в столбце text были лемматизированны и очищены от лишних символов. Обновленные данные были добавлены в датафрейм toxic_comments в столбец text_lem.\\\n",
    "На втором этапе данные были разделены на тренировачную и тестовую выборки, каждая выборка была векторизирована и для каждой выборки была посчитана величина TF-IDF. Обучение проходило с помощью моделей LogisticRegression с гиперпараметрами {'C': 10.0, 'penalty': 'l2'} и DecisionTreeClassifier с гиперпараметрами {'model__criterion': 'gini', 'model__max_depth': 6}. Значение метрики F1 на тренировачной выборке для DecisionTreeClassifier было равно 0.54, а для LogisticRegression - 0.78. Следовательно, для тестовой выборки используем модель LogisticRegression. Далее были получены предсказанные значения на тестовой выборке и посчитана метрика F1, равная 0.79."
   ]
  }
 ],
 "metadata": {
  "ExecuteTimeLog": [
   {
    "duration": 2013,
    "start_time": "2024-11-05T13:49:31.889Z"
   },
   {
    "duration": 3845,
    "start_time": "2024-11-05T13:49:35.605Z"
   },
   {
    "duration": 10,
    "start_time": "2024-11-05T13:49:54.933Z"
   },
   {
    "duration": 32,
    "start_time": "2024-11-05T13:50:19.829Z"
   },
   {
    "duration": 1822,
    "start_time": "2024-11-05T14:04:17.286Z"
   },
   {
    "duration": 1002,
    "start_time": "2024-11-05T14:04:19.110Z"
   },
   {
    "duration": 10,
    "start_time": "2024-11-05T14:04:20.114Z"
   },
   {
    "duration": 46,
    "start_time": "2024-11-05T14:04:20.127Z"
   },
   {
    "duration": 1792,
    "start_time": "2024-11-05T14:04:34.917Z"
   },
   {
    "duration": 3869,
    "start_time": "2024-11-05T14:04:36.711Z"
   },
   {
    "duration": 10,
    "start_time": "2024-11-05T14:04:40.582Z"
   },
   {
    "duration": 43,
    "start_time": "2024-11-05T14:04:40.594Z"
   },
   {
    "duration": 52,
    "start_time": "2024-11-05T14:05:27.128Z"
   },
   {
    "duration": 1847,
    "start_time": "2024-11-05T14:05:39.816Z"
   },
   {
    "duration": 3869,
    "start_time": "2024-11-05T14:05:42.688Z"
   },
   {
    "duration": 14,
    "start_time": "2024-11-05T14:05:48.729Z"
   },
   {
    "duration": 32,
    "start_time": "2024-11-05T14:05:50.952Z"
   },
   {
    "duration": 10,
    "start_time": "2024-11-05T14:06:12.056Z"
   },
   {
    "duration": 1730,
    "start_time": "2024-11-05T14:06:34.989Z"
   },
   {
    "duration": 3865,
    "start_time": "2024-11-05T14:06:36.720Z"
   },
   {
    "duration": 11,
    "start_time": "2024-11-05T14:06:40.586Z"
   },
   {
    "duration": 35,
    "start_time": "2024-11-05T14:06:40.598Z"
   },
   {
    "duration": 7,
    "start_time": "2024-11-05T14:06:40.635Z"
   },
   {
    "duration": 8,
    "start_time": "2024-11-05T14:06:40.643Z"
   },
   {
    "duration": 783,
    "start_time": "2024-11-05T14:06:40.653Z"
   },
   {
    "duration": 150,
    "start_time": "2024-11-05T14:12:11.810Z"
   },
   {
    "duration": 10,
    "start_time": "2024-11-05T14:12:19.393Z"
   },
   {
    "duration": 1706,
    "start_time": "2024-11-05T14:15:44.878Z"
   },
   {
    "duration": 1037,
    "start_time": "2024-11-05T14:15:46.586Z"
   },
   {
    "duration": 10,
    "start_time": "2024-11-05T14:15:47.625Z"
   },
   {
    "duration": 49,
    "start_time": "2024-11-05T14:15:47.636Z"
   },
   {
    "duration": 1851,
    "start_time": "2024-11-06T13:25:34.313Z"
   },
   {
    "duration": 1273,
    "start_time": "2024-11-06T13:25:36.166Z"
   },
   {
    "duration": 10,
    "start_time": "2024-11-06T13:25:37.440Z"
   },
   {
    "duration": 24,
    "start_time": "2024-11-06T13:25:37.452Z"
   },
   {
    "duration": 142,
    "start_time": "2024-11-06T13:25:37.477Z"
   },
   {
    "duration": 0,
    "start_time": "2024-11-06T13:25:37.620Z"
   },
   {
    "duration": 0,
    "start_time": "2024-11-06T13:25:37.621Z"
   },
   {
    "duration": 2181,
    "start_time": "2024-11-06T13:25:46.366Z"
   },
   {
    "duration": 3,
    "start_time": "2024-11-06T13:25:50.093Z"
   },
   {
    "duration": 1250,
    "start_time": "2024-11-06T13:25:51.477Z"
   },
   {
    "duration": 4,
    "start_time": "2024-11-06T13:26:00.966Z"
   },
   {
    "duration": 3,
    "start_time": "2024-11-06T13:26:01.727Z"
   },
   {
    "duration": 3,
    "start_time": "2024-11-06T13:26:53.991Z"
   },
   {
    "duration": 2,
    "start_time": "2024-11-06T13:27:17.072Z"
   },
   {
    "duration": 3,
    "start_time": "2024-11-06T13:27:17.432Z"
   },
   {
    "duration": 2,
    "start_time": "2024-11-06T13:27:34.656Z"
   },
   {
    "duration": 4,
    "start_time": "2024-11-06T13:27:35.151Z"
   },
   {
    "duration": 2,
    "start_time": "2024-11-06T13:29:18.986Z"
   },
   {
    "duration": 3,
    "start_time": "2024-11-06T13:29:19.403Z"
   },
   {
    "duration": 3,
    "start_time": "2024-11-06T13:29:22.762Z"
   },
   {
    "duration": 4,
    "start_time": "2024-11-06T13:29:23.426Z"
   },
   {
    "duration": 47,
    "start_time": "2024-11-06T13:30:01.264Z"
   },
   {
    "duration": 1569,
    "start_time": "2024-11-06T13:30:15.868Z"
   },
   {
    "duration": 1240,
    "start_time": "2024-11-06T13:30:17.438Z"
   },
   {
    "duration": 9,
    "start_time": "2024-11-06T13:30:18.679Z"
   },
   {
    "duration": 39,
    "start_time": "2024-11-06T13:30:18.690Z"
   },
   {
    "duration": 2134,
    "start_time": "2024-11-06T13:30:18.731Z"
   },
   {
    "duration": 14,
    "start_time": "2024-11-06T13:30:20.867Z"
   },
   {
    "duration": 1191,
    "start_time": "2024-11-06T13:30:20.882Z"
   },
   {
    "duration": 126,
    "start_time": "2024-11-06T13:30:22.075Z"
   },
   {
    "duration": 0,
    "start_time": "2024-11-06T13:30:22.203Z"
   },
   {
    "duration": 0,
    "start_time": "2024-11-06T13:30:22.204Z"
   },
   {
    "duration": 3,
    "start_time": "2024-11-06T13:30:46.597Z"
   },
   {
    "duration": 4,
    "start_time": "2024-11-06T13:31:04.461Z"
   },
   {
    "duration": 3,
    "start_time": "2024-11-06T13:31:07.485Z"
   },
   {
    "duration": 3,
    "start_time": "2024-11-06T13:31:23.346Z"
   },
   {
    "duration": 4,
    "start_time": "2024-11-06T13:31:35.122Z"
   },
   {
    "duration": 3,
    "start_time": "2024-11-06T13:31:43.047Z"
   },
   {
    "duration": 4,
    "start_time": "2024-11-06T13:31:52.822Z"
   },
   {
    "duration": 3,
    "start_time": "2024-11-06T13:31:53.198Z"
   },
   {
    "duration": 3,
    "start_time": "2024-11-06T13:32:07.943Z"
   },
   {
    "duration": 16,
    "start_time": "2024-11-06T13:35:58.508Z"
   },
   {
    "duration": 8,
    "start_time": "2024-11-06T13:36:06.764Z"
   },
   {
    "duration": 4099,
    "start_time": "2024-11-06T13:36:11.892Z"
   },
   {
    "duration": 655,
    "start_time": "2024-11-06T13:36:15.993Z"
   },
   {
    "duration": 222,
    "start_time": "2024-11-06T13:36:16.650Z"
   },
   {
    "duration": 4191,
    "start_time": "2024-11-06T13:36:32.401Z"
   },
   {
    "duration": 0,
    "start_time": "2024-11-06T13:36:36.594Z"
   },
   {
    "duration": 0,
    "start_time": "2024-11-06T13:36:36.594Z"
   },
   {
    "duration": 0,
    "start_time": "2024-11-06T13:36:36.596Z"
   },
   {
    "duration": 0,
    "start_time": "2024-11-06T13:36:36.597Z"
   },
   {
    "duration": 0,
    "start_time": "2024-11-06T13:36:36.599Z"
   },
   {
    "duration": 0,
    "start_time": "2024-11-06T13:36:36.611Z"
   },
   {
    "duration": 0,
    "start_time": "2024-11-06T13:36:36.612Z"
   },
   {
    "duration": 0,
    "start_time": "2024-11-06T13:36:36.613Z"
   },
   {
    "duration": 0,
    "start_time": "2024-11-06T13:36:36.614Z"
   },
   {
    "duration": 217,
    "start_time": "2024-11-06T13:37:11.226Z"
   },
   {
    "duration": 829,
    "start_time": "2024-11-06T13:37:13.694Z"
   },
   {
    "duration": 9,
    "start_time": "2024-11-06T13:37:15.286Z"
   },
   {
    "duration": 24,
    "start_time": "2024-11-06T13:37:17.854Z"
   },
   {
    "duration": 2153,
    "start_time": "2024-11-06T13:37:20.910Z"
   },
   {
    "duration": 498,
    "start_time": "2024-11-06T13:37:24.782Z"
   },
   {
    "duration": 17,
    "start_time": "2024-11-06T13:37:26.742Z"
   },
   {
    "duration": 3949,
    "start_time": "2024-11-06T13:38:38.890Z"
   },
   {
    "duration": 823,
    "start_time": "2024-11-06T13:38:42.841Z"
   },
   {
    "duration": 9,
    "start_time": "2024-11-06T13:38:43.665Z"
   },
   {
    "duration": 21,
    "start_time": "2024-11-06T13:38:43.676Z"
   },
   {
    "duration": 27,
    "start_time": "2024-11-06T13:38:43.698Z"
   },
   {
    "duration": 2945,
    "start_time": "2024-11-06T13:38:43.726Z"
   },
   {
    "duration": 13,
    "start_time": "2024-11-06T13:38:46.673Z"
   },
   {
    "duration": 3,
    "start_time": "2024-11-06T13:38:46.687Z"
   },
   {
    "duration": 6,
    "start_time": "2024-11-06T13:38:46.692Z"
   },
   {
    "duration": 4,
    "start_time": "2024-11-06T13:38:46.717Z"
   },
   {
    "duration": 18,
    "start_time": "2024-11-06T13:39:07.033Z"
   },
   {
    "duration": 3,
    "start_time": "2024-11-06T13:39:07.481Z"
   },
   {
    "duration": 3,
    "start_time": "2024-11-06T13:39:07.985Z"
   },
   {
    "duration": 4,
    "start_time": "2024-11-06T13:39:08.785Z"
   },
   {
    "duration": 2,
    "start_time": "2024-11-06T13:39:44.538Z"
   },
   {
    "duration": 3,
    "start_time": "2024-11-06T13:39:45.083Z"
   },
   {
    "duration": 4132,
    "start_time": "2024-11-06T13:42:03.245Z"
   },
   {
    "duration": 847,
    "start_time": "2024-11-06T13:42:07.379Z"
   },
   {
    "duration": 9,
    "start_time": "2024-11-06T13:42:08.227Z"
   },
   {
    "duration": 44,
    "start_time": "2024-11-06T13:42:08.238Z"
   },
   {
    "duration": 8,
    "start_time": "2024-11-06T13:42:08.283Z"
   },
   {
    "duration": 3,
    "start_time": "2024-11-06T13:42:08.292Z"
   },
   {
    "duration": 482,
    "start_time": "2024-11-06T13:42:08.297Z"
   },
   {
    "duration": 5,
    "start_time": "2024-11-06T13:46:41.005Z"
   },
   {
    "duration": 3,
    "start_time": "2024-11-06T13:46:44.476Z"
   },
   {
    "duration": 463,
    "start_time": "2024-11-06T13:47:02.581Z"
   },
   {
    "duration": 3,
    "start_time": "2024-11-06T13:49:15.361Z"
   },
   {
    "duration": 3,
    "start_time": "2024-11-06T13:49:26.751Z"
   },
   {
    "duration": 3,
    "start_time": "2024-11-06T13:49:36.081Z"
   },
   {
    "duration": 439,
    "start_time": "2024-11-06T13:49:37.161Z"
   },
   {
    "duration": 3,
    "start_time": "2024-11-06T13:51:24.611Z"
   },
   {
    "duration": 354,
    "start_time": "2024-11-06T13:55:04.529Z"
   },
   {
    "duration": 5,
    "start_time": "2024-11-06T13:55:28.289Z"
   },
   {
    "duration": 13,
    "start_time": "2024-11-06T13:56:13.092Z"
   },
   {
    "duration": 3960,
    "start_time": "2024-11-06T13:56:42.702Z"
   },
   {
    "duration": 843,
    "start_time": "2024-11-06T13:56:46.664Z"
   },
   {
    "duration": 13,
    "start_time": "2024-11-06T13:56:47.518Z"
   },
   {
    "duration": 27,
    "start_time": "2024-11-06T13:56:47.532Z"
   },
   {
    "duration": 8,
    "start_time": "2024-11-06T13:56:47.560Z"
   },
   {
    "duration": 3,
    "start_time": "2024-11-06T13:56:47.569Z"
   },
   {
    "duration": 534,
    "start_time": "2024-11-06T13:56:47.574Z"
   },
   {
    "duration": 3,
    "start_time": "2024-11-06T13:56:48.111Z"
   },
   {
    "duration": 434,
    "start_time": "2024-11-06T13:56:48.116Z"
   },
   {
    "duration": 325,
    "start_time": "2024-11-06T14:05:00.343Z"
   },
   {
    "duration": 3940,
    "start_time": "2024-11-06T14:11:00.581Z"
   },
   {
    "duration": 845,
    "start_time": "2024-11-06T14:11:04.523Z"
   },
   {
    "duration": 9,
    "start_time": "2024-11-06T14:11:05.370Z"
   },
   {
    "duration": 79,
    "start_time": "2024-11-06T14:11:05.381Z"
   },
   {
    "duration": 17,
    "start_time": "2024-11-06T14:11:05.462Z"
   },
   {
    "duration": 25,
    "start_time": "2024-11-06T14:11:05.480Z"
   },
   {
    "duration": 522,
    "start_time": "2024-11-06T14:11:05.506Z"
   },
   {
    "duration": 4,
    "start_time": "2024-11-06T14:11:06.029Z"
   },
   {
    "duration": 464,
    "start_time": "2024-11-06T14:11:06.035Z"
   },
   {
    "duration": 4089,
    "start_time": "2024-11-07T12:28:11.329Z"
   },
   {
    "duration": 1060,
    "start_time": "2024-11-07T12:28:15.420Z"
   },
   {
    "duration": 9,
    "start_time": "2024-11-07T12:28:16.481Z"
   },
   {
    "duration": 28,
    "start_time": "2024-11-07T12:28:16.492Z"
   },
   {
    "duration": 2,
    "start_time": "2024-11-07T12:28:16.522Z"
   },
   {
    "duration": 5,
    "start_time": "2024-11-07T12:28:16.525Z"
   },
   {
    "duration": 465,
    "start_time": "2024-11-07T12:28:16.531Z"
   },
   {
    "duration": 2,
    "start_time": "2024-11-07T12:28:16.998Z"
   },
   {
    "duration": 412,
    "start_time": "2024-11-07T12:28:17.001Z"
   },
   {
    "duration": 67875,
    "start_time": "2024-11-07T12:28:17.414Z"
   },
   {
    "duration": 215,
    "start_time": "2024-11-07T12:30:25.780Z"
   },
   {
    "duration": 3903,
    "start_time": "2024-11-07T12:30:35.231Z"
   },
   {
    "duration": 794,
    "start_time": "2024-11-07T12:30:39.136Z"
   },
   {
    "duration": 10,
    "start_time": "2024-11-07T12:30:39.931Z"
   },
   {
    "duration": 35,
    "start_time": "2024-11-07T12:30:39.943Z"
   },
   {
    "duration": 250,
    "start_time": "2024-11-07T12:30:39.980Z"
   },
   {
    "duration": 3,
    "start_time": "2024-11-07T12:30:40.232Z"
   },
   {
    "duration": 7,
    "start_time": "2024-11-07T12:30:40.236Z"
   },
   {
    "duration": 478,
    "start_time": "2024-11-07T12:30:40.245Z"
   },
   {
    "duration": 3,
    "start_time": "2024-11-07T12:30:40.725Z"
   },
   {
    "duration": 417,
    "start_time": "2024-11-07T12:30:40.731Z"
   },
   {
    "duration": 4,
    "start_time": "2024-11-07T12:48:58.448Z"
   },
   {
    "duration": 13,
    "start_time": "2024-11-07T12:48:59.314Z"
   },
   {
    "duration": 13,
    "start_time": "2024-11-07T12:49:05.242Z"
   },
   {
    "duration": 13,
    "start_time": "2024-11-07T12:53:57.633Z"
   },
   {
    "duration": 14,
    "start_time": "2024-11-07T12:54:06.849Z"
   },
   {
    "duration": 15,
    "start_time": "2024-11-07T12:54:15.465Z"
   },
   {
    "duration": 3603,
    "start_time": "2024-11-07T12:55:44.349Z"
   },
   {
    "duration": 801,
    "start_time": "2024-11-07T12:55:47.954Z"
   },
   {
    "duration": 11,
    "start_time": "2024-11-07T12:55:48.757Z"
   },
   {
    "duration": 23,
    "start_time": "2024-11-07T12:55:48.770Z"
   },
   {
    "duration": 241,
    "start_time": "2024-11-07T12:55:48.795Z"
   },
   {
    "duration": 200,
    "start_time": "2024-11-07T12:55:49.038Z"
   },
   {
    "duration": 4,
    "start_time": "2024-11-07T12:55:49.239Z"
   },
   {
    "duration": 3,
    "start_time": "2024-11-07T12:55:49.244Z"
   },
   {
    "duration": 306,
    "start_time": "2024-11-07T12:55:49.248Z"
   },
   {
    "duration": 0,
    "start_time": "2024-11-07T12:55:49.556Z"
   },
   {
    "duration": 0,
    "start_time": "2024-11-07T12:55:49.556Z"
   },
   {
    "duration": 0,
    "start_time": "2024-11-07T12:55:49.557Z"
   },
   {
    "duration": 3,
    "start_time": "2024-11-07T12:58:30.864Z"
   },
   {
    "duration": 3,
    "start_time": "2024-11-07T12:58:31.951Z"
   },
   {
    "duration": 483,
    "start_time": "2024-11-07T12:58:33.920Z"
   },
   {
    "duration": 3,
    "start_time": "2024-11-07T12:59:04.881Z"
   },
   {
    "duration": 419,
    "start_time": "2024-11-07T12:59:05.368Z"
   },
   {
    "duration": 3604,
    "start_time": "2024-11-07T13:57:44.665Z"
   },
   {
    "duration": 135,
    "start_time": "2024-11-07T13:57:48.271Z"
   },
   {
    "duration": 785,
    "start_time": "2024-11-07T13:57:48.407Z"
   },
   {
    "duration": 9,
    "start_time": "2024-11-07T13:57:49.194Z"
   },
   {
    "duration": 20,
    "start_time": "2024-11-07T13:57:49.204Z"
   },
   {
    "duration": 257,
    "start_time": "2024-11-07T13:57:49.225Z"
   },
   {
    "duration": 2,
    "start_time": "2024-11-07T13:57:49.483Z"
   },
   {
    "duration": 8,
    "start_time": "2024-11-07T13:57:49.487Z"
   },
   {
    "duration": 29,
    "start_time": "2024-11-07T13:57:49.496Z"
   },
   {
    "duration": 2,
    "start_time": "2024-11-07T13:57:49.527Z"
   },
   {
    "duration": 4,
    "start_time": "2024-11-07T13:57:49.530Z"
   },
   {
    "duration": 73,
    "start_time": "2024-11-07T13:57:49.556Z"
   },
   {
    "duration": 0,
    "start_time": "2024-11-07T13:57:49.630Z"
   },
   {
    "duration": 0,
    "start_time": "2024-11-07T13:57:49.632Z"
   },
   {
    "duration": 0,
    "start_time": "2024-11-07T13:57:49.633Z"
   },
   {
    "duration": 0,
    "start_time": "2024-11-07T13:57:49.634Z"
   },
   {
    "duration": 0,
    "start_time": "2024-11-07T13:57:49.635Z"
   },
   {
    "duration": 0,
    "start_time": "2024-11-07T13:57:49.637Z"
   },
   {
    "duration": 0,
    "start_time": "2024-11-07T13:57:49.638Z"
   },
   {
    "duration": 3,
    "start_time": "2024-11-07T13:58:14.089Z"
   },
   {
    "duration": 336,
    "start_time": "2024-11-07T13:58:15.130Z"
   },
   {
    "duration": 3,
    "start_time": "2024-11-07T14:04:27.586Z"
   },
   {
    "duration": 1129,
    "start_time": "2024-11-07T14:04:30.963Z"
   },
   {
    "duration": 2,
    "start_time": "2024-11-07T14:06:58.262Z"
   },
   {
    "duration": 4,
    "start_time": "2024-11-07T14:06:59.294Z"
   },
   {
    "duration": 3,
    "start_time": "2024-11-07T14:11:34.277Z"
   },
   {
    "duration": 2,
    "start_time": "2024-11-07T14:11:38.822Z"
   },
   {
    "duration": 645,
    "start_time": "2024-11-07T14:11:39.349Z"
   },
   {
    "duration": 3,
    "start_time": "2024-11-07T14:13:16.247Z"
   },
   {
    "duration": 446,
    "start_time": "2024-11-07T14:13:20.127Z"
   },
   {
    "duration": 3,
    "start_time": "2024-11-07T14:13:37.935Z"
   },
   {
    "duration": 406,
    "start_time": "2024-11-07T14:13:42.777Z"
   },
   {
    "duration": 423,
    "start_time": "2024-11-07T14:14:06.505Z"
   },
   {
    "duration": 3,
    "start_time": "2024-11-07T14:24:36.225Z"
   },
   {
    "duration": 437,
    "start_time": "2024-11-07T14:24:40.713Z"
   },
   {
    "duration": 3,
    "start_time": "2024-11-07T14:25:30.890Z"
   },
   {
    "duration": 425,
    "start_time": "2024-11-07T14:25:35.154Z"
   },
   {
    "duration": 3,
    "start_time": "2024-11-07T14:26:08.450Z"
   },
   {
    "duration": 407,
    "start_time": "2024-11-07T14:26:08.931Z"
   },
   {
    "duration": 3547,
    "start_time": "2024-11-07T14:27:05.101Z"
   },
   {
    "duration": 136,
    "start_time": "2024-11-07T14:27:08.650Z"
   },
   {
    "duration": 790,
    "start_time": "2024-11-07T14:27:08.787Z"
   },
   {
    "duration": 9,
    "start_time": "2024-11-07T14:27:09.578Z"
   },
   {
    "duration": 26,
    "start_time": "2024-11-07T14:27:09.588Z"
   },
   {
    "duration": 239,
    "start_time": "2024-11-07T14:27:09.615Z"
   },
   {
    "duration": 2,
    "start_time": "2024-11-07T14:27:09.855Z"
   },
   {
    "duration": 9,
    "start_time": "2024-11-07T14:27:09.859Z"
   },
   {
    "duration": 27,
    "start_time": "2024-11-07T14:27:09.870Z"
   },
   {
    "duration": 2,
    "start_time": "2024-11-07T14:27:09.898Z"
   },
   {
    "duration": 17,
    "start_time": "2024-11-07T14:27:09.901Z"
   },
   {
    "duration": 489,
    "start_time": "2024-11-07T14:27:09.920Z"
   },
   {
    "duration": 2,
    "start_time": "2024-11-07T14:27:10.411Z"
   },
   {
    "duration": 420,
    "start_time": "2024-11-07T14:27:10.415Z"
   },
   {
    "duration": 3622,
    "start_time": "2024-11-07T14:31:26.053Z"
   },
   {
    "duration": 159,
    "start_time": "2024-11-07T14:31:29.677Z"
   },
   {
    "duration": 810,
    "start_time": "2024-11-07T14:31:29.837Z"
   },
   {
    "duration": 14,
    "start_time": "2024-11-07T14:31:30.649Z"
   },
   {
    "duration": 56,
    "start_time": "2024-11-07T14:31:30.664Z"
   },
   {
    "duration": 240,
    "start_time": "2024-11-07T14:31:30.722Z"
   },
   {
    "duration": 2,
    "start_time": "2024-11-07T14:31:30.963Z"
   },
   {
    "duration": 13,
    "start_time": "2024-11-07T14:31:30.967Z"
   },
   {
    "duration": 42,
    "start_time": "2024-11-07T14:31:30.981Z"
   },
   {
    "duration": 4,
    "start_time": "2024-11-07T14:31:31.025Z"
   },
   {
    "duration": 7,
    "start_time": "2024-11-07T14:31:31.030Z"
   },
   {
    "duration": 301,
    "start_time": "2024-11-07T14:31:31.038Z"
   },
   {
    "duration": 0,
    "start_time": "2024-11-07T14:31:31.340Z"
   },
   {
    "duration": 0,
    "start_time": "2024-11-07T14:31:31.341Z"
   },
   {
    "duration": 0,
    "start_time": "2024-11-07T14:31:31.342Z"
   },
   {
    "duration": 0,
    "start_time": "2024-11-07T14:31:31.343Z"
   },
   {
    "duration": 476,
    "start_time": "2024-11-07T14:31:36.612Z"
   },
   {
    "duration": 3,
    "start_time": "2024-11-07T14:31:39.786Z"
   },
   {
    "duration": 407,
    "start_time": "2024-11-07T14:31:41.140Z"
   },
   {
    "duration": 419,
    "start_time": "2024-11-07T14:31:42.363Z"
   },
   {
    "duration": 90896,
    "start_time": "2024-11-07T14:34:26.792Z"
   },
   {
    "duration": 3698,
    "start_time": "2024-11-07T14:36:58.386Z"
   },
   {
    "duration": 230,
    "start_time": "2024-11-07T14:37:02.085Z"
   },
   {
    "duration": 796,
    "start_time": "2024-11-07T14:37:02.317Z"
   },
   {
    "duration": 9,
    "start_time": "2024-11-07T14:37:03.115Z"
   },
   {
    "duration": 33,
    "start_time": "2024-11-07T14:37:03.126Z"
   },
   {
    "duration": 246,
    "start_time": "2024-11-07T14:37:03.161Z"
   },
   {
    "duration": 3,
    "start_time": "2024-11-07T14:37:03.408Z"
   },
   {
    "duration": 17,
    "start_time": "2024-11-07T14:37:03.412Z"
   },
   {
    "duration": 31,
    "start_time": "2024-11-07T14:37:03.430Z"
   },
   {
    "duration": 3,
    "start_time": "2024-11-07T14:37:03.462Z"
   },
   {
    "duration": 5,
    "start_time": "2024-11-07T14:37:03.466Z"
   },
   {
    "duration": 12,
    "start_time": "2024-11-07T14:37:03.471Z"
   },
   {
    "duration": 498,
    "start_time": "2024-11-07T14:37:03.484Z"
   },
   {
    "duration": 3591,
    "start_time": "2024-11-07T14:46:10.552Z"
   },
   {
    "duration": 149,
    "start_time": "2024-11-07T14:46:14.145Z"
   },
   {
    "duration": 803,
    "start_time": "2024-11-07T14:46:14.296Z"
   },
   {
    "duration": 9,
    "start_time": "2024-11-07T14:46:15.100Z"
   },
   {
    "duration": 30,
    "start_time": "2024-11-07T14:46:15.111Z"
   },
   {
    "duration": 239,
    "start_time": "2024-11-07T14:46:15.143Z"
   },
   {
    "duration": 3,
    "start_time": "2024-11-07T14:46:15.383Z"
   },
   {
    "duration": 24,
    "start_time": "2024-11-07T14:46:15.387Z"
   },
   {
    "duration": 50,
    "start_time": "2024-11-07T14:46:15.413Z"
   },
   {
    "duration": 10,
    "start_time": "2024-11-07T14:46:15.465Z"
   },
   {
    "duration": 25,
    "start_time": "2024-11-07T14:46:15.476Z"
   },
   {
    "duration": 3,
    "start_time": "2024-11-07T14:46:15.503Z"
   },
   {
    "duration": 478,
    "start_time": "2024-11-07T14:46:15.508Z"
   },
   {
    "duration": 4666,
    "start_time": "2024-11-07T19:13:09.692Z"
   },
   {
    "duration": 566,
    "start_time": "2024-11-07T19:13:14.360Z"
   },
   {
    "duration": 1309,
    "start_time": "2024-11-07T19:13:14.928Z"
   },
   {
    "duration": 11,
    "start_time": "2024-11-07T19:13:16.239Z"
   },
   {
    "duration": 34,
    "start_time": "2024-11-07T19:13:16.252Z"
   },
   {
    "duration": 242,
    "start_time": "2024-11-07T19:13:16.287Z"
   },
   {
    "duration": 2,
    "start_time": "2024-11-07T19:13:16.531Z"
   },
   {
    "duration": 6,
    "start_time": "2024-11-07T19:13:16.535Z"
   },
   {
    "duration": 7,
    "start_time": "2024-11-07T19:13:16.543Z"
   },
   {
    "duration": 9,
    "start_time": "2024-11-07T19:13:16.552Z"
   },
   {
    "duration": 1346784,
    "start_time": "2024-11-07T19:13:16.562Z"
   },
   {
    "duration": 0,
    "start_time": "2024-11-07T19:35:43.348Z"
   },
   {
    "duration": 0,
    "start_time": "2024-11-07T19:35:43.349Z"
   },
   {
    "duration": 0,
    "start_time": "2024-11-07T19:35:43.351Z"
   },
   {
    "duration": 0,
    "start_time": "2024-11-07T19:35:43.352Z"
   },
   {
    "duration": 0,
    "start_time": "2024-11-07T19:35:43.353Z"
   },
   {
    "duration": 0,
    "start_time": "2024-11-07T19:35:43.355Z"
   },
   {
    "duration": 0,
    "start_time": "2024-11-07T19:35:43.356Z"
   },
   {
    "duration": 0,
    "start_time": "2024-11-07T19:35:43.357Z"
   },
   {
    "duration": 4,
    "start_time": "2024-11-07T19:40:19.307Z"
   },
   {
    "duration": 4290,
    "start_time": "2024-11-07T19:40:28.159Z"
   },
   {
    "duration": 134,
    "start_time": "2024-11-07T19:40:32.451Z"
   },
   {
    "duration": 971,
    "start_time": "2024-11-07T19:40:32.587Z"
   },
   {
    "duration": 12,
    "start_time": "2024-11-07T19:40:33.560Z"
   },
   {
    "duration": 52,
    "start_time": "2024-11-07T19:40:33.574Z"
   },
   {
    "duration": 249,
    "start_time": "2024-11-07T19:40:33.628Z"
   },
   {
    "duration": 3,
    "start_time": "2024-11-07T19:40:33.878Z"
   },
   {
    "duration": 21,
    "start_time": "2024-11-07T19:40:33.883Z"
   },
   {
    "duration": 19,
    "start_time": "2024-11-07T19:40:33.906Z"
   },
   {
    "duration": 9,
    "start_time": "2024-11-07T19:40:33.927Z"
   },
   {
    "duration": 8,
    "start_time": "2024-11-07T19:40:33.939Z"
   },
   {
    "duration": 29881,
    "start_time": "2024-11-07T19:40:33.949Z"
   },
   {
    "duration": 0,
    "start_time": "2024-11-07T19:41:03.832Z"
   },
   {
    "duration": 0,
    "start_time": "2024-11-07T19:41:03.834Z"
   },
   {
    "duration": 0,
    "start_time": "2024-11-07T19:41:03.835Z"
   },
   {
    "duration": 0,
    "start_time": "2024-11-07T19:41:03.837Z"
   },
   {
    "duration": 0,
    "start_time": "2024-11-07T19:41:03.838Z"
   },
   {
    "duration": 0,
    "start_time": "2024-11-07T19:41:03.840Z"
   },
   {
    "duration": 0,
    "start_time": "2024-11-07T19:41:03.841Z"
   },
   {
    "duration": 0,
    "start_time": "2024-11-07T19:41:03.842Z"
   },
   {
    "duration": 4224,
    "start_time": "2024-11-07T19:41:10.933Z"
   },
   {
    "duration": 213,
    "start_time": "2024-11-07T19:41:15.159Z"
   },
   {
    "duration": 925,
    "start_time": "2024-11-07T19:41:15.374Z"
   },
   {
    "duration": 16,
    "start_time": "2024-11-07T19:41:16.301Z"
   },
   {
    "duration": 32,
    "start_time": "2024-11-07T19:41:16.320Z"
   },
   {
    "duration": 247,
    "start_time": "2024-11-07T19:41:16.353Z"
   },
   {
    "duration": 2,
    "start_time": "2024-11-07T19:41:16.602Z"
   },
   {
    "duration": 3,
    "start_time": "2024-11-07T19:41:16.617Z"
   },
   {
    "duration": 5,
    "start_time": "2024-11-07T19:41:16.622Z"
   },
   {
    "duration": 7,
    "start_time": "2024-11-07T19:41:16.628Z"
   },
   {
    "duration": 13,
    "start_time": "2024-11-07T19:41:16.637Z"
   },
   {
    "duration": 51116,
    "start_time": "2024-11-07T19:41:16.651Z"
   },
   {
    "duration": 10,
    "start_time": "2024-11-07T19:42:07.769Z"
   },
   {
    "duration": 7,
    "start_time": "2024-11-07T19:42:07.782Z"
   },
   {
    "duration": 10,
    "start_time": "2024-11-07T19:42:07.791Z"
   },
   {
    "duration": 3,
    "start_time": "2024-11-07T19:42:07.818Z"
   },
   {
    "duration": 350,
    "start_time": "2024-11-07T19:42:07.822Z"
   },
   {
    "duration": 0,
    "start_time": "2024-11-07T19:42:08.174Z"
   },
   {
    "duration": 0,
    "start_time": "2024-11-07T19:42:08.175Z"
   },
   {
    "duration": 0,
    "start_time": "2024-11-07T19:42:08.176Z"
   },
   {
    "duration": 3861,
    "start_time": "2024-11-10T11:31:02.474Z"
   },
   {
    "duration": 132,
    "start_time": "2024-11-10T11:31:06.337Z"
   },
   {
    "duration": 1073,
    "start_time": "2024-11-10T11:31:06.470Z"
   },
   {
    "duration": 9,
    "start_time": "2024-11-10T11:31:07.545Z"
   },
   {
    "duration": 39,
    "start_time": "2024-11-10T11:31:07.555Z"
   },
   {
    "duration": 223,
    "start_time": "2024-11-10T11:31:07.595Z"
   },
   {
    "duration": 2,
    "start_time": "2024-11-10T11:31:07.819Z"
   },
   {
    "duration": 54,
    "start_time": "2024-11-10T11:31:07.822Z"
   },
   {
    "duration": 7,
    "start_time": "2024-11-10T11:31:07.877Z"
   },
   {
    "duration": 28,
    "start_time": "2024-11-10T11:31:07.886Z"
   },
   {
    "duration": 70,
    "start_time": "2024-11-10T11:31:07.915Z"
   },
   {
    "duration": 9,
    "start_time": "2024-11-10T11:31:07.987Z"
   },
   {
    "duration": 42835,
    "start_time": "2024-11-10T11:31:07.997Z"
   },
   {
    "duration": 7,
    "start_time": "2024-11-10T11:31:50.834Z"
   },
   {
    "duration": 11,
    "start_time": "2024-11-10T11:31:50.842Z"
   },
   {
    "duration": 6,
    "start_time": "2024-11-10T11:31:50.855Z"
   },
   {
    "duration": 311,
    "start_time": "2024-11-10T11:31:50.863Z"
   },
   {
    "duration": 0,
    "start_time": "2024-11-10T11:31:51.175Z"
   },
   {
    "duration": 0,
    "start_time": "2024-11-10T11:31:51.176Z"
   },
   {
    "duration": 0,
    "start_time": "2024-11-10T11:31:51.177Z"
   },
   {
    "duration": 0,
    "start_time": "2024-11-10T11:31:51.178Z"
   },
   {
    "duration": 0,
    "start_time": "2024-11-10T11:31:51.179Z"
   },
   {
    "duration": 0,
    "start_time": "2024-11-10T11:31:51.180Z"
   },
   {
    "duration": 3696,
    "start_time": "2024-11-10T11:33:42.777Z"
   },
   {
    "duration": 211,
    "start_time": "2024-11-10T11:33:46.474Z"
   },
   {
    "duration": 804,
    "start_time": "2024-11-10T11:33:46.687Z"
   },
   {
    "duration": 10,
    "start_time": "2024-11-10T11:33:47.493Z"
   },
   {
    "duration": 23,
    "start_time": "2024-11-10T11:33:47.504Z"
   },
   {
    "duration": 248,
    "start_time": "2024-11-10T11:33:47.529Z"
   },
   {
    "duration": 3,
    "start_time": "2024-11-10T11:33:47.778Z"
   },
   {
    "duration": 4,
    "start_time": "2024-11-10T11:33:47.782Z"
   },
   {
    "duration": 4,
    "start_time": "2024-11-10T11:33:47.787Z"
   },
   {
    "duration": 2,
    "start_time": "2024-11-10T11:33:47.794Z"
   },
   {
    "duration": 4,
    "start_time": "2024-11-10T11:33:47.798Z"
   },
   {
    "duration": 68,
    "start_time": "2024-11-10T11:33:47.803Z"
   },
   {
    "duration": 44085,
    "start_time": "2024-11-10T11:33:47.872Z"
   },
   {
    "duration": 7,
    "start_time": "2024-11-10T11:34:31.959Z"
   },
   {
    "duration": 39,
    "start_time": "2024-11-10T11:34:31.968Z"
   },
   {
    "duration": 32,
    "start_time": "2024-11-10T11:34:32.009Z"
   },
   {
    "duration": 11,
    "start_time": "2024-11-10T11:34:32.043Z"
   },
   {
    "duration": 8,
    "start_time": "2024-11-10T11:34:32.055Z"
   },
   {
    "duration": 26,
    "start_time": "2024-11-10T11:34:32.064Z"
   },
   {
    "duration": 345,
    "start_time": "2024-11-10T11:34:32.091Z"
   },
   {
    "duration": 0,
    "start_time": "2024-11-10T11:34:32.438Z"
   },
   {
    "duration": 0,
    "start_time": "2024-11-10T11:34:32.439Z"
   },
   {
    "duration": 0,
    "start_time": "2024-11-10T11:34:32.441Z"
   },
   {
    "duration": 3660,
    "start_time": "2024-11-10T11:35:48.381Z"
   },
   {
    "duration": 209,
    "start_time": "2024-11-10T11:35:52.043Z"
   },
   {
    "duration": 810,
    "start_time": "2024-11-10T11:35:52.253Z"
   },
   {
    "duration": 9,
    "start_time": "2024-11-10T11:35:53.065Z"
   },
   {
    "duration": 21,
    "start_time": "2024-11-10T11:35:53.075Z"
   },
   {
    "duration": 237,
    "start_time": "2024-11-10T11:35:53.097Z"
   },
   {
    "duration": 3,
    "start_time": "2024-11-10T11:35:53.335Z"
   },
   {
    "duration": 21,
    "start_time": "2024-11-10T11:35:53.339Z"
   },
   {
    "duration": 4,
    "start_time": "2024-11-10T11:35:53.361Z"
   },
   {
    "duration": 12,
    "start_time": "2024-11-10T11:35:53.367Z"
   },
   {
    "duration": 15,
    "start_time": "2024-11-10T11:35:53.380Z"
   },
   {
    "duration": 43282,
    "start_time": "2024-11-10T11:35:53.396Z"
   },
   {
    "duration": 7,
    "start_time": "2024-11-10T11:36:36.680Z"
   },
   {
    "duration": 17,
    "start_time": "2024-11-10T11:36:36.689Z"
   },
   {
    "duration": 7,
    "start_time": "2024-11-10T11:36:36.708Z"
   },
   {
    "duration": 9,
    "start_time": "2024-11-10T11:36:36.716Z"
   },
   {
    "duration": 2,
    "start_time": "2024-11-10T11:36:36.726Z"
   },
   {
    "duration": 18,
    "start_time": "2024-11-10T11:36:36.730Z"
   },
   {
    "duration": 328,
    "start_time": "2024-11-10T11:36:36.749Z"
   },
   {
    "duration": 0,
    "start_time": "2024-11-10T11:36:37.078Z"
   },
   {
    "duration": 0,
    "start_time": "2024-11-10T11:36:37.079Z"
   },
   {
    "duration": 0,
    "start_time": "2024-11-10T11:36:37.080Z"
   },
   {
    "duration": 5,
    "start_time": "2024-11-10T11:37:52.234Z"
   },
   {
    "duration": 3,
    "start_time": "2024-11-10T11:37:53.233Z"
   },
   {
    "duration": 4,
    "start_time": "2024-11-10T11:37:55.337Z"
   },
   {
    "duration": 3,
    "start_time": "2024-11-10T11:37:57.074Z"
   },
   {
    "duration": 3641,
    "start_time": "2024-11-10T11:38:43.448Z"
   },
   {
    "duration": 139,
    "start_time": "2024-11-10T11:38:47.091Z"
   },
   {
    "duration": 810,
    "start_time": "2024-11-10T11:38:47.231Z"
   },
   {
    "duration": 15,
    "start_time": "2024-11-10T11:38:48.043Z"
   },
   {
    "duration": 21,
    "start_time": "2024-11-10T11:38:48.060Z"
   },
   {
    "duration": 236,
    "start_time": "2024-11-10T11:38:48.082Z"
   },
   {
    "duration": 2,
    "start_time": "2024-11-10T11:38:48.319Z"
   },
   {
    "duration": 6,
    "start_time": "2024-11-10T11:38:48.323Z"
   },
   {
    "duration": 3,
    "start_time": "2024-11-10T11:38:48.330Z"
   },
   {
    "duration": 20,
    "start_time": "2024-11-10T11:38:48.337Z"
   },
   {
    "duration": 3,
    "start_time": "2024-11-10T11:38:48.359Z"
   },
   {
    "duration": 43097,
    "start_time": "2024-11-10T11:38:48.364Z"
   },
   {
    "duration": 7,
    "start_time": "2024-11-10T11:39:31.463Z"
   },
   {
    "duration": 25,
    "start_time": "2024-11-10T11:39:31.472Z"
   },
   {
    "duration": 11,
    "start_time": "2024-11-10T11:39:31.498Z"
   },
   {
    "duration": 9,
    "start_time": "2024-11-10T11:39:31.510Z"
   },
   {
    "duration": 3,
    "start_time": "2024-11-10T11:39:31.521Z"
   },
   {
    "duration": 19,
    "start_time": "2024-11-10T11:39:31.525Z"
   },
   {
    "duration": 5,
    "start_time": "2024-11-10T11:39:31.545Z"
   },
   {
    "duration": 3,
    "start_time": "2024-11-10T11:39:31.551Z"
   },
   {
    "duration": 5,
    "start_time": "2024-11-10T11:39:31.555Z"
   },
   {
    "duration": 4,
    "start_time": "2024-11-10T11:39:31.561Z"
   },
   {
    "duration": 3582,
    "start_time": "2024-11-10T11:40:42.082Z"
   },
   {
    "duration": 133,
    "start_time": "2024-11-10T11:40:45.665Z"
   },
   {
    "duration": 811,
    "start_time": "2024-11-10T11:40:45.800Z"
   },
   {
    "duration": 9,
    "start_time": "2024-11-10T11:40:46.613Z"
   },
   {
    "duration": 17,
    "start_time": "2024-11-10T11:40:46.623Z"
   },
   {
    "duration": 229,
    "start_time": "2024-11-10T11:40:46.641Z"
   },
   {
    "duration": 2,
    "start_time": "2024-11-10T11:40:46.872Z"
   },
   {
    "duration": 5,
    "start_time": "2024-11-10T11:40:46.875Z"
   },
   {
    "duration": 3,
    "start_time": "2024-11-10T11:40:46.881Z"
   },
   {
    "duration": 3,
    "start_time": "2024-11-10T11:40:46.886Z"
   },
   {
    "duration": 4,
    "start_time": "2024-11-10T11:40:46.890Z"
   },
   {
    "duration": 42699,
    "start_time": "2024-11-10T11:40:46.895Z"
   },
   {
    "duration": 6,
    "start_time": "2024-11-10T11:41:29.596Z"
   },
   {
    "duration": 5,
    "start_time": "2024-11-10T11:41:29.603Z"
   },
   {
    "duration": 4,
    "start_time": "2024-11-10T11:41:29.610Z"
   },
   {
    "duration": 8,
    "start_time": "2024-11-10T11:41:29.615Z"
   },
   {
    "duration": 2,
    "start_time": "2024-11-10T11:41:29.624Z"
   },
   {
    "duration": 30,
    "start_time": "2024-11-10T11:41:29.628Z"
   },
   {
    "duration": 5,
    "start_time": "2024-11-10T11:41:29.659Z"
   },
   {
    "duration": 2,
    "start_time": "2024-11-10T11:41:29.665Z"
   },
   {
    "duration": 5,
    "start_time": "2024-11-10T11:41:29.669Z"
   },
   {
    "duration": 3,
    "start_time": "2024-11-10T11:41:29.676Z"
   },
   {
    "duration": 4,
    "start_time": "2024-11-10T11:42:46.400Z"
   },
   {
    "duration": 3,
    "start_time": "2024-11-10T11:42:47.793Z"
   },
   {
    "duration": 8,
    "start_time": "2024-11-10T11:50:08.626Z"
   },
   {
    "duration": 8,
    "start_time": "2024-11-10T11:50:22.947Z"
   },
   {
    "duration": 2,
    "start_time": "2024-11-10T11:51:26.101Z"
   },
   {
    "duration": 10,
    "start_time": "2024-11-10T11:51:26.605Z"
   },
   {
    "duration": 3,
    "start_time": "2024-11-10T11:51:27.734Z"
   },
   {
    "duration": 4,
    "start_time": "2024-11-10T11:51:28.460Z"
   },
   {
    "duration": 4,
    "start_time": "2024-11-10T11:51:29.400Z"
   },
   {
    "duration": 336,
    "start_time": "2024-11-10T11:53:25.920Z"
   },
   {
    "duration": 11,
    "start_time": "2024-11-10T11:53:39.169Z"
   },
   {
    "duration": 4,
    "start_time": "2024-11-10T11:53:43.295Z"
   },
   {
    "duration": 5,
    "start_time": "2024-11-10T11:59:10.832Z"
   },
   {
    "duration": 3592,
    "start_time": "2024-11-10T12:00:52.373Z"
   },
   {
    "duration": 219,
    "start_time": "2024-11-10T12:00:55.967Z"
   },
   {
    "duration": 787,
    "start_time": "2024-11-10T12:00:56.187Z"
   },
   {
    "duration": 9,
    "start_time": "2024-11-10T12:00:56.976Z"
   },
   {
    "duration": 51,
    "start_time": "2024-11-10T12:00:56.987Z"
   },
   {
    "duration": 229,
    "start_time": "2024-11-10T12:00:57.040Z"
   },
   {
    "duration": 20,
    "start_time": "2024-11-10T12:00:57.271Z"
   },
   {
    "duration": 109,
    "start_time": "2024-11-10T12:00:57.292Z"
   },
   {
    "duration": 2,
    "start_time": "2024-11-10T12:00:57.403Z"
   },
   {
    "duration": 8,
    "start_time": "2024-11-10T12:00:57.407Z"
   },
   {
    "duration": 4,
    "start_time": "2024-11-10T12:00:57.416Z"
   },
   {
    "duration": 5,
    "start_time": "2024-11-10T12:00:57.421Z"
   },
   {
    "duration": 3730,
    "start_time": "2024-11-10T12:12:47.982Z"
   },
   {
    "duration": 154,
    "start_time": "2024-11-10T12:12:51.713Z"
   },
   {
    "duration": 812,
    "start_time": "2024-11-10T12:12:51.868Z"
   },
   {
    "duration": 9,
    "start_time": "2024-11-10T12:12:52.681Z"
   },
   {
    "duration": 19,
    "start_time": "2024-11-10T12:12:52.692Z"
   },
   {
    "duration": 238,
    "start_time": "2024-11-10T12:12:52.712Z"
   },
   {
    "duration": 18,
    "start_time": "2024-11-10T12:12:52.951Z"
   },
   {
    "duration": 107,
    "start_time": "2024-11-10T12:12:52.971Z"
   },
   {
    "duration": 3,
    "start_time": "2024-11-10T12:12:53.080Z"
   },
   {
    "duration": 4,
    "start_time": "2024-11-10T12:12:53.086Z"
   },
   {
    "duration": 4,
    "start_time": "2024-11-10T12:12:53.091Z"
   },
   {
    "duration": 70,
    "start_time": "2024-11-10T12:12:53.097Z"
   },
   {
    "duration": 3558,
    "start_time": "2024-11-10T15:15:50.109Z"
   },
   {
    "duration": 215,
    "start_time": "2024-11-10T15:15:53.669Z"
   },
   {
    "duration": 796,
    "start_time": "2024-11-10T15:15:53.885Z"
   },
   {
    "duration": 9,
    "start_time": "2024-11-10T15:15:54.682Z"
   },
   {
    "duration": 34,
    "start_time": "2024-11-10T15:15:54.692Z"
   },
   {
    "duration": 231,
    "start_time": "2024-11-10T15:15:54.727Z"
   },
   {
    "duration": 14,
    "start_time": "2024-11-10T15:15:54.959Z"
   },
   {
    "duration": 109,
    "start_time": "2024-11-10T15:15:54.975Z"
   },
   {
    "duration": 3,
    "start_time": "2024-11-10T15:15:55.085Z"
   },
   {
    "duration": 6,
    "start_time": "2024-11-10T15:15:55.089Z"
   },
   {
    "duration": 3,
    "start_time": "2024-11-10T15:15:55.097Z"
   },
   {
    "duration": 4,
    "start_time": "2024-11-10T15:15:55.101Z"
   },
   {
    "duration": 3613,
    "start_time": "2024-11-10T15:16:06.504Z"
   },
   {
    "duration": 238,
    "start_time": "2024-11-10T15:16:10.118Z"
   },
   {
    "duration": 791,
    "start_time": "2024-11-10T15:16:10.358Z"
   },
   {
    "duration": 9,
    "start_time": "2024-11-10T15:16:11.150Z"
   },
   {
    "duration": 19,
    "start_time": "2024-11-10T15:16:11.161Z"
   },
   {
    "duration": 233,
    "start_time": "2024-11-10T15:16:11.181Z"
   },
   {
    "duration": 18,
    "start_time": "2024-11-10T15:16:11.415Z"
   },
   {
    "duration": 118,
    "start_time": "2024-11-10T15:16:11.434Z"
   },
   {
    "duration": 5,
    "start_time": "2024-11-10T15:16:11.553Z"
   },
   {
    "duration": 5,
    "start_time": "2024-11-10T15:16:11.559Z"
   },
   {
    "duration": 3,
    "start_time": "2024-11-10T15:16:11.565Z"
   },
   {
    "duration": 3,
    "start_time": "2024-11-10T15:16:11.569Z"
   },
   {
    "duration": 3695,
    "start_time": "2024-11-10T16:25:14.210Z"
   },
   {
    "duration": 200,
    "start_time": "2024-11-10T16:25:17.907Z"
   },
   {
    "duration": 848,
    "start_time": "2024-11-10T16:25:18.108Z"
   },
   {
    "duration": 10,
    "start_time": "2024-11-10T16:25:18.958Z"
   },
   {
    "duration": 21,
    "start_time": "2024-11-10T16:25:18.969Z"
   },
   {
    "duration": 249,
    "start_time": "2024-11-10T16:25:18.991Z"
   },
   {
    "duration": 22,
    "start_time": "2024-11-10T16:25:19.241Z"
   },
   {
    "duration": 110,
    "start_time": "2024-11-10T16:25:19.264Z"
   },
   {
    "duration": 3,
    "start_time": "2024-11-10T16:25:19.375Z"
   },
   {
    "duration": 5,
    "start_time": "2024-11-10T16:25:19.380Z"
   },
   {
    "duration": 11,
    "start_time": "2024-11-10T16:25:19.386Z"
   },
   {
    "duration": 4,
    "start_time": "2024-11-10T16:25:19.399Z"
   },
   {
    "duration": 3612,
    "start_time": "2024-11-10T16:28:53.165Z"
   },
   {
    "duration": 204,
    "start_time": "2024-11-10T16:28:56.779Z"
   },
   {
    "duration": 803,
    "start_time": "2024-11-10T16:28:56.985Z"
   },
   {
    "duration": 10,
    "start_time": "2024-11-10T16:28:57.790Z"
   },
   {
    "duration": 22,
    "start_time": "2024-11-10T16:28:57.801Z"
   },
   {
    "duration": 245,
    "start_time": "2024-11-10T16:28:57.824Z"
   },
   {
    "duration": 18,
    "start_time": "2024-11-10T16:28:58.071Z"
   },
   {
    "duration": 113,
    "start_time": "2024-11-10T16:28:58.091Z"
   },
   {
    "duration": 3,
    "start_time": "2024-11-10T16:28:58.206Z"
   },
   {
    "duration": 3,
    "start_time": "2024-11-10T16:28:58.211Z"
   },
   {
    "duration": 466,
    "start_time": "2024-11-10T16:28:58.216Z"
   },
   {
    "duration": 3,
    "start_time": "2024-11-10T16:28:58.683Z"
   },
   {
    "duration": 3,
    "start_time": "2024-11-10T16:28:58.688Z"
   },
   {
    "duration": 12519,
    "start_time": "2024-11-10T16:28:58.693Z"
   },
   {
    "duration": 7,
    "start_time": "2024-11-10T16:29:11.213Z"
   },
   {
    "duration": 5,
    "start_time": "2024-11-10T16:29:11.221Z"
   },
   {
    "duration": 5,
    "start_time": "2024-11-10T16:29:11.227Z"
   },
   {
    "duration": 38,
    "start_time": "2024-11-10T16:29:11.233Z"
   },
   {
    "duration": 11,
    "start_time": "2024-11-10T16:29:11.272Z"
   },
   {
    "duration": 26,
    "start_time": "2024-11-10T16:29:11.284Z"
   },
   {
    "duration": 3,
    "start_time": "2024-11-10T16:29:11.311Z"
   },
   {
    "duration": 3599,
    "start_time": "2024-11-10T16:29:32.865Z"
   },
   {
    "duration": 235,
    "start_time": "2024-11-10T16:29:36.466Z"
   },
   {
    "duration": 796,
    "start_time": "2024-11-10T16:29:36.702Z"
   },
   {
    "duration": 8,
    "start_time": "2024-11-10T16:29:37.500Z"
   },
   {
    "duration": 19,
    "start_time": "2024-11-10T16:29:37.510Z"
   },
   {
    "duration": 236,
    "start_time": "2024-11-10T16:29:37.531Z"
   },
   {
    "duration": 17,
    "start_time": "2024-11-10T16:29:37.768Z"
   },
   {
    "duration": 112,
    "start_time": "2024-11-10T16:29:37.787Z"
   },
   {
    "duration": 3,
    "start_time": "2024-11-10T16:29:37.901Z"
   },
   {
    "duration": 7,
    "start_time": "2024-11-10T16:29:37.906Z"
   },
   {
    "duration": 451,
    "start_time": "2024-11-10T16:29:37.914Z"
   },
   {
    "duration": 4,
    "start_time": "2024-11-10T16:29:38.366Z"
   },
   {
    "duration": 18,
    "start_time": "2024-11-10T16:29:38.371Z"
   },
   {
    "duration": 1788346,
    "start_time": "2024-11-10T16:29:38.391Z"
   },
   {
    "duration": 8,
    "start_time": "2024-11-10T16:59:26.739Z"
   },
   {
    "duration": 18,
    "start_time": "2024-11-10T16:59:26.757Z"
   },
   {
    "duration": 98,
    "start_time": "2024-11-10T16:59:26.777Z"
   },
   {
    "duration": 2919,
    "start_time": "2024-11-10T16:59:26.877Z"
   },
   {
    "duration": 1146,
    "start_time": "2024-11-10T16:59:29.798Z"
   },
   {
    "duration": 33117,
    "start_time": "2024-11-10T16:59:30.945Z"
   },
   {
    "duration": 3,
    "start_time": "2024-11-10T17:00:04.064Z"
   },
   {
    "duration": 307,
    "start_time": "2024-11-10T17:09:38.007Z"
   },
   {
    "duration": 38943,
    "start_time": "2024-11-10T17:09:47.320Z"
   },
   {
    "duration": 4,
    "start_time": "2024-11-10T17:10:26.265Z"
   },
   {
    "duration": 20,
    "start_time": "2024-11-10T19:45:21.477Z"
   },
   {
    "duration": 16,
    "start_time": "2024-11-10T19:45:29.125Z"
   },
   {
    "duration": 3,
    "start_time": "2024-11-10T19:45:38.285Z"
   },
   {
    "duration": 111,
    "start_time": "2024-11-10T19:45:39.341Z"
   },
   {
    "duration": 14,
    "start_time": "2024-11-10T19:45:47.765Z"
   },
   {
    "duration": 3,
    "start_time": "2024-11-10T19:45:58.405Z"
   },
   {
    "duration": 260015,
    "start_time": "2024-11-10T19:45:59.773Z"
   },
   {
    "duration": 0,
    "start_time": "2024-11-10T19:50:19.790Z"
   },
   {
    "duration": 0,
    "start_time": "2024-11-10T19:50:19.791Z"
   },
   {
    "duration": 0,
    "start_time": "2024-11-10T19:50:19.792Z"
   },
   {
    "duration": 2,
    "start_time": "2024-11-10T19:50:22.085Z"
   },
   {
    "duration": 35,
    "start_time": "2024-11-10T19:50:24.236Z"
   },
   {
    "duration": 2,
    "start_time": "2024-11-10T19:50:36.477Z"
   },
   {
    "duration": 3,
    "start_time": "2024-11-10T19:50:37.613Z"
   },
   {
    "duration": 0,
    "start_time": "2024-11-10T19:52:31.970Z"
   },
   {
    "duration": 0,
    "start_time": "2024-11-10T19:52:31.971Z"
   },
   {
    "duration": 16,
    "start_time": "2024-11-10T19:53:40.033Z"
   },
   {
    "duration": 16,
    "start_time": "2024-11-10T19:53:53.873Z"
   },
   {
    "duration": 3,
    "start_time": "2024-11-10T19:54:07.497Z"
   },
   {
    "duration": 17,
    "start_time": "2024-11-10T19:54:08.313Z"
   },
   {
    "duration": 3,
    "start_time": "2024-11-10T19:55:16.315Z"
   },
   {
    "duration": 3,
    "start_time": "2024-11-10T19:55:17.139Z"
   },
   {
    "duration": 35,
    "start_time": "2024-11-10T19:55:17.987Z"
   },
   {
    "duration": 3,
    "start_time": "2024-11-10T19:55:36.156Z"
   },
   {
    "duration": 3,
    "start_time": "2024-11-10T19:55:36.803Z"
   },
   {
    "duration": 37,
    "start_time": "2024-11-10T19:55:37.300Z"
   },
   {
    "duration": 3,
    "start_time": "2024-11-10T20:00:19.082Z"
   },
   {
    "duration": 2,
    "start_time": "2024-11-10T20:00:19.883Z"
   },
   {
    "duration": 36,
    "start_time": "2024-11-10T20:00:21.532Z"
   },
   {
    "duration": 3,
    "start_time": "2024-11-10T20:00:41.875Z"
   },
   {
    "duration": 37,
    "start_time": "2024-11-10T20:00:43.212Z"
   },
   {
    "duration": 19,
    "start_time": "2024-11-10T20:00:53.092Z"
   },
   {
    "duration": 3,
    "start_time": "2024-11-10T20:01:00.483Z"
   },
   {
    "duration": 2,
    "start_time": "2024-11-10T20:01:11.364Z"
   },
   {
    "duration": 4078,
    "start_time": "2024-11-10T20:04:15.284Z"
   },
   {
    "duration": 202,
    "start_time": "2024-11-10T20:04:19.364Z"
   },
   {
    "duration": 832,
    "start_time": "2024-11-10T20:04:19.568Z"
   },
   {
    "duration": 8,
    "start_time": "2024-11-10T20:04:20.402Z"
   },
   {
    "duration": 23,
    "start_time": "2024-11-10T20:04:20.411Z"
   },
   {
    "duration": 240,
    "start_time": "2024-11-10T20:04:20.435Z"
   },
   {
    "duration": 18,
    "start_time": "2024-11-10T20:04:20.677Z"
   },
   {
    "duration": 180,
    "start_time": "2024-11-10T20:04:20.697Z"
   },
   {
    "duration": 2,
    "start_time": "2024-11-10T20:04:20.879Z"
   },
   {
    "duration": 4,
    "start_time": "2024-11-10T20:04:20.884Z"
   },
   {
    "duration": 487,
    "start_time": "2024-11-10T20:04:20.889Z"
   },
   {
    "duration": 4,
    "start_time": "2024-11-10T20:04:21.377Z"
   },
   {
    "duration": 42,
    "start_time": "2024-11-10T20:04:21.382Z"
   },
   {
    "duration": 13099,
    "start_time": "2024-11-10T20:04:21.426Z"
   },
   {
    "duration": 8,
    "start_time": "2024-11-10T20:04:34.527Z"
   },
   {
    "duration": 12,
    "start_time": "2024-11-10T20:04:34.536Z"
   },
   {
    "duration": 22,
    "start_time": "2024-11-10T20:04:34.549Z"
   },
   {
    "duration": 49,
    "start_time": "2024-11-10T20:04:34.572Z"
   },
   {
    "duration": 13,
    "start_time": "2024-11-10T20:04:34.623Z"
   },
   {
    "duration": 3,
    "start_time": "2024-11-10T20:04:34.638Z"
   },
   {
    "duration": 17,
    "start_time": "2024-11-10T20:04:34.643Z"
   },
   {
    "duration": 10,
    "start_time": "2024-11-10T20:04:34.661Z"
   },
   {
    "duration": 552,
    "start_time": "2024-11-10T20:04:34.673Z"
   },
   {
    "duration": 3,
    "start_time": "2024-11-10T20:04:35.226Z"
   },
   {
    "duration": 337,
    "start_time": "2024-11-10T20:04:35.231Z"
   },
   {
    "duration": 0,
    "start_time": "2024-11-10T20:04:35.569Z"
   },
   {
    "duration": 3661,
    "start_time": "2024-11-10T20:11:09.649Z"
   },
   {
    "duration": 217,
    "start_time": "2024-11-10T20:11:13.311Z"
   },
   {
    "duration": 797,
    "start_time": "2024-11-10T20:11:13.533Z"
   },
   {
    "duration": 10,
    "start_time": "2024-11-10T20:11:14.331Z"
   },
   {
    "duration": 23,
    "start_time": "2024-11-10T20:11:14.342Z"
   },
   {
    "duration": 236,
    "start_time": "2024-11-10T20:11:14.366Z"
   },
   {
    "duration": 19,
    "start_time": "2024-11-10T20:11:14.604Z"
   },
   {
    "duration": 109,
    "start_time": "2024-11-10T20:11:14.624Z"
   },
   {
    "duration": 2,
    "start_time": "2024-11-10T20:11:14.735Z"
   },
   {
    "duration": 65,
    "start_time": "2024-11-10T20:11:14.738Z"
   },
   {
    "duration": 461,
    "start_time": "2024-11-10T20:11:14.805Z"
   },
   {
    "duration": 3,
    "start_time": "2024-11-10T20:11:15.267Z"
   },
   {
    "duration": 26,
    "start_time": "2024-11-10T20:11:15.271Z"
   },
   {
    "duration": 1819144,
    "start_time": "2024-11-10T20:11:15.299Z"
   },
   {
    "duration": 7,
    "start_time": "2024-11-10T20:41:34.445Z"
   },
   {
    "duration": 46,
    "start_time": "2024-11-10T20:41:34.453Z"
   },
   {
    "duration": 46,
    "start_time": "2024-11-10T20:41:34.500Z"
   },
   {
    "duration": 2851,
    "start_time": "2024-11-10T20:41:34.548Z"
   },
   {
    "duration": 1169,
    "start_time": "2024-11-10T20:41:37.400Z"
   },
   {
    "duration": 2,
    "start_time": "2024-11-10T20:41:38.570Z"
   },
   {
    "duration": 12,
    "start_time": "2024-11-10T20:41:38.573Z"
   },
   {
    "duration": 355771,
    "start_time": "2024-11-10T20:41:38.586Z"
   },
   {
    "duration": 4,
    "start_time": "2024-11-10T20:47:34.359Z"
   },
   {
    "duration": 416,
    "start_time": "2024-11-10T20:47:34.364Z"
   },
   {
    "duration": 0,
    "start_time": "2024-11-10T20:47:34.781Z"
   },
   {
    "duration": 0,
    "start_time": "2024-11-10T20:47:34.783Z"
   },
   {
    "duration": 18,
    "start_time": "2024-11-10T20:47:59.999Z"
   },
   {
    "duration": 17,
    "start_time": "2024-11-10T20:48:32.567Z"
   },
   {
    "duration": 14,
    "start_time": "2024-11-10T20:48:38.728Z"
   },
   {
    "duration": 20,
    "start_time": "2024-11-10T20:48:39.519Z"
   },
   {
    "duration": 3,
    "start_time": "2024-11-10T20:49:05.160Z"
   },
   {
    "duration": 169966,
    "start_time": "2024-11-10T20:49:05.904Z"
   },
   {
    "duration": 4896,
    "start_time": "2024-11-11T08:44:32.116Z"
   },
   {
    "duration": 139,
    "start_time": "2024-11-11T08:44:37.014Z"
   },
   {
    "duration": 1300,
    "start_time": "2024-11-11T08:44:37.155Z"
   },
   {
    "duration": 12,
    "start_time": "2024-11-11T08:44:38.457Z"
   },
   {
    "duration": 53,
    "start_time": "2024-11-11T08:44:38.472Z"
   },
   {
    "duration": 234,
    "start_time": "2024-11-11T08:44:38.527Z"
   },
   {
    "duration": 29,
    "start_time": "2024-11-11T08:44:38.763Z"
   },
   {
    "duration": 153,
    "start_time": "2024-11-11T08:44:38.793Z"
   },
   {
    "duration": 3,
    "start_time": "2024-11-11T08:44:38.948Z"
   },
   {
    "duration": 57,
    "start_time": "2024-11-11T08:44:38.952Z"
   },
   {
    "duration": 548,
    "start_time": "2024-11-11T08:44:39.011Z"
   },
   {
    "duration": 3,
    "start_time": "2024-11-11T08:44:39.561Z"
   },
   {
    "duration": 51,
    "start_time": "2024-11-11T08:44:39.566Z"
   },
   {
    "duration": 7926,
    "start_time": "2024-11-11T08:44:39.619Z"
   },
   {
    "duration": 8,
    "start_time": "2024-11-11T08:44:47.547Z"
   },
   {
    "duration": 58,
    "start_time": "2024-11-11T08:44:47.556Z"
   },
   {
    "duration": 46,
    "start_time": "2024-11-11T08:44:47.615Z"
   },
   {
    "duration": 63,
    "start_time": "2024-11-11T08:44:47.663Z"
   },
   {
    "duration": 95,
    "start_time": "2024-11-11T08:44:47.727Z"
   },
   {
    "duration": 16,
    "start_time": "2024-11-11T08:44:47.823Z"
   },
   {
    "duration": 7,
    "start_time": "2024-11-11T08:44:47.841Z"
   },
   {
    "duration": 300,
    "start_time": "2024-11-11T08:44:47.850Z"
   },
   {
    "duration": 4,
    "start_time": "2024-11-11T08:44:48.152Z"
   },
   {
    "duration": 13,
    "start_time": "2024-11-11T08:44:48.158Z"
   },
   {
    "duration": 5,
    "start_time": "2024-11-11T08:44:48.172Z"
   },
   {
    "duration": 15,
    "start_time": "2024-11-11T08:44:48.178Z"
   },
   {
    "duration": 43,
    "start_time": "2024-11-11T08:44:48.195Z"
   },
   {
    "duration": 39,
    "start_time": "2024-11-11T08:44:48.240Z"
   },
   {
    "duration": 4,
    "start_time": "2024-11-11T08:45:02.286Z"
   },
   {
    "duration": 4528,
    "start_time": "2024-11-11T08:45:52.684Z"
   },
   {
    "duration": 230,
    "start_time": "2024-11-11T08:45:57.214Z"
   },
   {
    "duration": 913,
    "start_time": "2024-11-11T08:45:57.446Z"
   },
   {
    "duration": 9,
    "start_time": "2024-11-11T08:45:58.361Z"
   },
   {
    "duration": 35,
    "start_time": "2024-11-11T08:45:58.373Z"
   },
   {
    "duration": 247,
    "start_time": "2024-11-11T08:45:58.410Z"
   },
   {
    "duration": 27,
    "start_time": "2024-11-11T08:45:58.659Z"
   },
   {
    "duration": 151,
    "start_time": "2024-11-11T08:45:58.688Z"
   },
   {
    "duration": 3,
    "start_time": "2024-11-11T08:45:58.842Z"
   },
   {
    "duration": 11,
    "start_time": "2024-11-11T08:45:58.847Z"
   },
   {
    "duration": 542,
    "start_time": "2024-11-11T08:45:58.860Z"
   },
   {
    "duration": 4,
    "start_time": "2024-11-11T08:45:59.404Z"
   },
   {
    "duration": 46,
    "start_time": "2024-11-11T08:45:59.409Z"
   },
   {
    "duration": 2309223,
    "start_time": "2024-11-11T08:45:59.458Z"
   },
   {
    "duration": 9,
    "start_time": "2024-11-11T09:24:28.683Z"
   },
   {
    "duration": 84,
    "start_time": "2024-11-11T09:24:28.694Z"
   },
   {
    "duration": 76,
    "start_time": "2024-11-11T09:24:28.780Z"
   },
   {
    "duration": 3640,
    "start_time": "2024-11-11T09:24:28.858Z"
   },
   {
    "duration": 1383,
    "start_time": "2024-11-11T09:24:32.499Z"
   },
   {
    "duration": 3,
    "start_time": "2024-11-11T09:24:33.884Z"
   },
   {
    "duration": 85,
    "start_time": "2024-11-11T09:24:33.888Z"
   },
   {
    "duration": 479384,
    "start_time": "2024-11-11T09:24:33.975Z"
   },
   {
    "duration": 5,
    "start_time": "2024-11-11T09:32:33.362Z"
   },
   {
    "duration": 83,
    "start_time": "2024-11-11T09:32:33.369Z"
   },
   {
    "duration": 5,
    "start_time": "2024-11-11T09:32:33.455Z"
   },
   {
    "duration": 87,
    "start_time": "2024-11-11T09:32:33.462Z"
   },
   {
    "duration": 47,
    "start_time": "2024-11-11T09:32:33.551Z"
   },
   {
    "duration": 3,
    "start_time": "2024-11-11T09:32:33.599Z"
   },
   {
    "duration": 6531,
    "start_time": "2024-11-11T11:01:12.609Z"
   },
   {
    "duration": 201,
    "start_time": "2024-11-11T11:01:19.142Z"
   },
   {
    "duration": 1442,
    "start_time": "2024-11-11T11:01:19.345Z"
   },
   {
    "duration": 10,
    "start_time": "2024-11-11T11:01:20.789Z"
   },
   {
    "duration": 50,
    "start_time": "2024-11-11T11:01:20.809Z"
   },
   {
    "duration": 231,
    "start_time": "2024-11-11T11:01:20.861Z"
   },
   {
    "duration": 36,
    "start_time": "2024-11-11T11:01:21.093Z"
   },
   {
    "duration": 149,
    "start_time": "2024-11-11T11:01:21.131Z"
   },
   {
    "duration": 4,
    "start_time": "2024-11-11T11:01:21.281Z"
   },
   {
    "duration": 919,
    "start_time": "2024-11-11T11:01:21.287Z"
   },
   {
    "duration": 8,
    "start_time": "2024-11-11T11:01:22.208Z"
   },
   {
    "duration": 4,
    "start_time": "2024-11-11T11:01:22.218Z"
   },
   {
    "duration": 2195463,
    "start_time": "2024-11-11T11:01:22.224Z"
   },
   {
    "duration": 13,
    "start_time": "2024-11-11T11:37:57.690Z"
   },
   {
    "duration": 39,
    "start_time": "2024-11-11T11:37:57.713Z"
   },
   {
    "duration": 97,
    "start_time": "2024-11-11T11:37:57.753Z"
   },
   {
    "duration": 4018,
    "start_time": "2024-11-11T11:37:57.852Z"
   },
   {
    "duration": 1645,
    "start_time": "2024-11-11T11:38:01.872Z"
   },
   {
    "duration": 3,
    "start_time": "2024-11-11T11:38:03.519Z"
   },
   {
    "duration": 14,
    "start_time": "2024-11-11T11:38:03.524Z"
   },
   {
    "duration": 477064,
    "start_time": "2024-11-11T11:38:03.539Z"
   },
   {
    "duration": 4,
    "start_time": "2024-11-11T11:46:00.605Z"
   },
   {
    "duration": 97,
    "start_time": "2024-11-11T11:46:00.612Z"
   },
   {
    "duration": 19,
    "start_time": "2024-11-11T11:46:00.710Z"
   },
   {
    "duration": 17,
    "start_time": "2024-11-11T11:46:00.730Z"
   },
   {
    "duration": 3767,
    "start_time": "2024-11-11T19:41:43.796Z"
   },
   {
    "duration": 128,
    "start_time": "2024-11-11T19:41:47.565Z"
   },
   {
    "duration": 1140,
    "start_time": "2024-11-11T19:41:47.694Z"
   },
   {
    "duration": 9,
    "start_time": "2024-11-11T19:41:48.836Z"
   },
   {
    "duration": 51,
    "start_time": "2024-11-11T19:41:48.846Z"
   },
   {
    "duration": 226,
    "start_time": "2024-11-11T19:41:48.899Z"
   },
   {
    "duration": 19,
    "start_time": "2024-11-11T19:41:49.126Z"
   },
   {
    "duration": 129,
    "start_time": "2024-11-11T19:41:49.147Z"
   },
   {
    "duration": 298,
    "start_time": "2024-11-11T19:41:49.277Z"
   },
   {
    "duration": 0,
    "start_time": "2024-11-11T19:41:49.577Z"
   },
   {
    "duration": 0,
    "start_time": "2024-11-11T19:41:49.578Z"
   },
   {
    "duration": 0,
    "start_time": "2024-11-11T19:41:49.579Z"
   },
   {
    "duration": 0,
    "start_time": "2024-11-11T19:41:49.580Z"
   },
   {
    "duration": 0,
    "start_time": "2024-11-11T19:41:49.581Z"
   },
   {
    "duration": 0,
    "start_time": "2024-11-11T19:41:49.582Z"
   },
   {
    "duration": 0,
    "start_time": "2024-11-11T19:41:49.582Z"
   },
   {
    "duration": 0,
    "start_time": "2024-11-11T19:41:49.583Z"
   },
   {
    "duration": 0,
    "start_time": "2024-11-11T19:41:49.584Z"
   },
   {
    "duration": 0,
    "start_time": "2024-11-11T19:41:49.585Z"
   },
   {
    "duration": 0,
    "start_time": "2024-11-11T19:41:49.586Z"
   },
   {
    "duration": 0,
    "start_time": "2024-11-11T19:41:49.587Z"
   },
   {
    "duration": 0,
    "start_time": "2024-11-11T19:41:49.587Z"
   },
   {
    "duration": 0,
    "start_time": "2024-11-11T19:41:49.588Z"
   },
   {
    "duration": 0,
    "start_time": "2024-11-11T19:41:49.608Z"
   },
   {
    "duration": 0,
    "start_time": "2024-11-11T19:41:49.609Z"
   },
   {
    "duration": 0,
    "start_time": "2024-11-11T19:41:49.610Z"
   },
   {
    "duration": 107,
    "start_time": "2024-11-11T19:42:33.613Z"
   },
   {
    "duration": 3712,
    "start_time": "2024-11-11T20:02:14.573Z"
   },
   {
    "duration": 216,
    "start_time": "2024-11-11T20:02:18.287Z"
   },
   {
    "duration": 817,
    "start_time": "2024-11-11T20:02:18.505Z"
   },
   {
    "duration": 9,
    "start_time": "2024-11-11T20:02:19.323Z"
   },
   {
    "duration": 94,
    "start_time": "2024-11-11T20:02:19.334Z"
   },
   {
    "duration": 229,
    "start_time": "2024-11-11T20:02:19.430Z"
   },
   {
    "duration": 19,
    "start_time": "2024-11-11T20:02:19.661Z"
   },
   {
    "duration": 129,
    "start_time": "2024-11-11T20:02:19.681Z"
   },
   {
    "duration": 3,
    "start_time": "2024-11-11T20:02:19.812Z"
   },
   {
    "duration": 504,
    "start_time": "2024-11-11T20:02:19.818Z"
   },
   {
    "duration": 3,
    "start_time": "2024-11-11T20:02:20.324Z"
   },
   {
    "duration": 46,
    "start_time": "2024-11-11T20:02:20.328Z"
   },
   {
    "duration": 1863151,
    "start_time": "2024-11-11T20:02:20.376Z"
   },
   {
    "duration": 9,
    "start_time": "2024-11-11T20:33:23.528Z"
   },
   {
    "duration": 28,
    "start_time": "2024-11-11T20:33:23.538Z"
   },
   {
    "duration": 48,
    "start_time": "2024-11-11T20:33:23.567Z"
   },
   {
    "duration": 3714,
    "start_time": "2024-11-11T20:33:23.616Z"
   },
   {
    "duration": 404,
    "start_time": "2024-11-11T20:33:27.331Z"
   },
   {
    "duration": 3,
    "start_time": "2024-11-11T20:33:27.736Z"
   },
   {
    "duration": 46,
    "start_time": "2024-11-11T20:33:27.740Z"
   },
   {
    "duration": 14,
    "start_time": "2024-11-11T20:33:27.787Z"
   },
   {
    "duration": 324,
    "start_time": "2024-11-11T20:33:27.803Z"
   },
   {
    "duration": 0,
    "start_time": "2024-11-11T20:33:28.128Z"
   },
   {
    "duration": 0,
    "start_time": "2024-11-11T20:33:28.129Z"
   },
   {
    "duration": 0,
    "start_time": "2024-11-11T20:33:28.130Z"
   },
   {
    "duration": 0,
    "start_time": "2024-11-11T20:33:28.131Z"
   },
   {
    "duration": 0,
    "start_time": "2024-11-11T20:33:28.132Z"
   },
   {
    "duration": 0,
    "start_time": "2024-11-11T20:33:28.132Z"
   },
   {
    "duration": 0,
    "start_time": "2024-11-11T20:33:28.133Z"
   },
   {
    "duration": 70,
    "start_time": "2024-11-11T20:37:18.502Z"
   },
   {
    "duration": 67,
    "start_time": "2024-11-11T20:37:25.494Z"
   },
   {
    "duration": 5,
    "start_time": "2024-11-11T20:37:32.254Z"
   },
   {
    "duration": 50,
    "start_time": "2024-11-11T20:37:34.502Z"
   },
   {
    "duration": 48,
    "start_time": "2024-11-11T20:38:16.001Z"
   },
   {
    "duration": 2,
    "start_time": "2024-11-11T20:39:22.849Z"
   },
   {
    "duration": 2,
    "start_time": "2024-11-11T20:39:23.345Z"
   },
   {
    "duration": 13,
    "start_time": "2024-11-11T20:39:23.976Z"
   },
   {
    "duration": 3,
    "start_time": "2024-11-11T20:39:25.081Z"
   },
   {
    "duration": 45,
    "start_time": "2024-11-11T20:39:27.659Z"
   },
   {
    "duration": 16,
    "start_time": "2024-11-11T20:39:55.377Z"
   },
   {
    "duration": 3,
    "start_time": "2024-11-11T20:40:10.634Z"
   },
   {
    "duration": 2,
    "start_time": "2024-11-11T20:40:21.930Z"
   },
   {
    "duration": 47,
    "start_time": "2024-11-11T20:40:30.707Z"
   },
   {
    "duration": 51,
    "start_time": "2024-11-11T20:41:08.613Z"
   },
   {
    "duration": 14,
    "start_time": "2024-11-11T20:41:36.821Z"
   },
   {
    "duration": 46,
    "start_time": "2024-11-11T20:41:44.884Z"
   },
   {
    "duration": 50,
    "start_time": "2024-11-11T20:41:50.926Z"
   },
   {
    "duration": 52,
    "start_time": "2024-11-11T20:42:35.154Z"
   },
   {
    "duration": 62,
    "start_time": "2024-11-11T20:42:49.791Z"
   },
   {
    "duration": 47,
    "start_time": "2024-11-11T20:42:54.198Z"
   },
   {
    "duration": 337207,
    "start_time": "2024-11-11T20:43:15.617Z"
   },
   {
    "duration": 0,
    "start_time": "2024-11-11T20:48:52.826Z"
   },
   {
    "duration": 5196,
    "start_time": "2024-11-12T08:06:59.216Z"
   },
   {
    "duration": 235,
    "start_time": "2024-11-12T08:07:04.414Z"
   },
   {
    "duration": 1293,
    "start_time": "2024-11-12T08:07:04.651Z"
   },
   {
    "duration": 10,
    "start_time": "2024-11-12T08:07:05.946Z"
   },
   {
    "duration": 69,
    "start_time": "2024-11-12T08:07:05.957Z"
   },
   {
    "duration": 256,
    "start_time": "2024-11-12T08:07:06.028Z"
   },
   {
    "duration": 35,
    "start_time": "2024-11-12T08:07:06.286Z"
   },
   {
    "duration": 182,
    "start_time": "2024-11-12T08:07:06.323Z"
   },
   {
    "duration": 4,
    "start_time": "2024-11-12T08:07:06.507Z"
   },
   {
    "duration": 576,
    "start_time": "2024-11-12T08:07:06.514Z"
   },
   {
    "duration": 4,
    "start_time": "2024-11-12T08:07:07.091Z"
   },
   {
    "duration": 68,
    "start_time": "2024-11-12T08:07:07.096Z"
   },
   {
    "duration": 2329796,
    "start_time": "2024-11-12T08:07:07.166Z"
   },
   {
    "duration": 10,
    "start_time": "2024-11-12T08:45:56.964Z"
   },
   {
    "duration": 30,
    "start_time": "2024-11-12T08:45:56.976Z"
   },
   {
    "duration": 66,
    "start_time": "2024-11-12T08:45:57.021Z"
   },
   {
    "duration": 4602,
    "start_time": "2024-11-12T08:45:57.089Z"
   },
   {
    "duration": 513,
    "start_time": "2024-11-12T08:46:01.693Z"
   },
   {
    "duration": 2,
    "start_time": "2024-11-12T08:46:02.208Z"
   },
   {
    "duration": 37,
    "start_time": "2024-11-12T08:46:02.220Z"
   },
   {
    "duration": 28,
    "start_time": "2024-11-12T08:46:02.259Z"
   },
   {
    "duration": 376,
    "start_time": "2024-11-12T08:46:02.289Z"
   },
   {
    "duration": 0,
    "start_time": "2024-11-12T08:46:02.667Z"
   },
   {
    "duration": 0,
    "start_time": "2024-11-12T08:46:02.669Z"
   },
   {
    "duration": 0,
    "start_time": "2024-11-12T08:46:02.671Z"
   },
   {
    "duration": 0,
    "start_time": "2024-11-12T08:46:02.671Z"
   },
   {
    "duration": 0,
    "start_time": "2024-11-12T08:46:02.672Z"
   },
   {
    "duration": 0,
    "start_time": "2024-11-12T08:46:02.674Z"
   },
   {
    "duration": 3,
    "start_time": "2024-11-12T08:47:20.188Z"
   },
   {
    "duration": 50,
    "start_time": "2024-11-12T08:47:22.342Z"
   },
   {
    "duration": 3,
    "start_time": "2024-11-12T08:47:42.068Z"
   },
   {
    "duration": 50,
    "start_time": "2024-11-12T08:47:43.967Z"
   },
   {
    "duration": 4,
    "start_time": "2024-11-12T08:48:03.245Z"
   },
   {
    "duration": 4,
    "start_time": "2024-11-12T08:48:35.270Z"
   },
   {
    "duration": 48,
    "start_time": "2024-11-12T08:48:37.302Z"
   },
   {
    "duration": 3,
    "start_time": "2024-11-12T08:49:06.447Z"
   },
   {
    "duration": 670846,
    "start_time": "2024-11-12T08:49:08.176Z"
   },
   {
    "duration": 4,
    "start_time": "2024-11-12T09:00:19.024Z"
   },
   {
    "duration": 4358,
    "start_time": "2024-11-12T09:11:18.250Z"
   },
   {
    "duration": 143,
    "start_time": "2024-11-12T09:11:22.610Z"
   },
   {
    "duration": 930,
    "start_time": "2024-11-12T09:11:22.755Z"
   },
   {
    "duration": 10,
    "start_time": "2024-11-12T09:11:23.687Z"
   },
   {
    "duration": 42,
    "start_time": "2024-11-12T09:11:23.698Z"
   },
   {
    "duration": 238,
    "start_time": "2024-11-12T09:11:23.742Z"
   },
   {
    "duration": 41,
    "start_time": "2024-11-12T09:11:23.982Z"
   },
   {
    "duration": 151,
    "start_time": "2024-11-12T09:11:24.024Z"
   },
   {
    "duration": 5,
    "start_time": "2024-11-12T09:11:24.176Z"
   },
   {
    "duration": 555,
    "start_time": "2024-11-12T09:11:24.183Z"
   },
   {
    "duration": 3,
    "start_time": "2024-11-12T09:11:24.740Z"
   },
   {
    "duration": 4,
    "start_time": "2024-11-12T09:11:24.745Z"
   },
   {
    "duration": 2346570,
    "start_time": "2024-11-12T09:11:24.750Z"
   },
   {
    "duration": 8,
    "start_time": "2024-11-12T09:50:31.322Z"
   },
   {
    "duration": 27,
    "start_time": "2024-11-12T09:50:31.343Z"
   },
   {
    "duration": 72,
    "start_time": "2024-11-12T09:50:31.372Z"
   },
   {
    "duration": 4617,
    "start_time": "2024-11-12T09:50:31.446Z"
   },
   {
    "duration": 475,
    "start_time": "2024-11-12T09:50:36.065Z"
   },
   {
    "duration": 2,
    "start_time": "2024-11-12T09:50:36.542Z"
   },
   {
    "duration": 38,
    "start_time": "2024-11-12T09:50:36.546Z"
   },
   {
    "duration": 10,
    "start_time": "2024-11-12T09:50:36.586Z"
   },
   {
    "duration": 27,
    "start_time": "2024-11-12T09:50:36.599Z"
   },
   {
    "duration": 677996,
    "start_time": "2024-11-12T09:50:36.628Z"
   },
   {
    "duration": 3,
    "start_time": "2024-11-12T10:01:54.626Z"
   },
   {
    "duration": 394,
    "start_time": "2024-11-12T10:01:54.631Z"
   },
   {
    "duration": 0,
    "start_time": "2024-11-12T10:01:55.028Z"
   },
   {
    "duration": 0,
    "start_time": "2024-11-12T10:01:55.029Z"
   },
   {
    "duration": 0,
    "start_time": "2024-11-12T10:01:55.031Z"
   },
   {
    "duration": 0,
    "start_time": "2024-11-12T10:01:55.033Z"
   },
   {
    "duration": 4,
    "start_time": "2024-11-12T10:10:51.006Z"
   },
   {
    "duration": 3,
    "start_time": "2024-11-12T10:11:12.627Z"
   },
   {
    "duration": 51,
    "start_time": "2024-11-12T10:11:18.251Z"
   },
   {
    "duration": 49,
    "start_time": "2024-11-12T10:11:22.020Z"
   },
   {
    "duration": 3,
    "start_time": "2024-11-12T10:11:38.636Z"
   },
   {
    "duration": 51,
    "start_time": "2024-11-12T10:11:44.796Z"
   },
   {
    "duration": 3,
    "start_time": "2024-11-12T10:12:55.909Z"
   },
   {
    "duration": 211735,
    "start_time": "2024-11-12T10:12:59.245Z"
   },
   {
    "duration": 4,
    "start_time": "2024-11-12T10:17:49.851Z"
   },
   {
    "duration": 3,
    "start_time": "2024-11-12T10:18:33.268Z"
   },
   {
    "duration": 26,
    "start_time": "2024-11-12T10:18:36.547Z"
   },
   {
    "duration": 456,
    "start_time": "2024-11-12T10:19:22.646Z"
   },
   {
    "duration": 9,
    "start_time": "2024-11-12T10:19:25.157Z"
   }
  ],
  "kernelspec": {
   "display_name": "Python 3 (ipykernel)",
   "language": "python",
   "name": "python3"
  },
  "language_info": {
   "codemirror_mode": {
    "name": "ipython",
    "version": 3
   },
   "file_extension": ".py",
   "mimetype": "text/x-python",
   "name": "python",
   "nbconvert_exporter": "python",
   "pygments_lexer": "ipython3",
   "version": "3.11.7"
  },
  "toc": {
   "base_numbering": 1,
   "nav_menu": {},
   "number_sections": true,
   "sideBar": true,
   "skip_h1_title": true,
   "title_cell": "Содержание",
   "title_sidebar": "Contents",
   "toc_cell": true,
   "toc_position": {
    "height": "calc(100% - 180px)",
    "left": "10px",
    "top": "150px",
    "width": "302.391px"
   },
   "toc_section_display": true,
   "toc_window_display": false
  }
 },
 "nbformat": 4,
 "nbformat_minor": 4
}
